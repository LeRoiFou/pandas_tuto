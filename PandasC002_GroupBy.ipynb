{
 "cells": [
  {
   "cell_type": "markdown",
   "metadata": {},
   "source": [
    "# Groupby()"
   ]
  },
  {
   "cell_type": "markdown",
   "metadata": {},
   "source": [
    "```\n",
    "(\n",
    "    DF[[Champ1, Champ2]]\n",
    "    .groupby(Champ_groupe)\n",
    "    .agg(aggregation)\n",
    ")\n",
    "```\n",
    "- groupby : champ ciblé pour le regroupement des données\n",
    "- agg : fonction d'aggrégation -> sum, mean, min, max, count...\n"
   ]
  },
  {
   "cell_type": "code",
   "execution_count": 3,
   "metadata": {},
   "outputs": [],
   "source": [
    "import pandas as pd\n",
    "from skimpy import skim"
   ]
  },
  {
   "cell_type": "code",
   "execution_count": 4,
   "metadata": {},
   "outputs": [],
   "source": [
    "df = pd.read_excel('data/Groupby.xlsx', sheet_name='Feuil1')"
   ]
  },
  {
   "cell_type": "code",
   "execution_count": 5,
   "metadata": {},
   "outputs": [
    {
     "data": {
      "application/vnd.microsoft.datawrangler.viewer.v0+json": {
       "columns": [
        {
         "name": "index",
         "rawType": "int64",
         "type": "integer"
        },
        {
         "name": "Noms",
         "rawType": "object",
         "type": "string"
        },
        {
         "name": "Points",
         "rawType": "int64",
         "type": "integer"
        },
        {
         "name": "Equipes",
         "rawType": "object",
         "type": "string"
        }
       ],
       "conversionMethod": "pd.DataFrame",
       "ref": "8ade2a10-04ed-4a85-929e-ac0e3ef08bc0",
       "rows": [
        [
         "0",
         "Hèresse Mégane",
         "70",
         "Verte"
        ],
        [
         "1",
         "Hilant Edwige",
         "71",
         "Rouge"
        ],
        [
         "2",
         "Hochon Paul",
         "58",
         "Rouge"
        ],
        [
         "3",
         "Honnête Camille",
         "55",
         "Verte"
        ],
        [
         "4",
         "Hoquet Clara",
         "78",
         "Rouge"
        ]
       ],
       "shape": {
        "columns": 3,
        "rows": 5
       }
      },
      "text/html": [
       "<div>\n",
       "<style scoped>\n",
       "    .dataframe tbody tr th:only-of-type {\n",
       "        vertical-align: middle;\n",
       "    }\n",
       "\n",
       "    .dataframe tbody tr th {\n",
       "        vertical-align: top;\n",
       "    }\n",
       "\n",
       "    .dataframe thead th {\n",
       "        text-align: right;\n",
       "    }\n",
       "</style>\n",
       "<table border=\"1\" class=\"dataframe\">\n",
       "  <thead>\n",
       "    <tr style=\"text-align: right;\">\n",
       "      <th></th>\n",
       "      <th>Noms</th>\n",
       "      <th>Points</th>\n",
       "      <th>Equipes</th>\n",
       "    </tr>\n",
       "  </thead>\n",
       "  <tbody>\n",
       "    <tr>\n",
       "      <th>0</th>\n",
       "      <td>Hèresse Mégane</td>\n",
       "      <td>70</td>\n",
       "      <td>Verte</td>\n",
       "    </tr>\n",
       "    <tr>\n",
       "      <th>1</th>\n",
       "      <td>Hilant Edwige</td>\n",
       "      <td>71</td>\n",
       "      <td>Rouge</td>\n",
       "    </tr>\n",
       "    <tr>\n",
       "      <th>2</th>\n",
       "      <td>Hochon Paul</td>\n",
       "      <td>58</td>\n",
       "      <td>Rouge</td>\n",
       "    </tr>\n",
       "    <tr>\n",
       "      <th>3</th>\n",
       "      <td>Honnête Camille</td>\n",
       "      <td>55</td>\n",
       "      <td>Verte</td>\n",
       "    </tr>\n",
       "    <tr>\n",
       "      <th>4</th>\n",
       "      <td>Hoquet Clara</td>\n",
       "      <td>78</td>\n",
       "      <td>Rouge</td>\n",
       "    </tr>\n",
       "  </tbody>\n",
       "</table>\n",
       "</div>"
      ],
      "text/plain": [
       "              Noms  Points Equipes\n",
       "0   Hèresse Mégane      70   Verte\n",
       "1    Hilant Edwige      71   Rouge\n",
       "2      Hochon Paul      58   Rouge\n",
       "3  Honnête Camille      55   Verte\n",
       "4     Hoquet Clara      78   Rouge"
      ]
     },
     "execution_count": 5,
     "metadata": {},
     "output_type": "execute_result"
    }
   ],
   "source": [
    "df.head()"
   ]
  },
  {
   "cell_type": "code",
   "execution_count": 6,
   "metadata": {},
   "outputs": [
    {
     "data": {
      "text/html": [
       "<pre style=\"white-space:pre;overflow-x:auto;line-height:normal;font-family:Menlo,'DejaVu Sans Mono',consolas,'Courier New',monospace\">╭──────────────────────────────────────────────── skimpy summary ─────────────────────────────────────────────────╮\n",
       "│ <span style=\"font-style: italic\">         Data Summary         </span> <span style=\"font-style: italic\">      Data Types       </span>                                                          │\n",
       "│ ┏━━━━━━━━━━━━━━━━━━━┳━━━━━━━━┓ ┏━━━━━━━━━━━━━┳━━━━━━━┓                                                          │\n",
       "│ ┃<span style=\"color: #008080; text-decoration-color: #008080; font-weight: bold\"> Dataframe         </span>┃<span style=\"color: #008080; text-decoration-color: #008080; font-weight: bold\"> Values </span>┃ ┃<span style=\"color: #008080; text-decoration-color: #008080; font-weight: bold\"> Column Type </span>┃<span style=\"color: #008080; text-decoration-color: #008080; font-weight: bold\"> Count </span>┃                                                          │\n",
       "│ ┡━━━━━━━━━━━━━━━━━━━╇━━━━━━━━┩ ┡━━━━━━━━━━━━━╇━━━━━━━┩                                                          │\n",
       "│ │ Number of rows    │ 30     │ │ string      │ 2     │                                                          │\n",
       "│ │ Number of columns │ 3      │ │ int64       │ 1     │                                                          │\n",
       "│ └───────────────────┴────────┘ └─────────────┴───────┘                                                          │\n",
       "│ <span style=\"font-style: italic\">                                                    number                                                    </span>  │\n",
       "│ ┏━━━━━━━━━━━━┳━━━━━━┳━━━━━━━━━┳━━━━━━━━━┳━━━━━━━━━━┳━━━━━━┳━━━━━━━━━━┳━━━━━━━┳━━━━━━━━━━┳━━━━━━━━━┳━━━━━━━━━━┓  │\n",
       "│ ┃<span style=\"font-weight: bold\"> column     </span>┃<span style=\"font-weight: bold\"> NA   </span>┃<span style=\"font-weight: bold\"> NA %    </span>┃<span style=\"font-weight: bold\"> mean    </span>┃<span style=\"font-weight: bold\"> sd       </span>┃<span style=\"font-weight: bold\"> p0   </span>┃<span style=\"font-weight: bold\"> p25      </span>┃<span style=\"font-weight: bold\"> p50   </span>┃<span style=\"font-weight: bold\"> p75      </span>┃<span style=\"font-weight: bold\"> p100    </span>┃<span style=\"font-weight: bold\"> hist     </span>┃  │\n",
       "│ ┡━━━━━━━━━━━━╇━━━━━━╇━━━━━━━━━╇━━━━━━━━━╇━━━━━━━━━━╇━━━━━━╇━━━━━━━━━━╇━━━━━━━╇━━━━━━━━━━╇━━━━━━━━━╇━━━━━━━━━━┩  │\n",
       "│ │ <span style=\"color: #af87ff; text-decoration-color: #af87ff\">Points    </span> │ <span style=\"color: #008080; text-decoration-color: #008080\">   0</span> │ <span style=\"color: #008080; text-decoration-color: #008080\">      0</span> │ <span style=\"color: #008080; text-decoration-color: #008080\">   64.5</span> │ <span style=\"color: #008080; text-decoration-color: #008080\">   9.391</span> │ <span style=\"color: #008080; text-decoration-color: #008080\">  50</span> │ <span style=\"color: #008080; text-decoration-color: #008080\">   55.25</span> │ <span style=\"color: #008080; text-decoration-color: #008080\">   66</span> │ <span style=\"color: #008080; text-decoration-color: #008080\">   71.75</span> │ <span style=\"color: #008080; text-decoration-color: #008080\">     80</span> │ <span style=\"color: #008000; text-decoration-color: #008000\"> ▇▆▂▇▇▅ </span> │  │\n",
       "│ └────────────┴──────┴─────────┴─────────┴──────────┴──────┴──────────┴───────┴──────────┴─────────┴──────────┘  │\n",
       "│ <span style=\"font-style: italic\">                                                    string                                                    </span>  │\n",
       "│ ┏━━━━━━━━━┳━━━━┳━━━━━━┳━━━━━━━━━━━┳━━━━━━━━━━━━┳━━━━━━━━━━━┳━━━━━━━━━━━━┳━━━━━━━━━━━┳━━━━━━━━━━━━┳━━━━━━━━━━━┓  │\n",
       "│ ┃<span style=\"font-weight: bold\">         </span>┃<span style=\"font-weight: bold\">    </span>┃<span style=\"font-weight: bold\">      </span>┃<span style=\"font-weight: bold\">           </span>┃<span style=\"font-weight: bold\">            </span>┃<span style=\"font-weight: bold\">           </span>┃<span style=\"font-weight: bold\">            </span>┃<span style=\"font-weight: bold\"> chars per </span>┃<span style=\"font-weight: bold\"> words per  </span>┃<span style=\"font-weight: bold\"> total     </span>┃  │\n",
       "│ ┃<span style=\"font-weight: bold\"> column  </span>┃<span style=\"font-weight: bold\"> NA </span>┃<span style=\"font-weight: bold\"> NA % </span>┃<span style=\"font-weight: bold\"> shortest  </span>┃<span style=\"font-weight: bold\"> longest    </span>┃<span style=\"font-weight: bold\"> min       </span>┃<span style=\"font-weight: bold\"> max        </span>┃<span style=\"font-weight: bold\"> row       </span>┃<span style=\"font-weight: bold\"> row        </span>┃<span style=\"font-weight: bold\"> words     </span>┃  │\n",
       "│ ┡━━━━━━━━━╇━━━━╇━━━━━━╇━━━━━━━━━━━╇━━━━━━━━━━━━╇━━━━━━━━━━━╇━━━━━━━━━━━━╇━━━━━━━━━━━╇━━━━━━━━━━━━╇━━━━━━━━━━━┩  │\n",
       "│ │ <span style=\"color: #af87ff; text-decoration-color: #af87ff\">Noms   </span> │ <span style=\"color: #008080; text-decoration-color: #008080\"> 0</span> │ <span style=\"color: #008080; text-decoration-color: #008080\">   0</span> │ <span style=\"color: #af87ff; text-decoration-color: #af87ff\">Louya Ali</span> │ <span style=\"color: #af87ff; text-decoration-color: #af87ff\">Océrosse  </span> │ <span style=\"color: #af87ff; text-decoration-color: #af87ff\">Hilant   </span> │ <span style=\"color: #af87ff; text-decoration-color: #af87ff\">Solo Yohan</span> │ <span style=\"color: #008080; text-decoration-color: #008080\">     12.1</span> │ <span style=\"color: #008080; text-decoration-color: #008080\">         2</span> │ <span style=\"color: #008080; text-decoration-color: #008080\">       60</span> │  │\n",
       "│ │         │    │      │           │ <span style=\"color: #af87ff; text-decoration-color: #af87ff\">Séverine  </span> │ <span style=\"color: #af87ff; text-decoration-color: #af87ff\">Edwige   </span> │            │           │            │           │  │\n",
       "│ │ <span style=\"color: #af87ff; text-decoration-color: #af87ff\">Equipes</span> │ <span style=\"color: #008080; text-decoration-color: #008080\"> 0</span> │ <span style=\"color: #008080; text-decoration-color: #008080\">   0</span> │ <span style=\"color: #af87ff; text-decoration-color: #af87ff\">Verte    </span> │ <span style=\"color: #af87ff; text-decoration-color: #af87ff\">Verte     </span> │ <span style=\"color: #af87ff; text-decoration-color: #af87ff\">Bleue    </span> │ <span style=\"color: #af87ff; text-decoration-color: #af87ff\">Verte     </span> │ <span style=\"color: #008080; text-decoration-color: #008080\">        5</span> │ <span style=\"color: #008080; text-decoration-color: #008080\">         1</span> │ <span style=\"color: #008080; text-decoration-color: #008080\">       30</span> │  │\n",
       "│ └─────────┴────┴──────┴───────────┴────────────┴───────────┴────────────┴───────────┴────────────┴───────────┘  │\n",
       "╰────────────────────────────────────────────────────── End ──────────────────────────────────────────────────────╯\n",
       "</pre>\n"
      ],
      "text/plain": [
       "╭──────────────────────────────────────────────── skimpy summary ─────────────────────────────────────────────────╮\n",
       "│ \u001b[3m         Data Summary         \u001b[0m \u001b[3m      Data Types       \u001b[0m                                                          │\n",
       "│ ┏━━━━━━━━━━━━━━━━━━━┳━━━━━━━━┓ ┏━━━━━━━━━━━━━┳━━━━━━━┓                                                          │\n",
       "│ ┃\u001b[1;36m \u001b[0m\u001b[1;36mDataframe        \u001b[0m\u001b[1;36m \u001b[0m┃\u001b[1;36m \u001b[0m\u001b[1;36mValues\u001b[0m\u001b[1;36m \u001b[0m┃ ┃\u001b[1;36m \u001b[0m\u001b[1;36mColumn Type\u001b[0m\u001b[1;36m \u001b[0m┃\u001b[1;36m \u001b[0m\u001b[1;36mCount\u001b[0m\u001b[1;36m \u001b[0m┃                                                          │\n",
       "│ ┡━━━━━━━━━━━━━━━━━━━╇━━━━━━━━┩ ┡━━━━━━━━━━━━━╇━━━━━━━┩                                                          │\n",
       "│ │ Number of rows    │ 30     │ │ string      │ 2     │                                                          │\n",
       "│ │ Number of columns │ 3      │ │ int64       │ 1     │                                                          │\n",
       "│ └───────────────────┴────────┘ └─────────────┴───────┘                                                          │\n",
       "│ \u001b[3m                                                    number                                                    \u001b[0m  │\n",
       "│ ┏━━━━━━━━━━━━┳━━━━━━┳━━━━━━━━━┳━━━━━━━━━┳━━━━━━━━━━┳━━━━━━┳━━━━━━━━━━┳━━━━━━━┳━━━━━━━━━━┳━━━━━━━━━┳━━━━━━━━━━┓  │\n",
       "│ ┃\u001b[1m \u001b[0m\u001b[1mcolumn    \u001b[0m\u001b[1m \u001b[0m┃\u001b[1m \u001b[0m\u001b[1mNA  \u001b[0m\u001b[1m \u001b[0m┃\u001b[1m \u001b[0m\u001b[1mNA %   \u001b[0m\u001b[1m \u001b[0m┃\u001b[1m \u001b[0m\u001b[1mmean   \u001b[0m\u001b[1m \u001b[0m┃\u001b[1m \u001b[0m\u001b[1msd      \u001b[0m\u001b[1m \u001b[0m┃\u001b[1m \u001b[0m\u001b[1mp0  \u001b[0m\u001b[1m \u001b[0m┃\u001b[1m \u001b[0m\u001b[1mp25     \u001b[0m\u001b[1m \u001b[0m┃\u001b[1m \u001b[0m\u001b[1mp50  \u001b[0m\u001b[1m \u001b[0m┃\u001b[1m \u001b[0m\u001b[1mp75     \u001b[0m\u001b[1m \u001b[0m┃\u001b[1m \u001b[0m\u001b[1mp100   \u001b[0m\u001b[1m \u001b[0m┃\u001b[1m \u001b[0m\u001b[1mhist    \u001b[0m\u001b[1m \u001b[0m┃  │\n",
       "│ ┡━━━━━━━━━━━━╇━━━━━━╇━━━━━━━━━╇━━━━━━━━━╇━━━━━━━━━━╇━━━━━━╇━━━━━━━━━━╇━━━━━━━╇━━━━━━━━━━╇━━━━━━━━━╇━━━━━━━━━━┩  │\n",
       "│ │ \u001b[38;5;141mPoints    \u001b[0m │ \u001b[36m   0\u001b[0m │ \u001b[36m      0\u001b[0m │ \u001b[36m   64.5\u001b[0m │ \u001b[36m   9.391\u001b[0m │ \u001b[36m  50\u001b[0m │ \u001b[36m   55.25\u001b[0m │ \u001b[36m   66\u001b[0m │ \u001b[36m   71.75\u001b[0m │ \u001b[36m     80\u001b[0m │ \u001b[32m ▇▆▂▇▇▅ \u001b[0m │  │\n",
       "│ └────────────┴──────┴─────────┴─────────┴──────────┴──────┴──────────┴───────┴──────────┴─────────┴──────────┘  │\n",
       "│ \u001b[3m                                                    string                                                    \u001b[0m  │\n",
       "│ ┏━━━━━━━━━┳━━━━┳━━━━━━┳━━━━━━━━━━━┳━━━━━━━━━━━━┳━━━━━━━━━━━┳━━━━━━━━━━━━┳━━━━━━━━━━━┳━━━━━━━━━━━━┳━━━━━━━━━━━┓  │\n",
       "│ ┃\u001b[1m         \u001b[0m┃\u001b[1m    \u001b[0m┃\u001b[1m      \u001b[0m┃\u001b[1m           \u001b[0m┃\u001b[1m            \u001b[0m┃\u001b[1m           \u001b[0m┃\u001b[1m            \u001b[0m┃\u001b[1m \u001b[0m\u001b[1mchars per\u001b[0m\u001b[1m \u001b[0m┃\u001b[1m \u001b[0m\u001b[1mwords per \u001b[0m\u001b[1m \u001b[0m┃\u001b[1m \u001b[0m\u001b[1mtotal    \u001b[0m\u001b[1m \u001b[0m┃  │\n",
       "│ ┃\u001b[1m \u001b[0m\u001b[1mcolumn \u001b[0m\u001b[1m \u001b[0m┃\u001b[1m \u001b[0m\u001b[1mNA\u001b[0m\u001b[1m \u001b[0m┃\u001b[1m \u001b[0m\u001b[1mNA %\u001b[0m\u001b[1m \u001b[0m┃\u001b[1m \u001b[0m\u001b[1mshortest \u001b[0m\u001b[1m \u001b[0m┃\u001b[1m \u001b[0m\u001b[1mlongest   \u001b[0m\u001b[1m \u001b[0m┃\u001b[1m \u001b[0m\u001b[1mmin      \u001b[0m\u001b[1m \u001b[0m┃\u001b[1m \u001b[0m\u001b[1mmax       \u001b[0m\u001b[1m \u001b[0m┃\u001b[1m \u001b[0m\u001b[1mrow      \u001b[0m\u001b[1m \u001b[0m┃\u001b[1m \u001b[0m\u001b[1mrow       \u001b[0m\u001b[1m \u001b[0m┃\u001b[1m \u001b[0m\u001b[1mwords    \u001b[0m\u001b[1m \u001b[0m┃  │\n",
       "│ ┡━━━━━━━━━╇━━━━╇━━━━━━╇━━━━━━━━━━━╇━━━━━━━━━━━━╇━━━━━━━━━━━╇━━━━━━━━━━━━╇━━━━━━━━━━━╇━━━━━━━━━━━━╇━━━━━━━━━━━┩  │\n",
       "│ │ \u001b[38;5;141mNoms   \u001b[0m │ \u001b[36m 0\u001b[0m │ \u001b[36m   0\u001b[0m │ \u001b[38;5;141mLouya Ali\u001b[0m │ \u001b[38;5;141mOcérosse  \u001b[0m │ \u001b[38;5;141mHilant   \u001b[0m │ \u001b[38;5;141mSolo Yohan\u001b[0m │ \u001b[36m     12.1\u001b[0m │ \u001b[36m         2\u001b[0m │ \u001b[36m       60\u001b[0m │  │\n",
       "│ │         │    │      │           │ \u001b[38;5;141mSéverine  \u001b[0m │ \u001b[38;5;141mEdwige   \u001b[0m │            │           │            │           │  │\n",
       "│ │ \u001b[38;5;141mEquipes\u001b[0m │ \u001b[36m 0\u001b[0m │ \u001b[36m   0\u001b[0m │ \u001b[38;5;141mVerte    \u001b[0m │ \u001b[38;5;141mVerte     \u001b[0m │ \u001b[38;5;141mBleue    \u001b[0m │ \u001b[38;5;141mVerte     \u001b[0m │ \u001b[36m        5\u001b[0m │ \u001b[36m         1\u001b[0m │ \u001b[36m       30\u001b[0m │  │\n",
       "│ └─────────┴────┴──────┴───────────┴────────────┴───────────┴────────────┴───────────┴────────────┴───────────┘  │\n",
       "╰────────────────────────────────────────────────────── End ──────────────────────────────────────────────────────╯\n"
      ]
     },
     "metadata": {},
     "output_type": "display_data"
    }
   ],
   "source": [
    "skim(df)"
   ]
  },
  {
   "cell_type": "markdown",
   "metadata": {},
   "source": [
    "### Total de points accumulés par ordre décroissant par équipe"
   ]
  },
  {
   "cell_type": "code",
   "execution_count": 7,
   "metadata": {},
   "outputs": [
    {
     "data": {
      "application/vnd.microsoft.datawrangler.viewer.v0+json": {
       "columns": [
        {
         "name": "Equipes",
         "rawType": "object",
         "type": "string"
        },
        {
         "name": "Points",
         "rawType": "int64",
         "type": "integer"
        }
       ],
       "conversionMethod": "pd.DataFrame",
       "ref": "407e5e9e-1e6d-4806-877c-f942feec6d6d",
       "rows": [
        [
         "Rouge",
         "778"
        ],
        [
         "Verte",
         "689"
        ],
        [
         "Bleue",
         "468"
        ]
       ],
       "shape": {
        "columns": 1,
        "rows": 3
       }
      },
      "text/html": [
       "<div>\n",
       "<style scoped>\n",
       "    .dataframe tbody tr th:only-of-type {\n",
       "        vertical-align: middle;\n",
       "    }\n",
       "\n",
       "    .dataframe tbody tr th {\n",
       "        vertical-align: top;\n",
       "    }\n",
       "\n",
       "    .dataframe thead th {\n",
       "        text-align: right;\n",
       "    }\n",
       "</style>\n",
       "<table border=\"1\" class=\"dataframe\">\n",
       "  <thead>\n",
       "    <tr style=\"text-align: right;\">\n",
       "      <th></th>\n",
       "      <th>Points</th>\n",
       "    </tr>\n",
       "    <tr>\n",
       "      <th>Equipes</th>\n",
       "      <th></th>\n",
       "    </tr>\n",
       "  </thead>\n",
       "  <tbody>\n",
       "    <tr>\n",
       "      <th>Rouge</th>\n",
       "      <td>778</td>\n",
       "    </tr>\n",
       "    <tr>\n",
       "      <th>Verte</th>\n",
       "      <td>689</td>\n",
       "    </tr>\n",
       "    <tr>\n",
       "      <th>Bleue</th>\n",
       "      <td>468</td>\n",
       "    </tr>\n",
       "  </tbody>\n",
       "</table>\n",
       "</div>"
      ],
      "text/plain": [
       "         Points\n",
       "Equipes        \n",
       "Rouge       778\n",
       "Verte       689\n",
       "Bleue       468"
      ]
     },
     "execution_count": 7,
     "metadata": {},
     "output_type": "execute_result"
    }
   ],
   "source": [
    "df[['Equipes', 'Points']].groupby('Equipes').agg('sum').sort_values(\n",
    "    by='Points', ascending=False)"
   ]
  },
  {
   "cell_type": "code",
   "execution_count": 8,
   "metadata": {},
   "outputs": [],
   "source": [
    "df2 = pd.read_excel('data/Groupby.xlsx', sheet_name='Feuil2')"
   ]
  },
  {
   "cell_type": "code",
   "execution_count": 9,
   "metadata": {},
   "outputs": [
    {
     "data": {
      "application/vnd.microsoft.datawrangler.viewer.v0+json": {
       "columns": [
        {
         "name": "index",
         "rawType": "int64",
         "type": "integer"
        },
        {
         "name": "Id",
         "rawType": "int64",
         "type": "integer"
        },
        {
         "name": "Raison sociale",
         "rawType": "object",
         "type": "string"
        },
        {
         "name": "Département",
         "rawType": "object",
         "type": "string"
        },
        {
         "name": "Activité",
         "rawType": "object",
         "type": "string"
        },
        {
         "name": "Ville",
         "rawType": "object",
         "type": "string"
        }
       ],
       "conversionMethod": "pd.DataFrame",
       "ref": "09325575-06b1-4404-b1a5-caa1f8b056fb",
       "rows": [
        [
         "0",
         "1175",
         "Topfit",
         "06-Alpes Maritimes",
         "Clubs de forme",
         "Antibes juan les pins"
        ],
        [
         "1",
         "1196",
         "Antibes Squash et Fitness Club",
         "06-Alpes Maritimes",
         "Clubs de forme",
         "Antibes juan les pins"
        ],
        [
         "2",
         "1205",
         "LADY FITNESS ANTIBES",
         "06-Alpes Maritimes",
         "Clubs de forme",
         "Antibes juan les pins"
        ],
        [
         "3",
         "1203",
         "FITLANE",
         "06-Alpes Maritimes",
         "Clubs de forme",
         "Mandelieu la napoule"
        ],
        [
         "4",
         "1197",
         "APHYSIA",
         "06-Alpes Maritimes",
         "Clubs de forme",
         "Nice"
        ]
       ],
       "shape": {
        "columns": 5,
        "rows": 5
       }
      },
      "text/html": [
       "<div>\n",
       "<style scoped>\n",
       "    .dataframe tbody tr th:only-of-type {\n",
       "        vertical-align: middle;\n",
       "    }\n",
       "\n",
       "    .dataframe tbody tr th {\n",
       "        vertical-align: top;\n",
       "    }\n",
       "\n",
       "    .dataframe thead th {\n",
       "        text-align: right;\n",
       "    }\n",
       "</style>\n",
       "<table border=\"1\" class=\"dataframe\">\n",
       "  <thead>\n",
       "    <tr style=\"text-align: right;\">\n",
       "      <th></th>\n",
       "      <th>Id</th>\n",
       "      <th>Raison sociale</th>\n",
       "      <th>Département</th>\n",
       "      <th>Activité</th>\n",
       "      <th>Ville</th>\n",
       "    </tr>\n",
       "  </thead>\n",
       "  <tbody>\n",
       "    <tr>\n",
       "      <th>0</th>\n",
       "      <td>1175</td>\n",
       "      <td>Topfit</td>\n",
       "      <td>06-Alpes Maritimes</td>\n",
       "      <td>Clubs de forme</td>\n",
       "      <td>Antibes juan les pins</td>\n",
       "    </tr>\n",
       "    <tr>\n",
       "      <th>1</th>\n",
       "      <td>1196</td>\n",
       "      <td>Antibes Squash et Fitness Club</td>\n",
       "      <td>06-Alpes Maritimes</td>\n",
       "      <td>Clubs de forme</td>\n",
       "      <td>Antibes juan les pins</td>\n",
       "    </tr>\n",
       "    <tr>\n",
       "      <th>2</th>\n",
       "      <td>1205</td>\n",
       "      <td>LADY FITNESS ANTIBES</td>\n",
       "      <td>06-Alpes Maritimes</td>\n",
       "      <td>Clubs de forme</td>\n",
       "      <td>Antibes juan les pins</td>\n",
       "    </tr>\n",
       "    <tr>\n",
       "      <th>3</th>\n",
       "      <td>1203</td>\n",
       "      <td>FITLANE</td>\n",
       "      <td>06-Alpes Maritimes</td>\n",
       "      <td>Clubs de forme</td>\n",
       "      <td>Mandelieu la napoule</td>\n",
       "    </tr>\n",
       "    <tr>\n",
       "      <th>4</th>\n",
       "      <td>1197</td>\n",
       "      <td>APHYSIA</td>\n",
       "      <td>06-Alpes Maritimes</td>\n",
       "      <td>Clubs de forme</td>\n",
       "      <td>Nice</td>\n",
       "    </tr>\n",
       "  </tbody>\n",
       "</table>\n",
       "</div>"
      ],
      "text/plain": [
       "     Id                  Raison sociale         Département        Activité  \\\n",
       "0  1175                          Topfit  06-Alpes Maritimes  Clubs de forme   \n",
       "1  1196  Antibes Squash et Fitness Club  06-Alpes Maritimes  Clubs de forme   \n",
       "2  1205            LADY FITNESS ANTIBES  06-Alpes Maritimes  Clubs de forme   \n",
       "3  1203                         FITLANE  06-Alpes Maritimes  Clubs de forme   \n",
       "4  1197                         APHYSIA  06-Alpes Maritimes  Clubs de forme   \n",
       "\n",
       "                   Ville  \n",
       "0  Antibes juan les pins  \n",
       "1  Antibes juan les pins  \n",
       "2  Antibes juan les pins  \n",
       "3   Mandelieu la napoule  \n",
       "4                   Nice  "
      ]
     },
     "execution_count": 9,
     "metadata": {},
     "output_type": "execute_result"
    }
   ],
   "source": [
    "df2.head()"
   ]
  },
  {
   "cell_type": "code",
   "execution_count": 10,
   "metadata": {},
   "outputs": [
    {
     "data": {
      "text/html": [
       "<pre style=\"white-space:pre;overflow-x:auto;line-height:normal;font-family:Menlo,'DejaVu Sans Mono',consolas,'Courier New',monospace\">╭──────────────────────────────────────────────── skimpy summary ─────────────────────────────────────────────────╮\n",
       "│ <span style=\"font-style: italic\">         Data Summary         </span> <span style=\"font-style: italic\">      Data Types       </span>                                                          │\n",
       "│ ┏━━━━━━━━━━━━━━━━━━━┳━━━━━━━━┓ ┏━━━━━━━━━━━━━┳━━━━━━━┓                                                          │\n",
       "│ ┃<span style=\"color: #008080; text-decoration-color: #008080; font-weight: bold\"> Dataframe         </span>┃<span style=\"color: #008080; text-decoration-color: #008080; font-weight: bold\"> Values </span>┃ ┃<span style=\"color: #008080; text-decoration-color: #008080; font-weight: bold\"> Column Type </span>┃<span style=\"color: #008080; text-decoration-color: #008080; font-weight: bold\"> Count </span>┃                                                          │\n",
       "│ ┡━━━━━━━━━━━━━━━━━━━╇━━━━━━━━┩ ┡━━━━━━━━━━━━━╇━━━━━━━┩                                                          │\n",
       "│ │ Number of rows    │ 997    │ │ string      │ 4     │                                                          │\n",
       "│ │ Number of columns │ 5      │ │ int64       │ 1     │                                                          │\n",
       "│ └───────────────────┴────────┘ └─────────────┴───────┘                                                          │\n",
       "│ <span style=\"font-style: italic\">                                                    number                                                    </span>  │\n",
       "│ ┏━━━━━━━━━━━━┳━━━━━━┳━━━━━━━━━┳━━━━━━━━━┳━━━━━━━━━━┳━━━━━━━━┳━━━━━━━┳━━━━━━━┳━━━━━━━━━┳━━━━━━━━━━━┳━━━━━━━━━━┓  │\n",
       "│ ┃<span style=\"font-weight: bold\"> column     </span>┃<span style=\"font-weight: bold\"> NA   </span>┃<span style=\"font-weight: bold\"> NA %    </span>┃<span style=\"font-weight: bold\"> mean    </span>┃<span style=\"font-weight: bold\"> sd       </span>┃<span style=\"font-weight: bold\"> p0     </span>┃<span style=\"font-weight: bold\"> p25   </span>┃<span style=\"font-weight: bold\"> p50   </span>┃<span style=\"font-weight: bold\"> p75     </span>┃<span style=\"font-weight: bold\"> p100      </span>┃<span style=\"font-weight: bold\"> hist     </span>┃  │\n",
       "│ ┡━━━━━━━━━━━━╇━━━━━━╇━━━━━━━━━╇━━━━━━━━━╇━━━━━━━━━━╇━━━━━━━━╇━━━━━━━╇━━━━━━━╇━━━━━━━━━╇━━━━━━━━━━━╇━━━━━━━━━━┩  │\n",
       "│ │ <span style=\"color: #af87ff; text-decoration-color: #af87ff\">Id        </span> │ <span style=\"color: #008080; text-decoration-color: #008080\">   0</span> │ <span style=\"color: #008080; text-decoration-color: #008080\">      0</span> │ <span style=\"color: #008080; text-decoration-color: #008080\">   6011</span> │ <span style=\"color: #008080; text-decoration-color: #008080\">   46820</span> │ <span style=\"color: #008080; text-decoration-color: #008080\">   362</span> │ <span style=\"color: #008080; text-decoration-color: #008080\">  681</span> │ <span style=\"color: #008080; text-decoration-color: #008080\">  934</span> │ <span style=\"color: #008080; text-decoration-color: #008080\">   1193</span> │ <span style=\"color: #008080; text-decoration-color: #008080\">   470800</span> │ <span style=\"color: #008000; text-decoration-color: #008000\">   ▇    </span> │  │\n",
       "│ └────────────┴──────┴─────────┴─────────┴──────────┴────────┴───────┴───────┴─────────┴───────────┴──────────┘  │\n",
       "│ <span style=\"font-style: italic\">                                                    string                                                    </span>  │\n",
       "│ ┏━━━━━━━━━━━┳━━━━┳━━━━━━┳━━━━━━━━━━┳━━━━━━━━━━━┳━━━━━━━━━━━┳━━━━━━━━━━━┳━━━━━━━━━━━━┳━━━━━━━━━━━┳━━━━━━━━━━━━┓  │\n",
       "│ ┃<span style=\"font-weight: bold\">           </span>┃<span style=\"font-weight: bold\">    </span>┃<span style=\"font-weight: bold\">      </span>┃<span style=\"font-weight: bold\">          </span>┃<span style=\"font-weight: bold\">           </span>┃<span style=\"font-weight: bold\">           </span>┃<span style=\"font-weight: bold\">           </span>┃<span style=\"font-weight: bold\"> chars per  </span>┃<span style=\"font-weight: bold\"> words per </span>┃<span style=\"font-weight: bold\"> total      </span>┃  │\n",
       "│ ┃<span style=\"font-weight: bold\"> column    </span>┃<span style=\"font-weight: bold\"> NA </span>┃<span style=\"font-weight: bold\"> NA % </span>┃<span style=\"font-weight: bold\"> shortest </span>┃<span style=\"font-weight: bold\"> longest   </span>┃<span style=\"font-weight: bold\"> min       </span>┃<span style=\"font-weight: bold\"> max       </span>┃<span style=\"font-weight: bold\"> row        </span>┃<span style=\"font-weight: bold\"> row       </span>┃<span style=\"font-weight: bold\"> words      </span>┃  │\n",
       "│ ┡━━━━━━━━━━━╇━━━━╇━━━━━━╇━━━━━━━━━━╇━━━━━━━━━━━╇━━━━━━━━━━━╇━━━━━━━━━━━╇━━━━━━━━━━━━╇━━━━━━━━━━━╇━━━━━━━━━━━━┩  │\n",
       "│ │ <span style=\"color: #af87ff; text-decoration-color: #af87ff\">Raison   </span> │ <span style=\"color: #008080; text-decoration-color: #008080\"> 0</span> │ <span style=\"color: #008080; text-decoration-color: #008080\">   0</span> │ <span style=\"color: #af87ff; text-decoration-color: #af87ff\">S2C     </span> │ <span style=\"color: #af87ff; text-decoration-color: #af87ff\">Hertz BPA</span> │ <span style=\"color: #af87ff; text-decoration-color: #af87ff\">AB       </span> │ <span style=\"color: #af87ff; text-decoration-color: #af87ff\">Zig Zag  </span> │ <span style=\"color: #008080; text-decoration-color: #008080\">      17.5</span> │ <span style=\"color: #008080; text-decoration-color: #008080\">        3</span> │ <span style=\"color: #008080; text-decoration-color: #008080\">      2984</span> │  │\n",
       "│ │ <span style=\"color: #af87ff; text-decoration-color: #af87ff\">sociale  </span> │    │      │          │ <span style=\"color: #af87ff; text-decoration-color: #af87ff\">(SA)     </span> │ <span style=\"color: #af87ff; text-decoration-color: #af87ff\">Location </span> │           │            │           │            │  │\n",
       "│ │           │    │      │          │ <span style=\"color: #af87ff; text-decoration-color: #af87ff\">Franchisé</span> │           │           │            │           │            │  │\n",
       "│ │           │    │      │          │ <span style=\"color: #af87ff; text-decoration-color: #af87ff\">indépenda</span> │           │           │            │           │            │  │\n",
       "│ │           │    │      │          │ <span style=\"color: #af87ff; text-decoration-color: #af87ff\">nt à     </span> │           │           │            │           │            │  │\n",
       "│ │           │    │      │          │ <span style=\"color: #af87ff; text-decoration-color: #af87ff\">Valréas  </span> │           │           │            │           │            │  │\n",
       "│ │           │    │      │          │ <span style=\"color: #af87ff; text-decoration-color: #af87ff\">Dépôt    </span> │           │           │            │           │            │  │\n",
       "│ │           │    │      │          │ <span style=\"color: #af87ff; text-decoration-color: #af87ff\">chez     </span> │           │           │            │           │            │  │\n",
       "│ │           │    │      │          │ <span style=\"color: #af87ff; text-decoration-color: #af87ff\">garage   </span> │           │           │            │           │            │  │\n",
       "│ │           │    │      │          │ <span style=\"color: #af87ff; text-decoration-color: #af87ff\">Peugeot  </span> │           │           │            │           │            │  │\n",
       "│ │ <span style=\"color: #af87ff; text-decoration-color: #af87ff\">Départeme</span> │ <span style=\"color: #008080; text-decoration-color: #008080\"> 0</span> │ <span style=\"color: #008080; text-decoration-color: #008080\">   0</span> │ <span style=\"color: #af87ff; text-decoration-color: #af87ff\">83-Var  </span> │ <span style=\"color: #af87ff; text-decoration-color: #af87ff\">17-Charen</span> │ <span style=\"color: #af87ff; text-decoration-color: #af87ff\">06-Alpes </span> │ <span style=\"color: #af87ff; text-decoration-color: #af87ff\">87-Haute </span> │ <span style=\"color: #008080; text-decoration-color: #008080\">      9.15</span> │ <span style=\"color: #008080; text-decoration-color: #008080\">      1.1</span> │ <span style=\"color: #008080; text-decoration-color: #008080\">      1141</span> │  │\n",
       "│ │ <span style=\"color: #af87ff; text-decoration-color: #af87ff\">nt       </span> │    │      │          │ <span style=\"color: #af87ff; text-decoration-color: #af87ff\">te       </span> │ <span style=\"color: #af87ff; text-decoration-color: #af87ff\">Maritimes</span> │ <span style=\"color: #af87ff; text-decoration-color: #af87ff\">Vienne   </span> │            │           │            │  │\n",
       "│ │           │    │      │          │ <span style=\"color: #af87ff; text-decoration-color: #af87ff\">Maritime </span> │           │           │            │           │            │  │\n",
       "│ │ <span style=\"color: #af87ff; text-decoration-color: #af87ff\">Activité </span> │ <span style=\"color: #008080; text-decoration-color: #008080\"> 0</span> │ <span style=\"color: #008080; text-decoration-color: #008080\">   0</span> │ <span style=\"color: #af87ff; text-decoration-color: #af87ff\">Golf    </span> │ <span style=\"color: #af87ff; text-decoration-color: #af87ff\">Centres  </span> │ <span style=\"color: #af87ff; text-decoration-color: #af87ff\">Bar/Café </span> │ <span style=\"color: #af87ff; text-decoration-color: #af87ff\">parc     </span> │ <span style=\"color: #008080; text-decoration-color: #008080\">      12.2</span> │ <span style=\"color: #008080; text-decoration-color: #008080\">      1.3</span> │ <span style=\"color: #008080; text-decoration-color: #008080\">      1299</span> │  │\n",
       "│ │           │    │      │          │ <span style=\"color: #af87ff; text-decoration-color: #af87ff\">equestres</span> │           │ <span style=\"color: #af87ff; text-decoration-color: #af87ff\">d'attract</span> │            │           │            │  │\n",
       "│ │           │    │      │          │ <span style=\"color: #af87ff; text-decoration-color: #af87ff\">,        </span> │           │ <span style=\"color: #af87ff; text-decoration-color: #af87ff\">ion      </span> │            │           │            │  │\n",
       "│ │           │    │      │          │ <span style=\"color: #af87ff; text-decoration-color: #af87ff\">equitatio</span> │           │           │            │           │            │  │\n",
       "│ │           │    │      │          │ <span style=\"color: #af87ff; text-decoration-color: #af87ff\">n        </span> │           │           │            │           │            │  │\n",
       "│ │ <span style=\"color: #af87ff; text-decoration-color: #af87ff\">Ville    </span> │ <span style=\"color: #008080; text-decoration-color: #008080\"> 0</span> │ <span style=\"color: #008080; text-decoration-color: #008080\">   0</span> │ <span style=\"color: #af87ff; text-decoration-color: #af87ff\">Nice    </span> │ <span style=\"color: #af87ff; text-decoration-color: #af87ff\">Saint    </span> │ <span style=\"color: #af87ff; text-decoration-color: #af87ff\">Agay     </span> │ <span style=\"color: #af87ff; text-decoration-color: #af87ff\">Voreppe  </span> │ <span style=\"color: #008080; text-decoration-color: #008080\">      10.9</span> │ <span style=\"color: #008080; text-decoration-color: #008080\">      1.8</span> │ <span style=\"color: #008080; text-decoration-color: #008080\">      1800</span> │  │\n",
       "│ │           │    │      │          │ <span style=\"color: #af87ff; text-decoration-color: #af87ff\">maximin  </span> │           │           │            │           │            │  │\n",
       "│ │           │    │      │          │ <span style=\"color: #af87ff; text-decoration-color: #af87ff\">la sainte</span> │           │           │            │           │            │  │\n",
       "│ │           │    │      │          │ <span style=\"color: #af87ff; text-decoration-color: #af87ff\">baume    </span> │           │           │            │           │            │  │\n",
       "│ └───────────┴────┴──────┴──────────┴───────────┴───────────┴───────────┴────────────┴───────────┴────────────┘  │\n",
       "╰────────────────────────────────────────────────────── End ──────────────────────────────────────────────────────╯\n",
       "</pre>\n"
      ],
      "text/plain": [
       "╭──────────────────────────────────────────────── skimpy summary ─────────────────────────────────────────────────╮\n",
       "│ \u001b[3m         Data Summary         \u001b[0m \u001b[3m      Data Types       \u001b[0m                                                          │\n",
       "│ ┏━━━━━━━━━━━━━━━━━━━┳━━━━━━━━┓ ┏━━━━━━━━━━━━━┳━━━━━━━┓                                                          │\n",
       "│ ┃\u001b[1;36m \u001b[0m\u001b[1;36mDataframe        \u001b[0m\u001b[1;36m \u001b[0m┃\u001b[1;36m \u001b[0m\u001b[1;36mValues\u001b[0m\u001b[1;36m \u001b[0m┃ ┃\u001b[1;36m \u001b[0m\u001b[1;36mColumn Type\u001b[0m\u001b[1;36m \u001b[0m┃\u001b[1;36m \u001b[0m\u001b[1;36mCount\u001b[0m\u001b[1;36m \u001b[0m┃                                                          │\n",
       "│ ┡━━━━━━━━━━━━━━━━━━━╇━━━━━━━━┩ ┡━━━━━━━━━━━━━╇━━━━━━━┩                                                          │\n",
       "│ │ Number of rows    │ 997    │ │ string      │ 4     │                                                          │\n",
       "│ │ Number of columns │ 5      │ │ int64       │ 1     │                                                          │\n",
       "│ └───────────────────┴────────┘ └─────────────┴───────┘                                                          │\n",
       "│ \u001b[3m                                                    number                                                    \u001b[0m  │\n",
       "│ ┏━━━━━━━━━━━━┳━━━━━━┳━━━━━━━━━┳━━━━━━━━━┳━━━━━━━━━━┳━━━━━━━━┳━━━━━━━┳━━━━━━━┳━━━━━━━━━┳━━━━━━━━━━━┳━━━━━━━━━━┓  │\n",
       "│ ┃\u001b[1m \u001b[0m\u001b[1mcolumn    \u001b[0m\u001b[1m \u001b[0m┃\u001b[1m \u001b[0m\u001b[1mNA  \u001b[0m\u001b[1m \u001b[0m┃\u001b[1m \u001b[0m\u001b[1mNA %   \u001b[0m\u001b[1m \u001b[0m┃\u001b[1m \u001b[0m\u001b[1mmean   \u001b[0m\u001b[1m \u001b[0m┃\u001b[1m \u001b[0m\u001b[1msd      \u001b[0m\u001b[1m \u001b[0m┃\u001b[1m \u001b[0m\u001b[1mp0    \u001b[0m\u001b[1m \u001b[0m┃\u001b[1m \u001b[0m\u001b[1mp25  \u001b[0m\u001b[1m \u001b[0m┃\u001b[1m \u001b[0m\u001b[1mp50  \u001b[0m\u001b[1m \u001b[0m┃\u001b[1m \u001b[0m\u001b[1mp75    \u001b[0m\u001b[1m \u001b[0m┃\u001b[1m \u001b[0m\u001b[1mp100     \u001b[0m\u001b[1m \u001b[0m┃\u001b[1m \u001b[0m\u001b[1mhist    \u001b[0m\u001b[1m \u001b[0m┃  │\n",
       "│ ┡━━━━━━━━━━━━╇━━━━━━╇━━━━━━━━━╇━━━━━━━━━╇━━━━━━━━━━╇━━━━━━━━╇━━━━━━━╇━━━━━━━╇━━━━━━━━━╇━━━━━━━━━━━╇━━━━━━━━━━┩  │\n",
       "│ │ \u001b[38;5;141mId        \u001b[0m │ \u001b[36m   0\u001b[0m │ \u001b[36m      0\u001b[0m │ \u001b[36m   6011\u001b[0m │ \u001b[36m   46820\u001b[0m │ \u001b[36m   362\u001b[0m │ \u001b[36m  681\u001b[0m │ \u001b[36m  934\u001b[0m │ \u001b[36m   1193\u001b[0m │ \u001b[36m   470800\u001b[0m │ \u001b[32m   ▇    \u001b[0m │  │\n",
       "│ └────────────┴──────┴─────────┴─────────┴──────────┴────────┴───────┴───────┴─────────┴───────────┴──────────┘  │\n",
       "│ \u001b[3m                                                    string                                                    \u001b[0m  │\n",
       "│ ┏━━━━━━━━━━━┳━━━━┳━━━━━━┳━━━━━━━━━━┳━━━━━━━━━━━┳━━━━━━━━━━━┳━━━━━━━━━━━┳━━━━━━━━━━━━┳━━━━━━━━━━━┳━━━━━━━━━━━━┓  │\n",
       "│ ┃\u001b[1m           \u001b[0m┃\u001b[1m    \u001b[0m┃\u001b[1m      \u001b[0m┃\u001b[1m          \u001b[0m┃\u001b[1m           \u001b[0m┃\u001b[1m           \u001b[0m┃\u001b[1m           \u001b[0m┃\u001b[1m \u001b[0m\u001b[1mchars per \u001b[0m\u001b[1m \u001b[0m┃\u001b[1m \u001b[0m\u001b[1mwords per\u001b[0m\u001b[1m \u001b[0m┃\u001b[1m \u001b[0m\u001b[1mtotal     \u001b[0m\u001b[1m \u001b[0m┃  │\n",
       "│ ┃\u001b[1m \u001b[0m\u001b[1mcolumn   \u001b[0m\u001b[1m \u001b[0m┃\u001b[1m \u001b[0m\u001b[1mNA\u001b[0m\u001b[1m \u001b[0m┃\u001b[1m \u001b[0m\u001b[1mNA %\u001b[0m\u001b[1m \u001b[0m┃\u001b[1m \u001b[0m\u001b[1mshortest\u001b[0m\u001b[1m \u001b[0m┃\u001b[1m \u001b[0m\u001b[1mlongest  \u001b[0m\u001b[1m \u001b[0m┃\u001b[1m \u001b[0m\u001b[1mmin      \u001b[0m\u001b[1m \u001b[0m┃\u001b[1m \u001b[0m\u001b[1mmax      \u001b[0m\u001b[1m \u001b[0m┃\u001b[1m \u001b[0m\u001b[1mrow       \u001b[0m\u001b[1m \u001b[0m┃\u001b[1m \u001b[0m\u001b[1mrow      \u001b[0m\u001b[1m \u001b[0m┃\u001b[1m \u001b[0m\u001b[1mwords     \u001b[0m\u001b[1m \u001b[0m┃  │\n",
       "│ ┡━━━━━━━━━━━╇━━━━╇━━━━━━╇━━━━━━━━━━╇━━━━━━━━━━━╇━━━━━━━━━━━╇━━━━━━━━━━━╇━━━━━━━━━━━━╇━━━━━━━━━━━╇━━━━━━━━━━━━┩  │\n",
       "│ │ \u001b[38;5;141mRaison   \u001b[0m │ \u001b[36m 0\u001b[0m │ \u001b[36m   0\u001b[0m │ \u001b[38;5;141mS2C     \u001b[0m │ \u001b[38;5;141mHertz BPA\u001b[0m │ \u001b[38;5;141mAB       \u001b[0m │ \u001b[38;5;141mZig Zag  \u001b[0m │ \u001b[36m      17.5\u001b[0m │ \u001b[36m        3\u001b[0m │ \u001b[36m      2984\u001b[0m │  │\n",
       "│ │ \u001b[38;5;141msociale  \u001b[0m │    │      │          │ \u001b[38;5;141m(SA)     \u001b[0m │ \u001b[38;5;141mLocation \u001b[0m │           │            │           │            │  │\n",
       "│ │           │    │      │          │ \u001b[38;5;141mFranchisé\u001b[0m │           │           │            │           │            │  │\n",
       "│ │           │    │      │          │ \u001b[38;5;141mindépenda\u001b[0m │           │           │            │           │            │  │\n",
       "│ │           │    │      │          │ \u001b[38;5;141mnt à     \u001b[0m │           │           │            │           │            │  │\n",
       "│ │           │    │      │          │ \u001b[38;5;141mValréas  \u001b[0m │           │           │            │           │            │  │\n",
       "│ │           │    │      │          │ \u001b[38;5;141mDépôt    \u001b[0m │           │           │            │           │            │  │\n",
       "│ │           │    │      │          │ \u001b[38;5;141mchez     \u001b[0m │           │           │            │           │            │  │\n",
       "│ │           │    │      │          │ \u001b[38;5;141mgarage   \u001b[0m │           │           │            │           │            │  │\n",
       "│ │           │    │      │          │ \u001b[38;5;141mPeugeot  \u001b[0m │           │           │            │           │            │  │\n",
       "│ │ \u001b[38;5;141mDéparteme\u001b[0m │ \u001b[36m 0\u001b[0m │ \u001b[36m   0\u001b[0m │ \u001b[38;5;141m83-Var  \u001b[0m │ \u001b[38;5;141m17-Charen\u001b[0m │ \u001b[38;5;141m06-Alpes \u001b[0m │ \u001b[38;5;141m87-Haute \u001b[0m │ \u001b[36m      9.15\u001b[0m │ \u001b[36m      1.1\u001b[0m │ \u001b[36m      1141\u001b[0m │  │\n",
       "│ │ \u001b[38;5;141mnt       \u001b[0m │    │      │          │ \u001b[38;5;141mte       \u001b[0m │ \u001b[38;5;141mMaritimes\u001b[0m │ \u001b[38;5;141mVienne   \u001b[0m │            │           │            │  │\n",
       "│ │           │    │      │          │ \u001b[38;5;141mMaritime \u001b[0m │           │           │            │           │            │  │\n",
       "│ │ \u001b[38;5;141mActivité \u001b[0m │ \u001b[36m 0\u001b[0m │ \u001b[36m   0\u001b[0m │ \u001b[38;5;141mGolf    \u001b[0m │ \u001b[38;5;141mCentres  \u001b[0m │ \u001b[38;5;141mBar/Café \u001b[0m │ \u001b[38;5;141mparc     \u001b[0m │ \u001b[36m      12.2\u001b[0m │ \u001b[36m      1.3\u001b[0m │ \u001b[36m      1299\u001b[0m │  │\n",
       "│ │           │    │      │          │ \u001b[38;5;141mequestres\u001b[0m │           │ \u001b[38;5;141md'attract\u001b[0m │            │           │            │  │\n",
       "│ │           │    │      │          │ \u001b[38;5;141m,        \u001b[0m │           │ \u001b[38;5;141mion      \u001b[0m │            │           │            │  │\n",
       "│ │           │    │      │          │ \u001b[38;5;141mequitatio\u001b[0m │           │           │            │           │            │  │\n",
       "│ │           │    │      │          │ \u001b[38;5;141mn        \u001b[0m │           │           │            │           │            │  │\n",
       "│ │ \u001b[38;5;141mVille    \u001b[0m │ \u001b[36m 0\u001b[0m │ \u001b[36m   0\u001b[0m │ \u001b[38;5;141mNice    \u001b[0m │ \u001b[38;5;141mSaint    \u001b[0m │ \u001b[38;5;141mAgay     \u001b[0m │ \u001b[38;5;141mVoreppe  \u001b[0m │ \u001b[36m      10.9\u001b[0m │ \u001b[36m      1.8\u001b[0m │ \u001b[36m      1800\u001b[0m │  │\n",
       "│ │           │    │      │          │ \u001b[38;5;141mmaximin  \u001b[0m │           │           │            │           │            │  │\n",
       "│ │           │    │      │          │ \u001b[38;5;141mla sainte\u001b[0m │           │           │            │           │            │  │\n",
       "│ │           │    │      │          │ \u001b[38;5;141mbaume    \u001b[0m │           │           │            │           │            │  │\n",
       "│ └───────────┴────┴──────┴──────────┴───────────┴───────────┴───────────┴────────────┴───────────┴────────────┘  │\n",
       "╰────────────────────────────────────────────────────── End ──────────────────────────────────────────────────────╯\n"
      ]
     },
     "metadata": {},
     "output_type": "display_data"
    }
   ],
   "source": [
    "skim(df2)"
   ]
  },
  {
   "cell_type": "markdown",
   "metadata": {},
   "source": [
    "### Nombre de villes listées par département par ordre décroissant"
   ]
  },
  {
   "cell_type": "code",
   "execution_count": 11,
   "metadata": {},
   "outputs": [
    {
     "data": {
      "application/vnd.microsoft.datawrangler.viewer.v0+json": {
       "columns": [
        {
         "name": "Département",
         "rawType": "object",
         "type": "string"
        },
        {
         "name": "Ville",
         "rawType": "int64",
         "type": "integer"
        }
       ],
       "conversionMethod": "pd.DataFrame",
       "ref": "9418d1cc-c3f9-43cb-b19f-48dbf47c5cfe",
       "rows": [
        [
         "83-Var",
         "190"
        ],
        [
         "69-Rhone",
         "167"
        ],
        [
         "07-Ardèche",
         "142"
        ],
        [
         "38-Isère",
         "142"
        ],
        [
         "26-Drome",
         "134"
        ],
        [
         "84-Vaucluse",
         "63"
        ],
        [
         "06-Alpes Maritimes",
         "56"
        ],
        [
         "13-Bouches du Rhone",
         "38"
        ],
        [
         "42-Loire",
         "28"
        ],
        [
         "30-Gard",
         "15"
        ],
        [
         "73-Savoie",
         "6"
        ],
        [
         "31-Haute Garonne",
         "6"
        ],
        [
         "18-Cher",
         "2"
        ],
        [
         "71-Saone et Loire",
         "2"
        ],
        [
         "17-Charente Maritime",
         "1"
        ],
        [
         "33-Gironde",
         "1"
        ],
        [
         "55-Meuse",
         "1"
        ],
        [
         "75-Paris",
         "1"
        ],
        [
         "85-Vendée",
         "1"
        ],
        [
         "87-Haute Vienne",
         "1"
        ]
       ],
       "shape": {
        "columns": 1,
        "rows": 20
       }
      },
      "text/html": [
       "<div>\n",
       "<style scoped>\n",
       "    .dataframe tbody tr th:only-of-type {\n",
       "        vertical-align: middle;\n",
       "    }\n",
       "\n",
       "    .dataframe tbody tr th {\n",
       "        vertical-align: top;\n",
       "    }\n",
       "\n",
       "    .dataframe thead th {\n",
       "        text-align: right;\n",
       "    }\n",
       "</style>\n",
       "<table border=\"1\" class=\"dataframe\">\n",
       "  <thead>\n",
       "    <tr style=\"text-align: right;\">\n",
       "      <th></th>\n",
       "      <th>Ville</th>\n",
       "    </tr>\n",
       "    <tr>\n",
       "      <th>Département</th>\n",
       "      <th></th>\n",
       "    </tr>\n",
       "  </thead>\n",
       "  <tbody>\n",
       "    <tr>\n",
       "      <th>83-Var</th>\n",
       "      <td>190</td>\n",
       "    </tr>\n",
       "    <tr>\n",
       "      <th>69-Rhone</th>\n",
       "      <td>167</td>\n",
       "    </tr>\n",
       "    <tr>\n",
       "      <th>07-Ardèche</th>\n",
       "      <td>142</td>\n",
       "    </tr>\n",
       "    <tr>\n",
       "      <th>38-Isère</th>\n",
       "      <td>142</td>\n",
       "    </tr>\n",
       "    <tr>\n",
       "      <th>26-Drome</th>\n",
       "      <td>134</td>\n",
       "    </tr>\n",
       "    <tr>\n",
       "      <th>84-Vaucluse</th>\n",
       "      <td>63</td>\n",
       "    </tr>\n",
       "    <tr>\n",
       "      <th>06-Alpes Maritimes</th>\n",
       "      <td>56</td>\n",
       "    </tr>\n",
       "    <tr>\n",
       "      <th>13-Bouches du Rhone</th>\n",
       "      <td>38</td>\n",
       "    </tr>\n",
       "    <tr>\n",
       "      <th>42-Loire</th>\n",
       "      <td>28</td>\n",
       "    </tr>\n",
       "    <tr>\n",
       "      <th>30-Gard</th>\n",
       "      <td>15</td>\n",
       "    </tr>\n",
       "    <tr>\n",
       "      <th>73-Savoie</th>\n",
       "      <td>6</td>\n",
       "    </tr>\n",
       "    <tr>\n",
       "      <th>31-Haute Garonne</th>\n",
       "      <td>6</td>\n",
       "    </tr>\n",
       "    <tr>\n",
       "      <th>18-Cher</th>\n",
       "      <td>2</td>\n",
       "    </tr>\n",
       "    <tr>\n",
       "      <th>71-Saone et Loire</th>\n",
       "      <td>2</td>\n",
       "    </tr>\n",
       "    <tr>\n",
       "      <th>17-Charente Maritime</th>\n",
       "      <td>1</td>\n",
       "    </tr>\n",
       "    <tr>\n",
       "      <th>33-Gironde</th>\n",
       "      <td>1</td>\n",
       "    </tr>\n",
       "    <tr>\n",
       "      <th>55-Meuse</th>\n",
       "      <td>1</td>\n",
       "    </tr>\n",
       "    <tr>\n",
       "      <th>75-Paris</th>\n",
       "      <td>1</td>\n",
       "    </tr>\n",
       "    <tr>\n",
       "      <th>85-Vendée</th>\n",
       "      <td>1</td>\n",
       "    </tr>\n",
       "    <tr>\n",
       "      <th>87-Haute Vienne</th>\n",
       "      <td>1</td>\n",
       "    </tr>\n",
       "  </tbody>\n",
       "</table>\n",
       "</div>"
      ],
      "text/plain": [
       "                      Ville\n",
       "Département                \n",
       "83-Var                  190\n",
       "69-Rhone                167\n",
       "07-Ardèche              142\n",
       "38-Isère                142\n",
       "26-Drome                134\n",
       "84-Vaucluse              63\n",
       "06-Alpes Maritimes       56\n",
       "13-Bouches du Rhone      38\n",
       "42-Loire                 28\n",
       "30-Gard                  15\n",
       "73-Savoie                 6\n",
       "31-Haute Garonne          6\n",
       "18-Cher                   2\n",
       "71-Saone et Loire         2\n",
       "17-Charente Maritime      1\n",
       "33-Gironde                1\n",
       "55-Meuse                  1\n",
       "75-Paris                  1\n",
       "85-Vendée                 1\n",
       "87-Haute Vienne           1"
      ]
     },
     "execution_count": 11,
     "metadata": {},
     "output_type": "execute_result"
    }
   ],
   "source": [
    "df2[['Département', 'Ville']].groupby('Département').agg('count').sort_values(\n",
    "    by='Ville', ascending=False)"
   ]
  },
  {
   "cell_type": "markdown",
   "metadata": {},
   "source": [
    "### Nombre d'activité par ville par ordre décroissant"
   ]
  },
  {
   "cell_type": "code",
   "execution_count": null,
   "metadata": {},
   "outputs": [
    {
     "data": {
      "application/vnd.microsoft.datawrangler.viewer.v0+json": {
       "columns": [
        {
         "name": "index",
         "rawType": "int64",
         "type": "integer"
        },
        {
         "name": "Département",
         "rawType": "object",
         "type": "string"
        },
        {
         "name": "Ville",
         "rawType": "object",
         "type": "string"
        },
        {
         "name": "counts",
         "rawType": "int64",
         "type": "integer"
        }
       ],
       "conversionMethod": "pd.DataFrame",
       "ref": "dfd703bf-9cad-4bdb-89a7-b68918d0468b",
       "rows": [
        [
         "189",
         "38-Isère",
         "Grenoble",
         "31"
        ],
        [
         "151",
         "26-Drome",
         "Valence",
         "28"
        ],
        [
         "22",
         "07-Ardèche",
         "Aubenas",
         "21"
        ],
        [
         "19",
         "07-Ardèche",
         "Annonay",
         "19"
        ],
        [
         "270",
         "69-Rhone",
         "Lyon 5eme",
         "18"
        ],
        [
         "271",
         "69-Rhone",
         "Lyon 6eme",
         "15"
        ],
        [
         "267",
         "69-Rhone",
         "Lyon 2eme",
         "15"
        ],
        [
         "85",
         "13-Bouches du Rhone",
         "Marseille",
         "14"
        ],
        [
         "328",
         "83-Var",
         "Hyeres les palmiers",
         "14"
        ],
        [
         "372",
         "84-Vaucluse",
         "Avignon",
         "14"
        ],
        [
         "361",
         "83-Var",
         "Sainte maxime",
         "14"
        ],
        [
         "131",
         "26-Drome",
         "Montelimar",
         "14"
        ],
        [
         "11",
         "06-Alpes Maritimes",
         "Valbonne",
         "14"
        ],
        [
         "7",
         "06-Alpes Maritimes",
         "Nice",
         "13"
        ],
        [
         "266",
         "69-Rhone",
         "Lyon 1er",
         "12"
        ],
        [
         "288",
         "69-Rhone",
         "Saint priest",
         "12"
        ],
        [
         "359",
         "83-Var",
         "Saint raphael",
         "12"
        ],
        [
         "2",
         "06-Alpes Maritimes",
         "Cannes",
         "12"
        ],
        [
         "345",
         "83-Var",
         "Les arcs",
         "11"
        ],
        [
         "367",
         "83-Var",
         "Toulon",
         "11"
        ],
        [
         "324",
         "83-Var",
         "Frejus",
         "10"
        ],
        [
         "240",
         "42-Loire",
         "Saint etienne",
         "9"
        ],
        [
         "360",
         "83-Var",
         "Saint tropez",
         "8"
        ],
        [
         "272",
         "69-Rhone",
         "Lyon 7eme",
         "7"
        ],
        [
         "20",
         "07-Ardèche",
         "Antraigues sur volane",
         "7"
        ],
        [
         "169",
         "38-Isère",
         "Alpe d'huez",
         "7"
        ],
        [
         "200",
         "38-Isère",
         "Les deux alpes",
         "7"
        ],
        [
         "340",
         "83-Var",
         "Le lavandou",
         "6"
        ],
        [
         "139",
         "26-Drome",
         "Romans",
         "6"
        ],
        [
         "72",
         "07-Ardèche",
         "Vals les bains",
         "6"
        ],
        [
         "290",
         "69-Rhone",
         "Sainte foy les lyon",
         "6"
        ],
        [
         "311",
         "83-Var",
         "Bandol",
         "6"
        ],
        [
         "33",
         "07-Ardèche",
         "Bourg saint andeol",
         "6"
        ],
        [
         "166",
         "31-Haute Garonne",
         "Toulouse",
         "6"
        ],
        [
         "390",
         "84-Vaucluse",
         "Orange",
         "6"
        ],
        [
         "343",
         "83-Var",
         "Le pradet",
         "5"
        ],
        [
         "28",
         "07-Ardèche",
         "Berrias et casteljau",
         "5"
        ],
        [
         "357",
         "83-Var",
         "Saint cyr sur mer",
         "5"
        ],
        [
         "137",
         "26-Drome",
         "Portes les valence",
         "5"
        ],
        [
         "133",
         "26-Drome",
         "Pierrelatte",
         "5"
        ],
        [
         "99",
         "26-Drome",
         "Alixan",
         "5"
        ],
        [
         "268",
         "69-Rhone",
         "Lyon 3eme",
         "5"
        ],
        [
         "298",
         "69-Rhone",
         "Villefranche sur saone",
         "5"
        ],
        [
         "104",
         "26-Drome",
         "Bourg les valence",
         "5"
        ],
        [
         "332",
         "83-Var",
         "La croix valmer",
         "5"
        ],
        [
         "273",
         "69-Rhone",
         "Lyon 8eme",
         "4"
        ],
        [
         "227",
         "38-Isère",
         "Villard de lans",
         "4"
        ],
        [
         "337",
         "83-Var",
         "La seyne sur mer",
         "4"
        ],
        [
         "293",
         "69-Rhone",
         "Sathonay camp",
         "4"
        ],
        [
         "109",
         "26-Drome",
         "Chateauneuf sur isere",
         "4"
        ]
       ],
       "shape": {
        "columns": 3,
        "rows": 405
       }
      },
      "text/html": [
       "<div>\n",
       "<style scoped>\n",
       "    .dataframe tbody tr th:only-of-type {\n",
       "        vertical-align: middle;\n",
       "    }\n",
       "\n",
       "    .dataframe tbody tr th {\n",
       "        vertical-align: top;\n",
       "    }\n",
       "\n",
       "    .dataframe thead th {\n",
       "        text-align: right;\n",
       "    }\n",
       "</style>\n",
       "<table border=\"1\" class=\"dataframe\">\n",
       "  <thead>\n",
       "    <tr style=\"text-align: right;\">\n",
       "      <th></th>\n",
       "      <th>Département</th>\n",
       "      <th>Ville</th>\n",
       "      <th>counts</th>\n",
       "    </tr>\n",
       "  </thead>\n",
       "  <tbody>\n",
       "    <tr>\n",
       "      <th>189</th>\n",
       "      <td>38-Isère</td>\n",
       "      <td>Grenoble</td>\n",
       "      <td>31</td>\n",
       "    </tr>\n",
       "    <tr>\n",
       "      <th>151</th>\n",
       "      <td>26-Drome</td>\n",
       "      <td>Valence</td>\n",
       "      <td>28</td>\n",
       "    </tr>\n",
       "    <tr>\n",
       "      <th>22</th>\n",
       "      <td>07-Ardèche</td>\n",
       "      <td>Aubenas</td>\n",
       "      <td>21</td>\n",
       "    </tr>\n",
       "    <tr>\n",
       "      <th>19</th>\n",
       "      <td>07-Ardèche</td>\n",
       "      <td>Annonay</td>\n",
       "      <td>19</td>\n",
       "    </tr>\n",
       "    <tr>\n",
       "      <th>270</th>\n",
       "      <td>69-Rhone</td>\n",
       "      <td>Lyon 5eme</td>\n",
       "      <td>18</td>\n",
       "    </tr>\n",
       "    <tr>\n",
       "      <th>...</th>\n",
       "      <td>...</td>\n",
       "      <td>...</td>\n",
       "      <td>...</td>\n",
       "    </tr>\n",
       "    <tr>\n",
       "      <th>400</th>\n",
       "      <td>84-Vaucluse</td>\n",
       "      <td>Vedene</td>\n",
       "      <td>1</td>\n",
       "    </tr>\n",
       "    <tr>\n",
       "      <th>401</th>\n",
       "      <td>84-Vaucluse</td>\n",
       "      <td>Velleron</td>\n",
       "      <td>1</td>\n",
       "    </tr>\n",
       "    <tr>\n",
       "      <th>402</th>\n",
       "      <td>84-Vaucluse</td>\n",
       "      <td>Villeneuve les avignon</td>\n",
       "      <td>1</td>\n",
       "    </tr>\n",
       "    <tr>\n",
       "      <th>403</th>\n",
       "      <td>85-Vendée</td>\n",
       "      <td>La roche sur yon</td>\n",
       "      <td>1</td>\n",
       "    </tr>\n",
       "    <tr>\n",
       "      <th>404</th>\n",
       "      <td>87-Haute Vienne</td>\n",
       "      <td>Peyrat le chateau</td>\n",
       "      <td>1</td>\n",
       "    </tr>\n",
       "  </tbody>\n",
       "</table>\n",
       "<p>405 rows × 3 columns</p>\n",
       "</div>"
      ],
      "text/plain": [
       "         Département                   Ville  counts\n",
       "189         38-Isère                Grenoble      31\n",
       "151         26-Drome                 Valence      28\n",
       "22        07-Ardèche                 Aubenas      21\n",
       "19        07-Ardèche                 Annonay      19\n",
       "270         69-Rhone               Lyon 5eme      18\n",
       "..               ...                     ...     ...\n",
       "400      84-Vaucluse                  Vedene       1\n",
       "401      84-Vaucluse                Velleron       1\n",
       "402      84-Vaucluse  Villeneuve les avignon       1\n",
       "403        85-Vendée        La roche sur yon       1\n",
       "404  87-Haute Vienne       Peyrat le chateau       1\n",
       "\n",
       "[405 rows x 3 columns]"
      ]
     },
     "execution_count": 12,
     "metadata": {},
     "output_type": "execute_result"
    }
   ],
   "source": [
    "(\n",
    "    df2[['Département', 'Ville', 'Activité']]\n",
    "    .groupby(['Département', 'Ville'])\n",
    "    .agg('count')\n",
    "    .reset_index()\n",
    "    .sort_values(by=['Activité'], ascending=False)\n",
    ")"
   ]
  }
 ],
 "metadata": {
  "kernelspec": {
   "display_name": "Python 3",
   "language": "python",
   "name": "python3"
  },
  "language_info": {
   "codemirror_mode": {
    "name": "ipython",
    "version": 3
   },
   "file_extension": ".py",
   "mimetype": "text/x-python",
   "name": "python",
   "nbconvert_exporter": "python",
   "pygments_lexer": "ipython3",
   "version": "3.12.5"
  }
 },
 "nbformat": 4,
 "nbformat_minor": 2
}
