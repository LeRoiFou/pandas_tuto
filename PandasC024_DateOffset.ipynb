{
 "cells": [
  {
   "cell_type": "markdown",
   "id": "99769168",
   "metadata": {},
   "source": [
    "[Repousser les dates d'échéances par formule Python dans Excel](https://www.youtube.com/watch?v=OI8VYtFAa7M&list=PLpQBnWleLAauKmgcdndmEr81iIIoW9_Wi&index=29)\n",
    "\n",
    "Date : 19/06/2025"
   ]
  },
  {
   "cell_type": "code",
   "execution_count": 1,
   "id": "20ccda08",
   "metadata": {},
   "outputs": [],
   "source": [
    "import pandas as pd"
   ]
  },
  {
   "cell_type": "code",
   "execution_count": 25,
   "id": "0289bfc4",
   "metadata": {},
   "outputs": [
    {
     "data": {
      "application/vnd.microsoft.datawrangler.viewer.v0+json": {
       "columns": [
        {
         "name": "index",
         "rawType": "int64",
         "type": "integer"
        },
        {
         "name": "Code",
         "rawType": "object",
         "type": "string"
        },
        {
         "name": "THT",
         "rawType": "int64",
         "type": "integer"
        },
        {
         "name": "Date",
         "rawType": "datetime64[ns]",
         "type": "datetime"
        }
       ],
       "ref": "1a595921-5a09-4aa6-b7da-1eda577fe18b",
       "rows": [
        [
         "0",
         "V1",
         "802",
         "2025-01-14 00:00:00"
        ],
        [
         "1",
         "V2",
         "112",
         "2025-08-25 00:00:00"
        ],
        [
         "2",
         "V3",
         "207",
         "2025-04-16 00:00:00"
        ],
        [
         "3",
         "V4",
         "950",
         "2025-07-22 00:00:00"
        ],
        [
         "4",
         "V5",
         "179",
         "2025-01-03 00:00:00"
        ]
       ],
       "shape": {
        "columns": 3,
        "rows": 5
       }
      },
      "text/html": [
       "<div>\n",
       "<style scoped>\n",
       "    .dataframe tbody tr th:only-of-type {\n",
       "        vertical-align: middle;\n",
       "    }\n",
       "\n",
       "    .dataframe tbody tr th {\n",
       "        vertical-align: top;\n",
       "    }\n",
       "\n",
       "    .dataframe thead th {\n",
       "        text-align: right;\n",
       "    }\n",
       "</style>\n",
       "<table border=\"1\" class=\"dataframe\">\n",
       "  <thead>\n",
       "    <tr style=\"text-align: right;\">\n",
       "      <th></th>\n",
       "      <th>Code</th>\n",
       "      <th>THT</th>\n",
       "      <th>Date</th>\n",
       "    </tr>\n",
       "  </thead>\n",
       "  <tbody>\n",
       "    <tr>\n",
       "      <th>0</th>\n",
       "      <td>V1</td>\n",
       "      <td>802</td>\n",
       "      <td>2025-01-14</td>\n",
       "    </tr>\n",
       "    <tr>\n",
       "      <th>1</th>\n",
       "      <td>V2</td>\n",
       "      <td>112</td>\n",
       "      <td>2025-08-25</td>\n",
       "    </tr>\n",
       "    <tr>\n",
       "      <th>2</th>\n",
       "      <td>V3</td>\n",
       "      <td>207</td>\n",
       "      <td>2025-04-16</td>\n",
       "    </tr>\n",
       "    <tr>\n",
       "      <th>3</th>\n",
       "      <td>V4</td>\n",
       "      <td>950</td>\n",
       "      <td>2025-07-22</td>\n",
       "    </tr>\n",
       "    <tr>\n",
       "      <th>4</th>\n",
       "      <td>V5</td>\n",
       "      <td>179</td>\n",
       "      <td>2025-01-03</td>\n",
       "    </tr>\n",
       "  </tbody>\n",
       "</table>\n",
       "</div>"
      ],
      "text/plain": [
       "  Code  THT       Date\n",
       "0   V1  802 2025-01-14\n",
       "1   V2  112 2025-08-25\n",
       "2   V3  207 2025-04-16\n",
       "3   V4  950 2025-07-22\n",
       "4   V5  179 2025-01-03"
      ]
     },
     "execution_count": 25,
     "metadata": {},
     "output_type": "execute_result"
    }
   ],
   "source": [
    "df = pd.read_excel('data/DateOffset.xlsx', sheet_name='Feuil1')\n",
    "df.head()"
   ]
  },
  {
   "cell_type": "markdown",
   "id": "e4210e3f",
   "metadata": {},
   "source": [
    "Nombre de jours à incrémenter"
   ]
  },
  {
   "cell_type": "code",
   "execution_count": 26,
   "id": "bdbb2396",
   "metadata": {},
   "outputs": [],
   "source": [
    "cr = 10"
   ]
  },
  {
   "cell_type": "markdown",
   "id": "b076290b",
   "metadata": {},
   "source": [
    "Modification des dates de la DF selon le nombre de jours à incrémenter"
   ]
  },
  {
   "cell_type": "code",
   "execution_count": 27,
   "id": "9c8924a5",
   "metadata": {},
   "outputs": [
    {
     "data": {
      "application/vnd.microsoft.datawrangler.viewer.v0+json": {
       "columns": [
        {
         "name": "index",
         "rawType": "int64",
         "type": "integer"
        },
        {
         "name": "Code",
         "rawType": "object",
         "type": "string"
        },
        {
         "name": "THT",
         "rawType": "int64",
         "type": "integer"
        },
        {
         "name": "Date",
         "rawType": "datetime64[ns]",
         "type": "datetime"
        }
       ],
       "ref": "a2f69d08-6d4e-466e-8cda-cb0d860e798e",
       "rows": [
        [
         "0",
         "V1",
         "802",
         "2025-01-24 00:00:00"
        ],
        [
         "1",
         "V2",
         "112",
         "2025-09-04 00:00:00"
        ],
        [
         "2",
         "V3",
         "207",
         "2025-04-26 00:00:00"
        ],
        [
         "3",
         "V4",
         "950",
         "2025-08-01 00:00:00"
        ],
        [
         "4",
         "V5",
         "179",
         "2025-01-13 00:00:00"
        ]
       ],
       "shape": {
        "columns": 3,
        "rows": 5
       }
      },
      "text/html": [
       "<div>\n",
       "<style scoped>\n",
       "    .dataframe tbody tr th:only-of-type {\n",
       "        vertical-align: middle;\n",
       "    }\n",
       "\n",
       "    .dataframe tbody tr th {\n",
       "        vertical-align: top;\n",
       "    }\n",
       "\n",
       "    .dataframe thead th {\n",
       "        text-align: right;\n",
       "    }\n",
       "</style>\n",
       "<table border=\"1\" class=\"dataframe\">\n",
       "  <thead>\n",
       "    <tr style=\"text-align: right;\">\n",
       "      <th></th>\n",
       "      <th>Code</th>\n",
       "      <th>THT</th>\n",
       "      <th>Date</th>\n",
       "    </tr>\n",
       "  </thead>\n",
       "  <tbody>\n",
       "    <tr>\n",
       "      <th>0</th>\n",
       "      <td>V1</td>\n",
       "      <td>802</td>\n",
       "      <td>2025-01-24</td>\n",
       "    </tr>\n",
       "    <tr>\n",
       "      <th>1</th>\n",
       "      <td>V2</td>\n",
       "      <td>112</td>\n",
       "      <td>2025-09-04</td>\n",
       "    </tr>\n",
       "    <tr>\n",
       "      <th>2</th>\n",
       "      <td>V3</td>\n",
       "      <td>207</td>\n",
       "      <td>2025-04-26</td>\n",
       "    </tr>\n",
       "    <tr>\n",
       "      <th>3</th>\n",
       "      <td>V4</td>\n",
       "      <td>950</td>\n",
       "      <td>2025-08-01</td>\n",
       "    </tr>\n",
       "    <tr>\n",
       "      <th>4</th>\n",
       "      <td>V5</td>\n",
       "      <td>179</td>\n",
       "      <td>2025-01-13</td>\n",
       "    </tr>\n",
       "  </tbody>\n",
       "</table>\n",
       "</div>"
      ],
      "text/plain": [
       "  Code  THT       Date\n",
       "0   V1  802 2025-01-24\n",
       "1   V2  112 2025-09-04\n",
       "2   V3  207 2025-04-26\n",
       "3   V4  950 2025-08-01\n",
       "4   V5  179 2025-01-13"
      ]
     },
     "execution_count": 27,
     "metadata": {},
     "output_type": "execute_result"
    }
   ],
   "source": [
    "df['Date'] = df['Date'] + pd.DateOffset(days=cr)\n",
    "df.head()"
   ]
  }
 ],
 "metadata": {
  "kernelspec": {
   "display_name": "Python 3",
   "language": "python",
   "name": "python3"
  },
  "language_info": {
   "codemirror_mode": {
    "name": "ipython",
    "version": 3
   },
   "file_extension": ".py",
   "mimetype": "text/x-python",
   "name": "python",
   "nbconvert_exporter": "python",
   "pygments_lexer": "ipython3",
   "version": "3.12.5"
  }
 },
 "nbformat": 4,
 "nbformat_minor": 5
}
