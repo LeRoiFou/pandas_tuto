{
 "cells": [
  {
   "cell_type": "markdown",
   "id": "0e63e456",
   "metadata": {},
   "source": [
    "[Comparer deux tableaux Excel par formule Python](https://www.youtube.com/watch?v=Dldd0KhFzsk&list=PLpQBnWleLAauKmgcdndmEr81iIIoW9_Wi&index=17)\n",
    "\n",
    "Date : 15/05/2025"
   ]
  },
  {
   "cell_type": "code",
   "execution_count": 1,
   "id": "e8734a4d",
   "metadata": {},
   "outputs": [],
   "source": [
    "import pandas as pd"
   ]
  },
  {
   "cell_type": "code",
   "execution_count": 14,
   "id": "0ee76a43",
   "metadata": {},
   "outputs": [],
   "source": [
    "tb1 = pd.read_excel(\n",
    "    'data/Compare.xlsx', \n",
    "    sheet_name='Feuil1',\n",
    "    )"
   ]
  },
  {
   "cell_type": "code",
   "execution_count": 15,
   "id": "46f2a60e",
   "metadata": {},
   "outputs": [
    {
     "data": {
      "application/vnd.microsoft.datawrangler.viewer.v0+json": {
       "columns": [
        {
         "name": "index",
         "rawType": "int64",
         "type": "integer"
        },
        {
         "name": "Nom",
         "rawType": "object",
         "type": "string"
        },
        {
         "name": "Prénom",
         "rawType": "object",
         "type": "string"
        }
       ],
       "conversionMethod": "pd.DataFrame",
       "ref": "7086407d-d783-457e-b936-0c165c0915d1",
       "rows": [
        [
         "0",
         "Bonbeur",
         "Jean"
        ],
        [
         "1",
         "Hèresse",
         "Mégane"
        ],
        [
         "2",
         "Noix",
         "Stéphane"
        ],
        [
         "3",
         "Gature",
         "Emilie"
        ],
        [
         "4",
         "De MontéCarlo",
         "Coralie"
        ]
       ],
       "shape": {
        "columns": 2,
        "rows": 5
       }
      },
      "text/html": [
       "<div>\n",
       "<style scoped>\n",
       "    .dataframe tbody tr th:only-of-type {\n",
       "        vertical-align: middle;\n",
       "    }\n",
       "\n",
       "    .dataframe tbody tr th {\n",
       "        vertical-align: top;\n",
       "    }\n",
       "\n",
       "    .dataframe thead th {\n",
       "        text-align: right;\n",
       "    }\n",
       "</style>\n",
       "<table border=\"1\" class=\"dataframe\">\n",
       "  <thead>\n",
       "    <tr style=\"text-align: right;\">\n",
       "      <th></th>\n",
       "      <th>Nom</th>\n",
       "      <th>Prénom</th>\n",
       "    </tr>\n",
       "  </thead>\n",
       "  <tbody>\n",
       "    <tr>\n",
       "      <th>0</th>\n",
       "      <td>Bonbeur</td>\n",
       "      <td>Jean</td>\n",
       "    </tr>\n",
       "    <tr>\n",
       "      <th>1</th>\n",
       "      <td>Hèresse</td>\n",
       "      <td>Mégane</td>\n",
       "    </tr>\n",
       "    <tr>\n",
       "      <th>2</th>\n",
       "      <td>Noix</td>\n",
       "      <td>Stéphane</td>\n",
       "    </tr>\n",
       "    <tr>\n",
       "      <th>3</th>\n",
       "      <td>Gature</td>\n",
       "      <td>Emilie</td>\n",
       "    </tr>\n",
       "    <tr>\n",
       "      <th>4</th>\n",
       "      <td>De MontéCarlo</td>\n",
       "      <td>Coralie</td>\n",
       "    </tr>\n",
       "  </tbody>\n",
       "</table>\n",
       "</div>"
      ],
      "text/plain": [
       "             Nom    Prénom\n",
       "0        Bonbeur      Jean\n",
       "1        Hèresse    Mégane\n",
       "2           Noix  Stéphane\n",
       "3         Gature    Emilie\n",
       "4  De MontéCarlo   Coralie"
      ]
     },
     "execution_count": 15,
     "metadata": {},
     "output_type": "execute_result"
    }
   ],
   "source": [
    "tb1.head()"
   ]
  },
  {
   "cell_type": "code",
   "execution_count": 16,
   "id": "2913cba3",
   "metadata": {},
   "outputs": [],
   "source": [
    "tb2 = pd.read_excel(\n",
    "    'data/Compare.xlsx', \n",
    "    sheet_name='Feuil2',\n",
    "    )"
   ]
  },
  {
   "cell_type": "code",
   "execution_count": 9,
   "id": "48fc200f",
   "metadata": {},
   "outputs": [
    {
     "data": {
      "application/vnd.microsoft.datawrangler.viewer.v0+json": {
       "columns": [
        {
         "name": "index",
         "rawType": "int64",
         "type": "integer"
        },
        {
         "name": "Nom.1",
         "rawType": "object",
         "type": "string"
        },
        {
         "name": "Prénom.1",
         "rawType": "object",
         "type": "string"
        }
       ],
       "conversionMethod": "pd.DataFrame",
       "ref": "615066ad-e9c4-4f4c-bdb9-643a7f67de4e",
       "rows": [
        [
         "0",
         "Bonbeur",
         "Jean"
        ],
        [
         "1",
         "Hèresse",
         "Mégane"
        ],
        [
         "2",
         "Noix",
         "Stéphane"
        ],
        [
         "3",
         "Gature",
         "Emilie"
        ],
        [
         "4",
         "De MontéCarlo",
         "Coralie"
        ]
       ],
       "shape": {
        "columns": 2,
        "rows": 5
       }
      },
      "text/html": [
       "<div>\n",
       "<style scoped>\n",
       "    .dataframe tbody tr th:only-of-type {\n",
       "        vertical-align: middle;\n",
       "    }\n",
       "\n",
       "    .dataframe tbody tr th {\n",
       "        vertical-align: top;\n",
       "    }\n",
       "\n",
       "    .dataframe thead th {\n",
       "        text-align: right;\n",
       "    }\n",
       "</style>\n",
       "<table border=\"1\" class=\"dataframe\">\n",
       "  <thead>\n",
       "    <tr style=\"text-align: right;\">\n",
       "      <th></th>\n",
       "      <th>Nom.1</th>\n",
       "      <th>Prénom.1</th>\n",
       "    </tr>\n",
       "  </thead>\n",
       "  <tbody>\n",
       "    <tr>\n",
       "      <th>0</th>\n",
       "      <td>Bonbeur</td>\n",
       "      <td>Jean</td>\n",
       "    </tr>\n",
       "    <tr>\n",
       "      <th>1</th>\n",
       "      <td>Hèresse</td>\n",
       "      <td>Mégane</td>\n",
       "    </tr>\n",
       "    <tr>\n",
       "      <th>2</th>\n",
       "      <td>Noix</td>\n",
       "      <td>Stéphane</td>\n",
       "    </tr>\n",
       "    <tr>\n",
       "      <th>3</th>\n",
       "      <td>Gature</td>\n",
       "      <td>Emilie</td>\n",
       "    </tr>\n",
       "    <tr>\n",
       "      <th>4</th>\n",
       "      <td>De MontéCarlo</td>\n",
       "      <td>Coralie</td>\n",
       "    </tr>\n",
       "  </tbody>\n",
       "</table>\n",
       "</div>"
      ],
      "text/plain": [
       "           Nom.1  Prénom.1\n",
       "0        Bonbeur      Jean\n",
       "1        Hèresse    Mégane\n",
       "2           Noix  Stéphane\n",
       "3         Gature    Emilie\n",
       "4  De MontéCarlo   Coralie"
      ]
     },
     "execution_count": 9,
     "metadata": {},
     "output_type": "execute_result"
    }
   ],
   "source": [
    "tb2.head()"
   ]
  },
  {
   "cell_type": "code",
   "execution_count": 17,
   "id": "243efbc9",
   "metadata": {},
   "outputs": [
    {
     "data": {
      "application/vnd.microsoft.datawrangler.viewer.v0+json": {
       "columns": [
        {
         "name": "index",
         "rawType": "int64",
         "type": "integer"
        },
        {
         "name": "('Nom', 'self')",
         "rawType": "object",
         "type": "string"
        },
        {
         "name": "('Nom', 'other')",
         "rawType": "object",
         "type": "string"
        },
        {
         "name": "('Prénom', 'self')",
         "rawType": "object",
         "type": "string"
        },
        {
         "name": "('Prénom', 'other')",
         "rawType": "object",
         "type": "string"
        }
       ],
       "conversionMethod": "pd.DataFrame",
       "ref": "6467ccf0-20ed-4a34-a569-06d5e04d43dc",
       "rows": [
        [
         "6",
         "Sansasse",
         "ocerosse",
         "Lionel",
         "severine"
        ],
        [
         "7",
         "Thine",
         "louya",
         "Nikos",
         "ali"
        ],
        [
         "8",
         "Solo",
         "Douche",
         "Yohan",
         "Raël"
        ],
        [
         "9",
         "Jet",
         "Sarbaque",
         "Claire",
         "Anne"
        ],
        [
         "10",
         "Braltar",
         "Lile",
         "Giles",
         "Maurice"
        ],
        [
         "11",
         "Douche",
         "Doeuf",
         "Raël",
         "John"
        ],
        [
         "12",
         "Sarbaque",
         "Niomme",
         "Anne",
         "Gérard"
        ],
        [
         "13",
         "Lile",
         "feuille",
         "Maurice",
         "emille"
        ],
        [
         "14",
         "Doeuf",
         "fortune",
         "John",
         "alain"
        ],
        [
         "15",
         "Niomme",
         "Solo",
         "Gérard",
         "Yohan"
        ],
        [
         "16",
         "Honnête",
         "Jet",
         "Camille",
         "Claire"
        ],
        [
         "17",
         "Tomette",
         "Braltar",
         "Jerry",
         "Giles"
        ]
       ],
       "shape": {
        "columns": 4,
        "rows": 12
       }
      },
      "text/html": [
       "<div>\n",
       "<style scoped>\n",
       "    .dataframe tbody tr th:only-of-type {\n",
       "        vertical-align: middle;\n",
       "    }\n",
       "\n",
       "    .dataframe tbody tr th {\n",
       "        vertical-align: top;\n",
       "    }\n",
       "\n",
       "    .dataframe thead tr th {\n",
       "        text-align: left;\n",
       "    }\n",
       "</style>\n",
       "<table border=\"1\" class=\"dataframe\">\n",
       "  <thead>\n",
       "    <tr>\n",
       "      <th></th>\n",
       "      <th colspan=\"2\" halign=\"left\">Nom</th>\n",
       "      <th colspan=\"2\" halign=\"left\">Prénom</th>\n",
       "    </tr>\n",
       "    <tr>\n",
       "      <th></th>\n",
       "      <th>self</th>\n",
       "      <th>other</th>\n",
       "      <th>self</th>\n",
       "      <th>other</th>\n",
       "    </tr>\n",
       "  </thead>\n",
       "  <tbody>\n",
       "    <tr>\n",
       "      <th>6</th>\n",
       "      <td>Sansasse</td>\n",
       "      <td>ocerosse</td>\n",
       "      <td>Lionel</td>\n",
       "      <td>severine</td>\n",
       "    </tr>\n",
       "    <tr>\n",
       "      <th>7</th>\n",
       "      <td>Thine</td>\n",
       "      <td>louya</td>\n",
       "      <td>Nikos</td>\n",
       "      <td>ali</td>\n",
       "    </tr>\n",
       "    <tr>\n",
       "      <th>8</th>\n",
       "      <td>Solo</td>\n",
       "      <td>Douche</td>\n",
       "      <td>Yohan</td>\n",
       "      <td>Raël</td>\n",
       "    </tr>\n",
       "    <tr>\n",
       "      <th>9</th>\n",
       "      <td>Jet</td>\n",
       "      <td>Sarbaque</td>\n",
       "      <td>Claire</td>\n",
       "      <td>Anne</td>\n",
       "    </tr>\n",
       "    <tr>\n",
       "      <th>10</th>\n",
       "      <td>Braltar</td>\n",
       "      <td>Lile</td>\n",
       "      <td>Giles</td>\n",
       "      <td>Maurice</td>\n",
       "    </tr>\n",
       "    <tr>\n",
       "      <th>11</th>\n",
       "      <td>Douche</td>\n",
       "      <td>Doeuf</td>\n",
       "      <td>Raël</td>\n",
       "      <td>John</td>\n",
       "    </tr>\n",
       "    <tr>\n",
       "      <th>12</th>\n",
       "      <td>Sarbaque</td>\n",
       "      <td>Niomme</td>\n",
       "      <td>Anne</td>\n",
       "      <td>Gérard</td>\n",
       "    </tr>\n",
       "    <tr>\n",
       "      <th>13</th>\n",
       "      <td>Lile</td>\n",
       "      <td>feuille</td>\n",
       "      <td>Maurice</td>\n",
       "      <td>emille</td>\n",
       "    </tr>\n",
       "    <tr>\n",
       "      <th>14</th>\n",
       "      <td>Doeuf</td>\n",
       "      <td>fortune</td>\n",
       "      <td>John</td>\n",
       "      <td>alain</td>\n",
       "    </tr>\n",
       "    <tr>\n",
       "      <th>15</th>\n",
       "      <td>Niomme</td>\n",
       "      <td>Solo</td>\n",
       "      <td>Gérard</td>\n",
       "      <td>Yohan</td>\n",
       "    </tr>\n",
       "    <tr>\n",
       "      <th>16</th>\n",
       "      <td>Honnête</td>\n",
       "      <td>Jet</td>\n",
       "      <td>Camille</td>\n",
       "      <td>Claire</td>\n",
       "    </tr>\n",
       "    <tr>\n",
       "      <th>17</th>\n",
       "      <td>Tomette</td>\n",
       "      <td>Braltar</td>\n",
       "      <td>Jerry</td>\n",
       "      <td>Giles</td>\n",
       "    </tr>\n",
       "  </tbody>\n",
       "</table>\n",
       "</div>"
      ],
      "text/plain": [
       "         Nom             Prénom          \n",
       "        self     other     self     other\n",
       "6   Sansasse  ocerosse   Lionel  severine\n",
       "7      Thine     louya    Nikos       ali\n",
       "8       Solo    Douche    Yohan      Raël\n",
       "9        Jet  Sarbaque   Claire      Anne\n",
       "10   Braltar      Lile    Giles   Maurice\n",
       "11    Douche     Doeuf     Raël      John\n",
       "12  Sarbaque    Niomme     Anne    Gérard\n",
       "13      Lile   feuille  Maurice    emille\n",
       "14     Doeuf   fortune     John     alain\n",
       "15    Niomme      Solo   Gérard     Yohan\n",
       "16   Honnête       Jet  Camille    Claire\n",
       "17   Tomette   Braltar    Jerry     Giles"
      ]
     },
     "execution_count": 17,
     "metadata": {},
     "output_type": "execute_result"
    }
   ],
   "source": [
    "tb1.compare(tb2)"
   ]
  }
 ],
 "metadata": {
  "kernelspec": {
   "display_name": "Python 3",
   "language": "python",
   "name": "python3"
  },
  "language_info": {
   "codemirror_mode": {
    "name": "ipython",
    "version": 3
   },
   "file_extension": ".py",
   "mimetype": "text/x-python",
   "name": "python",
   "nbconvert_exporter": "python",
   "pygments_lexer": "ipython3",
   "version": "3.12.5"
  }
 },
 "nbformat": 4,
 "nbformat_minor": 5
}
