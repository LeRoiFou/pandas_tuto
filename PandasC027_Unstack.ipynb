{
 "cells": [
  {
   "cell_type": "markdown",
   "id": "8f69a2d7",
   "metadata": {},
   "source": [
    "[Regrouper les données dissociées par formule Python dans Excel](https://www.youtube.com/watch?v=zTf097gSKzc&list=PLpQBnWleLAauKmgcdndmEr81iIIoW9_Wi&index=32)\n",
    "\n",
    "Date : 26/06/2025"
   ]
  },
  {
   "cell_type": "code",
   "execution_count": 1,
   "id": "bc62d9d7",
   "metadata": {},
   "outputs": [],
   "source": [
    "import pandas as pd"
   ]
  },
  {
   "cell_type": "code",
   "execution_count": 3,
   "id": "63e5fa5b",
   "metadata": {},
   "outputs": [
    {
     "data": {
      "application/vnd.microsoft.datawrangler.viewer.v0+json": {
       "columns": [
        {
         "name": "index",
         "rawType": "int64",
         "type": "integer"
        },
        {
         "name": "Ville",
         "rawType": "object",
         "type": "string"
        },
        {
         "name": "Mois",
         "rawType": "object",
         "type": "string"
        },
        {
         "name": "Valeur",
         "rawType": "int64",
         "type": "integer"
        }
       ],
       "ref": "5a696949-b3b3-4efa-98c0-d68e944ce74d",
       "rows": [
        [
         "0",
         "Paris",
         "Juin",
         "66150"
        ],
        [
         "1",
         "Paris",
         "Juillet",
         "127575"
        ],
        [
         "2",
         "Paris",
         "Août",
         "46550"
        ],
        [
         "3",
         "Paris",
         "Septembre",
         "25780"
        ],
        [
         "4",
         "Paris",
         "Octobre",
         "23380"
        ]
       ],
       "shape": {
        "columns": 3,
        "rows": 5
       }
      },
      "text/html": [
       "<div>\n",
       "<style scoped>\n",
       "    .dataframe tbody tr th:only-of-type {\n",
       "        vertical-align: middle;\n",
       "    }\n",
       "\n",
       "    .dataframe tbody tr th {\n",
       "        vertical-align: top;\n",
       "    }\n",
       "\n",
       "    .dataframe thead th {\n",
       "        text-align: right;\n",
       "    }\n",
       "</style>\n",
       "<table border=\"1\" class=\"dataframe\">\n",
       "  <thead>\n",
       "    <tr style=\"text-align: right;\">\n",
       "      <th></th>\n",
       "      <th>Ville</th>\n",
       "      <th>Mois</th>\n",
       "      <th>Valeur</th>\n",
       "    </tr>\n",
       "  </thead>\n",
       "  <tbody>\n",
       "    <tr>\n",
       "      <th>0</th>\n",
       "      <td>Paris</td>\n",
       "      <td>Juin</td>\n",
       "      <td>66150</td>\n",
       "    </tr>\n",
       "    <tr>\n",
       "      <th>1</th>\n",
       "      <td>Paris</td>\n",
       "      <td>Juillet</td>\n",
       "      <td>127575</td>\n",
       "    </tr>\n",
       "    <tr>\n",
       "      <th>2</th>\n",
       "      <td>Paris</td>\n",
       "      <td>Août</td>\n",
       "      <td>46550</td>\n",
       "    </tr>\n",
       "    <tr>\n",
       "      <th>3</th>\n",
       "      <td>Paris</td>\n",
       "      <td>Septembre</td>\n",
       "      <td>25780</td>\n",
       "    </tr>\n",
       "    <tr>\n",
       "      <th>4</th>\n",
       "      <td>Paris</td>\n",
       "      <td>Octobre</td>\n",
       "      <td>23380</td>\n",
       "    </tr>\n",
       "  </tbody>\n",
       "</table>\n",
       "</div>"
      ],
      "text/plain": [
       "   Ville       Mois  Valeur\n",
       "0  Paris       Juin   66150\n",
       "1  Paris    Juillet  127575\n",
       "2  Paris       Août   46550\n",
       "3  Paris  Septembre   25780\n",
       "4  Paris    Octobre   23380"
      ]
     },
     "execution_count": 3,
     "metadata": {},
     "output_type": "execute_result"
    }
   ],
   "source": [
    "tabR = pd.read_excel('data/Unstack.xlsx', sheet_name='Feuil1')\n",
    "tabR.head()"
   ]
  },
  {
   "cell_type": "code",
   "execution_count": 8,
   "id": "b183268f",
   "metadata": {},
   "outputs": [
    {
     "data": {
      "application/vnd.microsoft.datawrangler.viewer.v0+json": {
       "columns": [
        {
         "name": "index",
         "rawType": "int64",
         "type": "integer"
        },
        {
         "name": "('Ville', '')",
         "rawType": "object",
         "type": "string"
        },
        {
         "name": "('Valeur', 'Août')",
         "rawType": "int64",
         "type": "integer"
        },
        {
         "name": "('Valeur', 'Décembre')",
         "rawType": "int64",
         "type": "integer"
        },
        {
         "name": "('Valeur', 'Juillet')",
         "rawType": "int64",
         "type": "integer"
        },
        {
         "name": "('Valeur', 'Juin')",
         "rawType": "int64",
         "type": "integer"
        },
        {
         "name": "('Valeur', 'Novembre')",
         "rawType": "int64",
         "type": "integer"
        },
        {
         "name": "('Valeur', 'Octobre')",
         "rawType": "int64",
         "type": "integer"
        },
        {
         "name": "('Valeur', 'Septembre')",
         "rawType": "int64",
         "type": "integer"
        }
       ],
       "ref": "e8aa4e65-b90e-4b2a-b7d9-736edf8520fb",
       "rows": [
        [
         "0",
         "Berlin",
         "30090",
         "28761",
         "5400",
         "20400",
         "16913",
         "19892",
         "20731"
        ],
        [
         "1",
         "Londres",
         "56760",
         "29548",
         "41280",
         "21250",
         "18053",
         "16262",
         "27340"
        ],
        [
         "2",
         "Madrid",
         "73255",
         "16355",
         "20375",
         "5705",
         "22062",
         "23284",
         "26445"
        ],
        [
         "3",
         "Paris",
         "46550",
         "27996",
         "127575",
         "66150",
         "25956",
         "23380",
         "25780"
        ]
       ],
       "shape": {
        "columns": 8,
        "rows": 4
       }
      },
      "text/html": [
       "<div>\n",
       "<style scoped>\n",
       "    .dataframe tbody tr th:only-of-type {\n",
       "        vertical-align: middle;\n",
       "    }\n",
       "\n",
       "    .dataframe tbody tr th {\n",
       "        vertical-align: top;\n",
       "    }\n",
       "\n",
       "    .dataframe thead tr th {\n",
       "        text-align: left;\n",
       "    }\n",
       "</style>\n",
       "<table border=\"1\" class=\"dataframe\">\n",
       "  <thead>\n",
       "    <tr>\n",
       "      <th></th>\n",
       "      <th>Ville</th>\n",
       "      <th colspan=\"7\" halign=\"left\">Valeur</th>\n",
       "    </tr>\n",
       "    <tr>\n",
       "      <th>Mois</th>\n",
       "      <th></th>\n",
       "      <th>Août</th>\n",
       "      <th>Décembre</th>\n",
       "      <th>Juillet</th>\n",
       "      <th>Juin</th>\n",
       "      <th>Novembre</th>\n",
       "      <th>Octobre</th>\n",
       "      <th>Septembre</th>\n",
       "    </tr>\n",
       "  </thead>\n",
       "  <tbody>\n",
       "    <tr>\n",
       "      <th>0</th>\n",
       "      <td>Berlin</td>\n",
       "      <td>30090</td>\n",
       "      <td>28761</td>\n",
       "      <td>5400</td>\n",
       "      <td>20400</td>\n",
       "      <td>16913</td>\n",
       "      <td>19892</td>\n",
       "      <td>20731</td>\n",
       "    </tr>\n",
       "    <tr>\n",
       "      <th>1</th>\n",
       "      <td>Londres</td>\n",
       "      <td>56760</td>\n",
       "      <td>29548</td>\n",
       "      <td>41280</td>\n",
       "      <td>21250</td>\n",
       "      <td>18053</td>\n",
       "      <td>16262</td>\n",
       "      <td>27340</td>\n",
       "    </tr>\n",
       "    <tr>\n",
       "      <th>2</th>\n",
       "      <td>Madrid</td>\n",
       "      <td>73255</td>\n",
       "      <td>16355</td>\n",
       "      <td>20375</td>\n",
       "      <td>5705</td>\n",
       "      <td>22062</td>\n",
       "      <td>23284</td>\n",
       "      <td>26445</td>\n",
       "    </tr>\n",
       "    <tr>\n",
       "      <th>3</th>\n",
       "      <td>Paris</td>\n",
       "      <td>46550</td>\n",
       "      <td>27996</td>\n",
       "      <td>127575</td>\n",
       "      <td>66150</td>\n",
       "      <td>25956</td>\n",
       "      <td>23380</td>\n",
       "      <td>25780</td>\n",
       "    </tr>\n",
       "  </tbody>\n",
       "</table>\n",
       "</div>"
      ],
      "text/plain": [
       "        Ville Valeur                                                   \n",
       "Mois            Août Décembre Juillet   Juin Novembre Octobre Septembre\n",
       "0      Berlin  30090    28761    5400  20400    16913   19892     20731\n",
       "1     Londres  56760    29548   41280  21250    18053   16262     27340\n",
       "2      Madrid  73255    16355   20375   5705    22062   23284     26445\n",
       "3       Paris  46550    27996  127575  66150    25956   23380     25780"
      ]
     },
     "execution_count": 8,
     "metadata": {},
     "output_type": "execute_result"
    }
   ],
   "source": [
    "tabO = tabR.set_index(['Ville', 'Mois']).unstack().reset_index()\n",
    "tabO"
   ]
  },
  {
   "cell_type": "markdown",
   "id": "e777670e",
   "metadata": {},
   "source": [
    "Modification des titres des colonnes"
   ]
  },
  {
   "cell_type": "code",
   "execution_count": 9,
   "id": "23922521",
   "metadata": {},
   "outputs": [
    {
     "data": {
      "application/vnd.microsoft.datawrangler.viewer.v0+json": {
       "columns": [
        {
         "name": "index",
         "rawType": "int64",
         "type": "integer"
        },
        {
         "name": "Ville",
         "rawType": "object",
         "type": "string"
        },
        {
         "name": "Août",
         "rawType": "int64",
         "type": "integer"
        },
        {
         "name": "Décembre",
         "rawType": "int64",
         "type": "integer"
        },
        {
         "name": "Juillet",
         "rawType": "int64",
         "type": "integer"
        },
        {
         "name": "Juin",
         "rawType": "int64",
         "type": "integer"
        },
        {
         "name": "Novembre",
         "rawType": "int64",
         "type": "integer"
        },
        {
         "name": "Octobre",
         "rawType": "int64",
         "type": "integer"
        },
        {
         "name": "Septembre",
         "rawType": "int64",
         "type": "integer"
        }
       ],
       "ref": "4d68a7c7-fcac-4f5a-b44d-90def14bb175",
       "rows": [
        [
         "0",
         "Berlin",
         "30090",
         "28761",
         "5400",
         "20400",
         "16913",
         "19892",
         "20731"
        ],
        [
         "1",
         "Londres",
         "56760",
         "29548",
         "41280",
         "21250",
         "18053",
         "16262",
         "27340"
        ],
        [
         "2",
         "Madrid",
         "73255",
         "16355",
         "20375",
         "5705",
         "22062",
         "23284",
         "26445"
        ],
        [
         "3",
         "Paris",
         "46550",
         "27996",
         "127575",
         "66150",
         "25956",
         "23380",
         "25780"
        ]
       ],
       "shape": {
        "columns": 8,
        "rows": 4
       }
      },
      "text/html": [
       "<div>\n",
       "<style scoped>\n",
       "    .dataframe tbody tr th:only-of-type {\n",
       "        vertical-align: middle;\n",
       "    }\n",
       "\n",
       "    .dataframe tbody tr th {\n",
       "        vertical-align: top;\n",
       "    }\n",
       "\n",
       "    .dataframe thead th {\n",
       "        text-align: right;\n",
       "    }\n",
       "</style>\n",
       "<table border=\"1\" class=\"dataframe\">\n",
       "  <thead>\n",
       "    <tr style=\"text-align: right;\">\n",
       "      <th></th>\n",
       "      <th>Ville</th>\n",
       "      <th>Août</th>\n",
       "      <th>Décembre</th>\n",
       "      <th>Juillet</th>\n",
       "      <th>Juin</th>\n",
       "      <th>Novembre</th>\n",
       "      <th>Octobre</th>\n",
       "      <th>Septembre</th>\n",
       "    </tr>\n",
       "  </thead>\n",
       "  <tbody>\n",
       "    <tr>\n",
       "      <th>0</th>\n",
       "      <td>Berlin</td>\n",
       "      <td>30090</td>\n",
       "      <td>28761</td>\n",
       "      <td>5400</td>\n",
       "      <td>20400</td>\n",
       "      <td>16913</td>\n",
       "      <td>19892</td>\n",
       "      <td>20731</td>\n",
       "    </tr>\n",
       "    <tr>\n",
       "      <th>1</th>\n",
       "      <td>Londres</td>\n",
       "      <td>56760</td>\n",
       "      <td>29548</td>\n",
       "      <td>41280</td>\n",
       "      <td>21250</td>\n",
       "      <td>18053</td>\n",
       "      <td>16262</td>\n",
       "      <td>27340</td>\n",
       "    </tr>\n",
       "    <tr>\n",
       "      <th>2</th>\n",
       "      <td>Madrid</td>\n",
       "      <td>73255</td>\n",
       "      <td>16355</td>\n",
       "      <td>20375</td>\n",
       "      <td>5705</td>\n",
       "      <td>22062</td>\n",
       "      <td>23284</td>\n",
       "      <td>26445</td>\n",
       "    </tr>\n",
       "    <tr>\n",
       "      <th>3</th>\n",
       "      <td>Paris</td>\n",
       "      <td>46550</td>\n",
       "      <td>27996</td>\n",
       "      <td>127575</td>\n",
       "      <td>66150</td>\n",
       "      <td>25956</td>\n",
       "      <td>23380</td>\n",
       "      <td>25780</td>\n",
       "    </tr>\n",
       "  </tbody>\n",
       "</table>\n",
       "</div>"
      ],
      "text/plain": [
       "     Ville   Août  Décembre  Juillet   Juin  Novembre  Octobre  Septembre\n",
       "0   Berlin  30090     28761     5400  20400     16913    19892      20731\n",
       "1  Londres  56760     29548    41280  21250     18053    16262      27340\n",
       "2   Madrid  73255     16355    20375   5705     22062    23284      26445\n",
       "3    Paris  46550     27996   127575  66150     25956    23380      25780"
      ]
     },
     "execution_count": 9,
     "metadata": {},
     "output_type": "execute_result"
    }
   ],
   "source": [
    "tabO.columns=['Ville'] + [col[1] for col in tabO.columns[1::]]\n",
    "tabO"
   ]
  }
 ],
 "metadata": {
  "kernelspec": {
   "display_name": "Python 3",
   "language": "python",
   "name": "python3"
  },
  "language_info": {
   "codemirror_mode": {
    "name": "ipython",
    "version": 3
   },
   "file_extension": ".py",
   "mimetype": "text/x-python",
   "name": "python",
   "nbconvert_exporter": "python",
   "pygments_lexer": "ipython3",
   "version": "3.12.5"
  }
 },
 "nbformat": 4,
 "nbformat_minor": 5
}
