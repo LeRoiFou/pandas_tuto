{
 "cells": [
  {
   "cell_type": "markdown",
   "id": "7938420c",
   "metadata": {},
   "source": [
    "[Extractions par exclusions avec une formule Python dans Excel](https://www.youtube.com/watch?v=ucKD-K1N2C4&list=PLpQBnWleLAauKmgcdndmEr81iIIoW9_Wi&index=24)\n",
    "\n",
    "Date : 10/06/2025"
   ]
  },
  {
   "cell_type": "code",
   "execution_count": 1,
   "id": "74ea4984",
   "metadata": {},
   "outputs": [],
   "source": [
    "import pandas as pd"
   ]
  },
  {
   "cell_type": "code",
   "execution_count": 5,
   "id": "64a64c12",
   "metadata": {},
   "outputs": [
    {
     "data": {
      "application/vnd.microsoft.datawrangler.viewer.v0+json": {
       "columns": [
        {
         "name": "index",
         "rawType": "object",
         "type": "string"
        },
        {
         "name": "0",
         "rawType": "object",
         "type": "unknown"
        },
        {
         "name": "1",
         "rawType": "object",
         "type": "unknown"
        },
        {
         "name": "2",
         "rawType": "object",
         "type": "unknown"
        },
        {
         "name": "3",
         "rawType": "object",
         "type": "unknown"
        },
        {
         "name": "4",
         "rawType": "object",
         "type": "unknown"
        }
       ],
       "ref": "d7ca5c33-af15-4c70-a104-0a41a4e0f5cd",
       "rows": [
        [
         "Identifiant",
         "1",
         "2",
         "3",
         "4",
         "5"
        ],
        [
         "Nom",
         "Noix",
         "Océrosse",
         "Onète",
         "Orange",
         "Remor"
        ],
        [
         "Prénom",
         "Stéphane",
         "Séverine",
         "Marie",
         "Jude",
         "Yves"
        ],
        [
         "Civilité",
         "Monsieur",
         "Madame",
         "Madame",
         "Monsieur",
         "Monsieur"
        ],
        [
         "Salaire",
         "3010",
         "3299",
         "4109",
         "4181",
         "4160"
        ],
        [
         "Ville",
         "Montélimar",
         "Toulon",
         "Perpignan",
         "Bordeaux",
         "Nantes"
        ]
       ],
       "shape": {
        "columns": 5,
        "rows": 6
       }
      },
      "text/html": [
       "<div>\n",
       "<style scoped>\n",
       "    .dataframe tbody tr th:only-of-type {\n",
       "        vertical-align: middle;\n",
       "    }\n",
       "\n",
       "    .dataframe tbody tr th {\n",
       "        vertical-align: top;\n",
       "    }\n",
       "\n",
       "    .dataframe thead th {\n",
       "        text-align: right;\n",
       "    }\n",
       "</style>\n",
       "<table border=\"1\" class=\"dataframe\">\n",
       "  <thead>\n",
       "    <tr style=\"text-align: right;\">\n",
       "      <th></th>\n",
       "      <th>0</th>\n",
       "      <th>1</th>\n",
       "      <th>2</th>\n",
       "      <th>3</th>\n",
       "      <th>4</th>\n",
       "    </tr>\n",
       "  </thead>\n",
       "  <tbody>\n",
       "    <tr>\n",
       "      <th>Identifiant</th>\n",
       "      <td>1</td>\n",
       "      <td>2</td>\n",
       "      <td>3</td>\n",
       "      <td>4</td>\n",
       "      <td>5</td>\n",
       "    </tr>\n",
       "    <tr>\n",
       "      <th>Nom</th>\n",
       "      <td>Noix</td>\n",
       "      <td>Océrosse</td>\n",
       "      <td>Onète</td>\n",
       "      <td>Orange</td>\n",
       "      <td>Remor</td>\n",
       "    </tr>\n",
       "    <tr>\n",
       "      <th>Prénom</th>\n",
       "      <td>Stéphane</td>\n",
       "      <td>Séverine</td>\n",
       "      <td>Marie</td>\n",
       "      <td>Jude</td>\n",
       "      <td>Yves</td>\n",
       "    </tr>\n",
       "    <tr>\n",
       "      <th>Civilité</th>\n",
       "      <td>Monsieur</td>\n",
       "      <td>Madame</td>\n",
       "      <td>Madame</td>\n",
       "      <td>Monsieur</td>\n",
       "      <td>Monsieur</td>\n",
       "    </tr>\n",
       "    <tr>\n",
       "      <th>Salaire</th>\n",
       "      <td>3010</td>\n",
       "      <td>3299</td>\n",
       "      <td>4109</td>\n",
       "      <td>4181</td>\n",
       "      <td>4160</td>\n",
       "    </tr>\n",
       "    <tr>\n",
       "      <th>Ville</th>\n",
       "      <td>Montélimar</td>\n",
       "      <td>Toulon</td>\n",
       "      <td>Perpignan</td>\n",
       "      <td>Bordeaux</td>\n",
       "      <td>Nantes</td>\n",
       "    </tr>\n",
       "  </tbody>\n",
       "</table>\n",
       "</div>"
      ],
      "text/plain": [
       "                      0         1          2         3         4\n",
       "Identifiant           1         2          3         4         5\n",
       "Nom                Noix  Océrosse      Onète    Orange     Remor\n",
       "Prénom         Stéphane  Séverine      Marie      Jude      Yves\n",
       "Civilité       Monsieur    Madame     Madame  Monsieur  Monsieur\n",
       "Salaire            3010      3299       4109      4181      4160\n",
       "Ville        Montélimar    Toulon  Perpignan  Bordeaux    Nantes"
      ]
     },
     "execution_count": 5,
     "metadata": {},
     "output_type": "execute_result"
    }
   ],
   "source": [
    "tb = pd.read_excel('data/Mask.xlsx', sheet_name='Feuil1')\n",
    "tb.head().transpose()"
   ]
  },
  {
   "cell_type": "markdown",
   "id": "170afcc1",
   "metadata": {},
   "source": [
    "Critères des employés à exclure"
   ]
  },
  {
   "cell_type": "code",
   "execution_count": 6,
   "id": "bb309551",
   "metadata": {},
   "outputs": [],
   "source": [
    "cr1 = 2000\n",
    "cr2 = 2500\n",
    "cr3 = 'Monsieur'"
   ]
  },
  {
   "cell_type": "markdown",
   "id": "96a90c81",
   "metadata": {},
   "source": [
    "Liste des employées avec un salaire compris entre 2 000 € et 2 500 €"
   ]
  },
  {
   "cell_type": "code",
   "execution_count": 10,
   "id": "6812ccc8",
   "metadata": {},
   "outputs": [
    {
     "data": {
      "application/vnd.microsoft.datawrangler.viewer.v0+json": {
       "columns": [
        {
         "name": "index",
         "rawType": "object",
         "type": "string"
        },
        {
         "name": "0",
         "rawType": "object",
         "type": "unknown"
        },
        {
         "name": "1",
         "rawType": "object",
         "type": "unknown"
        },
        {
         "name": "2",
         "rawType": "object",
         "type": "unknown"
        }
       ],
       "ref": "efcf835b-f15a-4ebb-8ab4-6d857dc051a3",
       "rows": [
        [
         "Identifiant",
         "10.0",
         "9.0",
         "7.0"
        ],
        [
         "Nom",
         "Sille",
         "Sarbaque",
         "Rouana"
        ],
        [
         "Prénom",
         "Lucie",
         "Anne",
         "Marie"
        ],
        [
         "Civilité",
         "Madame",
         "Madame",
         "Madame"
        ],
        [
         "Salaire",
         "2136.0",
         "2211.0",
         "2380.0"
        ],
        [
         "Ville",
         "La Rochelle",
         "Marseille",
         "Clermont"
        ]
       ],
       "shape": {
        "columns": 3,
        "rows": 6
       }
      },
      "text/html": [
       "<div>\n",
       "<style scoped>\n",
       "    .dataframe tbody tr th:only-of-type {\n",
       "        vertical-align: middle;\n",
       "    }\n",
       "\n",
       "    .dataframe tbody tr th {\n",
       "        vertical-align: top;\n",
       "    }\n",
       "\n",
       "    .dataframe thead th {\n",
       "        text-align: right;\n",
       "    }\n",
       "</style>\n",
       "<table border=\"1\" class=\"dataframe\">\n",
       "  <thead>\n",
       "    <tr style=\"text-align: right;\">\n",
       "      <th></th>\n",
       "      <th>0</th>\n",
       "      <th>1</th>\n",
       "      <th>2</th>\n",
       "    </tr>\n",
       "  </thead>\n",
       "  <tbody>\n",
       "    <tr>\n",
       "      <th>Identifiant</th>\n",
       "      <td>10.0</td>\n",
       "      <td>9.0</td>\n",
       "      <td>7.0</td>\n",
       "    </tr>\n",
       "    <tr>\n",
       "      <th>Nom</th>\n",
       "      <td>Sille</td>\n",
       "      <td>Sarbaque</td>\n",
       "      <td>Rouana</td>\n",
       "    </tr>\n",
       "    <tr>\n",
       "      <th>Prénom</th>\n",
       "      <td>Lucie</td>\n",
       "      <td>Anne</td>\n",
       "      <td>Marie</td>\n",
       "    </tr>\n",
       "    <tr>\n",
       "      <th>Civilité</th>\n",
       "      <td>Madame</td>\n",
       "      <td>Madame</td>\n",
       "      <td>Madame</td>\n",
       "    </tr>\n",
       "    <tr>\n",
       "      <th>Salaire</th>\n",
       "      <td>2136.0</td>\n",
       "      <td>2211.0</td>\n",
       "      <td>2380.0</td>\n",
       "    </tr>\n",
       "    <tr>\n",
       "      <th>Ville</th>\n",
       "      <td>La Rochelle</td>\n",
       "      <td>Marseille</td>\n",
       "      <td>Clermont</td>\n",
       "    </tr>\n",
       "  </tbody>\n",
       "</table>\n",
       "</div>"
      ],
      "text/plain": [
       "                       0          1         2\n",
       "Identifiant         10.0        9.0       7.0\n",
       "Nom                Sille   Sarbaque    Rouana\n",
       "Prénom             Lucie       Anne     Marie\n",
       "Civilité          Madame     Madame    Madame\n",
       "Salaire           2136.0     2211.0    2380.0\n",
       "Ville        La Rochelle  Marseille  Clermont"
      ]
     },
     "execution_count": 10,
     "metadata": {},
     "output_type": "execute_result"
    }
   ],
   "source": [
    "tb.mask(\n",
    "    (tb['Salaire'] < cr1) |\n",
    "    (tb['Salaire'] > cr2) |\n",
    "    (tb['Civilité'] == cr3)\n",
    ").dropna().sort_values(by=['Salaire'], ascending=True\n",
    "                        ).reset_index(drop=True).transpose()"
   ]
  }
 ],
 "metadata": {
  "kernelspec": {
   "display_name": "Python 3",
   "language": "python",
   "name": "python3"
  },
  "language_info": {
   "codemirror_mode": {
    "name": "ipython",
    "version": 3
   },
   "file_extension": ".py",
   "mimetype": "text/x-python",
   "name": "python",
   "nbconvert_exporter": "python",
   "pygments_lexer": "ipython3",
   "version": "3.12.5"
  }
 },
 "nbformat": 4,
 "nbformat_minor": 5
}
