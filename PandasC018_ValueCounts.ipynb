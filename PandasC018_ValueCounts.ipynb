{
 "cells": [
  {
   "cell_type": "markdown",
   "id": "121bd51f",
   "metadata": {},
   "source": [
    "[Fréquences et répétitions par formules Python dans Excel](https://www.youtube.com/watch?v=WZHaOMPq9SE&list=PLpQBnWleLAauKmgcdndmEr81iIIoW9_Wi&index=23)\n",
    "\n",
    "Date : 05/06/2025"
   ]
  },
  {
   "cell_type": "code",
   "execution_count": 1,
   "id": "10943c1f",
   "metadata": {},
   "outputs": [],
   "source": [
    "import pandas as pd"
   ]
  },
  {
   "cell_type": "code",
   "execution_count": 2,
   "id": "fb73781b",
   "metadata": {},
   "outputs": [
    {
     "data": {
      "application/vnd.microsoft.datawrangler.viewer.v0+json": {
       "columns": [
        {
         "name": "index",
         "rawType": "object",
         "type": "string"
        },
        {
         "name": "0",
         "rawType": "object",
         "type": "unknown"
        },
        {
         "name": "1",
         "rawType": "object",
         "type": "unknown"
        },
        {
         "name": "2",
         "rawType": "object",
         "type": "unknown"
        },
        {
         "name": "3",
         "rawType": "object",
         "type": "unknown"
        },
        {
         "name": "4",
         "rawType": "object",
         "type": "unknown"
        }
       ],
       "ref": "e84f89d3-dd3a-4940-ab59-a0d8680a7920",
       "rows": [
        [
         "Id",
         "1175",
         "1196",
         "1205",
         "1203",
         "1197"
        ],
        [
         "Raison sociale",
         "Topfit",
         "Antibes Squash et Fitness Club",
         "LADY FITNESS ANTIBES",
         "FITLANE",
         "APHYSIA"
        ],
        [
         "Département",
         "06-Alpes Maritimes",
         "06-Alpes Maritimes",
         "06-Alpes Maritimes",
         "06-Alpes Maritimes",
         "06-Alpes Maritimes"
        ],
        [
         "Activité",
         "Clubs de forme",
         "Clubs de forme",
         "Clubs de forme",
         "Clubs de forme",
         "Clubs de forme"
        ],
        [
         "Ville",
         "Antibes juan les pins",
         "Antibes juan les pins",
         "Antibes juan les pins",
         "Mandelieu la napoule",
         "Nice"
        ]
       ],
       "shape": {
        "columns": 5,
        "rows": 5
       }
      },
      "text/html": [
       "<div>\n",
       "<style scoped>\n",
       "    .dataframe tbody tr th:only-of-type {\n",
       "        vertical-align: middle;\n",
       "    }\n",
       "\n",
       "    .dataframe tbody tr th {\n",
       "        vertical-align: top;\n",
       "    }\n",
       "\n",
       "    .dataframe thead th {\n",
       "        text-align: right;\n",
       "    }\n",
       "</style>\n",
       "<table border=\"1\" class=\"dataframe\">\n",
       "  <thead>\n",
       "    <tr style=\"text-align: right;\">\n",
       "      <th></th>\n",
       "      <th>0</th>\n",
       "      <th>1</th>\n",
       "      <th>2</th>\n",
       "      <th>3</th>\n",
       "      <th>4</th>\n",
       "    </tr>\n",
       "  </thead>\n",
       "  <tbody>\n",
       "    <tr>\n",
       "      <th>Id</th>\n",
       "      <td>1175</td>\n",
       "      <td>1196</td>\n",
       "      <td>1205</td>\n",
       "      <td>1203</td>\n",
       "      <td>1197</td>\n",
       "    </tr>\n",
       "    <tr>\n",
       "      <th>Raison sociale</th>\n",
       "      <td>Topfit</td>\n",
       "      <td>Antibes Squash et Fitness Club</td>\n",
       "      <td>LADY FITNESS ANTIBES</td>\n",
       "      <td>FITLANE</td>\n",
       "      <td>APHYSIA</td>\n",
       "    </tr>\n",
       "    <tr>\n",
       "      <th>Département</th>\n",
       "      <td>06-Alpes Maritimes</td>\n",
       "      <td>06-Alpes Maritimes</td>\n",
       "      <td>06-Alpes Maritimes</td>\n",
       "      <td>06-Alpes Maritimes</td>\n",
       "      <td>06-Alpes Maritimes</td>\n",
       "    </tr>\n",
       "    <tr>\n",
       "      <th>Activité</th>\n",
       "      <td>Clubs de forme</td>\n",
       "      <td>Clubs de forme</td>\n",
       "      <td>Clubs de forme</td>\n",
       "      <td>Clubs de forme</td>\n",
       "      <td>Clubs de forme</td>\n",
       "    </tr>\n",
       "    <tr>\n",
       "      <th>Ville</th>\n",
       "      <td>Antibes juan les pins</td>\n",
       "      <td>Antibes juan les pins</td>\n",
       "      <td>Antibes juan les pins</td>\n",
       "      <td>Mandelieu la napoule</td>\n",
       "      <td>Nice</td>\n",
       "    </tr>\n",
       "  </tbody>\n",
       "</table>\n",
       "</div>"
      ],
      "text/plain": [
       "                                    0                               1  \\\n",
       "Id                               1175                            1196   \n",
       "Raison sociale                 Topfit  Antibes Squash et Fitness Club   \n",
       "Département        06-Alpes Maritimes              06-Alpes Maritimes   \n",
       "Activité               Clubs de forme                  Clubs de forme   \n",
       "Ville           Antibes juan les pins           Antibes juan les pins   \n",
       "\n",
       "                                    2                     3  \\\n",
       "Id                               1205                  1203   \n",
       "Raison sociale   LADY FITNESS ANTIBES               FITLANE   \n",
       "Département        06-Alpes Maritimes    06-Alpes Maritimes   \n",
       "Activité               Clubs de forme        Clubs de forme   \n",
       "Ville           Antibes juan les pins  Mandelieu la napoule   \n",
       "\n",
       "                                 4  \n",
       "Id                            1197  \n",
       "Raison sociale             APHYSIA  \n",
       "Département     06-Alpes Maritimes  \n",
       "Activité            Clubs de forme  \n",
       "Ville                         Nice  "
      ]
     },
     "execution_count": 2,
     "metadata": {},
     "output_type": "execute_result"
    }
   ],
   "source": [
    "dv = pd.read_excel('data/ValueCounts.xlsx', sheet_name='Feuil1')\n",
    "dv.head().transpose()"
   ]
  },
  {
   "cell_type": "markdown",
   "id": "efe31085",
   "metadata": {},
   "source": [
    "Département le plus représenté"
   ]
  },
  {
   "cell_type": "code",
   "execution_count": 3,
   "id": "632b7f0e",
   "metadata": {},
   "outputs": [
    {
     "data": {
      "text/plain": [
       "'83-Var'"
      ]
     },
     "execution_count": 3,
     "metadata": {},
     "output_type": "execute_result"
    }
   ],
   "source": [
    "repD = dv['Département'].mode().item()\n",
    "repD"
   ]
  },
  {
   "cell_type": "markdown",
   "id": "8fcdebc2",
   "metadata": {},
   "source": [
    "Ville la plus représentée"
   ]
  },
  {
   "cell_type": "code",
   "execution_count": 4,
   "id": "7f82169a",
   "metadata": {},
   "outputs": [
    {
     "data": {
      "text/plain": [
       "'Grenoble'"
      ]
     },
     "execution_count": 4,
     "metadata": {},
     "output_type": "execute_result"
    }
   ],
   "source": [
    "repV = dv['Ville'].mode().item()\n",
    "repV"
   ]
  },
  {
   "cell_type": "markdown",
   "id": "b772e6ee",
   "metadata": {},
   "source": [
    "Nombre de fréquence du département le plus représenté"
   ]
  },
  {
   "cell_type": "code",
   "execution_count": 5,
   "id": "d4738b42",
   "metadata": {},
   "outputs": [
    {
     "data": {
      "text/plain": [
       "190"
      ]
     },
     "execution_count": 5,
     "metadata": {},
     "output_type": "execute_result"
    }
   ],
   "source": [
    "cptD = dv['Département'].value_counts()[repD]\n",
    "int(cptD)"
   ]
  },
  {
   "cell_type": "markdown",
   "id": "95e50133",
   "metadata": {},
   "source": [
    "Nombre de fréquences de la ville la plus représentée"
   ]
  },
  {
   "cell_type": "code",
   "execution_count": 6,
   "id": "1c6cbbde",
   "metadata": {},
   "outputs": [
    {
     "data": {
      "text/plain": [
       "31"
      ]
     },
     "execution_count": 6,
     "metadata": {},
     "output_type": "execute_result"
    }
   ],
   "source": [
    "cptV = dv['Ville'].value_counts()[repV]\n",
    "int(cptV)"
   ]
  },
  {
   "cell_type": "markdown",
   "id": "58385cc6",
   "metadata": {},
   "source": [
    "Combinaison départements et villes les plus représentés"
   ]
  },
  {
   "cell_type": "code",
   "execution_count": 8,
   "id": "ed19da4a",
   "metadata": {},
   "outputs": [
    {
     "data": {
      "application/vnd.microsoft.datawrangler.viewer.v0+json": {
       "columns": [
        {
         "name": "index",
         "rawType": "int64",
         "type": "integer"
        },
        {
         "name": "Département",
         "rawType": "object",
         "type": "string"
        },
        {
         "name": "Ville",
         "rawType": "object",
         "type": "string"
        },
        {
         "name": "count",
         "rawType": "int64",
         "type": "integer"
        }
       ],
       "ref": "b409134a-5137-4aed-b1a0-7e90cd2581d5",
       "rows": [
        [
         "0",
         "38-Isère",
         "Grenoble",
         "31"
        ],
        [
         "1",
         "26-Drome",
         "Valence",
         "28"
        ],
        [
         "2",
         "07-Ardèche",
         "Aubenas",
         "21"
        ],
        [
         "3",
         "07-Ardèche",
         "Annonay",
         "19"
        ],
        [
         "4",
         "69-Rhone",
         "Lyon 5eme",
         "18"
        ],
        [
         "5",
         "69-Rhone",
         "Lyon 6eme",
         "15"
        ],
        [
         "6",
         "69-Rhone",
         "Lyon 2eme",
         "15"
        ],
        [
         "7",
         "13-Bouches du Rhone",
         "Marseille",
         "14"
        ],
        [
         "8",
         "83-Var",
         "Hyeres les palmiers",
         "14"
        ],
        [
         "9",
         "84-Vaucluse",
         "Avignon",
         "14"
        ],
        [
         "10",
         "83-Var",
         "Sainte maxime",
         "14"
        ],
        [
         "11",
         "26-Drome",
         "Montelimar",
         "14"
        ],
        [
         "12",
         "06-Alpes Maritimes",
         "Valbonne",
         "14"
        ],
        [
         "13",
         "06-Alpes Maritimes",
         "Nice",
         "13"
        ],
        [
         "14",
         "69-Rhone",
         "Lyon 1er",
         "12"
        ],
        [
         "15",
         "69-Rhone",
         "Saint priest",
         "12"
        ],
        [
         "16",
         "83-Var",
         "Saint raphael",
         "12"
        ],
        [
         "17",
         "06-Alpes Maritimes",
         "Cannes",
         "12"
        ],
        [
         "18",
         "83-Var",
         "Les arcs",
         "11"
        ],
        [
         "19",
         "83-Var",
         "Toulon",
         "11"
        ],
        [
         "20",
         "83-Var",
         "Frejus",
         "10"
        ],
        [
         "21",
         "42-Loire",
         "Saint etienne",
         "9"
        ],
        [
         "22",
         "83-Var",
         "Saint tropez",
         "8"
        ],
        [
         "23",
         "69-Rhone",
         "Lyon 7eme",
         "7"
        ],
        [
         "24",
         "07-Ardèche",
         "Antraigues sur volane",
         "7"
        ],
        [
         "25",
         "38-Isère",
         "Alpe d'huez",
         "7"
        ],
        [
         "26",
         "38-Isère",
         "Les deux alpes",
         "7"
        ],
        [
         "27",
         "83-Var",
         "Le lavandou",
         "6"
        ],
        [
         "28",
         "26-Drome",
         "Romans",
         "6"
        ],
        [
         "29",
         "07-Ardèche",
         "Vals les bains",
         "6"
        ],
        [
         "30",
         "69-Rhone",
         "Sainte foy les lyon",
         "6"
        ],
        [
         "31",
         "83-Var",
         "Bandol",
         "6"
        ],
        [
         "32",
         "07-Ardèche",
         "Bourg saint andeol",
         "6"
        ],
        [
         "33",
         "31-Haute Garonne",
         "Toulouse",
         "6"
        ],
        [
         "34",
         "84-Vaucluse",
         "Orange",
         "6"
        ],
        [
         "35",
         "83-Var",
         "Le pradet",
         "5"
        ],
        [
         "36",
         "07-Ardèche",
         "Berrias et casteljau",
         "5"
        ],
        [
         "37",
         "83-Var",
         "Saint cyr sur mer",
         "5"
        ],
        [
         "38",
         "26-Drome",
         "Portes les valence",
         "5"
        ],
        [
         "39",
         "26-Drome",
         "Pierrelatte",
         "5"
        ],
        [
         "40",
         "26-Drome",
         "Alixan",
         "5"
        ],
        [
         "41",
         "69-Rhone",
         "Lyon 3eme",
         "5"
        ],
        [
         "42",
         "69-Rhone",
         "Villefranche sur saone",
         "5"
        ],
        [
         "43",
         "26-Drome",
         "Bourg les valence",
         "5"
        ],
        [
         "44",
         "83-Var",
         "La croix valmer",
         "5"
        ],
        [
         "45",
         "69-Rhone",
         "Lyon 8eme",
         "4"
        ],
        [
         "46",
         "38-Isère",
         "Villard de lans",
         "4"
        ],
        [
         "47",
         "83-Var",
         "La seyne sur mer",
         "4"
        ],
        [
         "48",
         "69-Rhone",
         "Sathonay camp",
         "4"
        ],
        [
         "49",
         "26-Drome",
         "Chateauneuf sur isere",
         "4"
        ]
       ],
       "shape": {
        "columns": 3,
        "rows": 405
       }
      },
      "text/html": [
       "<div>\n",
       "<style scoped>\n",
       "    .dataframe tbody tr th:only-of-type {\n",
       "        vertical-align: middle;\n",
       "    }\n",
       "\n",
       "    .dataframe tbody tr th {\n",
       "        vertical-align: top;\n",
       "    }\n",
       "\n",
       "    .dataframe thead th {\n",
       "        text-align: right;\n",
       "    }\n",
       "</style>\n",
       "<table border=\"1\" class=\"dataframe\">\n",
       "  <thead>\n",
       "    <tr style=\"text-align: right;\">\n",
       "      <th></th>\n",
       "      <th>Département</th>\n",
       "      <th>Ville</th>\n",
       "      <th>count</th>\n",
       "    </tr>\n",
       "  </thead>\n",
       "  <tbody>\n",
       "    <tr>\n",
       "      <th>0</th>\n",
       "      <td>38-Isère</td>\n",
       "      <td>Grenoble</td>\n",
       "      <td>31</td>\n",
       "    </tr>\n",
       "    <tr>\n",
       "      <th>1</th>\n",
       "      <td>26-Drome</td>\n",
       "      <td>Valence</td>\n",
       "      <td>28</td>\n",
       "    </tr>\n",
       "    <tr>\n",
       "      <th>2</th>\n",
       "      <td>07-Ardèche</td>\n",
       "      <td>Aubenas</td>\n",
       "      <td>21</td>\n",
       "    </tr>\n",
       "    <tr>\n",
       "      <th>3</th>\n",
       "      <td>07-Ardèche</td>\n",
       "      <td>Annonay</td>\n",
       "      <td>19</td>\n",
       "    </tr>\n",
       "    <tr>\n",
       "      <th>4</th>\n",
       "      <td>69-Rhone</td>\n",
       "      <td>Lyon 5eme</td>\n",
       "      <td>18</td>\n",
       "    </tr>\n",
       "    <tr>\n",
       "      <th>...</th>\n",
       "      <td>...</td>\n",
       "      <td>...</td>\n",
       "      <td>...</td>\n",
       "    </tr>\n",
       "    <tr>\n",
       "      <th>400</th>\n",
       "      <td>84-Vaucluse</td>\n",
       "      <td>Vedene</td>\n",
       "      <td>1</td>\n",
       "    </tr>\n",
       "    <tr>\n",
       "      <th>401</th>\n",
       "      <td>84-Vaucluse</td>\n",
       "      <td>Velleron</td>\n",
       "      <td>1</td>\n",
       "    </tr>\n",
       "    <tr>\n",
       "      <th>402</th>\n",
       "      <td>84-Vaucluse</td>\n",
       "      <td>Villeneuve les avignon</td>\n",
       "      <td>1</td>\n",
       "    </tr>\n",
       "    <tr>\n",
       "      <th>403</th>\n",
       "      <td>85-Vendée</td>\n",
       "      <td>La roche sur yon</td>\n",
       "      <td>1</td>\n",
       "    </tr>\n",
       "    <tr>\n",
       "      <th>404</th>\n",
       "      <td>87-Haute Vienne</td>\n",
       "      <td>Peyrat le chateau</td>\n",
       "      <td>1</td>\n",
       "    </tr>\n",
       "  </tbody>\n",
       "</table>\n",
       "<p>405 rows × 3 columns</p>\n",
       "</div>"
      ],
      "text/plain": [
       "         Département                   Ville  count\n",
       "0           38-Isère                Grenoble     31\n",
       "1           26-Drome                 Valence     28\n",
       "2         07-Ardèche                 Aubenas     21\n",
       "3         07-Ardèche                 Annonay     19\n",
       "4           69-Rhone               Lyon 5eme     18\n",
       "..               ...                     ...    ...\n",
       "400      84-Vaucluse                  Vedene      1\n",
       "401      84-Vaucluse                Velleron      1\n",
       "402      84-Vaucluse  Villeneuve les avignon      1\n",
       "403        85-Vendée        La roche sur yon      1\n",
       "404  87-Haute Vienne       Peyrat le chateau      1\n",
       "\n",
       "[405 rows x 3 columns]"
      ]
     },
     "execution_count": 8,
     "metadata": {},
     "output_type": "execute_result"
    }
   ],
   "source": [
    "dv.value_counts(subset=['Département', 'Ville']).reset_index()"
   ]
  }
 ],
 "metadata": {
  "kernelspec": {
   "display_name": "Python 3",
   "language": "python",
   "name": "python3"
  },
  "language_info": {
   "codemirror_mode": {
    "name": "ipython",
    "version": 3
   },
   "file_extension": ".py",
   "mimetype": "text/x-python",
   "name": "python",
   "nbconvert_exporter": "python",
   "pygments_lexer": "ipython3",
   "version": "3.12.5"
  }
 },
 "nbformat": 4,
 "nbformat_minor": 5
}
