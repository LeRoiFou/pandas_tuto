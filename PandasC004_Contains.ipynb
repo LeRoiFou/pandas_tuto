{
 "cells": [
  {
   "cell_type": "markdown",
   "id": "2ea7833b",
   "metadata": {},
   "source": [
    "# Contains()"
   ]
  },
  {
   "cell_type": "code",
   "execution_count": 1,
   "id": "8be0d856",
   "metadata": {},
   "outputs": [],
   "source": [
    "import pandas as pd\n",
    "from skimpy import skim"
   ]
  },
  {
   "cell_type": "code",
   "execution_count": 2,
   "id": "2e292864",
   "metadata": {},
   "outputs": [],
   "source": [
    "df = pd.read_excel('data/Contains.xlsx', sheet_name='Feuil1')"
   ]
  },
  {
   "cell_type": "code",
   "execution_count": 4,
   "id": "f49c344d",
   "metadata": {},
   "outputs": [
    {
     "data": {
      "application/vnd.microsoft.datawrangler.viewer.v0+json": {
       "columns": [
        {
         "name": "index",
         "rawType": "object",
         "type": "string"
        },
        {
         "name": "0",
         "rawType": "object",
         "type": "unknown"
        },
        {
         "name": "1",
         "rawType": "object",
         "type": "unknown"
        },
        {
         "name": "2",
         "rawType": "object",
         "type": "unknown"
        },
        {
         "name": "3",
         "rawType": "object",
         "type": "unknown"
        },
        {
         "name": "4",
         "rawType": "object",
         "type": "unknown"
        }
       ],
       "conversionMethod": "pd.DataFrame",
       "ref": "7c4ac126-9dcd-4911-b3ae-36ed087c6517",
       "rows": [
        [
         "ref",
         "3062PCN-40",
         "3062PCN-42",
         "3062PCN-44",
         "3062PCN-46",
         "3062VTN-38"
        ],
        [
         "nom",
         "Pantacourt GAEA Noir 40",
         "Pantacourt GAEA Noir 42",
         "Pantacourt GAEA Noir 44",
         "Pantacourt GAEA Noir 46",
         "Veste Lin Noir PSYCHE Noir 38"
        ],
        [
         "prix",
         "32.2",
         "31.4895",
         "31.4895",
         "31.4895",
         "37.695"
        ],
        [
         "poids",
         "350",
         "350",
         "350",
         "350",
         "350"
        ],
        [
         "vues",
         "2210",
         "2111",
         "1722",
         "2013",
         "2291"
        ],
        [
         "stock",
         "5",
         "4",
         "7",
         "14",
         "5"
        ],
        [
         "code",
         "1",
         "1",
         "1",
         "1",
         "1"
        ]
       ],
       "shape": {
        "columns": 5,
        "rows": 7
       }
      },
      "text/html": [
       "<div>\n",
       "<style scoped>\n",
       "    .dataframe tbody tr th:only-of-type {\n",
       "        vertical-align: middle;\n",
       "    }\n",
       "\n",
       "    .dataframe tbody tr th {\n",
       "        vertical-align: top;\n",
       "    }\n",
       "\n",
       "    .dataframe thead th {\n",
       "        text-align: right;\n",
       "    }\n",
       "</style>\n",
       "<table border=\"1\" class=\"dataframe\">\n",
       "  <thead>\n",
       "    <tr style=\"text-align: right;\">\n",
       "      <th></th>\n",
       "      <th>0</th>\n",
       "      <th>1</th>\n",
       "      <th>2</th>\n",
       "      <th>3</th>\n",
       "      <th>4</th>\n",
       "    </tr>\n",
       "  </thead>\n",
       "  <tbody>\n",
       "    <tr>\n",
       "      <th>ref</th>\n",
       "      <td>3062PCN-40</td>\n",
       "      <td>3062PCN-42</td>\n",
       "      <td>3062PCN-44</td>\n",
       "      <td>3062PCN-46</td>\n",
       "      <td>3062VTN-38</td>\n",
       "    </tr>\n",
       "    <tr>\n",
       "      <th>nom</th>\n",
       "      <td>Pantacourt GAEA Noir 40</td>\n",
       "      <td>Pantacourt GAEA Noir 42</td>\n",
       "      <td>Pantacourt GAEA Noir 44</td>\n",
       "      <td>Pantacourt GAEA Noir 46</td>\n",
       "      <td>Veste Lin Noir PSYCHE Noir 38</td>\n",
       "    </tr>\n",
       "    <tr>\n",
       "      <th>prix</th>\n",
       "      <td>32.2</td>\n",
       "      <td>31.4895</td>\n",
       "      <td>31.4895</td>\n",
       "      <td>31.4895</td>\n",
       "      <td>37.695</td>\n",
       "    </tr>\n",
       "    <tr>\n",
       "      <th>poids</th>\n",
       "      <td>350</td>\n",
       "      <td>350</td>\n",
       "      <td>350</td>\n",
       "      <td>350</td>\n",
       "      <td>350</td>\n",
       "    </tr>\n",
       "    <tr>\n",
       "      <th>vues</th>\n",
       "      <td>2210</td>\n",
       "      <td>2111</td>\n",
       "      <td>1722</td>\n",
       "      <td>2013</td>\n",
       "      <td>2291</td>\n",
       "    </tr>\n",
       "    <tr>\n",
       "      <th>stock</th>\n",
       "      <td>5</td>\n",
       "      <td>4</td>\n",
       "      <td>7</td>\n",
       "      <td>14</td>\n",
       "      <td>5</td>\n",
       "    </tr>\n",
       "    <tr>\n",
       "      <th>code</th>\n",
       "      <td>1</td>\n",
       "      <td>1</td>\n",
       "      <td>1</td>\n",
       "      <td>1</td>\n",
       "      <td>1</td>\n",
       "    </tr>\n",
       "  </tbody>\n",
       "</table>\n",
       "</div>"
      ],
      "text/plain": [
       "                             0                        1  \\\n",
       "ref                 3062PCN-40               3062PCN-42   \n",
       "nom    Pantacourt GAEA Noir 40  Pantacourt GAEA Noir 42   \n",
       "prix                      32.2                  31.4895   \n",
       "poids                      350                      350   \n",
       "vues                      2210                     2111   \n",
       "stock                        5                        4   \n",
       "code                         1                        1   \n",
       "\n",
       "                             2                        3  \\\n",
       "ref                 3062PCN-44               3062PCN-46   \n",
       "nom    Pantacourt GAEA Noir 44  Pantacourt GAEA Noir 46   \n",
       "prix                   31.4895                  31.4895   \n",
       "poids                      350                      350   \n",
       "vues                      1722                     2013   \n",
       "stock                        7                       14   \n",
       "code                         1                        1   \n",
       "\n",
       "                                   4  \n",
       "ref                       3062VTN-38  \n",
       "nom    Veste Lin Noir PSYCHE Noir 38  \n",
       "prix                          37.695  \n",
       "poids                            350  \n",
       "vues                            2291  \n",
       "stock                              5  \n",
       "code                               1  "
      ]
     },
     "execution_count": 4,
     "metadata": {},
     "output_type": "execute_result"
    }
   ],
   "source": [
    "df.head().transpose()"
   ]
  },
  {
   "cell_type": "code",
   "execution_count": 5,
   "id": "e0984e0f",
   "metadata": {},
   "outputs": [
    {
     "data": {
      "text/html": [
       "<pre style=\"white-space:pre;overflow-x:auto;line-height:normal;font-family:Menlo,'DejaVu Sans Mono',consolas,'Courier New',monospace\">╭──────────────────────────────────────────────── skimpy summary ─────────────────────────────────────────────────╮\n",
       "│ <span style=\"font-style: italic\">         Data Summary         </span> <span style=\"font-style: italic\">      Data Types       </span>                                                          │\n",
       "│ ┏━━━━━━━━━━━━━━━━━━━┳━━━━━━━━┓ ┏━━━━━━━━━━━━━┳━━━━━━━┓                                                          │\n",
       "│ ┃<span style=\"color: #008080; text-decoration-color: #008080; font-weight: bold\"> Dataframe         </span>┃<span style=\"color: #008080; text-decoration-color: #008080; font-weight: bold\"> Values </span>┃ ┃<span style=\"color: #008080; text-decoration-color: #008080; font-weight: bold\"> Column Type </span>┃<span style=\"color: #008080; text-decoration-color: #008080; font-weight: bold\"> Count </span>┃                                                          │\n",
       "│ ┡━━━━━━━━━━━━━━━━━━━╇━━━━━━━━┩ ┡━━━━━━━━━━━━━╇━━━━━━━┩                                                          │\n",
       "│ │ Number of rows    │ 244    │ │ int64       │ 4     │                                                          │\n",
       "│ │ Number of columns │ 7      │ │ string      │ 2     │                                                          │\n",
       "│ └───────────────────┴────────┘ │ float64     │ 1     │                                                          │\n",
       "│                                └─────────────┴───────┘                                                          │\n",
       "│ <span style=\"font-style: italic\">                                                    number                                                    </span>  │\n",
       "│ ┏━━━━━━━━━━━┳━━━━━━┳━━━━━━━━━┳━━━━━━━━━━┳━━━━━━━━━━┳━━━━━━━━┳━━━━━━━━━━┳━━━━━━━━┳━━━━━━━━┳━━━━━━━━━┳━━━━━━━━━┓  │\n",
       "│ ┃<span style=\"font-weight: bold\"> column    </span>┃<span style=\"font-weight: bold\"> NA   </span>┃<span style=\"font-weight: bold\"> NA %    </span>┃<span style=\"font-weight: bold\"> mean     </span>┃<span style=\"font-weight: bold\"> sd       </span>┃<span style=\"font-weight: bold\"> p0     </span>┃<span style=\"font-weight: bold\"> p25      </span>┃<span style=\"font-weight: bold\"> p50    </span>┃<span style=\"font-weight: bold\"> p75    </span>┃<span style=\"font-weight: bold\"> p100    </span>┃<span style=\"font-weight: bold\"> hist    </span>┃  │\n",
       "│ ┡━━━━━━━━━━━╇━━━━━━╇━━━━━━━━━╇━━━━━━━━━━╇━━━━━━━━━━╇━━━━━━━━╇━━━━━━━━━━╇━━━━━━━━╇━━━━━━━━╇━━━━━━━━━╇━━━━━━━━━┩  │\n",
       "│ │ <span style=\"color: #af87ff; text-decoration-color: #af87ff\">prix     </span> │ <span style=\"color: #008080; text-decoration-color: #008080\">   0</span> │ <span style=\"color: #008080; text-decoration-color: #008080\">      0</span> │ <span style=\"color: #008080; text-decoration-color: #008080\">   40.12</span> │ <span style=\"color: #008080; text-decoration-color: #008080\">   24.67</span> │ <span style=\"color: #008080; text-decoration-color: #008080\">  9.45</span> │ <span style=\"color: #008080; text-decoration-color: #008080\">   16.27</span> │ <span style=\"color: #008080; text-decoration-color: #008080\">  31.5</span> │ <span style=\"color: #008080; text-decoration-color: #008080\">  62.9</span> │ <span style=\"color: #008080; text-decoration-color: #008080\">  135.4</span> │ <span style=\"color: #008000; text-decoration-color: #008000\"> ▇▅▃▂  </span> │  │\n",
       "│ │ <span style=\"color: #af87ff; text-decoration-color: #af87ff\">poids    </span> │ <span style=\"color: #008080; text-decoration-color: #008080\">   0</span> │ <span style=\"color: #008080; text-decoration-color: #008080\">      0</span> │ <span style=\"color: #008080; text-decoration-color: #008080\">   439.1</span> │ <span style=\"color: #008080; text-decoration-color: #008080\">   248.4</span> │ <span style=\"color: #008080; text-decoration-color: #008080\">     0</span> │ <span style=\"color: #008080; text-decoration-color: #008080\">     300</span> │ <span style=\"color: #008080; text-decoration-color: #008080\">   350</span> │ <span style=\"color: #008080; text-decoration-color: #008080\">   500</span> │ <span style=\"color: #008080; text-decoration-color: #008080\">   1000</span> │ <span style=\"color: #008000; text-decoration-color: #008000\">▁▇▇▃ ▅ </span> │  │\n",
       "│ │ <span style=\"color: #af87ff; text-decoration-color: #af87ff\">vues     </span> │ <span style=\"color: #008080; text-decoration-color: #008080\">   0</span> │ <span style=\"color: #008080; text-decoration-color: #008080\">      0</span> │ <span style=\"color: #008080; text-decoration-color: #008080\">    3032</span> │ <span style=\"color: #008080; text-decoration-color: #008080\">    2800</span> │ <span style=\"color: #008080; text-decoration-color: #008080\">     0</span> │ <span style=\"color: #008080; text-decoration-color: #008080\">    1431</span> │ <span style=\"color: #008080; text-decoration-color: #008080\">  2281</span> │ <span style=\"color: #008080; text-decoration-color: #008080\">  3706</span> │ <span style=\"color: #008080; text-decoration-color: #008080\">  13660</span> │ <span style=\"color: #008000; text-decoration-color: #008000\"> ▇▅▂▁  </span> │  │\n",
       "│ │ <span style=\"color: #af87ff; text-decoration-color: #af87ff\">stock    </span> │ <span style=\"color: #008080; text-decoration-color: #008080\">   0</span> │ <span style=\"color: #008080; text-decoration-color: #008080\">      0</span> │ <span style=\"color: #008080; text-decoration-color: #008080\">   7.586</span> │ <span style=\"color: #008080; text-decoration-color: #008080\">   10.21</span> │ <span style=\"color: #008080; text-decoration-color: #008080\">     0</span> │ <span style=\"color: #008080; text-decoration-color: #008080\">       6</span> │ <span style=\"color: #008080; text-decoration-color: #008080\">     6</span> │ <span style=\"color: #008080; text-decoration-color: #008080\">     7</span> │ <span style=\"color: #008080; text-decoration-color: #008080\">    105</span> │ <span style=\"color: #008000; text-decoration-color: #008000\">   ▇   </span> │  │\n",
       "│ │ <span style=\"color: #af87ff; text-decoration-color: #af87ff\">code     </span> │ <span style=\"color: #008080; text-decoration-color: #008080\">   0</span> │ <span style=\"color: #008080; text-decoration-color: #008080\">      0</span> │ <span style=\"color: #008080; text-decoration-color: #008080\">       1</span> │ <span style=\"color: #008080; text-decoration-color: #008080\">       0</span> │ <span style=\"color: #008080; text-decoration-color: #008080\">     1</span> │ <span style=\"color: #008080; text-decoration-color: #008080\">       1</span> │ <span style=\"color: #008080; text-decoration-color: #008080\">     1</span> │ <span style=\"color: #008080; text-decoration-color: #008080\">     1</span> │ <span style=\"color: #008080; text-decoration-color: #008080\">      1</span> │ <span style=\"color: #008000; text-decoration-color: #008000\">    ▇  </span> │  │\n",
       "│ └───────────┴──────┴─────────┴──────────┴──────────┴────────┴──────────┴────────┴────────┴─────────┴─────────┘  │\n",
       "│ <span style=\"font-style: italic\">                                                    string                                                    </span>  │\n",
       "│ ┏━━━━━━━━┳━━━━┳━━━━━━┳━━━━━━━━━━━━┳━━━━━━━━━━━━┳━━━━━━━━━━━┳━━━━━━━━━━━━┳━━━━━━━━━━━┳━━━━━━━━━━━━┳━━━━━━━━━━━┓  │\n",
       "│ ┃<span style=\"font-weight: bold\">        </span>┃<span style=\"font-weight: bold\">    </span>┃<span style=\"font-weight: bold\">      </span>┃<span style=\"font-weight: bold\">            </span>┃<span style=\"font-weight: bold\">            </span>┃<span style=\"font-weight: bold\">           </span>┃<span style=\"font-weight: bold\">            </span>┃<span style=\"font-weight: bold\"> chars per </span>┃<span style=\"font-weight: bold\"> words per  </span>┃<span style=\"font-weight: bold\"> total     </span>┃  │\n",
       "│ ┃<span style=\"font-weight: bold\"> column </span>┃<span style=\"font-weight: bold\"> NA </span>┃<span style=\"font-weight: bold\"> NA % </span>┃<span style=\"font-weight: bold\"> shortest   </span>┃<span style=\"font-weight: bold\"> longest    </span>┃<span style=\"font-weight: bold\"> min       </span>┃<span style=\"font-weight: bold\"> max        </span>┃<span style=\"font-weight: bold\"> row       </span>┃<span style=\"font-weight: bold\"> row        </span>┃<span style=\"font-weight: bold\"> words     </span>┃  │\n",
       "│ ┡━━━━━━━━╇━━━━╇━━━━━━╇━━━━━━━━━━━━╇━━━━━━━━━━━━╇━━━━━━━━━━━╇━━━━━━━━━━━━╇━━━━━━━━━━━╇━━━━━━━━━━━━╇━━━━━━━━━━━┩  │\n",
       "│ │ <span style=\"color: #af87ff; text-decoration-color: #af87ff\">ref   </span> │ <span style=\"color: #008080; text-decoration-color: #008080\"> 0</span> │ <span style=\"color: #008080; text-decoration-color: #008080\">   0</span> │ <span style=\"color: #af87ff; text-decoration-color: #af87ff\">AB001     </span> │ <span style=\"color: #af87ff; text-decoration-color: #af87ff\">RL--07---S</span> │ <span style=\"color: #af87ff; text-decoration-color: #af87ff\">3062PCN-4</span> │ <span style=\"color: #af87ff; text-decoration-color: #af87ff\">SYD02-1010</span> │ <span style=\"color: #008080; text-decoration-color: #008080\">     10.5</span> │ <span style=\"color: #008080; text-decoration-color: #008080\">         1</span> │ <span style=\"color: #008080; text-decoration-color: #008080\">      244</span> │  │\n",
       "│ │        │    │      │            │ <span style=\"color: #af87ff; text-decoration-color: #af87ff\">-700-701-7</span> │ <span style=\"color: #af87ff; text-decoration-color: #af87ff\">0        </span> │ <span style=\"color: #af87ff; text-decoration-color: #af87ff\">-1011     </span> │           │            │           │  │\n",
       "│ │ <span style=\"color: #af87ff; text-decoration-color: #af87ff\">nom   </span> │ <span style=\"color: #008080; text-decoration-color: #008080\"> 0</span> │ <span style=\"color: #008080; text-decoration-color: #008080\">   0</span> │ <span style=\"color: #af87ff; text-decoration-color: #af87ff\">Retouche A</span> │ <span style=\"color: #af87ff; text-decoration-color: #af87ff\">Robe de   </span> │ <span style=\"color: #af87ff; text-decoration-color: #af87ff\">Aphrodite</span> │ <span style=\"color: #af87ff; text-decoration-color: #af87ff\">Veste     </span> │ <span style=\"color: #008080; text-decoration-color: #008080\">     31.6</span> │ <span style=\"color: #008080; text-decoration-color: #008080\">       5.9</span> │ <span style=\"color: #008080; text-decoration-color: #008080\">     1447</span> │  │\n",
       "│ │        │    │      │            │ <span style=\"color: #af87ff; text-decoration-color: #af87ff\">Cocktail  </span> │ <span style=\"color: #af87ff; text-decoration-color: #af87ff\">Serment  </span> │ <span style=\"color: #af87ff; text-decoration-color: #af87ff\">chinoise  </span> │           │            │           │  │\n",
       "│ │        │    │      │            │ <span style=\"color: #af87ff; text-decoration-color: #af87ff\">courte    </span> │ <span style=\"color: #af87ff; text-decoration-color: #af87ff\">d?Amour  </span> │ <span style=\"color: #af87ff; text-decoration-color: #af87ff\">noire     </span> │           │            │           │  │\n",
       "│ │        │    │      │            │ <span style=\"color: #af87ff; text-decoration-color: #af87ff\">Nuits à   </span> │ <span style=\"color: #af87ff; text-decoration-color: #af87ff\">Rouge 36 </span> │ <span style=\"color: #af87ff; text-decoration-color: #af87ff\">EPHEMERE  </span> │           │            │           │  │\n",
       "│ │        │    │      │            │ <span style=\"color: #af87ff; text-decoration-color: #af87ff\">MELBOURNE </span> │           │ <span style=\"color: #af87ff; text-decoration-color: #af87ff\">38/40     </span> │           │            │           │  │\n",
       "│ │        │    │      │            │ <span style=\"color: #af87ff; text-decoration-color: #af87ff\">-         </span> │           │            │           │            │           │  │\n",
       "│ │        │    │      │            │ <span style=\"color: #af87ff; text-decoration-color: #af87ff\">Bourgogne </span> │           │            │           │            │           │  │\n",
       "│ └────────┴────┴──────┴────────────┴────────────┴───────────┴────────────┴───────────┴────────────┴───────────┘  │\n",
       "╰────────────────────────────────────────────────────── End ──────────────────────────────────────────────────────╯\n",
       "</pre>\n"
      ],
      "text/plain": [
       "╭──────────────────────────────────────────────── skimpy summary ─────────────────────────────────────────────────╮\n",
       "│ \u001b[3m         Data Summary         \u001b[0m \u001b[3m      Data Types       \u001b[0m                                                          │\n",
       "│ ┏━━━━━━━━━━━━━━━━━━━┳━━━━━━━━┓ ┏━━━━━━━━━━━━━┳━━━━━━━┓                                                          │\n",
       "│ ┃\u001b[1;36m \u001b[0m\u001b[1;36mDataframe        \u001b[0m\u001b[1;36m \u001b[0m┃\u001b[1;36m \u001b[0m\u001b[1;36mValues\u001b[0m\u001b[1;36m \u001b[0m┃ ┃\u001b[1;36m \u001b[0m\u001b[1;36mColumn Type\u001b[0m\u001b[1;36m \u001b[0m┃\u001b[1;36m \u001b[0m\u001b[1;36mCount\u001b[0m\u001b[1;36m \u001b[0m┃                                                          │\n",
       "│ ┡━━━━━━━━━━━━━━━━━━━╇━━━━━━━━┩ ┡━━━━━━━━━━━━━╇━━━━━━━┩                                                          │\n",
       "│ │ Number of rows    │ 244    │ │ int64       │ 4     │                                                          │\n",
       "│ │ Number of columns │ 7      │ │ string      │ 2     │                                                          │\n",
       "│ └───────────────────┴────────┘ │ float64     │ 1     │                                                          │\n",
       "│                                └─────────────┴───────┘                                                          │\n",
       "│ \u001b[3m                                                    number                                                    \u001b[0m  │\n",
       "│ ┏━━━━━━━━━━━┳━━━━━━┳━━━━━━━━━┳━━━━━━━━━━┳━━━━━━━━━━┳━━━━━━━━┳━━━━━━━━━━┳━━━━━━━━┳━━━━━━━━┳━━━━━━━━━┳━━━━━━━━━┓  │\n",
       "│ ┃\u001b[1m \u001b[0m\u001b[1mcolumn   \u001b[0m\u001b[1m \u001b[0m┃\u001b[1m \u001b[0m\u001b[1mNA  \u001b[0m\u001b[1m \u001b[0m┃\u001b[1m \u001b[0m\u001b[1mNA %   \u001b[0m\u001b[1m \u001b[0m┃\u001b[1m \u001b[0m\u001b[1mmean    \u001b[0m\u001b[1m \u001b[0m┃\u001b[1m \u001b[0m\u001b[1msd      \u001b[0m\u001b[1m \u001b[0m┃\u001b[1m \u001b[0m\u001b[1mp0    \u001b[0m\u001b[1m \u001b[0m┃\u001b[1m \u001b[0m\u001b[1mp25     \u001b[0m\u001b[1m \u001b[0m┃\u001b[1m \u001b[0m\u001b[1mp50   \u001b[0m\u001b[1m \u001b[0m┃\u001b[1m \u001b[0m\u001b[1mp75   \u001b[0m\u001b[1m \u001b[0m┃\u001b[1m \u001b[0m\u001b[1mp100   \u001b[0m\u001b[1m \u001b[0m┃\u001b[1m \u001b[0m\u001b[1mhist   \u001b[0m\u001b[1m \u001b[0m┃  │\n",
       "│ ┡━━━━━━━━━━━╇━━━━━━╇━━━━━━━━━╇━━━━━━━━━━╇━━━━━━━━━━╇━━━━━━━━╇━━━━━━━━━━╇━━━━━━━━╇━━━━━━━━╇━━━━━━━━━╇━━━━━━━━━┩  │\n",
       "│ │ \u001b[38;5;141mprix     \u001b[0m │ \u001b[36m   0\u001b[0m │ \u001b[36m      0\u001b[0m │ \u001b[36m   40.12\u001b[0m │ \u001b[36m   24.67\u001b[0m │ \u001b[36m  9.45\u001b[0m │ \u001b[36m   16.27\u001b[0m │ \u001b[36m  31.5\u001b[0m │ \u001b[36m  62.9\u001b[0m │ \u001b[36m  135.4\u001b[0m │ \u001b[32m ▇▅▃▂  \u001b[0m │  │\n",
       "│ │ \u001b[38;5;141mpoids    \u001b[0m │ \u001b[36m   0\u001b[0m │ \u001b[36m      0\u001b[0m │ \u001b[36m   439.1\u001b[0m │ \u001b[36m   248.4\u001b[0m │ \u001b[36m     0\u001b[0m │ \u001b[36m     300\u001b[0m │ \u001b[36m   350\u001b[0m │ \u001b[36m   500\u001b[0m │ \u001b[36m   1000\u001b[0m │ \u001b[32m▁▇▇▃ ▅ \u001b[0m │  │\n",
       "│ │ \u001b[38;5;141mvues     \u001b[0m │ \u001b[36m   0\u001b[0m │ \u001b[36m      0\u001b[0m │ \u001b[36m    3032\u001b[0m │ \u001b[36m    2800\u001b[0m │ \u001b[36m     0\u001b[0m │ \u001b[36m    1431\u001b[0m │ \u001b[36m  2281\u001b[0m │ \u001b[36m  3706\u001b[0m │ \u001b[36m  13660\u001b[0m │ \u001b[32m ▇▅▂▁  \u001b[0m │  │\n",
       "│ │ \u001b[38;5;141mstock    \u001b[0m │ \u001b[36m   0\u001b[0m │ \u001b[36m      0\u001b[0m │ \u001b[36m   7.586\u001b[0m │ \u001b[36m   10.21\u001b[0m │ \u001b[36m     0\u001b[0m │ \u001b[36m       6\u001b[0m │ \u001b[36m     6\u001b[0m │ \u001b[36m     7\u001b[0m │ \u001b[36m    105\u001b[0m │ \u001b[32m   ▇   \u001b[0m │  │\n",
       "│ │ \u001b[38;5;141mcode     \u001b[0m │ \u001b[36m   0\u001b[0m │ \u001b[36m      0\u001b[0m │ \u001b[36m       1\u001b[0m │ \u001b[36m       0\u001b[0m │ \u001b[36m     1\u001b[0m │ \u001b[36m       1\u001b[0m │ \u001b[36m     1\u001b[0m │ \u001b[36m     1\u001b[0m │ \u001b[36m      1\u001b[0m │ \u001b[32m    ▇  \u001b[0m │  │\n",
       "│ └───────────┴──────┴─────────┴──────────┴──────────┴────────┴──────────┴────────┴────────┴─────────┴─────────┘  │\n",
       "│ \u001b[3m                                                    string                                                    \u001b[0m  │\n",
       "│ ┏━━━━━━━━┳━━━━┳━━━━━━┳━━━━━━━━━━━━┳━━━━━━━━━━━━┳━━━━━━━━━━━┳━━━━━━━━━━━━┳━━━━━━━━━━━┳━━━━━━━━━━━━┳━━━━━━━━━━━┓  │\n",
       "│ ┃\u001b[1m        \u001b[0m┃\u001b[1m    \u001b[0m┃\u001b[1m      \u001b[0m┃\u001b[1m            \u001b[0m┃\u001b[1m            \u001b[0m┃\u001b[1m           \u001b[0m┃\u001b[1m            \u001b[0m┃\u001b[1m \u001b[0m\u001b[1mchars per\u001b[0m\u001b[1m \u001b[0m┃\u001b[1m \u001b[0m\u001b[1mwords per \u001b[0m\u001b[1m \u001b[0m┃\u001b[1m \u001b[0m\u001b[1mtotal    \u001b[0m\u001b[1m \u001b[0m┃  │\n",
       "│ ┃\u001b[1m \u001b[0m\u001b[1mcolumn\u001b[0m\u001b[1m \u001b[0m┃\u001b[1m \u001b[0m\u001b[1mNA\u001b[0m\u001b[1m \u001b[0m┃\u001b[1m \u001b[0m\u001b[1mNA %\u001b[0m\u001b[1m \u001b[0m┃\u001b[1m \u001b[0m\u001b[1mshortest  \u001b[0m\u001b[1m \u001b[0m┃\u001b[1m \u001b[0m\u001b[1mlongest   \u001b[0m\u001b[1m \u001b[0m┃\u001b[1m \u001b[0m\u001b[1mmin      \u001b[0m\u001b[1m \u001b[0m┃\u001b[1m \u001b[0m\u001b[1mmax       \u001b[0m\u001b[1m \u001b[0m┃\u001b[1m \u001b[0m\u001b[1mrow      \u001b[0m\u001b[1m \u001b[0m┃\u001b[1m \u001b[0m\u001b[1mrow       \u001b[0m\u001b[1m \u001b[0m┃\u001b[1m \u001b[0m\u001b[1mwords    \u001b[0m\u001b[1m \u001b[0m┃  │\n",
       "│ ┡━━━━━━━━╇━━━━╇━━━━━━╇━━━━━━━━━━━━╇━━━━━━━━━━━━╇━━━━━━━━━━━╇━━━━━━━━━━━━╇━━━━━━━━━━━╇━━━━━━━━━━━━╇━━━━━━━━━━━┩  │\n",
       "│ │ \u001b[38;5;141mref   \u001b[0m │ \u001b[36m 0\u001b[0m │ \u001b[36m   0\u001b[0m │ \u001b[38;5;141mAB001     \u001b[0m │ \u001b[38;5;141mRL--07---S\u001b[0m │ \u001b[38;5;141m3062PCN-4\u001b[0m │ \u001b[38;5;141mSYD02-1010\u001b[0m │ \u001b[36m     10.5\u001b[0m │ \u001b[36m         1\u001b[0m │ \u001b[36m      244\u001b[0m │  │\n",
       "│ │        │    │      │            │ \u001b[38;5;141m-700-701-7\u001b[0m │ \u001b[38;5;141m0        \u001b[0m │ \u001b[38;5;141m-1011     \u001b[0m │           │            │           │  │\n",
       "│ │ \u001b[38;5;141mnom   \u001b[0m │ \u001b[36m 0\u001b[0m │ \u001b[36m   0\u001b[0m │ \u001b[38;5;141mRetouche A\u001b[0m │ \u001b[38;5;141mRobe de   \u001b[0m │ \u001b[38;5;141mAphrodite\u001b[0m │ \u001b[38;5;141mVeste     \u001b[0m │ \u001b[36m     31.6\u001b[0m │ \u001b[36m       5.9\u001b[0m │ \u001b[36m     1447\u001b[0m │  │\n",
       "│ │        │    │      │            │ \u001b[38;5;141mCocktail  \u001b[0m │ \u001b[38;5;141mSerment  \u001b[0m │ \u001b[38;5;141mchinoise  \u001b[0m │           │            │           │  │\n",
       "│ │        │    │      │            │ \u001b[38;5;141mcourte    \u001b[0m │ \u001b[38;5;141md?Amour  \u001b[0m │ \u001b[38;5;141mnoire     \u001b[0m │           │            │           │  │\n",
       "│ │        │    │      │            │ \u001b[38;5;141mNuits à   \u001b[0m │ \u001b[38;5;141mRouge 36 \u001b[0m │ \u001b[38;5;141mEPHEMERE  \u001b[0m │           │            │           │  │\n",
       "│ │        │    │      │            │ \u001b[38;5;141mMELBOURNE \u001b[0m │           │ \u001b[38;5;141m38/40     \u001b[0m │           │            │           │  │\n",
       "│ │        │    │      │            │ \u001b[38;5;141m-         \u001b[0m │           │            │           │            │           │  │\n",
       "│ │        │    │      │            │ \u001b[38;5;141mBourgogne \u001b[0m │           │            │           │            │           │  │\n",
       "│ └────────┴────┴──────┴────────────┴────────────┴───────────┴────────────┴───────────┴────────────┴───────────┘  │\n",
       "╰────────────────────────────────────────────────────── End ──────────────────────────────────────────────────────╯\n"
      ]
     },
     "metadata": {},
     "output_type": "display_data"
    }
   ],
   "source": [
    "skim(df)"
   ]
  },
  {
   "cell_type": "markdown",
   "id": "accd3ad6",
   "metadata": {},
   "source": [
    "## Assignation de critères de recherces"
   ]
  },
  {
   "cell_type": "code",
   "execution_count": 6,
   "id": "52397587",
   "metadata": {},
   "outputs": [],
   "source": [
    "cr1 = 'Mocassin'"
   ]
  },
  {
   "cell_type": "code",
   "execution_count": 7,
   "id": "cae3ffb3",
   "metadata": {},
   "outputs": [],
   "source": [
    "cr2 = 'Chemisier'"
   ]
  },
  {
   "cell_type": "markdown",
   "id": "28f83cef",
   "metadata": {},
   "source": [
    "## DF contenant les critères ci-avant avec un trie par prix par ordre croissant"
   ]
  },
  {
   "cell_type": "code",
   "execution_count": null,
   "id": "aef1151c",
   "metadata": {},
   "outputs": [
    {
     "data": {
      "application/vnd.microsoft.datawrangler.viewer.v0+json": {
       "columns": [
        {
         "name": "index",
         "rawType": "int64",
         "type": "integer"
        },
        {
         "name": "ref",
         "rawType": "object",
         "type": "string"
        },
        {
         "name": "nom",
         "rawType": "object",
         "type": "string"
        },
        {
         "name": "prix",
         "rawType": "float64",
         "type": "float"
        },
        {
         "name": "poids",
         "rawType": "int64",
         "type": "integer"
        },
        {
         "name": "vues",
         "rawType": "int64",
         "type": "integer"
        },
        {
         "name": "stock",
         "rawType": "int64",
         "type": "integer"
        },
        {
         "name": "code",
         "rawType": "int64",
         "type": "integer"
        }
       ],
       "conversionMethod": "pd.DataFrame",
       "ref": "551f5d09-15d6-4265-8f63-2e15e087016f",
       "rows": [
        [
         "48",
         "CHAER-PRCLB-0002",
         "Mocassins AEROSOLES - SWEET AS CANDY Gris perle",
         "40.95",
         "1000",
         "224",
         "4",
         "1"
        ],
        [
         "47",
         "CHAER-MOCB-0006",
         "Mocassins AEROSOLES - Bronze",
         "40.95",
         "1000",
         "201",
         "5",
         "1"
        ],
        [
         "49",
         "CHAER-PRCLB-0003",
         "Mocassins AEROSOLES - Private Club Bordeaux",
         "40.95",
         "1000",
         "224",
         "5",
         "1"
        ],
        [
         "11",
         "5002GLM-36",
         "Chemisier EURYDICE Marron 36",
         "34.545",
         "350",
         "2325",
         "4",
         "1"
        ],
        [
         "12",
         "5002GLM-38",
         "Chemisier EURYDICE Marron 38",
         "34.545",
         "350",
         "2295",
         "2",
         "1"
        ],
        [
         "13",
         "5002GLM-42",
         "Chemisier EURYDICE Marron 42",
         "34.545",
         "350",
         "2418",
         "21",
         "1"
        ]
       ],
       "shape": {
        "columns": 7,
        "rows": 6
       }
      },
      "text/html": [
       "<div>\n",
       "<style scoped>\n",
       "    .dataframe tbody tr th:only-of-type {\n",
       "        vertical-align: middle;\n",
       "    }\n",
       "\n",
       "    .dataframe tbody tr th {\n",
       "        vertical-align: top;\n",
       "    }\n",
       "\n",
       "    .dataframe thead th {\n",
       "        text-align: right;\n",
       "    }\n",
       "</style>\n",
       "<table border=\"1\" class=\"dataframe\">\n",
       "  <thead>\n",
       "    <tr style=\"text-align: right;\">\n",
       "      <th></th>\n",
       "      <th>ref</th>\n",
       "      <th>nom</th>\n",
       "      <th>prix</th>\n",
       "      <th>poids</th>\n",
       "      <th>vues</th>\n",
       "      <th>stock</th>\n",
       "      <th>code</th>\n",
       "    </tr>\n",
       "  </thead>\n",
       "  <tbody>\n",
       "    <tr>\n",
       "      <th>48</th>\n",
       "      <td>CHAER-PRCLB-0002</td>\n",
       "      <td>Mocassins AEROSOLES - SWEET AS CANDY Gris perle</td>\n",
       "      <td>40.950</td>\n",
       "      <td>1000</td>\n",
       "      <td>224</td>\n",
       "      <td>4</td>\n",
       "      <td>1</td>\n",
       "    </tr>\n",
       "    <tr>\n",
       "      <th>47</th>\n",
       "      <td>CHAER-MOCB-0006</td>\n",
       "      <td>Mocassins AEROSOLES - Bronze</td>\n",
       "      <td>40.950</td>\n",
       "      <td>1000</td>\n",
       "      <td>201</td>\n",
       "      <td>5</td>\n",
       "      <td>1</td>\n",
       "    </tr>\n",
       "    <tr>\n",
       "      <th>49</th>\n",
       "      <td>CHAER-PRCLB-0003</td>\n",
       "      <td>Mocassins AEROSOLES - Private Club Bordeaux</td>\n",
       "      <td>40.950</td>\n",
       "      <td>1000</td>\n",
       "      <td>224</td>\n",
       "      <td>5</td>\n",
       "      <td>1</td>\n",
       "    </tr>\n",
       "    <tr>\n",
       "      <th>11</th>\n",
       "      <td>5002GLM-36</td>\n",
       "      <td>Chemisier EURYDICE Marron 36</td>\n",
       "      <td>34.545</td>\n",
       "      <td>350</td>\n",
       "      <td>2325</td>\n",
       "      <td>4</td>\n",
       "      <td>1</td>\n",
       "    </tr>\n",
       "    <tr>\n",
       "      <th>12</th>\n",
       "      <td>5002GLM-38</td>\n",
       "      <td>Chemisier EURYDICE Marron 38</td>\n",
       "      <td>34.545</td>\n",
       "      <td>350</td>\n",
       "      <td>2295</td>\n",
       "      <td>2</td>\n",
       "      <td>1</td>\n",
       "    </tr>\n",
       "    <tr>\n",
       "      <th>13</th>\n",
       "      <td>5002GLM-42</td>\n",
       "      <td>Chemisier EURYDICE Marron 42</td>\n",
       "      <td>34.545</td>\n",
       "      <td>350</td>\n",
       "      <td>2418</td>\n",
       "      <td>21</td>\n",
       "      <td>1</td>\n",
       "    </tr>\n",
       "  </tbody>\n",
       "</table>\n",
       "</div>"
      ],
      "text/plain": [
       "                 ref                                              nom    prix  \\\n",
       "48  CHAER-PRCLB-0002  Mocassins AEROSOLES - SWEET AS CANDY Gris perle  40.950   \n",
       "47   CHAER-MOCB-0006                     Mocassins AEROSOLES - Bronze  40.950   \n",
       "49  CHAER-PRCLB-0003      Mocassins AEROSOLES - Private Club Bordeaux  40.950   \n",
       "11        5002GLM-36                     Chemisier EURYDICE Marron 36  34.545   \n",
       "12        5002GLM-38                     Chemisier EURYDICE Marron 38  34.545   \n",
       "13        5002GLM-42                     Chemisier EURYDICE Marron 42  34.545   \n",
       "\n",
       "    poids  vues  stock  code  \n",
       "48   1000   224      4     1  \n",
       "47   1000   201      5     1  \n",
       "49   1000   224      5     1  \n",
       "11    350  2325      4     1  \n",
       "12    350  2295      2     1  \n",
       "13    350  2418     21     1  "
      ]
     },
     "execution_count": 10,
     "metadata": {},
     "output_type": "execute_result"
    }
   ],
   "source": [
    "df[df['nom'].str.contains(cr1) | df['nom'].str.contains(cr2)\n",
    "   ].sort_values(by='prix', ascending=True)"
   ]
  }
 ],
 "metadata": {
  "kernelspec": {
   "display_name": "Python 3",
   "language": "python",
   "name": "python3"
  },
  "language_info": {
   "codemirror_mode": {
    "name": "ipython",
    "version": 3
   },
   "file_extension": ".py",
   "mimetype": "text/x-python",
   "name": "python",
   "nbconvert_exporter": "python",
   "pygments_lexer": "ipython3",
   "version": "3.12.5"
  }
 },
 "nbformat": 4,
 "nbformat_minor": 5
}
