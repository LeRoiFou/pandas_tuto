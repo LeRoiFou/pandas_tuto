{
 "cells": [
  {
   "cell_type": "markdown",
   "id": "14fef23a",
   "metadata": {},
   "source": [
    "[Calculs de rangs par formule Python dans Excel](https://www.youtube.com/watch?v=F0jFjEBK5Oo&list=PLpQBnWleLAauKmgcdndmEr81iIIoW9_Wi&index=30)\n",
    "\n",
    "Date : 24/06/2025"
   ]
  },
  {
   "cell_type": "code",
   "execution_count": 1,
   "id": "e0adce85",
   "metadata": {},
   "outputs": [],
   "source": [
    "import pandas as pd"
   ]
  },
  {
   "cell_type": "markdown",
   "id": "fd58cfdd",
   "metadata": {},
   "source": [
    "Chargement du fichier Excel converti en DF pandas en récupérant certains champs"
   ]
  },
  {
   "cell_type": "code",
   "execution_count": 5,
   "id": "cfd2423e",
   "metadata": {},
   "outputs": [
    {
     "data": {
      "application/vnd.microsoft.datawrangler.viewer.v0+json": {
       "columns": [
        {
         "name": "index",
         "rawType": "int64",
         "type": "integer"
        },
        {
         "name": "Nom",
         "rawType": "object",
         "type": "string"
        },
        {
         "name": "Prénom",
         "rawType": "object",
         "type": "string"
        },
        {
         "name": "Moyenne",
         "rawType": "float64",
         "type": "float"
        }
       ],
       "ref": "39132ced-205b-4cb4-80ed-1fb838f74cec",
       "rows": [
        [
         "0",
         "Ogne",
         "Paul",
         "13.0"
        ],
        [
         "1",
         "Rouana",
         "Marie",
         "10.8"
        ],
        [
         "2",
         "Hamalibou",
         "Arlette",
         "14.0"
        ],
        [
         "3",
         "Galse",
         "Charline",
         "9.5"
        ],
        [
         "4",
         "Ochet",
         "Eric",
         "12.5"
        ]
       ],
       "shape": {
        "columns": 3,
        "rows": 5
       }
      },
      "text/html": [
       "<div>\n",
       "<style scoped>\n",
       "    .dataframe tbody tr th:only-of-type {\n",
       "        vertical-align: middle;\n",
       "    }\n",
       "\n",
       "    .dataframe tbody tr th {\n",
       "        vertical-align: top;\n",
       "    }\n",
       "\n",
       "    .dataframe thead th {\n",
       "        text-align: right;\n",
       "    }\n",
       "</style>\n",
       "<table border=\"1\" class=\"dataframe\">\n",
       "  <thead>\n",
       "    <tr style=\"text-align: right;\">\n",
       "      <th></th>\n",
       "      <th>Nom</th>\n",
       "      <th>Prénom</th>\n",
       "      <th>Moyenne</th>\n",
       "    </tr>\n",
       "  </thead>\n",
       "  <tbody>\n",
       "    <tr>\n",
       "      <th>0</th>\n",
       "      <td>Ogne</td>\n",
       "      <td>Paul</td>\n",
       "      <td>13.0</td>\n",
       "    </tr>\n",
       "    <tr>\n",
       "      <th>1</th>\n",
       "      <td>Rouana</td>\n",
       "      <td>Marie</td>\n",
       "      <td>10.8</td>\n",
       "    </tr>\n",
       "    <tr>\n",
       "      <th>2</th>\n",
       "      <td>Hamalibou</td>\n",
       "      <td>Arlette</td>\n",
       "      <td>14.0</td>\n",
       "    </tr>\n",
       "    <tr>\n",
       "      <th>3</th>\n",
       "      <td>Galse</td>\n",
       "      <td>Charline</td>\n",
       "      <td>9.5</td>\n",
       "    </tr>\n",
       "    <tr>\n",
       "      <th>4</th>\n",
       "      <td>Ochet</td>\n",
       "      <td>Eric</td>\n",
       "      <td>12.5</td>\n",
       "    </tr>\n",
       "  </tbody>\n",
       "</table>\n",
       "</div>"
      ],
      "text/plain": [
       "         Nom    Prénom  Moyenne\n",
       "0       Ogne      Paul     13.0\n",
       "1     Rouana     Marie     10.8\n",
       "2  Hamalibou   Arlette     14.0\n",
       "3      Galse  Charline      9.5\n",
       "4      Ochet      Eric     12.5"
      ]
     },
     "execution_count": 5,
     "metadata": {},
     "output_type": "execute_result"
    }
   ],
   "source": [
    "df = pd.read_excel('data/Rank.xlsx', sheet_name='Feuil1'\n",
    "                   )[['Nom', 'Prénom', 'Moyenne']]\n",
    "df.head()"
   ]
  },
  {
   "cell_type": "markdown",
   "id": "5b0bd239",
   "metadata": {},
   "source": [
    "Création d'un nouveau champ, permettant d'attribuer un rang selon la moyenne de l'élève"
   ]
  },
  {
   "cell_type": "code",
   "execution_count": 9,
   "id": "8a97460b",
   "metadata": {},
   "outputs": [
    {
     "data": {
      "application/vnd.microsoft.datawrangler.viewer.v0+json": {
       "columns": [
        {
         "name": "index",
         "rawType": "object",
         "type": "string"
        },
        {
         "name": "0",
         "rawType": "object",
         "type": "unknown"
        },
        {
         "name": "1",
         "rawType": "object",
         "type": "unknown"
        },
        {
         "name": "2",
         "rawType": "object",
         "type": "unknown"
        },
        {
         "name": "3",
         "rawType": "object",
         "type": "unknown"
        },
        {
         "name": "4",
         "rawType": "object",
         "type": "unknown"
        },
        {
         "name": "5",
         "rawType": "object",
         "type": "unknown"
        },
        {
         "name": "6",
         "rawType": "object",
         "type": "unknown"
        },
        {
         "name": "7",
         "rawType": "object",
         "type": "unknown"
        }
       ],
       "ref": "23874c41-f7be-4fd7-817d-ca19dc587a48",
       "rows": [
        [
         "Nom",
         "Galse",
         "Mi",
         "Rouana",
         "Degarde",
         "Ochet",
         "Hatique",
         "Ogne",
         "Hamalibou"
        ],
        [
         "Prénom",
         "Charline",
         "Samia",
         "Marie",
         "Sylvain",
         "Eric",
         "Stéphane",
         "Paul",
         "Arlette"
        ],
        [
         "Moyenne",
         "9.5",
         "10.25",
         "10.8",
         "11.333333333333334",
         "12.5",
         "12.666666666666666",
         "13.0",
         "14.0"
        ],
        [
         "Rang",
         "1.0",
         "2.0",
         "3.0",
         "4.0",
         "5.0",
         "6.0",
         "7.0",
         "8.0"
        ]
       ],
       "shape": {
        "columns": 8,
        "rows": 4
       }
      },
      "text/html": [
       "<div>\n",
       "<style scoped>\n",
       "    .dataframe tbody tr th:only-of-type {\n",
       "        vertical-align: middle;\n",
       "    }\n",
       "\n",
       "    .dataframe tbody tr th {\n",
       "        vertical-align: top;\n",
       "    }\n",
       "\n",
       "    .dataframe thead th {\n",
       "        text-align: right;\n",
       "    }\n",
       "</style>\n",
       "<table border=\"1\" class=\"dataframe\">\n",
       "  <thead>\n",
       "    <tr style=\"text-align: right;\">\n",
       "      <th></th>\n",
       "      <th>0</th>\n",
       "      <th>1</th>\n",
       "      <th>2</th>\n",
       "      <th>3</th>\n",
       "      <th>4</th>\n",
       "      <th>5</th>\n",
       "      <th>6</th>\n",
       "      <th>7</th>\n",
       "    </tr>\n",
       "  </thead>\n",
       "  <tbody>\n",
       "    <tr>\n",
       "      <th>Nom</th>\n",
       "      <td>Galse</td>\n",
       "      <td>Mi</td>\n",
       "      <td>Rouana</td>\n",
       "      <td>Degarde</td>\n",
       "      <td>Ochet</td>\n",
       "      <td>Hatique</td>\n",
       "      <td>Ogne</td>\n",
       "      <td>Hamalibou</td>\n",
       "    </tr>\n",
       "    <tr>\n",
       "      <th>Prénom</th>\n",
       "      <td>Charline</td>\n",
       "      <td>Samia</td>\n",
       "      <td>Marie</td>\n",
       "      <td>Sylvain</td>\n",
       "      <td>Eric</td>\n",
       "      <td>Stéphane</td>\n",
       "      <td>Paul</td>\n",
       "      <td>Arlette</td>\n",
       "    </tr>\n",
       "    <tr>\n",
       "      <th>Moyenne</th>\n",
       "      <td>9.5</td>\n",
       "      <td>10.25</td>\n",
       "      <td>10.8</td>\n",
       "      <td>11.333333</td>\n",
       "      <td>12.5</td>\n",
       "      <td>12.666667</td>\n",
       "      <td>13.0</td>\n",
       "      <td>14.0</td>\n",
       "    </tr>\n",
       "    <tr>\n",
       "      <th>Rang</th>\n",
       "      <td>1.0</td>\n",
       "      <td>2.0</td>\n",
       "      <td>3.0</td>\n",
       "      <td>4.0</td>\n",
       "      <td>5.0</td>\n",
       "      <td>6.0</td>\n",
       "      <td>7.0</td>\n",
       "      <td>8.0</td>\n",
       "    </tr>\n",
       "  </tbody>\n",
       "</table>\n",
       "</div>"
      ],
      "text/plain": [
       "                0      1       2          3      4          5     6          7\n",
       "Nom         Galse     Mi  Rouana    Degarde  Ochet    Hatique  Ogne  Hamalibou\n",
       "Prénom   Charline  Samia   Marie    Sylvain   Eric   Stéphane  Paul    Arlette\n",
       "Moyenne       9.5  10.25    10.8  11.333333   12.5  12.666667  13.0       14.0\n",
       "Rang          1.0    2.0     3.0        4.0    5.0        6.0   7.0        8.0"
      ]
     },
     "execution_count": 9,
     "metadata": {},
     "output_type": "execute_result"
    }
   ],
   "source": [
    "df['Rang'] = df['Moyenne'].rank()\n",
    "df.sort_values(by=['Moyenne'], ascending=True).reset_index(drop=True).transpose()"
   ]
  }
 ],
 "metadata": {
  "kernelspec": {
   "display_name": "Python 3",
   "language": "python",
   "name": "python3"
  },
  "language_info": {
   "codemirror_mode": {
    "name": "ipython",
    "version": 3
   },
   "file_extension": ".py",
   "mimetype": "text/x-python",
   "name": "python",
   "nbconvert_exporter": "python",
   "pygments_lexer": "ipython3",
   "version": "3.12.5"
  }
 },
 "nbformat": 4,
 "nbformat_minor": 5
}
