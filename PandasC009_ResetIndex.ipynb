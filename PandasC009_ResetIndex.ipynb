{
 "cells": [
  {
   "cell_type": "markdown",
   "id": "960a272b",
   "metadata": {},
   "source": [
    "# [Supprimer la colonne des Index en Python pour Excel](https://www.youtube.com/watch?v=JdYlqKljKOA&list=PLpQBnWleLAauKmgcdndmEr81iIIoW9_Wi&index=15)\n",
    "\n",
    "Date : 14/05/2025"
   ]
  },
  {
   "cell_type": "code",
   "execution_count": 1,
   "id": "52d83d21",
   "metadata": {},
   "outputs": [],
   "source": [
    "import pandas as pd"
   ]
  },
  {
   "cell_type": "code",
   "execution_count": 2,
   "id": "ccf37a22",
   "metadata": {},
   "outputs": [],
   "source": [
    "tab = pd.read_excel('data/ResetIndex.xlsx')"
   ]
  },
  {
   "cell_type": "code",
   "execution_count": 3,
   "id": "53de26c3",
   "metadata": {},
   "outputs": [
    {
     "data": {
      "application/vnd.microsoft.datawrangler.viewer.v0+json": {
       "columns": [
        {
         "name": "index",
         "rawType": "int64",
         "type": "integer"
        },
        {
         "name": "Noms",
         "rawType": "object",
         "type": "string"
        },
        {
         "name": "Points",
         "rawType": "int64",
         "type": "integer"
        },
        {
         "name": "Equipes",
         "rawType": "object",
         "type": "string"
        }
       ],
       "conversionMethod": "pd.DataFrame",
       "ref": "8c1130cc-6ca9-462a-85c5-563e376bc655",
       "rows": [
        [
         "0",
         "Hèresse Mégane",
         "70",
         "Verte"
        ],
        [
         "1",
         "Hilant Edwige",
         "71",
         "Rouge"
        ],
        [
         "2",
         "Hochon Paul",
         "58",
         "Rouge"
        ],
        [
         "3",
         "Honnête Camille",
         "55",
         "Verte"
        ],
        [
         "4",
         "Hoquet Clara",
         "78",
         "Rouge"
        ]
       ],
       "shape": {
        "columns": 3,
        "rows": 5
       }
      },
      "text/html": [
       "<div>\n",
       "<style scoped>\n",
       "    .dataframe tbody tr th:only-of-type {\n",
       "        vertical-align: middle;\n",
       "    }\n",
       "\n",
       "    .dataframe tbody tr th {\n",
       "        vertical-align: top;\n",
       "    }\n",
       "\n",
       "    .dataframe thead th {\n",
       "        text-align: right;\n",
       "    }\n",
       "</style>\n",
       "<table border=\"1\" class=\"dataframe\">\n",
       "  <thead>\n",
       "    <tr style=\"text-align: right;\">\n",
       "      <th></th>\n",
       "      <th>Noms</th>\n",
       "      <th>Points</th>\n",
       "      <th>Equipes</th>\n",
       "    </tr>\n",
       "  </thead>\n",
       "  <tbody>\n",
       "    <tr>\n",
       "      <th>0</th>\n",
       "      <td>Hèresse Mégane</td>\n",
       "      <td>70</td>\n",
       "      <td>Verte</td>\n",
       "    </tr>\n",
       "    <tr>\n",
       "      <th>1</th>\n",
       "      <td>Hilant Edwige</td>\n",
       "      <td>71</td>\n",
       "      <td>Rouge</td>\n",
       "    </tr>\n",
       "    <tr>\n",
       "      <th>2</th>\n",
       "      <td>Hochon Paul</td>\n",
       "      <td>58</td>\n",
       "      <td>Rouge</td>\n",
       "    </tr>\n",
       "    <tr>\n",
       "      <th>3</th>\n",
       "      <td>Honnête Camille</td>\n",
       "      <td>55</td>\n",
       "      <td>Verte</td>\n",
       "    </tr>\n",
       "    <tr>\n",
       "      <th>4</th>\n",
       "      <td>Hoquet Clara</td>\n",
       "      <td>78</td>\n",
       "      <td>Rouge</td>\n",
       "    </tr>\n",
       "  </tbody>\n",
       "</table>\n",
       "</div>"
      ],
      "text/plain": [
       "              Noms  Points Equipes\n",
       "0   Hèresse Mégane      70   Verte\n",
       "1    Hilant Edwige      71   Rouge\n",
       "2      Hochon Paul      58   Rouge\n",
       "3  Honnête Camille      55   Verte\n",
       "4     Hoquet Clara      78   Rouge"
      ]
     },
     "execution_count": 3,
     "metadata": {},
     "output_type": "execute_result"
    }
   ],
   "source": [
    "tab.head()"
   ]
  },
  {
   "cell_type": "code",
   "execution_count": 7,
   "id": "3df3a734",
   "metadata": {},
   "outputs": [
    {
     "data": {
      "application/vnd.microsoft.datawrangler.viewer.v0+json": {
       "columns": [
        {
         "name": "index",
         "rawType": "int64",
         "type": "integer"
        },
        {
         "name": "Noms",
         "rawType": "object",
         "type": "string"
        },
        {
         "name": "Points",
         "rawType": "int64",
         "type": "integer"
        },
        {
         "name": "Equipes",
         "rawType": "object",
         "type": "string"
        }
       ],
       "conversionMethod": "pd.DataFrame",
       "ref": "3384de2d-51d5-4c58-85f4-49de73698fb5",
       "rows": [
        [
         "0",
         "Océrosse Séverine",
         "53",
         "Verte"
        ],
        [
         "1",
         "Lile Maurice",
         "53",
         "Rouge"
        ],
        [
         "2",
         "Jet Claire",
         "61",
         "Rouge"
        ],
        [
         "3",
         "Mimi Mathis",
         "65",
         "Verte"
        ],
        [
         "4",
         "Loupe Sacha",
         "69",
         "Verte"
        ],
        [
         "5",
         "Sisse Médhi",
         "69",
         "Bleue"
        ],
        [
         "6",
         "Sille Lucie",
         "71",
         "Bleue"
        ],
        [
         "7",
         "Hilant Edwige",
         "71",
         "Rouge"
        ],
        [
         "8",
         "Sarbaque Anne",
         "72",
         "Verte"
        ],
        [
         "9",
         "Mauve Guy",
         "73",
         "Bleue"
        ]
       ],
       "shape": {
        "columns": 3,
        "rows": 10
       }
      },
      "text/html": [
       "<div>\n",
       "<style scoped>\n",
       "    .dataframe tbody tr th:only-of-type {\n",
       "        vertical-align: middle;\n",
       "    }\n",
       "\n",
       "    .dataframe tbody tr th {\n",
       "        vertical-align: top;\n",
       "    }\n",
       "\n",
       "    .dataframe thead th {\n",
       "        text-align: right;\n",
       "    }\n",
       "</style>\n",
       "<table border=\"1\" class=\"dataframe\">\n",
       "  <thead>\n",
       "    <tr style=\"text-align: right;\">\n",
       "      <th></th>\n",
       "      <th>Noms</th>\n",
       "      <th>Points</th>\n",
       "      <th>Equipes</th>\n",
       "    </tr>\n",
       "  </thead>\n",
       "  <tbody>\n",
       "    <tr>\n",
       "      <th>0</th>\n",
       "      <td>Océrosse Séverine</td>\n",
       "      <td>53</td>\n",
       "      <td>Verte</td>\n",
       "    </tr>\n",
       "    <tr>\n",
       "      <th>1</th>\n",
       "      <td>Lile Maurice</td>\n",
       "      <td>53</td>\n",
       "      <td>Rouge</td>\n",
       "    </tr>\n",
       "    <tr>\n",
       "      <th>2</th>\n",
       "      <td>Jet Claire</td>\n",
       "      <td>61</td>\n",
       "      <td>Rouge</td>\n",
       "    </tr>\n",
       "    <tr>\n",
       "      <th>3</th>\n",
       "      <td>Mimi Mathis</td>\n",
       "      <td>65</td>\n",
       "      <td>Verte</td>\n",
       "    </tr>\n",
       "    <tr>\n",
       "      <th>4</th>\n",
       "      <td>Loupe Sacha</td>\n",
       "      <td>69</td>\n",
       "      <td>Verte</td>\n",
       "    </tr>\n",
       "    <tr>\n",
       "      <th>5</th>\n",
       "      <td>Sisse Médhi</td>\n",
       "      <td>69</td>\n",
       "      <td>Bleue</td>\n",
       "    </tr>\n",
       "    <tr>\n",
       "      <th>6</th>\n",
       "      <td>Sille Lucie</td>\n",
       "      <td>71</td>\n",
       "      <td>Bleue</td>\n",
       "    </tr>\n",
       "    <tr>\n",
       "      <th>7</th>\n",
       "      <td>Hilant Edwige</td>\n",
       "      <td>71</td>\n",
       "      <td>Rouge</td>\n",
       "    </tr>\n",
       "    <tr>\n",
       "      <th>8</th>\n",
       "      <td>Sarbaque Anne</td>\n",
       "      <td>72</td>\n",
       "      <td>Verte</td>\n",
       "    </tr>\n",
       "    <tr>\n",
       "      <th>9</th>\n",
       "      <td>Mauve Guy</td>\n",
       "      <td>73</td>\n",
       "      <td>Bleue</td>\n",
       "    </tr>\n",
       "  </tbody>\n",
       "</table>\n",
       "</div>"
      ],
      "text/plain": [
       "                Noms  Points Equipes\n",
       "0  Océrosse Séverine      53   Verte\n",
       "1       Lile Maurice      53   Rouge\n",
       "2         Jet Claire      61   Rouge\n",
       "3        Mimi Mathis      65   Verte\n",
       "4        Loupe Sacha      69   Verte\n",
       "5        Sisse Médhi      69   Bleue\n",
       "6        Sille Lucie      71   Bleue\n",
       "7      Hilant Edwige      71   Rouge\n",
       "8      Sarbaque Anne      72   Verte\n",
       "9          Mauve Guy      73   Bleue"
      ]
     },
     "execution_count": 7,
     "metadata": {},
     "output_type": "execute_result"
    }
   ],
   "source": [
    "tab.sample(10).sort_values(by=['Points'], ascending=True).reset_index(drop=True)"
   ]
  }
 ],
 "metadata": {
  "kernelspec": {
   "display_name": "Python 3",
   "language": "python",
   "name": "python3"
  },
  "language_info": {
   "codemirror_mode": {
    "name": "ipython",
    "version": 3
   },
   "file_extension": ".py",
   "mimetype": "text/x-python",
   "name": "python",
   "nbconvert_exporter": "python",
   "pygments_lexer": "ipython3",
   "version": "3.12.5"
  }
 },
 "nbformat": 4,
 "nbformat_minor": 5
}
