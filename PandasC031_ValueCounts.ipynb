{
 "cells": [
  {
   "cell_type": "markdown",
   "id": "0f075c79",
   "metadata": {},
   "source": [
    "[Compter les fréquences de répétitions par formule Python](https://www.youtube.com/watch?v=pi-Vyz4RqII&list=PLpQBnWleLAauKmgcdndmEr81iIIoW9_Wi&index=36)\n",
    "\n",
    "Date : 08/07/2025"
   ]
  },
  {
   "cell_type": "code",
   "execution_count": 1,
   "id": "4ed3cac4",
   "metadata": {},
   "outputs": [],
   "source": [
    "import pandas as pd"
   ]
  },
  {
   "cell_type": "code",
   "execution_count": 3,
   "id": "15dc8e8b",
   "metadata": {},
   "outputs": [
    {
     "data": {
      "application/vnd.microsoft.datawrangler.viewer.v0+json": {
       "columns": [
        {
         "name": "index",
         "rawType": "object",
         "type": "string"
        },
        {
         "name": "0",
         "rawType": "object",
         "type": "unknown"
        },
        {
         "name": "1",
         "rawType": "object",
         "type": "unknown"
        },
        {
         "name": "2",
         "rawType": "object",
         "type": "unknown"
        },
        {
         "name": "3",
         "rawType": "object",
         "type": "unknown"
        },
        {
         "name": "4",
         "rawType": "object",
         "type": "unknown"
        }
       ],
       "ref": "c25e122e-7f46-4b3c-86ca-5627f07d364f",
       "rows": [
        [
         "Id",
         "362",
         "363",
         "364",
         "365",
         "367"
        ],
        [
         "Raison sociale",
         "FOLIES DU LAC",
         "LA FERME AUX CROCODILES",
         "MAISON PIC - Relais et Chateaux Pic",
         "VILLA AUGUSTA",
         "LA CHAUMETTE"
        ],
        [
         "Département",
         "26-Drome",
         "26-Drome",
         "26-Drome",
         "26-Drome",
         "07-Ardèche"
        ],
        [
         "Activité",
         "Spectacle",
         "Parc animalier",
         "Restaurant",
         "Hôtel/Restaurant",
         "Hôtel"
        ],
        [
         "Ville",
         "Chateauneuf sur isere",
         "Pierrelatte",
         "Valence",
         "Saint paul trois chateaux",
         "Privas"
        ]
       ],
       "shape": {
        "columns": 5,
        "rows": 5
       }
      },
      "text/html": [
       "<div>\n",
       "<style scoped>\n",
       "    .dataframe tbody tr th:only-of-type {\n",
       "        vertical-align: middle;\n",
       "    }\n",
       "\n",
       "    .dataframe tbody tr th {\n",
       "        vertical-align: top;\n",
       "    }\n",
       "\n",
       "    .dataframe thead th {\n",
       "        text-align: right;\n",
       "    }\n",
       "</style>\n",
       "<table border=\"1\" class=\"dataframe\">\n",
       "  <thead>\n",
       "    <tr style=\"text-align: right;\">\n",
       "      <th></th>\n",
       "      <th>0</th>\n",
       "      <th>1</th>\n",
       "      <th>2</th>\n",
       "      <th>3</th>\n",
       "      <th>4</th>\n",
       "    </tr>\n",
       "  </thead>\n",
       "  <tbody>\n",
       "    <tr>\n",
       "      <th>Id</th>\n",
       "      <td>362</td>\n",
       "      <td>363</td>\n",
       "      <td>364</td>\n",
       "      <td>365</td>\n",
       "      <td>367</td>\n",
       "    </tr>\n",
       "    <tr>\n",
       "      <th>Raison sociale</th>\n",
       "      <td>FOLIES DU LAC</td>\n",
       "      <td>LA FERME AUX CROCODILES</td>\n",
       "      <td>MAISON PIC - Relais et Chateaux Pic</td>\n",
       "      <td>VILLA AUGUSTA</td>\n",
       "      <td>LA CHAUMETTE</td>\n",
       "    </tr>\n",
       "    <tr>\n",
       "      <th>Département</th>\n",
       "      <td>26-Drome</td>\n",
       "      <td>26-Drome</td>\n",
       "      <td>26-Drome</td>\n",
       "      <td>26-Drome</td>\n",
       "      <td>07-Ardèche</td>\n",
       "    </tr>\n",
       "    <tr>\n",
       "      <th>Activité</th>\n",
       "      <td>Spectacle</td>\n",
       "      <td>Parc animalier</td>\n",
       "      <td>Restaurant</td>\n",
       "      <td>Hôtel/Restaurant</td>\n",
       "      <td>Hôtel</td>\n",
       "    </tr>\n",
       "    <tr>\n",
       "      <th>Ville</th>\n",
       "      <td>Chateauneuf sur isere</td>\n",
       "      <td>Pierrelatte</td>\n",
       "      <td>Valence</td>\n",
       "      <td>Saint paul trois chateaux</td>\n",
       "      <td>Privas</td>\n",
       "    </tr>\n",
       "  </tbody>\n",
       "</table>\n",
       "</div>"
      ],
      "text/plain": [
       "                                    0                        1  \\\n",
       "Id                                362                      363   \n",
       "Raison sociale          FOLIES DU LAC  LA FERME AUX CROCODILES   \n",
       "Département                  26-Drome                 26-Drome   \n",
       "Activité                    Spectacle           Parc animalier   \n",
       "Ville           Chateauneuf sur isere              Pierrelatte   \n",
       "\n",
       "                                                  2  \\\n",
       "Id                                              364   \n",
       "Raison sociale  MAISON PIC - Relais et Chateaux Pic   \n",
       "Département                                26-Drome   \n",
       "Activité                                 Restaurant   \n",
       "Ville                                       Valence   \n",
       "\n",
       "                                        3             4  \n",
       "Id                                    365           367  \n",
       "Raison sociale              VILLA AUGUSTA  LA CHAUMETTE  \n",
       "Département                      26-Drome    07-Ardèche  \n",
       "Activité                 Hôtel/Restaurant         Hôtel  \n",
       "Ville           Saint paul trois chateaux        Privas  "
      ]
     },
     "execution_count": 3,
     "metadata": {},
     "output_type": "execute_result"
    }
   ],
   "source": [
    "tab = pd.read_excel('data/ValueCounts2.xlsx', sheet_name='Feuil1')\n",
    "tab.head().transpose()"
   ]
  },
  {
   "cell_type": "markdown",
   "id": "a54f5129",
   "metadata": {},
   "source": [
    "Compter le nombre de fréquences par département"
   ]
  },
  {
   "cell_type": "code",
   "execution_count": 4,
   "id": "d617711e",
   "metadata": {},
   "outputs": [
    {
     "data": {
      "application/vnd.microsoft.datawrangler.viewer.v0+json": {
       "columns": [
        {
         "name": "Département",
         "rawType": "object",
         "type": "string"
        },
        {
         "name": "count",
         "rawType": "int64",
         "type": "integer"
        }
       ],
       "ref": "b745e454-2bc4-4242-b519-4769ed61d93a",
       "rows": [
        [
         "83-Var",
         "190"
        ],
        [
         "69-Rhone",
         "167"
        ],
        [
         "38-Isère",
         "142"
        ],
        [
         "07-Ardèche",
         "142"
        ],
        [
         "26-Drome",
         "134"
        ],
        [
         "84-Vaucluse",
         "63"
        ],
        [
         "06-Alpes Maritimes",
         "56"
        ],
        [
         "13-Bouches du Rhone",
         "38"
        ],
        [
         "42-Loire",
         "28"
        ],
        [
         "30-Gard",
         "15"
        ],
        [
         "31-Haute Garonne",
         "6"
        ],
        [
         "73-Savoie",
         "6"
        ],
        [
         "71-Saone et Loire",
         "2"
        ],
        [
         "18-Cher",
         "2"
        ],
        [
         "17-Charente Maritime",
         "1"
        ],
        [
         "75-Paris",
         "1"
        ],
        [
         "85-Vendée",
         "1"
        ],
        [
         "55-Meuse",
         "1"
        ],
        [
         "87-Haute Vienne",
         "1"
        ],
        [
         "33-Gironde",
         "1"
        ]
       ],
       "shape": {
        "columns": 1,
        "rows": 20
       }
      },
      "text/plain": [
       "Département\n",
       "83-Var                  190\n",
       "69-Rhone                167\n",
       "38-Isère                142\n",
       "07-Ardèche              142\n",
       "26-Drome                134\n",
       "84-Vaucluse              63\n",
       "06-Alpes Maritimes       56\n",
       "13-Bouches du Rhone      38\n",
       "42-Loire                 28\n",
       "30-Gard                  15\n",
       "31-Haute Garonne          6\n",
       "73-Savoie                 6\n",
       "71-Saone et Loire         2\n",
       "18-Cher                   2\n",
       "17-Charente Maritime      1\n",
       "75-Paris                  1\n",
       "85-Vendée                 1\n",
       "55-Meuse                  1\n",
       "87-Haute Vienne           1\n",
       "33-Gironde                1\n",
       "Name: count, dtype: int64"
      ]
     },
     "execution_count": 4,
     "metadata": {},
     "output_type": "execute_result"
    }
   ],
   "source": [
    "tab['Département'].value_counts()"
   ]
  }
 ],
 "metadata": {
  "kernelspec": {
   "display_name": "Python 3",
   "language": "python",
   "name": "python3"
  },
  "language_info": {
   "codemirror_mode": {
    "name": "ipython",
    "version": 3
   },
   "file_extension": ".py",
   "mimetype": "text/x-python",
   "name": "python",
   "nbconvert_exporter": "python",
   "pygments_lexer": "ipython3",
   "version": "3.12.5"
  }
 },
 "nbformat": 4,
 "nbformat_minor": 5
}
