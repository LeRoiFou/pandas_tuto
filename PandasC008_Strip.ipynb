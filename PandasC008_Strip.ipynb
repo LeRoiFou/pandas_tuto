{
 "cells": [
  {
   "cell_type": "markdown",
   "id": "d97a8fb1",
   "metadata": {},
   "source": [
    "# [Corriger les défauts d'alignement par formule Python](https://www.youtube.com/watch?v=WIIVgRbLRK4&list=PLpQBnWleLAauKmgcdndmEr81iIIoW9_Wi&index=13)\n",
    "\n",
    "Date : 13/05/2025"
   ]
  },
  {
   "cell_type": "code",
   "execution_count": 1,
   "id": "0999335d",
   "metadata": {},
   "outputs": [],
   "source": [
    "import pandas as pd"
   ]
  },
  {
   "cell_type": "code",
   "execution_count": 3,
   "id": "26a42ab1",
   "metadata": {},
   "outputs": [],
   "source": [
    "tab = pd.read_excel('data/Strip.xlsx')"
   ]
  },
  {
   "cell_type": "code",
   "execution_count": 4,
   "id": "00bb5fb2",
   "metadata": {},
   "outputs": [
    {
     "data": {
      "application/vnd.microsoft.datawrangler.viewer.v0+json": {
       "columns": [
        {
         "name": "index",
         "rawType": "int64",
         "type": "integer"
        },
        {
         "name": "Nom",
         "rawType": "object",
         "type": "string"
        },
        {
         "name": "Prime",
         "rawType": "int64",
         "type": "integer"
        }
       ],
       "conversionMethod": "pd.DataFrame",
       "ref": "e453f5b4-d771-49fd-b1eb-9b3705831e82",
       "rows": [
        [
         "0",
         "    Onète Marie   ",
         "17300"
        ],
        [
         "1",
         "    Orange Jude ",
         "11900"
        ],
        [
         "2",
         " Loupe Sacha   ",
         "14700"
        ],
        [
         "3",
         " Vire Sacha    ",
         "16600"
        ],
        [
         "4",
         "   Lipe Sophie    ",
         "6700"
        ]
       ],
       "shape": {
        "columns": 2,
        "rows": 5
       }
      },
      "text/html": [
       "<div>\n",
       "<style scoped>\n",
       "    .dataframe tbody tr th:only-of-type {\n",
       "        vertical-align: middle;\n",
       "    }\n",
       "\n",
       "    .dataframe tbody tr th {\n",
       "        vertical-align: top;\n",
       "    }\n",
       "\n",
       "    .dataframe thead th {\n",
       "        text-align: right;\n",
       "    }\n",
       "</style>\n",
       "<table border=\"1\" class=\"dataframe\">\n",
       "  <thead>\n",
       "    <tr style=\"text-align: right;\">\n",
       "      <th></th>\n",
       "      <th>Nom</th>\n",
       "      <th>Prime</th>\n",
       "    </tr>\n",
       "  </thead>\n",
       "  <tbody>\n",
       "    <tr>\n",
       "      <th>0</th>\n",
       "      <td>Onète Marie</td>\n",
       "      <td>17300</td>\n",
       "    </tr>\n",
       "    <tr>\n",
       "      <th>1</th>\n",
       "      <td>Orange Jude</td>\n",
       "      <td>11900</td>\n",
       "    </tr>\n",
       "    <tr>\n",
       "      <th>2</th>\n",
       "      <td>Loupe Sacha</td>\n",
       "      <td>14700</td>\n",
       "    </tr>\n",
       "    <tr>\n",
       "      <th>3</th>\n",
       "      <td>Vire Sacha</td>\n",
       "      <td>16600</td>\n",
       "    </tr>\n",
       "    <tr>\n",
       "      <th>4</th>\n",
       "      <td>Lipe Sophie</td>\n",
       "      <td>6700</td>\n",
       "    </tr>\n",
       "  </tbody>\n",
       "</table>\n",
       "</div>"
      ],
      "text/plain": [
       "                  Nom  Prime\n",
       "0      Onète Marie     17300\n",
       "1        Orange Jude   11900\n",
       "2      Loupe Sacha     14700\n",
       "3      Vire Sacha      16600\n",
       "4     Lipe Sophie       6700"
      ]
     },
     "execution_count": 4,
     "metadata": {},
     "output_type": "execute_result"
    }
   ],
   "source": [
    "tab.head()"
   ]
  },
  {
   "cell_type": "code",
   "execution_count": 5,
   "id": "37992387",
   "metadata": {},
   "outputs": [
    {
     "data": {
      "application/vnd.microsoft.datawrangler.viewer.v0+json": {
       "columns": [
        {
         "name": "index",
         "rawType": "int64",
         "type": "integer"
        },
        {
         "name": "Prime",
         "rawType": "int64",
         "type": "integer"
        },
        {
         "name": "Nom",
         "rawType": "object",
         "type": "string"
        }
       ],
       "conversionMethod": "pd.DataFrame",
       "ref": "fc3d3644-cf1c-4af7-ac72-48590cfd810d",
       "rows": [
        [
         "0",
         "17300",
         "Onète Marie"
        ],
        [
         "1",
         "11900",
         "Orange Jude"
        ],
        [
         "2",
         "14700",
         "Loupe Sacha"
        ],
        [
         "3",
         "16600",
         "Vire Sacha"
        ],
        [
         "4",
         "6700",
         "Lipe Sophie"
        ],
        [
         "5",
         "6200",
         "Mimi Mathis"
        ],
        [
         "6",
         "14200",
         "Strofobe Claude"
        ],
        [
         "7",
         "5500",
         "Manletan Gérard"
        ],
        [
         "8",
         "15100",
         "Cow Harry"
        ],
        [
         "9",
         "3500",
         "Sisse Médhi"
        ],
        [
         "10",
         "4700",
         "Remor Yves"
        ],
        [
         "11",
         "3200",
         "Feuline Laure"
        ],
        [
         "12",
         "12300",
         "Hoquet Clara"
        ],
        [
         "13",
         "2300",
         "Yhaubert Jean Loup"
        ],
        [
         "14",
         "19400",
         "Kiche Loren"
        ],
        [
         "15",
         "2300",
         "Veublouse Agathe"
        ]
       ],
       "shape": {
        "columns": 2,
        "rows": 16
       }
      },
      "text/html": [
       "<div>\n",
       "<style scoped>\n",
       "    .dataframe tbody tr th:only-of-type {\n",
       "        vertical-align: middle;\n",
       "    }\n",
       "\n",
       "    .dataframe tbody tr th {\n",
       "        vertical-align: top;\n",
       "    }\n",
       "\n",
       "    .dataframe thead th {\n",
       "        text-align: right;\n",
       "    }\n",
       "</style>\n",
       "<table border=\"1\" class=\"dataframe\">\n",
       "  <thead>\n",
       "    <tr style=\"text-align: right;\">\n",
       "      <th></th>\n",
       "      <th>Prime</th>\n",
       "      <th>Nom</th>\n",
       "    </tr>\n",
       "  </thead>\n",
       "  <tbody>\n",
       "    <tr>\n",
       "      <th>0</th>\n",
       "      <td>17300</td>\n",
       "      <td>Onète Marie</td>\n",
       "    </tr>\n",
       "    <tr>\n",
       "      <th>1</th>\n",
       "      <td>11900</td>\n",
       "      <td>Orange Jude</td>\n",
       "    </tr>\n",
       "    <tr>\n",
       "      <th>2</th>\n",
       "      <td>14700</td>\n",
       "      <td>Loupe Sacha</td>\n",
       "    </tr>\n",
       "    <tr>\n",
       "      <th>3</th>\n",
       "      <td>16600</td>\n",
       "      <td>Vire Sacha</td>\n",
       "    </tr>\n",
       "    <tr>\n",
       "      <th>4</th>\n",
       "      <td>6700</td>\n",
       "      <td>Lipe Sophie</td>\n",
       "    </tr>\n",
       "    <tr>\n",
       "      <th>5</th>\n",
       "      <td>6200</td>\n",
       "      <td>Mimi Mathis</td>\n",
       "    </tr>\n",
       "    <tr>\n",
       "      <th>6</th>\n",
       "      <td>14200</td>\n",
       "      <td>Strofobe Claude</td>\n",
       "    </tr>\n",
       "    <tr>\n",
       "      <th>7</th>\n",
       "      <td>5500</td>\n",
       "      <td>Manletan Gérard</td>\n",
       "    </tr>\n",
       "    <tr>\n",
       "      <th>8</th>\n",
       "      <td>15100</td>\n",
       "      <td>Cow Harry</td>\n",
       "    </tr>\n",
       "    <tr>\n",
       "      <th>9</th>\n",
       "      <td>3500</td>\n",
       "      <td>Sisse Médhi</td>\n",
       "    </tr>\n",
       "    <tr>\n",
       "      <th>10</th>\n",
       "      <td>4700</td>\n",
       "      <td>Remor Yves</td>\n",
       "    </tr>\n",
       "    <tr>\n",
       "      <th>11</th>\n",
       "      <td>3200</td>\n",
       "      <td>Feuline Laure</td>\n",
       "    </tr>\n",
       "    <tr>\n",
       "      <th>12</th>\n",
       "      <td>12300</td>\n",
       "      <td>Hoquet Clara</td>\n",
       "    </tr>\n",
       "    <tr>\n",
       "      <th>13</th>\n",
       "      <td>2300</td>\n",
       "      <td>Yhaubert Jean Loup</td>\n",
       "    </tr>\n",
       "    <tr>\n",
       "      <th>14</th>\n",
       "      <td>19400</td>\n",
       "      <td>Kiche Loren</td>\n",
       "    </tr>\n",
       "    <tr>\n",
       "      <th>15</th>\n",
       "      <td>2300</td>\n",
       "      <td>Veublouse Agathe</td>\n",
       "    </tr>\n",
       "  </tbody>\n",
       "</table>\n",
       "</div>"
      ],
      "text/plain": [
       "    Prime                 Nom\n",
       "0   17300         Onète Marie\n",
       "1   11900         Orange Jude\n",
       "2   14700         Loupe Sacha\n",
       "3   16600          Vire Sacha\n",
       "4    6700         Lipe Sophie\n",
       "5    6200         Mimi Mathis\n",
       "6   14200     Strofobe Claude\n",
       "7    5500     Manletan Gérard\n",
       "8   15100           Cow Harry\n",
       "9    3500         Sisse Médhi\n",
       "10   4700          Remor Yves\n",
       "11   3200       Feuline Laure\n",
       "12  12300        Hoquet Clara\n",
       "13   2300  Yhaubert Jean Loup\n",
       "14  19400         Kiche Loren\n",
       "15   2300    Veublouse Agathe"
      ]
     },
     "execution_count": 5,
     "metadata": {},
     "output_type": "execute_result"
    }
   ],
   "source": [
    "tab.assign(Nom=tab['Nom'].str.strip())[['Prime', 'Nom']]"
   ]
  }
 ],
 "metadata": {
  "kernelspec": {
   "display_name": "Python 3",
   "language": "python",
   "name": "python3"
  },
  "language_info": {
   "codemirror_mode": {
    "name": "ipython",
    "version": 3
   },
   "file_extension": ".py",
   "mimetype": "text/x-python",
   "name": "python",
   "nbconvert_exporter": "python",
   "pygments_lexer": "ipython3",
   "version": "3.12.5"
  }
 },
 "nbformat": 4,
 "nbformat_minor": 5
}
