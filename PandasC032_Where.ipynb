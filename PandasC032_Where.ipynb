{
 "cells": [
  {
   "cell_type": "markdown",
   "id": "9c02d9c1",
   "metadata": {},
   "source": [
    "[La méthode Python where dans les formules Excel](https://www.youtube.com/watch?v=m0oRaXp3yPI&list=PLpQBnWleLAauKmgcdndmEr81iIIoW9_Wi&index=37)\n",
    "\n",
    "Date : 09/07/2025"
   ]
  },
  {
   "cell_type": "code",
   "execution_count": 1,
   "id": "88538e56",
   "metadata": {},
   "outputs": [],
   "source": [
    "import pandas as pd"
   ]
  },
  {
   "cell_type": "code",
   "execution_count": 21,
   "id": "11805d0f",
   "metadata": {},
   "outputs": [
    {
     "data": {
      "application/vnd.microsoft.datawrangler.viewer.v0+json": {
       "columns": [
        {
         "name": "index",
         "rawType": "object",
         "type": "string"
        },
        {
         "name": "0",
         "rawType": "object",
         "type": "unknown"
        },
        {
         "name": "1",
         "rawType": "object",
         "type": "unknown"
        },
        {
         "name": "2",
         "rawType": "object",
         "type": "unknown"
        },
        {
         "name": "3",
         "rawType": "object",
         "type": "unknown"
        },
        {
         "name": "4",
         "rawType": "object",
         "type": "unknown"
        }
       ],
       "ref": "03df494a-1b3d-4fc6-af78-fd703caaf17e",
       "rows": [
        [
         "Vendeur",
         "Hochon",
         "Audine",
         "Rouana",
         "Hamalibou",
         "Céhef"
        ],
        [
         "Fixe",
         "580",
         "580",
         "690",
         "395",
         "1300"
        ],
        [
         "Ancienneté",
         "18.29",
         "22.16",
         "37.99",
         "15.55",
         "11.43"
        ],
        [
         "Commission",
         "0.037",
         "0.037",
         "0.042",
         "0.037",
         "0.037"
        ],
        [
         "Ventes",
         "18760",
         "21500",
         "15100",
         "25500",
         "22200"
        ]
       ],
       "shape": {
        "columns": 5,
        "rows": 5
       }
      },
      "text/html": [
       "<div>\n",
       "<style scoped>\n",
       "    .dataframe tbody tr th:only-of-type {\n",
       "        vertical-align: middle;\n",
       "    }\n",
       "\n",
       "    .dataframe tbody tr th {\n",
       "        vertical-align: top;\n",
       "    }\n",
       "\n",
       "    .dataframe thead th {\n",
       "        text-align: right;\n",
       "    }\n",
       "</style>\n",
       "<table border=\"1\" class=\"dataframe\">\n",
       "  <thead>\n",
       "    <tr style=\"text-align: right;\">\n",
       "      <th></th>\n",
       "      <th>0</th>\n",
       "      <th>1</th>\n",
       "      <th>2</th>\n",
       "      <th>3</th>\n",
       "      <th>4</th>\n",
       "    </tr>\n",
       "  </thead>\n",
       "  <tbody>\n",
       "    <tr>\n",
       "      <th>Vendeur</th>\n",
       "      <td>Hochon</td>\n",
       "      <td>Audine</td>\n",
       "      <td>Rouana</td>\n",
       "      <td>Hamalibou</td>\n",
       "      <td>Céhef</td>\n",
       "    </tr>\n",
       "    <tr>\n",
       "      <th>Fixe</th>\n",
       "      <td>580</td>\n",
       "      <td>580</td>\n",
       "      <td>690</td>\n",
       "      <td>395</td>\n",
       "      <td>1300</td>\n",
       "    </tr>\n",
       "    <tr>\n",
       "      <th>Ancienneté</th>\n",
       "      <td>18.29</td>\n",
       "      <td>22.16</td>\n",
       "      <td>37.99</td>\n",
       "      <td>15.55</td>\n",
       "      <td>11.43</td>\n",
       "    </tr>\n",
       "    <tr>\n",
       "      <th>Commission</th>\n",
       "      <td>0.037</td>\n",
       "      <td>0.037</td>\n",
       "      <td>0.042</td>\n",
       "      <td>0.037</td>\n",
       "      <td>0.037</td>\n",
       "    </tr>\n",
       "    <tr>\n",
       "      <th>Ventes</th>\n",
       "      <td>18760</td>\n",
       "      <td>21500</td>\n",
       "      <td>15100</td>\n",
       "      <td>25500</td>\n",
       "      <td>22200</td>\n",
       "    </tr>\n",
       "  </tbody>\n",
       "</table>\n",
       "</div>"
      ],
      "text/plain": [
       "                 0       1       2          3      4\n",
       "Vendeur     Hochon  Audine  Rouana  Hamalibou  Céhef\n",
       "Fixe           580     580     690        395   1300\n",
       "Ancienneté   18.29   22.16   37.99      15.55  11.43\n",
       "Commission   0.037   0.037   0.042      0.037  0.037\n",
       "Ventes       18760   21500   15100      25500  22200"
      ]
     },
     "execution_count": 21,
     "metadata": {},
     "output_type": "execute_result"
    }
   ],
   "source": [
    "tab = pd.read_excel('data/Where.xlsx', sheet_name='Feuil1')\n",
    "tab.head().transpose()"
   ]
  },
  {
   "cell_type": "markdown",
   "id": "bbace8c5",
   "metadata": {},
   "source": [
    "Ventes supérieures ou égales à..."
   ]
  },
  {
   "cell_type": "code",
   "execution_count": 22,
   "id": "c04b4d7a",
   "metadata": {},
   "outputs": [],
   "source": [
    "cr1 = 18000"
   ]
  },
  {
   "cell_type": "markdown",
   "id": "a12ee6cb",
   "metadata": {},
   "source": [
    "Ancienneté inférieure ou égale à..."
   ]
  },
  {
   "cell_type": "code",
   "execution_count": 23,
   "id": "8ab1a823",
   "metadata": {},
   "outputs": [],
   "source": [
    "cr2 = 25"
   ]
  },
  {
   "cell_type": "code",
   "execution_count": 24,
   "id": "8e614354",
   "metadata": {},
   "outputs": [
    {
     "data": {
      "application/vnd.microsoft.datawrangler.viewer.v0+json": {
       "columns": [
        {
         "name": "index",
         "rawType": "object",
         "type": "string"
        },
        {
         "name": "0",
         "rawType": "object",
         "type": "unknown"
        },
        {
         "name": "1",
         "rawType": "object",
         "type": "unknown"
        },
        {
         "name": "2",
         "rawType": "object",
         "type": "unknown"
        },
        {
         "name": "3",
         "rawType": "object",
         "type": "unknown"
        },
        {
         "name": "4",
         "rawType": "object",
         "type": "unknown"
        }
       ],
       "ref": "2682df12-d713-4ed2-ab6a-e955468baf9d",
       "rows": [
        [
         "Vendeur",
         "Hochon",
         "Audine",
         "Hamalibou",
         "Céhef",
         "Galls"
        ],
        [
         "Fixe",
         "580.0",
         "580.0",
         "395.0",
         "1300.0",
         "990.0"
        ],
        [
         "Ancienneté",
         "18.29",
         "22.16",
         "15.55",
         "11.43",
         "19.1"
        ],
        [
         "Commission",
         "0.037",
         "0.037",
         "0.037",
         "0.037",
         "0.032"
        ],
        [
         "Ventes",
         "18760.0",
         "21500.0",
         "25500.0",
         "22200.0",
         "27900.0"
        ]
       ],
       "shape": {
        "columns": 5,
        "rows": 5
       }
      },
      "text/html": [
       "<div>\n",
       "<style scoped>\n",
       "    .dataframe tbody tr th:only-of-type {\n",
       "        vertical-align: middle;\n",
       "    }\n",
       "\n",
       "    .dataframe tbody tr th {\n",
       "        vertical-align: top;\n",
       "    }\n",
       "\n",
       "    .dataframe thead th {\n",
       "        text-align: right;\n",
       "    }\n",
       "</style>\n",
       "<table border=\"1\" class=\"dataframe\">\n",
       "  <thead>\n",
       "    <tr style=\"text-align: right;\">\n",
       "      <th></th>\n",
       "      <th>0</th>\n",
       "      <th>1</th>\n",
       "      <th>2</th>\n",
       "      <th>3</th>\n",
       "      <th>4</th>\n",
       "    </tr>\n",
       "  </thead>\n",
       "  <tbody>\n",
       "    <tr>\n",
       "      <th>Vendeur</th>\n",
       "      <td>Hochon</td>\n",
       "      <td>Audine</td>\n",
       "      <td>Hamalibou</td>\n",
       "      <td>Céhef</td>\n",
       "      <td>Galls</td>\n",
       "    </tr>\n",
       "    <tr>\n",
       "      <th>Fixe</th>\n",
       "      <td>580.0</td>\n",
       "      <td>580.0</td>\n",
       "      <td>395.0</td>\n",
       "      <td>1300.0</td>\n",
       "      <td>990.0</td>\n",
       "    </tr>\n",
       "    <tr>\n",
       "      <th>Ancienneté</th>\n",
       "      <td>18.29</td>\n",
       "      <td>22.16</td>\n",
       "      <td>15.55</td>\n",
       "      <td>11.43</td>\n",
       "      <td>19.1</td>\n",
       "    </tr>\n",
       "    <tr>\n",
       "      <th>Commission</th>\n",
       "      <td>0.037</td>\n",
       "      <td>0.037</td>\n",
       "      <td>0.037</td>\n",
       "      <td>0.037</td>\n",
       "      <td>0.032</td>\n",
       "    </tr>\n",
       "    <tr>\n",
       "      <th>Ventes</th>\n",
       "      <td>18760.0</td>\n",
       "      <td>21500.0</td>\n",
       "      <td>25500.0</td>\n",
       "      <td>22200.0</td>\n",
       "      <td>27900.0</td>\n",
       "    </tr>\n",
       "  </tbody>\n",
       "</table>\n",
       "</div>"
      ],
      "text/plain": [
       "                  0        1          2        3        4\n",
       "Vendeur      Hochon   Audine  Hamalibou    Céhef    Galls\n",
       "Fixe          580.0    580.0      395.0   1300.0    990.0\n",
       "Ancienneté    18.29    22.16      15.55    11.43     19.1\n",
       "Commission    0.037    0.037      0.037    0.037    0.032\n",
       "Ventes      18760.0  21500.0    25500.0  22200.0  27900.0"
      ]
     },
     "execution_count": 24,
     "metadata": {},
     "output_type": "execute_result"
    }
   ],
   "source": [
    "tab=tab.where(\n",
    "    (tab['Ventes'] >= cr1) & \n",
    "    (tab['Ancienneté'] <= cr2)\n",
    "    ).dropna().reset_index(drop=True)\n",
    "tab.transpose()"
   ]
  }
 ],
 "metadata": {
  "kernelspec": {
   "display_name": "Python 3",
   "language": "python",
   "name": "python3"
  },
  "language_info": {
   "codemirror_mode": {
    "name": "ipython",
    "version": 3
   },
   "file_extension": ".py",
   "mimetype": "text/x-python",
   "name": "python",
   "nbconvert_exporter": "python",
   "pygments_lexer": "ipython3",
   "version": "3.12.5"
  }
 },
 "nbformat": 4,
 "nbformat_minor": 5
}
