{
 "cells": [
  {
   "cell_type": "markdown",
   "id": "7708e0ea",
   "metadata": {},
   "source": [
    "[Exclure les lignes différentes par formule Python](https://www.youtube.com/watch?v=u31xzznINxg&list=PLpQBnWleLAauKmgcdndmEr81iIIoW9_Wi&index=16)\n",
    "\n",
    "Date : 20/05/2025"
   ]
  },
  {
   "cell_type": "code",
   "execution_count": 1,
   "id": "5903f79e",
   "metadata": {},
   "outputs": [],
   "source": [
    "import pandas as pd"
   ]
  },
  {
   "cell_type": "code",
   "execution_count": 2,
   "id": "add16c37",
   "metadata": {},
   "outputs": [],
   "source": [
    "tab1 = pd.read_excel('data/Join.xlsx', sheet_name='Feuil1')"
   ]
  },
  {
   "cell_type": "code",
   "execution_count": 4,
   "id": "698fa75c",
   "metadata": {},
   "outputs": [
    {
     "data": {
      "application/vnd.microsoft.datawrangler.viewer.v0+json": {
       "columns": [
        {
         "name": "index",
         "rawType": "int64",
         "type": "integer"
        },
        {
         "name": "Nom",
         "rawType": "object",
         "type": "string"
        },
        {
         "name": "Prénom",
         "rawType": "object",
         "type": "string"
        }
       ],
       "conversionMethod": "pd.DataFrame",
       "ref": "f2714e07-35da-40b5-9106-66c4aedcf40e",
       "rows": [
        [
         "0",
         "Bonbeur",
         "Jean"
        ],
        [
         "1",
         "Hèresse",
         "Mégane"
        ],
        [
         "2",
         "Noix",
         "Stéphane"
        ],
        [
         "3",
         "Gature",
         "Emilie"
        ],
        [
         "4",
         "De MontéCarlo",
         "Coralie"
        ]
       ],
       "shape": {
        "columns": 2,
        "rows": 5
       }
      },
      "text/html": [
       "<div>\n",
       "<style scoped>\n",
       "    .dataframe tbody tr th:only-of-type {\n",
       "        vertical-align: middle;\n",
       "    }\n",
       "\n",
       "    .dataframe tbody tr th {\n",
       "        vertical-align: top;\n",
       "    }\n",
       "\n",
       "    .dataframe thead th {\n",
       "        text-align: right;\n",
       "    }\n",
       "</style>\n",
       "<table border=\"1\" class=\"dataframe\">\n",
       "  <thead>\n",
       "    <tr style=\"text-align: right;\">\n",
       "      <th></th>\n",
       "      <th>Nom</th>\n",
       "      <th>Prénom</th>\n",
       "    </tr>\n",
       "  </thead>\n",
       "  <tbody>\n",
       "    <tr>\n",
       "      <th>0</th>\n",
       "      <td>Bonbeur</td>\n",
       "      <td>Jean</td>\n",
       "    </tr>\n",
       "    <tr>\n",
       "      <th>1</th>\n",
       "      <td>Hèresse</td>\n",
       "      <td>Mégane</td>\n",
       "    </tr>\n",
       "    <tr>\n",
       "      <th>2</th>\n",
       "      <td>Noix</td>\n",
       "      <td>Stéphane</td>\n",
       "    </tr>\n",
       "    <tr>\n",
       "      <th>3</th>\n",
       "      <td>Gature</td>\n",
       "      <td>Emilie</td>\n",
       "    </tr>\n",
       "    <tr>\n",
       "      <th>4</th>\n",
       "      <td>De MontéCarlo</td>\n",
       "      <td>Coralie</td>\n",
       "    </tr>\n",
       "  </tbody>\n",
       "</table>\n",
       "</div>"
      ],
      "text/plain": [
       "             Nom    Prénom\n",
       "0        Bonbeur      Jean\n",
       "1        Hèresse    Mégane\n",
       "2           Noix  Stéphane\n",
       "3         Gature    Emilie\n",
       "4  De MontéCarlo   Coralie"
      ]
     },
     "execution_count": 4,
     "metadata": {},
     "output_type": "execute_result"
    }
   ],
   "source": [
    "tab1.head()"
   ]
  },
  {
   "cell_type": "code",
   "execution_count": 3,
   "id": "069b7789",
   "metadata": {},
   "outputs": [],
   "source": [
    "tab2 = pd.read_excel('data/Join.xlsx', sheet_name='Feuil2')"
   ]
  },
  {
   "cell_type": "code",
   "execution_count": 5,
   "id": "cf1a1ef8",
   "metadata": {},
   "outputs": [
    {
     "data": {
      "application/vnd.microsoft.datawrangler.viewer.v0+json": {
       "columns": [
        {
         "name": "index",
         "rawType": "int64",
         "type": "integer"
        },
        {
         "name": "Nom",
         "rawType": "object",
         "type": "string"
        },
        {
         "name": "Prénom",
         "rawType": "object",
         "type": "string"
        }
       ],
       "conversionMethod": "pd.DataFrame",
       "ref": "832d12b2-d8d5-49a0-908b-348b5b508313",
       "rows": [
        [
         "0",
         "Bonbeur",
         "Jean"
        ],
        [
         "1",
         "Hèresse",
         "Mégane"
        ],
        [
         "2",
         "Noix",
         "Stéphane"
        ],
        [
         "3",
         "Gature",
         "Emilie"
        ],
        [
         "4",
         "De MontéCarlo",
         "Coralie"
        ]
       ],
       "shape": {
        "columns": 2,
        "rows": 5
       }
      },
      "text/html": [
       "<div>\n",
       "<style scoped>\n",
       "    .dataframe tbody tr th:only-of-type {\n",
       "        vertical-align: middle;\n",
       "    }\n",
       "\n",
       "    .dataframe tbody tr th {\n",
       "        vertical-align: top;\n",
       "    }\n",
       "\n",
       "    .dataframe thead th {\n",
       "        text-align: right;\n",
       "    }\n",
       "</style>\n",
       "<table border=\"1\" class=\"dataframe\">\n",
       "  <thead>\n",
       "    <tr style=\"text-align: right;\">\n",
       "      <th></th>\n",
       "      <th>Nom</th>\n",
       "      <th>Prénom</th>\n",
       "    </tr>\n",
       "  </thead>\n",
       "  <tbody>\n",
       "    <tr>\n",
       "      <th>0</th>\n",
       "      <td>Bonbeur</td>\n",
       "      <td>Jean</td>\n",
       "    </tr>\n",
       "    <tr>\n",
       "      <th>1</th>\n",
       "      <td>Hèresse</td>\n",
       "      <td>Mégane</td>\n",
       "    </tr>\n",
       "    <tr>\n",
       "      <th>2</th>\n",
       "      <td>Noix</td>\n",
       "      <td>Stéphane</td>\n",
       "    </tr>\n",
       "    <tr>\n",
       "      <th>3</th>\n",
       "      <td>Gature</td>\n",
       "      <td>Emilie</td>\n",
       "    </tr>\n",
       "    <tr>\n",
       "      <th>4</th>\n",
       "      <td>De MontéCarlo</td>\n",
       "      <td>Coralie</td>\n",
       "    </tr>\n",
       "  </tbody>\n",
       "</table>\n",
       "</div>"
      ],
      "text/plain": [
       "             Nom    Prénom\n",
       "0        Bonbeur      Jean\n",
       "1        Hèresse    Mégane\n",
       "2           Noix  Stéphane\n",
       "3         Gature    Emilie\n",
       "4  De MontéCarlo   Coralie"
      ]
     },
     "execution_count": 5,
     "metadata": {},
     "output_type": "execute_result"
    }
   ],
   "source": [
    "tab2.head()"
   ]
  },
  {
   "cell_type": "code",
   "execution_count": 6,
   "id": "97877406",
   "metadata": {},
   "outputs": [],
   "source": [
    "# Définition de l'index direct de chaque DF\n",
    "tab1.set_index('Nom', inplace=True)\n",
    "tab2.set_index('Nom', inplace=True)"
   ]
  },
  {
   "cell_type": "code",
   "execution_count": 9,
   "id": "2db2a4de",
   "metadata": {},
   "outputs": [
    {
     "data": {
      "application/vnd.microsoft.datawrangler.viewer.v0+json": {
       "columns": [
        {
         "name": "Nom",
         "rawType": "object",
         "type": "string"
        },
        {
         "name": "Prénom_tab1",
         "rawType": "object",
         "type": "string"
        }
       ],
       "conversionMethod": "pd.DataFrame",
       "ref": "2f742f23-b054-42e2-9686-901fa2db9faa",
       "rows": [
        [
         "Bonbeur",
         "Jean"
        ],
        [
         "Braltar",
         "Giles"
        ],
        [
         "De MontéCarlo",
         "Coralie"
        ],
        [
         "Doeuf",
         "John"
        ],
        [
         "Douche",
         "Raël"
        ],
        [
         "Gature",
         "Emilie"
        ],
        [
         "Hèresse",
         "Mégane"
        ],
        [
         "Hénéré",
         "Nadège"
        ],
        [
         "Jet",
         "Claire"
        ],
        [
         "Lile",
         "Maurice"
        ],
        [
         "Niomme",
         "Gérard"
        ],
        [
         "Noix",
         "Stéphane"
        ],
        [
         "Sarbaque",
         "Anne"
        ],
        [
         "Solo",
         "Yohan"
        ]
       ],
       "shape": {
        "columns": 1,
        "rows": 14
       }
      },
      "text/html": [
       "<div>\n",
       "<style scoped>\n",
       "    .dataframe tbody tr th:only-of-type {\n",
       "        vertical-align: middle;\n",
       "    }\n",
       "\n",
       "    .dataframe tbody tr th {\n",
       "        vertical-align: top;\n",
       "    }\n",
       "\n",
       "    .dataframe thead th {\n",
       "        text-align: right;\n",
       "    }\n",
       "</style>\n",
       "<table border=\"1\" class=\"dataframe\">\n",
       "  <thead>\n",
       "    <tr style=\"text-align: right;\">\n",
       "      <th></th>\n",
       "      <th>Prénom_tab1</th>\n",
       "    </tr>\n",
       "    <tr>\n",
       "      <th>Nom</th>\n",
       "      <th></th>\n",
       "    </tr>\n",
       "  </thead>\n",
       "  <tbody>\n",
       "    <tr>\n",
       "      <th>Bonbeur</th>\n",
       "      <td>Jean</td>\n",
       "    </tr>\n",
       "    <tr>\n",
       "      <th>Braltar</th>\n",
       "      <td>Giles</td>\n",
       "    </tr>\n",
       "    <tr>\n",
       "      <th>De MontéCarlo</th>\n",
       "      <td>Coralie</td>\n",
       "    </tr>\n",
       "    <tr>\n",
       "      <th>Doeuf</th>\n",
       "      <td>John</td>\n",
       "    </tr>\n",
       "    <tr>\n",
       "      <th>Douche</th>\n",
       "      <td>Raël</td>\n",
       "    </tr>\n",
       "    <tr>\n",
       "      <th>Gature</th>\n",
       "      <td>Emilie</td>\n",
       "    </tr>\n",
       "    <tr>\n",
       "      <th>Hèresse</th>\n",
       "      <td>Mégane</td>\n",
       "    </tr>\n",
       "    <tr>\n",
       "      <th>Hénéré</th>\n",
       "      <td>Nadège</td>\n",
       "    </tr>\n",
       "    <tr>\n",
       "      <th>Jet</th>\n",
       "      <td>Claire</td>\n",
       "    </tr>\n",
       "    <tr>\n",
       "      <th>Lile</th>\n",
       "      <td>Maurice</td>\n",
       "    </tr>\n",
       "    <tr>\n",
       "      <th>Niomme</th>\n",
       "      <td>Gérard</td>\n",
       "    </tr>\n",
       "    <tr>\n",
       "      <th>Noix</th>\n",
       "      <td>Stéphane</td>\n",
       "    </tr>\n",
       "    <tr>\n",
       "      <th>Sarbaque</th>\n",
       "      <td>Anne</td>\n",
       "    </tr>\n",
       "    <tr>\n",
       "      <th>Solo</th>\n",
       "      <td>Yohan</td>\n",
       "    </tr>\n",
       "  </tbody>\n",
       "</table>\n",
       "</div>"
      ],
      "text/plain": [
       "              Prénom_tab1\n",
       "Nom                      \n",
       "Bonbeur              Jean\n",
       "Braltar             Giles\n",
       "De MontéCarlo     Coralie\n",
       "Doeuf                John\n",
       "Douche               Raël\n",
       "Gature             Emilie\n",
       "Hèresse            Mégane\n",
       "Hénéré             Nadège\n",
       "Jet                Claire\n",
       "Lile              Maurice\n",
       "Niomme             Gérard\n",
       "Noix             Stéphane\n",
       "Sarbaque             Anne\n",
       "Solo                Yohan"
      ]
     },
     "execution_count": 9,
     "metadata": {},
     "output_type": "execute_result"
    }
   ],
   "source": [
    "# Recoupement entre les deux DF\n",
    "tab1.join(tab2, lsuffix='_tab1', rsuffix='_tab2', sort=True\n",
    "          ).dropna().drop(columns=['Prénom_tab2'])"
   ]
  }
 ],
 "metadata": {
  "kernelspec": {
   "display_name": "Python 3",
   "language": "python",
   "name": "python3"
  },
  "language_info": {
   "codemirror_mode": {
    "name": "ipython",
    "version": 3
   },
   "file_extension": ".py",
   "mimetype": "text/x-python",
   "name": "python",
   "nbconvert_exporter": "python",
   "pygments_lexer": "ipython3",
   "version": "3.12.5"
  }
 },
 "nbformat": 4,
 "nbformat_minor": 5
}
