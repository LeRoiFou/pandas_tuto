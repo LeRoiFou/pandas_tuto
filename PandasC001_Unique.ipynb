{
 "cells": [
  {
   "cell_type": "markdown",
   "metadata": {},
   "source": [
    "# Unique()\n",
    "\n",
    "Fonction permettant de supprimer les doublons.\n",
    "La fonction drop_duplicate() est similaire à la fonction unique(), mais elle peut aussi rendre les valeurs uniques avec deux champs"
   ]
  },
  {
   "cell_type": "code",
   "execution_count": 10,
   "metadata": {},
   "outputs": [],
   "source": [
    "import pandas as pd\n",
    "from skimpy import skim"
   ]
  },
  {
   "cell_type": "code",
   "execution_count": 4,
   "metadata": {},
   "outputs": [],
   "source": [
    "df = pd.read_excel('data/Unique.xlsx')"
   ]
  },
  {
   "cell_type": "code",
   "execution_count": 5,
   "metadata": {},
   "outputs": [
    {
     "data": {
      "application/vnd.microsoft.datawrangler.viewer.v0+json": {
       "columns": [
        {
         "name": "index",
         "rawType": "int64",
         "type": "integer"
        },
        {
         "name": "Id",
         "rawType": "int64",
         "type": "integer"
        },
        {
         "name": "Raison sociale",
         "rawType": "object",
         "type": "string"
        },
        {
         "name": "Département",
         "rawType": "object",
         "type": "string"
        },
        {
         "name": "Activité",
         "rawType": "object",
         "type": "string"
        },
        {
         "name": "Ville",
         "rawType": "object",
         "type": "string"
        }
       ],
       "conversionMethod": "pd.DataFrame",
       "ref": "57575321-f126-40e6-b0c8-6b99f9627202",
       "rows": [
        [
         "0",
         "1175",
         "Topfit",
         "06-Alpes Maritimes",
         "Clubs de forme",
         "Antibes juan les pins"
        ],
        [
         "1",
         "1196",
         "Antibes Squash et Fitness Club",
         "06-Alpes Maritimes",
         "Clubs de forme",
         "Antibes juan les pins"
        ],
        [
         "2",
         "1205",
         "LADY FITNESS ANTIBES",
         "06-Alpes Maritimes",
         "Clubs de forme",
         "Antibes juan les pins"
        ],
        [
         "3",
         "1203",
         "FITLANE",
         "06-Alpes Maritimes",
         "Clubs de forme",
         "Mandelieu la napoule"
        ],
        [
         "4",
         "1197",
         "APHYSIA",
         "06-Alpes Maritimes",
         "Clubs de forme",
         "Nice"
        ]
       ],
       "shape": {
        "columns": 5,
        "rows": 5
       }
      },
      "text/html": [
       "<div>\n",
       "<style scoped>\n",
       "    .dataframe tbody tr th:only-of-type {\n",
       "        vertical-align: middle;\n",
       "    }\n",
       "\n",
       "    .dataframe tbody tr th {\n",
       "        vertical-align: top;\n",
       "    }\n",
       "\n",
       "    .dataframe thead th {\n",
       "        text-align: right;\n",
       "    }\n",
       "</style>\n",
       "<table border=\"1\" class=\"dataframe\">\n",
       "  <thead>\n",
       "    <tr style=\"text-align: right;\">\n",
       "      <th></th>\n",
       "      <th>Id</th>\n",
       "      <th>Raison sociale</th>\n",
       "      <th>Département</th>\n",
       "      <th>Activité</th>\n",
       "      <th>Ville</th>\n",
       "    </tr>\n",
       "  </thead>\n",
       "  <tbody>\n",
       "    <tr>\n",
       "      <th>0</th>\n",
       "      <td>1175</td>\n",
       "      <td>Topfit</td>\n",
       "      <td>06-Alpes Maritimes</td>\n",
       "      <td>Clubs de forme</td>\n",
       "      <td>Antibes juan les pins</td>\n",
       "    </tr>\n",
       "    <tr>\n",
       "      <th>1</th>\n",
       "      <td>1196</td>\n",
       "      <td>Antibes Squash et Fitness Club</td>\n",
       "      <td>06-Alpes Maritimes</td>\n",
       "      <td>Clubs de forme</td>\n",
       "      <td>Antibes juan les pins</td>\n",
       "    </tr>\n",
       "    <tr>\n",
       "      <th>2</th>\n",
       "      <td>1205</td>\n",
       "      <td>LADY FITNESS ANTIBES</td>\n",
       "      <td>06-Alpes Maritimes</td>\n",
       "      <td>Clubs de forme</td>\n",
       "      <td>Antibes juan les pins</td>\n",
       "    </tr>\n",
       "    <tr>\n",
       "      <th>3</th>\n",
       "      <td>1203</td>\n",
       "      <td>FITLANE</td>\n",
       "      <td>06-Alpes Maritimes</td>\n",
       "      <td>Clubs de forme</td>\n",
       "      <td>Mandelieu la napoule</td>\n",
       "    </tr>\n",
       "    <tr>\n",
       "      <th>4</th>\n",
       "      <td>1197</td>\n",
       "      <td>APHYSIA</td>\n",
       "      <td>06-Alpes Maritimes</td>\n",
       "      <td>Clubs de forme</td>\n",
       "      <td>Nice</td>\n",
       "    </tr>\n",
       "  </tbody>\n",
       "</table>\n",
       "</div>"
      ],
      "text/plain": [
       "     Id                  Raison sociale         Département        Activité  \\\n",
       "0  1175                          Topfit  06-Alpes Maritimes  Clubs de forme   \n",
       "1  1196  Antibes Squash et Fitness Club  06-Alpes Maritimes  Clubs de forme   \n",
       "2  1205            LADY FITNESS ANTIBES  06-Alpes Maritimes  Clubs de forme   \n",
       "3  1203                         FITLANE  06-Alpes Maritimes  Clubs de forme   \n",
       "4  1197                         APHYSIA  06-Alpes Maritimes  Clubs de forme   \n",
       "\n",
       "                   Ville  \n",
       "0  Antibes juan les pins  \n",
       "1  Antibes juan les pins  \n",
       "2  Antibes juan les pins  \n",
       "3   Mandelieu la napoule  \n",
       "4                   Nice  "
      ]
     },
     "execution_count": 5,
     "metadata": {},
     "output_type": "execute_result"
    }
   ],
   "source": [
    "df.head()"
   ]
  },
  {
   "cell_type": "code",
   "execution_count": 11,
   "metadata": {},
   "outputs": [
    {
     "data": {
      "text/html": [
       "<pre style=\"white-space:pre;overflow-x:auto;line-height:normal;font-family:Menlo,'DejaVu Sans Mono',consolas,'Courier New',monospace\">╭──────────────────────────────────────────────── skimpy summary ─────────────────────────────────────────────────╮\n",
       "│ <span style=\"font-style: italic\">         Data Summary         </span> <span style=\"font-style: italic\">      Data Types       </span>                                                          │\n",
       "│ ┏━━━━━━━━━━━━━━━━━━━┳━━━━━━━━┓ ┏━━━━━━━━━━━━━┳━━━━━━━┓                                                          │\n",
       "│ ┃<span style=\"color: #008080; text-decoration-color: #008080; font-weight: bold\"> Dataframe         </span>┃<span style=\"color: #008080; text-decoration-color: #008080; font-weight: bold\"> Values </span>┃ ┃<span style=\"color: #008080; text-decoration-color: #008080; font-weight: bold\"> Column Type </span>┃<span style=\"color: #008080; text-decoration-color: #008080; font-weight: bold\"> Count </span>┃                                                          │\n",
       "│ ┡━━━━━━━━━━━━━━━━━━━╇━━━━━━━━┩ ┡━━━━━━━━━━━━━╇━━━━━━━┩                                                          │\n",
       "│ │ Number of rows    │ 997    │ │ string      │ 4     │                                                          │\n",
       "│ │ Number of columns │ 5      │ │ int64       │ 1     │                                                          │\n",
       "│ └───────────────────┴────────┘ └─────────────┴───────┘                                                          │\n",
       "│ <span style=\"font-style: italic\">                                                    number                                                    </span>  │\n",
       "│ ┏━━━━━━━━━━━━┳━━━━━━┳━━━━━━━━━┳━━━━━━━━━┳━━━━━━━━━━┳━━━━━━━━┳━━━━━━━┳━━━━━━━┳━━━━━━━━━┳━━━━━━━━━━━┳━━━━━━━━━━┓  │\n",
       "│ ┃<span style=\"font-weight: bold\"> column     </span>┃<span style=\"font-weight: bold\"> NA   </span>┃<span style=\"font-weight: bold\"> NA %    </span>┃<span style=\"font-weight: bold\"> mean    </span>┃<span style=\"font-weight: bold\"> sd       </span>┃<span style=\"font-weight: bold\"> p0     </span>┃<span style=\"font-weight: bold\"> p25   </span>┃<span style=\"font-weight: bold\"> p50   </span>┃<span style=\"font-weight: bold\"> p75     </span>┃<span style=\"font-weight: bold\"> p100      </span>┃<span style=\"font-weight: bold\"> hist     </span>┃  │\n",
       "│ ┡━━━━━━━━━━━━╇━━━━━━╇━━━━━━━━━╇━━━━━━━━━╇━━━━━━━━━━╇━━━━━━━━╇━━━━━━━╇━━━━━━━╇━━━━━━━━━╇━━━━━━━━━━━╇━━━━━━━━━━┩  │\n",
       "│ │ <span style=\"color: #af87ff; text-decoration-color: #af87ff\">Id        </span> │ <span style=\"color: #008080; text-decoration-color: #008080\">   0</span> │ <span style=\"color: #008080; text-decoration-color: #008080\">      0</span> │ <span style=\"color: #008080; text-decoration-color: #008080\">   6011</span> │ <span style=\"color: #008080; text-decoration-color: #008080\">   46820</span> │ <span style=\"color: #008080; text-decoration-color: #008080\">   362</span> │ <span style=\"color: #008080; text-decoration-color: #008080\">  681</span> │ <span style=\"color: #008080; text-decoration-color: #008080\">  934</span> │ <span style=\"color: #008080; text-decoration-color: #008080\">   1193</span> │ <span style=\"color: #008080; text-decoration-color: #008080\">   470800</span> │ <span style=\"color: #008000; text-decoration-color: #008000\">   ▇    </span> │  │\n",
       "│ └────────────┴──────┴─────────┴─────────┴──────────┴────────┴───────┴───────┴─────────┴───────────┴──────────┘  │\n",
       "│ <span style=\"font-style: italic\">                                                    string                                                    </span>  │\n",
       "│ ┏━━━━━━━━━━━┳━━━━┳━━━━━━┳━━━━━━━━━━┳━━━━━━━━━━━┳━━━━━━━━━━━┳━━━━━━━━━━━┳━━━━━━━━━━━━┳━━━━━━━━━━━┳━━━━━━━━━━━━┓  │\n",
       "│ ┃<span style=\"font-weight: bold\">           </span>┃<span style=\"font-weight: bold\">    </span>┃<span style=\"font-weight: bold\">      </span>┃<span style=\"font-weight: bold\">          </span>┃<span style=\"font-weight: bold\">           </span>┃<span style=\"font-weight: bold\">           </span>┃<span style=\"font-weight: bold\">           </span>┃<span style=\"font-weight: bold\"> chars per  </span>┃<span style=\"font-weight: bold\"> words per </span>┃<span style=\"font-weight: bold\"> total      </span>┃  │\n",
       "│ ┃<span style=\"font-weight: bold\"> column    </span>┃<span style=\"font-weight: bold\"> NA </span>┃<span style=\"font-weight: bold\"> NA % </span>┃<span style=\"font-weight: bold\"> shortest </span>┃<span style=\"font-weight: bold\"> longest   </span>┃<span style=\"font-weight: bold\"> min       </span>┃<span style=\"font-weight: bold\"> max       </span>┃<span style=\"font-weight: bold\"> row        </span>┃<span style=\"font-weight: bold\"> row       </span>┃<span style=\"font-weight: bold\"> words      </span>┃  │\n",
       "│ ┡━━━━━━━━━━━╇━━━━╇━━━━━━╇━━━━━━━━━━╇━━━━━━━━━━━╇━━━━━━━━━━━╇━━━━━━━━━━━╇━━━━━━━━━━━━╇━━━━━━━━━━━╇━━━━━━━━━━━━┩  │\n",
       "│ │ <span style=\"color: #af87ff; text-decoration-color: #af87ff\">Raison   </span> │ <span style=\"color: #008080; text-decoration-color: #008080\"> 0</span> │ <span style=\"color: #008080; text-decoration-color: #008080\">   0</span> │ <span style=\"color: #af87ff; text-decoration-color: #af87ff\">S2C     </span> │ <span style=\"color: #af87ff; text-decoration-color: #af87ff\">Hertz BPA</span> │ <span style=\"color: #af87ff; text-decoration-color: #af87ff\">AB       </span> │ <span style=\"color: #af87ff; text-decoration-color: #af87ff\">Zig Zag  </span> │ <span style=\"color: #008080; text-decoration-color: #008080\">      17.5</span> │ <span style=\"color: #008080; text-decoration-color: #008080\">        3</span> │ <span style=\"color: #008080; text-decoration-color: #008080\">      2984</span> │  │\n",
       "│ │ <span style=\"color: #af87ff; text-decoration-color: #af87ff\">sociale  </span> │    │      │          │ <span style=\"color: #af87ff; text-decoration-color: #af87ff\">(SA)     </span> │ <span style=\"color: #af87ff; text-decoration-color: #af87ff\">Location </span> │           │            │           │            │  │\n",
       "│ │           │    │      │          │ <span style=\"color: #af87ff; text-decoration-color: #af87ff\">Franchisé</span> │           │           │            │           │            │  │\n",
       "│ │           │    │      │          │ <span style=\"color: #af87ff; text-decoration-color: #af87ff\">indépenda</span> │           │           │            │           │            │  │\n",
       "│ │           │    │      │          │ <span style=\"color: #af87ff; text-decoration-color: #af87ff\">nt à     </span> │           │           │            │           │            │  │\n",
       "│ │           │    │      │          │ <span style=\"color: #af87ff; text-decoration-color: #af87ff\">Valréas  </span> │           │           │            │           │            │  │\n",
       "│ │           │    │      │          │ <span style=\"color: #af87ff; text-decoration-color: #af87ff\">Dépôt    </span> │           │           │            │           │            │  │\n",
       "│ │           │    │      │          │ <span style=\"color: #af87ff; text-decoration-color: #af87ff\">chez     </span> │           │           │            │           │            │  │\n",
       "│ │           │    │      │          │ <span style=\"color: #af87ff; text-decoration-color: #af87ff\">garage   </span> │           │           │            │           │            │  │\n",
       "│ │           │    │      │          │ <span style=\"color: #af87ff; text-decoration-color: #af87ff\">Peugeot  </span> │           │           │            │           │            │  │\n",
       "│ │ <span style=\"color: #af87ff; text-decoration-color: #af87ff\">Départeme</span> │ <span style=\"color: #008080; text-decoration-color: #008080\"> 0</span> │ <span style=\"color: #008080; text-decoration-color: #008080\">   0</span> │ <span style=\"color: #af87ff; text-decoration-color: #af87ff\">83-Var  </span> │ <span style=\"color: #af87ff; text-decoration-color: #af87ff\">17-Charen</span> │ <span style=\"color: #af87ff; text-decoration-color: #af87ff\">06-Alpes </span> │ <span style=\"color: #af87ff; text-decoration-color: #af87ff\">87-Haute </span> │ <span style=\"color: #008080; text-decoration-color: #008080\">      9.15</span> │ <span style=\"color: #008080; text-decoration-color: #008080\">      1.1</span> │ <span style=\"color: #008080; text-decoration-color: #008080\">      1141</span> │  │\n",
       "│ │ <span style=\"color: #af87ff; text-decoration-color: #af87ff\">nt       </span> │    │      │          │ <span style=\"color: #af87ff; text-decoration-color: #af87ff\">te       </span> │ <span style=\"color: #af87ff; text-decoration-color: #af87ff\">Maritimes</span> │ <span style=\"color: #af87ff; text-decoration-color: #af87ff\">Vienne   </span> │            │           │            │  │\n",
       "│ │           │    │      │          │ <span style=\"color: #af87ff; text-decoration-color: #af87ff\">Maritime </span> │           │           │            │           │            │  │\n",
       "│ │ <span style=\"color: #af87ff; text-decoration-color: #af87ff\">Activité </span> │ <span style=\"color: #008080; text-decoration-color: #008080\"> 0</span> │ <span style=\"color: #008080; text-decoration-color: #008080\">   0</span> │ <span style=\"color: #af87ff; text-decoration-color: #af87ff\">Golf    </span> │ <span style=\"color: #af87ff; text-decoration-color: #af87ff\">Centres  </span> │ <span style=\"color: #af87ff; text-decoration-color: #af87ff\">Bar/Café </span> │ <span style=\"color: #af87ff; text-decoration-color: #af87ff\">parc     </span> │ <span style=\"color: #008080; text-decoration-color: #008080\">      12.2</span> │ <span style=\"color: #008080; text-decoration-color: #008080\">      1.3</span> │ <span style=\"color: #008080; text-decoration-color: #008080\">      1299</span> │  │\n",
       "│ │           │    │      │          │ <span style=\"color: #af87ff; text-decoration-color: #af87ff\">equestres</span> │           │ <span style=\"color: #af87ff; text-decoration-color: #af87ff\">d'attract</span> │            │           │            │  │\n",
       "│ │           │    │      │          │ <span style=\"color: #af87ff; text-decoration-color: #af87ff\">,        </span> │           │ <span style=\"color: #af87ff; text-decoration-color: #af87ff\">ion      </span> │            │           │            │  │\n",
       "│ │           │    │      │          │ <span style=\"color: #af87ff; text-decoration-color: #af87ff\">equitatio</span> │           │           │            │           │            │  │\n",
       "│ │           │    │      │          │ <span style=\"color: #af87ff; text-decoration-color: #af87ff\">n        </span> │           │           │            │           │            │  │\n",
       "│ │ <span style=\"color: #af87ff; text-decoration-color: #af87ff\">Ville    </span> │ <span style=\"color: #008080; text-decoration-color: #008080\"> 0</span> │ <span style=\"color: #008080; text-decoration-color: #008080\">   0</span> │ <span style=\"color: #af87ff; text-decoration-color: #af87ff\">Nice    </span> │ <span style=\"color: #af87ff; text-decoration-color: #af87ff\">Saint    </span> │ <span style=\"color: #af87ff; text-decoration-color: #af87ff\">Agay     </span> │ <span style=\"color: #af87ff; text-decoration-color: #af87ff\">Voreppe  </span> │ <span style=\"color: #008080; text-decoration-color: #008080\">      10.9</span> │ <span style=\"color: #008080; text-decoration-color: #008080\">      1.8</span> │ <span style=\"color: #008080; text-decoration-color: #008080\">      1800</span> │  │\n",
       "│ │           │    │      │          │ <span style=\"color: #af87ff; text-decoration-color: #af87ff\">maximin  </span> │           │           │            │           │            │  │\n",
       "│ │           │    │      │          │ <span style=\"color: #af87ff; text-decoration-color: #af87ff\">la sainte</span> │           │           │            │           │            │  │\n",
       "│ │           │    │      │          │ <span style=\"color: #af87ff; text-decoration-color: #af87ff\">baume    </span> │           │           │            │           │            │  │\n",
       "│ └───────────┴────┴──────┴──────────┴───────────┴───────────┴───────────┴────────────┴───────────┴────────────┘  │\n",
       "╰────────────────────────────────────────────────────── End ──────────────────────────────────────────────────────╯\n",
       "</pre>\n"
      ],
      "text/plain": [
       "╭──────────────────────────────────────────────── skimpy summary ─────────────────────────────────────────────────╮\n",
       "│ \u001b[3m         Data Summary         \u001b[0m \u001b[3m      Data Types       \u001b[0m                                                          │\n",
       "│ ┏━━━━━━━━━━━━━━━━━━━┳━━━━━━━━┓ ┏━━━━━━━━━━━━━┳━━━━━━━┓                                                          │\n",
       "│ ┃\u001b[1;36m \u001b[0m\u001b[1;36mDataframe        \u001b[0m\u001b[1;36m \u001b[0m┃\u001b[1;36m \u001b[0m\u001b[1;36mValues\u001b[0m\u001b[1;36m \u001b[0m┃ ┃\u001b[1;36m \u001b[0m\u001b[1;36mColumn Type\u001b[0m\u001b[1;36m \u001b[0m┃\u001b[1;36m \u001b[0m\u001b[1;36mCount\u001b[0m\u001b[1;36m \u001b[0m┃                                                          │\n",
       "│ ┡━━━━━━━━━━━━━━━━━━━╇━━━━━━━━┩ ┡━━━━━━━━━━━━━╇━━━━━━━┩                                                          │\n",
       "│ │ Number of rows    │ 997    │ │ string      │ 4     │                                                          │\n",
       "│ │ Number of columns │ 5      │ │ int64       │ 1     │                                                          │\n",
       "│ └───────────────────┴────────┘ └─────────────┴───────┘                                                          │\n",
       "│ \u001b[3m                                                    number                                                    \u001b[0m  │\n",
       "│ ┏━━━━━━━━━━━━┳━━━━━━┳━━━━━━━━━┳━━━━━━━━━┳━━━━━━━━━━┳━━━━━━━━┳━━━━━━━┳━━━━━━━┳━━━━━━━━━┳━━━━━━━━━━━┳━━━━━━━━━━┓  │\n",
       "│ ┃\u001b[1m \u001b[0m\u001b[1mcolumn    \u001b[0m\u001b[1m \u001b[0m┃\u001b[1m \u001b[0m\u001b[1mNA  \u001b[0m\u001b[1m \u001b[0m┃\u001b[1m \u001b[0m\u001b[1mNA %   \u001b[0m\u001b[1m \u001b[0m┃\u001b[1m \u001b[0m\u001b[1mmean   \u001b[0m\u001b[1m \u001b[0m┃\u001b[1m \u001b[0m\u001b[1msd      \u001b[0m\u001b[1m \u001b[0m┃\u001b[1m \u001b[0m\u001b[1mp0    \u001b[0m\u001b[1m \u001b[0m┃\u001b[1m \u001b[0m\u001b[1mp25  \u001b[0m\u001b[1m \u001b[0m┃\u001b[1m \u001b[0m\u001b[1mp50  \u001b[0m\u001b[1m \u001b[0m┃\u001b[1m \u001b[0m\u001b[1mp75    \u001b[0m\u001b[1m \u001b[0m┃\u001b[1m \u001b[0m\u001b[1mp100     \u001b[0m\u001b[1m \u001b[0m┃\u001b[1m \u001b[0m\u001b[1mhist    \u001b[0m\u001b[1m \u001b[0m┃  │\n",
       "│ ┡━━━━━━━━━━━━╇━━━━━━╇━━━━━━━━━╇━━━━━━━━━╇━━━━━━━━━━╇━━━━━━━━╇━━━━━━━╇━━━━━━━╇━━━━━━━━━╇━━━━━━━━━━━╇━━━━━━━━━━┩  │\n",
       "│ │ \u001b[38;5;141mId        \u001b[0m │ \u001b[36m   0\u001b[0m │ \u001b[36m      0\u001b[0m │ \u001b[36m   6011\u001b[0m │ \u001b[36m   46820\u001b[0m │ \u001b[36m   362\u001b[0m │ \u001b[36m  681\u001b[0m │ \u001b[36m  934\u001b[0m │ \u001b[36m   1193\u001b[0m │ \u001b[36m   470800\u001b[0m │ \u001b[32m   ▇    \u001b[0m │  │\n",
       "│ └────────────┴──────┴─────────┴─────────┴──────────┴────────┴───────┴───────┴─────────┴───────────┴──────────┘  │\n",
       "│ \u001b[3m                                                    string                                                    \u001b[0m  │\n",
       "│ ┏━━━━━━━━━━━┳━━━━┳━━━━━━┳━━━━━━━━━━┳━━━━━━━━━━━┳━━━━━━━━━━━┳━━━━━━━━━━━┳━━━━━━━━━━━━┳━━━━━━━━━━━┳━━━━━━━━━━━━┓  │\n",
       "│ ┃\u001b[1m           \u001b[0m┃\u001b[1m    \u001b[0m┃\u001b[1m      \u001b[0m┃\u001b[1m          \u001b[0m┃\u001b[1m           \u001b[0m┃\u001b[1m           \u001b[0m┃\u001b[1m           \u001b[0m┃\u001b[1m \u001b[0m\u001b[1mchars per \u001b[0m\u001b[1m \u001b[0m┃\u001b[1m \u001b[0m\u001b[1mwords per\u001b[0m\u001b[1m \u001b[0m┃\u001b[1m \u001b[0m\u001b[1mtotal     \u001b[0m\u001b[1m \u001b[0m┃  │\n",
       "│ ┃\u001b[1m \u001b[0m\u001b[1mcolumn   \u001b[0m\u001b[1m \u001b[0m┃\u001b[1m \u001b[0m\u001b[1mNA\u001b[0m\u001b[1m \u001b[0m┃\u001b[1m \u001b[0m\u001b[1mNA %\u001b[0m\u001b[1m \u001b[0m┃\u001b[1m \u001b[0m\u001b[1mshortest\u001b[0m\u001b[1m \u001b[0m┃\u001b[1m \u001b[0m\u001b[1mlongest  \u001b[0m\u001b[1m \u001b[0m┃\u001b[1m \u001b[0m\u001b[1mmin      \u001b[0m\u001b[1m \u001b[0m┃\u001b[1m \u001b[0m\u001b[1mmax      \u001b[0m\u001b[1m \u001b[0m┃\u001b[1m \u001b[0m\u001b[1mrow       \u001b[0m\u001b[1m \u001b[0m┃\u001b[1m \u001b[0m\u001b[1mrow      \u001b[0m\u001b[1m \u001b[0m┃\u001b[1m \u001b[0m\u001b[1mwords     \u001b[0m\u001b[1m \u001b[0m┃  │\n",
       "│ ┡━━━━━━━━━━━╇━━━━╇━━━━━━╇━━━━━━━━━━╇━━━━━━━━━━━╇━━━━━━━━━━━╇━━━━━━━━━━━╇━━━━━━━━━━━━╇━━━━━━━━━━━╇━━━━━━━━━━━━┩  │\n",
       "│ │ \u001b[38;5;141mRaison   \u001b[0m │ \u001b[36m 0\u001b[0m │ \u001b[36m   0\u001b[0m │ \u001b[38;5;141mS2C     \u001b[0m │ \u001b[38;5;141mHertz BPA\u001b[0m │ \u001b[38;5;141mAB       \u001b[0m │ \u001b[38;5;141mZig Zag  \u001b[0m │ \u001b[36m      17.5\u001b[0m │ \u001b[36m        3\u001b[0m │ \u001b[36m      2984\u001b[0m │  │\n",
       "│ │ \u001b[38;5;141msociale  \u001b[0m │    │      │          │ \u001b[38;5;141m(SA)     \u001b[0m │ \u001b[38;5;141mLocation \u001b[0m │           │            │           │            │  │\n",
       "│ │           │    │      │          │ \u001b[38;5;141mFranchisé\u001b[0m │           │           │            │           │            │  │\n",
       "│ │           │    │      │          │ \u001b[38;5;141mindépenda\u001b[0m │           │           │            │           │            │  │\n",
       "│ │           │    │      │          │ \u001b[38;5;141mnt à     \u001b[0m │           │           │            │           │            │  │\n",
       "│ │           │    │      │          │ \u001b[38;5;141mValréas  \u001b[0m │           │           │            │           │            │  │\n",
       "│ │           │    │      │          │ \u001b[38;5;141mDépôt    \u001b[0m │           │           │            │           │            │  │\n",
       "│ │           │    │      │          │ \u001b[38;5;141mchez     \u001b[0m │           │           │            │           │            │  │\n",
       "│ │           │    │      │          │ \u001b[38;5;141mgarage   \u001b[0m │           │           │            │           │            │  │\n",
       "│ │           │    │      │          │ \u001b[38;5;141mPeugeot  \u001b[0m │           │           │            │           │            │  │\n",
       "│ │ \u001b[38;5;141mDéparteme\u001b[0m │ \u001b[36m 0\u001b[0m │ \u001b[36m   0\u001b[0m │ \u001b[38;5;141m83-Var  \u001b[0m │ \u001b[38;5;141m17-Charen\u001b[0m │ \u001b[38;5;141m06-Alpes \u001b[0m │ \u001b[38;5;141m87-Haute \u001b[0m │ \u001b[36m      9.15\u001b[0m │ \u001b[36m      1.1\u001b[0m │ \u001b[36m      1141\u001b[0m │  │\n",
       "│ │ \u001b[38;5;141mnt       \u001b[0m │    │      │          │ \u001b[38;5;141mte       \u001b[0m │ \u001b[38;5;141mMaritimes\u001b[0m │ \u001b[38;5;141mVienne   \u001b[0m │            │           │            │  │\n",
       "│ │           │    │      │          │ \u001b[38;5;141mMaritime \u001b[0m │           │           │            │           │            │  │\n",
       "│ │ \u001b[38;5;141mActivité \u001b[0m │ \u001b[36m 0\u001b[0m │ \u001b[36m   0\u001b[0m │ \u001b[38;5;141mGolf    \u001b[0m │ \u001b[38;5;141mCentres  \u001b[0m │ \u001b[38;5;141mBar/Café \u001b[0m │ \u001b[38;5;141mparc     \u001b[0m │ \u001b[36m      12.2\u001b[0m │ \u001b[36m      1.3\u001b[0m │ \u001b[36m      1299\u001b[0m │  │\n",
       "│ │           │    │      │          │ \u001b[38;5;141mequestres\u001b[0m │           │ \u001b[38;5;141md'attract\u001b[0m │            │           │            │  │\n",
       "│ │           │    │      │          │ \u001b[38;5;141m,        \u001b[0m │           │ \u001b[38;5;141mion      \u001b[0m │            │           │            │  │\n",
       "│ │           │    │      │          │ \u001b[38;5;141mequitatio\u001b[0m │           │           │            │           │            │  │\n",
       "│ │           │    │      │          │ \u001b[38;5;141mn        \u001b[0m │           │           │            │           │            │  │\n",
       "│ │ \u001b[38;5;141mVille    \u001b[0m │ \u001b[36m 0\u001b[0m │ \u001b[36m   0\u001b[0m │ \u001b[38;5;141mNice    \u001b[0m │ \u001b[38;5;141mSaint    \u001b[0m │ \u001b[38;5;141mAgay     \u001b[0m │ \u001b[38;5;141mVoreppe  \u001b[0m │ \u001b[36m      10.9\u001b[0m │ \u001b[36m      1.8\u001b[0m │ \u001b[36m      1800\u001b[0m │  │\n",
       "│ │           │    │      │          │ \u001b[38;5;141mmaximin  \u001b[0m │           │           │            │           │            │  │\n",
       "│ │           │    │      │          │ \u001b[38;5;141mla sainte\u001b[0m │           │           │            │           │            │  │\n",
       "│ │           │    │      │          │ \u001b[38;5;141mbaume    \u001b[0m │           │           │            │           │            │  │\n",
       "│ └───────────┴────┴──────┴──────────┴───────────┴───────────┴───────────┴────────────┴───────────┴────────────┘  │\n",
       "╰────────────────────────────────────────────────────── End ──────────────────────────────────────────────────────╯\n"
      ]
     },
     "metadata": {},
     "output_type": "display_data"
    }
   ],
   "source": [
    "skim(df)"
   ]
  },
  {
   "cell_type": "markdown",
   "metadata": {},
   "source": [
    "Liste des départements"
   ]
  },
  {
   "cell_type": "code",
   "execution_count": 13,
   "metadata": {},
   "outputs": [
    {
     "data": {
      "text/plain": [
       "['06-Alpes Maritimes',\n",
       " '07-Ardèche',\n",
       " '13-Bouches du Rhone',\n",
       " '17-Charente Maritime',\n",
       " '18-Cher',\n",
       " '26-Drome',\n",
       " '30-Gard',\n",
       " '31-Haute Garonne',\n",
       " '33-Gironde',\n",
       " '38-Isère',\n",
       " '42-Loire',\n",
       " '55-Meuse',\n",
       " '69-Rhone',\n",
       " '71-Saone et Loire',\n",
       " '73-Savoie',\n",
       " '75-Paris',\n",
       " '83-Var',\n",
       " '84-Vaucluse',\n",
       " '85-Vendée',\n",
       " '87-Haute Vienne']"
      ]
     },
     "execution_count": 13,
     "metadata": {},
     "output_type": "execute_result"
    }
   ],
   "source": [
    "df['Département'].unique().tolist()"
   ]
  },
  {
   "cell_type": "markdown",
   "metadata": {},
   "source": [
    "Liste des villes par département"
   ]
  },
  {
   "cell_type": "code",
   "execution_count": 22,
   "metadata": {},
   "outputs": [
    {
     "data": {
      "application/vnd.microsoft.datawrangler.viewer.v0+json": {
       "columns": [
        {
         "name": "index",
         "rawType": "int64",
         "type": "integer"
        },
        {
         "name": "Département",
         "rawType": "object",
         "type": "string"
        },
        {
         "name": "Ville",
         "rawType": "object",
         "type": "string"
        }
       ],
       "conversionMethod": "pd.DataFrame",
       "ref": "2140325b-9ea0-4496-b171-c097ae36f8c4",
       "rows": [
        [
         "23",
         "06-Alpes Maritimes",
         "Antibes"
        ],
        [
         "0",
         "06-Alpes Maritimes",
         "Antibes juan les pins"
        ],
        [
         "9",
         "06-Alpes Maritimes",
         "Cannes"
        ],
        [
         "24",
         "06-Alpes Maritimes",
         "Cannes la bocca"
        ],
        [
         "3",
         "06-Alpes Maritimes",
         "Mandelieu la napoule"
        ],
        [
         "55",
         "06-Alpes Maritimes",
         "Menton"
        ],
        [
         "19",
         "06-Alpes Maritimes",
         "Mougins"
        ],
        [
         "4",
         "06-Alpes Maritimes",
         "Nice"
        ],
        [
         "26",
         "06-Alpes Maritimes",
         "Saint cezaire sur siagne"
        ],
        [
         "21",
         "06-Alpes Maritimes",
         "Saint paul"
        ],
        [
         "30",
         "06-Alpes Maritimes",
         "Valberg"
        ],
        [
         "31",
         "06-Alpes Maritimes",
         "Valbonne"
        ],
        [
         "27",
         "06-Alpes Maritimes",
         "Vence"
        ],
        [
         "7",
         "06-Alpes Maritimes",
         "Villeneuve loubet"
        ],
        [
         "122",
         "07-Ardèche",
         "Aizac"
        ],
        [
         "81",
         "07-Ardèche",
         "Ajoux"
        ],
        [
         "82",
         "07-Ardèche",
         "Alba la romaine"
        ],
        [
         "83",
         "07-Ardèche",
         "Alboussiere"
        ],
        [
         "125",
         "07-Ardèche",
         "Alissas"
        ],
        [
         "84",
         "07-Ardèche",
         "Annonay"
        ],
        [
         "66",
         "07-Ardèche",
         "Antraigues sur volane"
        ],
        [
         "148",
         "07-Ardèche",
         "Ardoix"
        ],
        [
         "62",
         "07-Ardèche",
         "Aubenas"
        ],
        [
         "90",
         "07-Ardèche",
         "Baix"
        ],
        [
         "165",
         "07-Ardèche",
         "Balazuc"
        ],
        [
         "167",
         "07-Ardèche",
         "Banne"
        ],
        [
         "168",
         "07-Ardèche",
         "Beauchastel"
        ],
        [
         "91",
         "07-Ardèche",
         "Beaulieu"
        ],
        [
         "56",
         "07-Ardèche",
         "Berrias et casteljau"
        ],
        [
         "173",
         "07-Ardèche",
         "Bidon"
        ],
        [
         "175",
         "07-Ardèche",
         "Boffres"
        ],
        [
         "176",
         "07-Ardèche",
         "Boree"
        ],
        [
         "57",
         "07-Ardèche",
         "Boucieu le roi"
        ],
        [
         "177",
         "07-Ardèche",
         "Bourg saint andeol"
        ],
        [
         "183",
         "07-Ardèche",
         "Chalencon"
        ],
        [
         "184",
         "07-Ardèche",
         "Champagne"
        ],
        [
         "61",
         "07-Ardèche",
         "Chandolas"
        ],
        [
         "185",
         "07-Ardèche",
         "Charmes sur rhone"
        ],
        [
         "186",
         "07-Ardèche",
         "Chassiers"
        ],
        [
         "187",
         "07-Ardèche",
         "Chomerac"
        ],
        [
         "58",
         "07-Ardèche",
         "Colombier le vieux"
        ],
        [
         "189",
         "07-Ardèche",
         "Cornas"
        ],
        [
         "190",
         "07-Ardèche",
         "Coux"
        ],
        [
         "69",
         "07-Ardèche",
         "Felines"
        ],
        [
         "92",
         "07-Ardèche",
         "Grospierres"
        ],
        [
         "70",
         "07-Ardèche",
         "Joyeuse"
        ],
        [
         "71",
         "07-Ardèche",
         "Lalouvesc"
        ],
        [
         "72",
         "07-Ardèche",
         "Lamastre"
        ],
        [
         "112",
         "07-Ardèche",
         "Lanas"
        ],
        [
         "59",
         "07-Ardèche",
         "Largentiere"
        ]
       ],
       "shape": {
        "columns": 2,
        "rows": 405
       }
      },
      "text/html": [
       "<div>\n",
       "<style scoped>\n",
       "    .dataframe tbody tr th:only-of-type {\n",
       "        vertical-align: middle;\n",
       "    }\n",
       "\n",
       "    .dataframe tbody tr th {\n",
       "        vertical-align: top;\n",
       "    }\n",
       "\n",
       "    .dataframe thead th {\n",
       "        text-align: right;\n",
       "    }\n",
       "</style>\n",
       "<table border=\"1\" class=\"dataframe\">\n",
       "  <thead>\n",
       "    <tr style=\"text-align: right;\">\n",
       "      <th></th>\n",
       "      <th>Département</th>\n",
       "      <th>Ville</th>\n",
       "    </tr>\n",
       "  </thead>\n",
       "  <tbody>\n",
       "    <tr>\n",
       "      <th>23</th>\n",
       "      <td>06-Alpes Maritimes</td>\n",
       "      <td>Antibes</td>\n",
       "    </tr>\n",
       "    <tr>\n",
       "      <th>0</th>\n",
       "      <td>06-Alpes Maritimes</td>\n",
       "      <td>Antibes juan les pins</td>\n",
       "    </tr>\n",
       "    <tr>\n",
       "      <th>9</th>\n",
       "      <td>06-Alpes Maritimes</td>\n",
       "      <td>Cannes</td>\n",
       "    </tr>\n",
       "    <tr>\n",
       "      <th>24</th>\n",
       "      <td>06-Alpes Maritimes</td>\n",
       "      <td>Cannes la bocca</td>\n",
       "    </tr>\n",
       "    <tr>\n",
       "      <th>3</th>\n",
       "      <td>06-Alpes Maritimes</td>\n",
       "      <td>Mandelieu la napoule</td>\n",
       "    </tr>\n",
       "    <tr>\n",
       "      <th>...</th>\n",
       "      <td>...</td>\n",
       "      <td>...</td>\n",
       "    </tr>\n",
       "    <tr>\n",
       "      <th>988</th>\n",
       "      <td>84-Vaucluse</td>\n",
       "      <td>Vedene</td>\n",
       "    </tr>\n",
       "    <tr>\n",
       "      <th>955</th>\n",
       "      <td>84-Vaucluse</td>\n",
       "      <td>Velleron</td>\n",
       "    </tr>\n",
       "    <tr>\n",
       "      <th>989</th>\n",
       "      <td>84-Vaucluse</td>\n",
       "      <td>Villeneuve les avignon</td>\n",
       "    </tr>\n",
       "    <tr>\n",
       "      <th>995</th>\n",
       "      <td>85-Vendée</td>\n",
       "      <td>La roche sur yon</td>\n",
       "    </tr>\n",
       "    <tr>\n",
       "      <th>996</th>\n",
       "      <td>87-Haute Vienne</td>\n",
       "      <td>Peyrat le chateau</td>\n",
       "    </tr>\n",
       "  </tbody>\n",
       "</table>\n",
       "<p>405 rows × 2 columns</p>\n",
       "</div>"
      ],
      "text/plain": [
       "            Département                   Ville\n",
       "23   06-Alpes Maritimes                 Antibes\n",
       "0    06-Alpes Maritimes   Antibes juan les pins\n",
       "9    06-Alpes Maritimes                  Cannes\n",
       "24   06-Alpes Maritimes         Cannes la bocca\n",
       "3    06-Alpes Maritimes    Mandelieu la napoule\n",
       "..                  ...                     ...\n",
       "988         84-Vaucluse                  Vedene\n",
       "955         84-Vaucluse                Velleron\n",
       "989         84-Vaucluse  Villeneuve les avignon\n",
       "995           85-Vendée        La roche sur yon\n",
       "996     87-Haute Vienne       Peyrat le chateau\n",
       "\n",
       "[405 rows x 2 columns]"
      ]
     },
     "execution_count": 22,
     "metadata": {},
     "output_type": "execute_result"
    }
   ],
   "source": [
    "df[['Département', 'Ville']].drop_duplicates().sort_values(\n",
    "    ['Département', 'Ville'])"
   ]
  }
 ],
 "metadata": {
  "kernelspec": {
   "display_name": "Python 3",
   "language": "python",
   "name": "python3"
  },
  "language_info": {
   "codemirror_mode": {
    "name": "ipython",
    "version": 3
   },
   "file_extension": ".py",
   "mimetype": "text/x-python",
   "name": "python",
   "nbconvert_exporter": "python",
   "pygments_lexer": "ipython3",
   "version": "3.12.5"
  }
 },
 "nbformat": 4,
 "nbformat_minor": 2
}
