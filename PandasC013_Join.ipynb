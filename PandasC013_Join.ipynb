{
 "cells": [
  {
   "cell_type": "markdown",
   "id": "d7627881",
   "metadata": {},
   "source": [
    "[Lignes strictement identiques entre deux tableaux Excel](https://www.youtube.com/watch?v=LkMc0RDNmq8&list=PLpQBnWleLAauKmgcdndmEr81iIIoW9_Wi&index=18)\n",
    "\n",
    "Date : 22/05/2025"
   ]
  },
  {
   "cell_type": "code",
   "execution_count": 1,
   "id": "5b79e005",
   "metadata": {},
   "outputs": [],
   "source": [
    "import pandas as pd"
   ]
  },
  {
   "cell_type": "code",
   "execution_count": 2,
   "id": "e880ee22",
   "metadata": {},
   "outputs": [
    {
     "data": {
      "application/vnd.microsoft.datawrangler.viewer.v0+json": {
       "columns": [
        {
         "name": "index",
         "rawType": "int64",
         "type": "integer"
        },
        {
         "name": "Nom",
         "rawType": "object",
         "type": "string"
        },
        {
         "name": "Prénom",
         "rawType": "object",
         "type": "string"
        }
       ],
       "ref": "bd96391c-d3e1-47f5-abb6-4e828eb53841",
       "rows": [
        [
         "0",
         "Bonbeur",
         "Jean"
        ],
        [
         "1",
         "Hèresse",
         "Mégane"
        ],
        [
         "2",
         "Noix",
         "Stéphane"
        ],
        [
         "3",
         "Gature",
         "Emilie"
        ],
        [
         "4",
         "De MontéCarlo",
         "Coralie"
        ]
       ],
       "shape": {
        "columns": 2,
        "rows": 5
       }
      },
      "text/html": [
       "<div>\n",
       "<style scoped>\n",
       "    .dataframe tbody tr th:only-of-type {\n",
       "        vertical-align: middle;\n",
       "    }\n",
       "\n",
       "    .dataframe tbody tr th {\n",
       "        vertical-align: top;\n",
       "    }\n",
       "\n",
       "    .dataframe thead th {\n",
       "        text-align: right;\n",
       "    }\n",
       "</style>\n",
       "<table border=\"1\" class=\"dataframe\">\n",
       "  <thead>\n",
       "    <tr style=\"text-align: right;\">\n",
       "      <th></th>\n",
       "      <th>Nom</th>\n",
       "      <th>Prénom</th>\n",
       "    </tr>\n",
       "  </thead>\n",
       "  <tbody>\n",
       "    <tr>\n",
       "      <th>0</th>\n",
       "      <td>Bonbeur</td>\n",
       "      <td>Jean</td>\n",
       "    </tr>\n",
       "    <tr>\n",
       "      <th>1</th>\n",
       "      <td>Hèresse</td>\n",
       "      <td>Mégane</td>\n",
       "    </tr>\n",
       "    <tr>\n",
       "      <th>2</th>\n",
       "      <td>Noix</td>\n",
       "      <td>Stéphane</td>\n",
       "    </tr>\n",
       "    <tr>\n",
       "      <th>3</th>\n",
       "      <td>Gature</td>\n",
       "      <td>Emilie</td>\n",
       "    </tr>\n",
       "    <tr>\n",
       "      <th>4</th>\n",
       "      <td>De MontéCarlo</td>\n",
       "      <td>Coralie</td>\n",
       "    </tr>\n",
       "  </tbody>\n",
       "</table>\n",
       "</div>"
      ],
      "text/plain": [
       "             Nom    Prénom\n",
       "0        Bonbeur      Jean\n",
       "1        Hèresse    Mégane\n",
       "2           Noix  Stéphane\n",
       "3         Gature    Emilie\n",
       "4  De MontéCarlo   Coralie"
      ]
     },
     "execution_count": 2,
     "metadata": {},
     "output_type": "execute_result"
    }
   ],
   "source": [
    "tab1 = pd.read_excel('data/join2.xlsx', sheet_name='Feuil1')\n",
    "tab1.head()"
   ]
  },
  {
   "cell_type": "code",
   "execution_count": 3,
   "id": "9fbbea80",
   "metadata": {},
   "outputs": [
    {
     "data": {
      "application/vnd.microsoft.datawrangler.viewer.v0+json": {
       "columns": [
        {
         "name": "index",
         "rawType": "int64",
         "type": "integer"
        },
        {
         "name": "Nom",
         "rawType": "object",
         "type": "string"
        },
        {
         "name": "Prénom",
         "rawType": "object",
         "type": "string"
        }
       ],
       "ref": "44fd853a-3f1e-4ac4-be9d-186bf9e44b28",
       "rows": [
        [
         "0",
         "Bonbeur",
         "Jean"
        ],
        [
         "1",
         "Hèresse",
         "Mégane"
        ],
        [
         "2",
         "Noix",
         "Stéphane"
        ],
        [
         "3",
         "Gature",
         "Emilie"
        ],
        [
         "4",
         "De MontéCarlo",
         "Coralie"
        ]
       ],
       "shape": {
        "columns": 2,
        "rows": 5
       }
      },
      "text/html": [
       "<div>\n",
       "<style scoped>\n",
       "    .dataframe tbody tr th:only-of-type {\n",
       "        vertical-align: middle;\n",
       "    }\n",
       "\n",
       "    .dataframe tbody tr th {\n",
       "        vertical-align: top;\n",
       "    }\n",
       "\n",
       "    .dataframe thead th {\n",
       "        text-align: right;\n",
       "    }\n",
       "</style>\n",
       "<table border=\"1\" class=\"dataframe\">\n",
       "  <thead>\n",
       "    <tr style=\"text-align: right;\">\n",
       "      <th></th>\n",
       "      <th>Nom</th>\n",
       "      <th>Prénom</th>\n",
       "    </tr>\n",
       "  </thead>\n",
       "  <tbody>\n",
       "    <tr>\n",
       "      <th>0</th>\n",
       "      <td>Bonbeur</td>\n",
       "      <td>Jean</td>\n",
       "    </tr>\n",
       "    <tr>\n",
       "      <th>1</th>\n",
       "      <td>Hèresse</td>\n",
       "      <td>Mégane</td>\n",
       "    </tr>\n",
       "    <tr>\n",
       "      <th>2</th>\n",
       "      <td>Noix</td>\n",
       "      <td>Stéphane</td>\n",
       "    </tr>\n",
       "    <tr>\n",
       "      <th>3</th>\n",
       "      <td>Gature</td>\n",
       "      <td>Emilie</td>\n",
       "    </tr>\n",
       "    <tr>\n",
       "      <th>4</th>\n",
       "      <td>De MontéCarlo</td>\n",
       "      <td>Coralie</td>\n",
       "    </tr>\n",
       "  </tbody>\n",
       "</table>\n",
       "</div>"
      ],
      "text/plain": [
       "             Nom    Prénom\n",
       "0        Bonbeur      Jean\n",
       "1        Hèresse    Mégane\n",
       "2           Noix  Stéphane\n",
       "3         Gature    Emilie\n",
       "4  De MontéCarlo   Coralie"
      ]
     },
     "execution_count": 3,
     "metadata": {},
     "output_type": "execute_result"
    }
   ],
   "source": [
    "tab2 = pd.read_excel('data/join2.xlsx', sheet_name='Feuil2')\n",
    "tab2.head()"
   ]
  },
  {
   "cell_type": "code",
   "execution_count": 4,
   "id": "0f81718e",
   "metadata": {},
   "outputs": [],
   "source": [
    "# Indexation des deux DataFrames\n",
    "tab1.set_index(['Nom', 'Prénom'], inplace=True)\n",
    "tab2.set_index(['Nom', 'Prénom'], inplace=True)"
   ]
  },
  {
   "cell_type": "code",
   "execution_count": 5,
   "id": "38547008",
   "metadata": {},
   "outputs": [],
   "source": [
    "# Index communs des deux DataFrames\n",
    "index_communs=tab1.index.intersection(tab2.index)"
   ]
  },
  {
   "cell_type": "code",
   "execution_count": 6,
   "id": "03b58eab",
   "metadata": {},
   "outputs": [],
   "source": [
    "# Récupération des lignes communes\n",
    "tab1_commun=tab1.loc[index_communs]\n",
    "tab2_commun=tab1.loc[index_communs]"
   ]
  },
  {
   "cell_type": "code",
   "execution_count": null,
   "id": "fb6c980a",
   "metadata": {},
   "outputs": [
    {
     "data": {
      "application/vnd.microsoft.datawrangler.viewer.v0+json": {
       "columns": [
        {
         "name": "('Nom', 'Prénom')",
         "rawType": "object",
         "type": "unknown"
        }
       ],
       "ref": "cdcf67c8-8ea3-4caf-9866-d81e068c6277",
       "rows": [
        [
         "('Bonbeur', 'Jean')"
        ],
        [
         "('Hèresse', 'Mégane')"
        ],
        [
         "('Noix', 'Stéphane')"
        ],
        [
         "('Gature', 'Emilie')"
        ],
        [
         "('De MontéCarlo', 'Coralie')"
        ],
        [
         "('Hénéré', 'Nadège')"
        ],
        [
         "('Solo', 'Yohan')"
        ],
        [
         "('Jet', 'Claire')"
        ],
        [
         "('Braltar', 'Giles')"
        ],
        [
         "('Douche', 'Raël')"
        ],
        [
         "('Sarbaque', 'Anne')"
        ],
        [
         "('Lile', 'Maurice')"
        ],
        [
         "('Doeuf', 'John')"
        ],
        [
         "('Niomme', 'Gérard')"
        ]
       ],
       "shape": {
        "columns": 0,
        "rows": 14
       }
      },
      "text/html": [
       "<div>\n",
       "<style scoped>\n",
       "    .dataframe tbody tr th:only-of-type {\n",
       "        vertical-align: middle;\n",
       "    }\n",
       "\n",
       "    .dataframe tbody tr th {\n",
       "        vertical-align: top;\n",
       "    }\n",
       "\n",
       "    .dataframe thead th {\n",
       "        text-align: right;\n",
       "    }\n",
       "</style>\n",
       "<table border=\"1\" class=\"dataframe\">\n",
       "  <thead>\n",
       "    <tr style=\"text-align: right;\">\n",
       "      <th></th>\n",
       "      <th></th>\n",
       "    </tr>\n",
       "    <tr>\n",
       "      <th>Nom</th>\n",
       "      <th>Prénom</th>\n",
       "    </tr>\n",
       "  </thead>\n",
       "  <tbody>\n",
       "    <tr>\n",
       "      <th>Bonbeur</th>\n",
       "      <th>Jean</th>\n",
       "    </tr>\n",
       "    <tr>\n",
       "      <th>Hèresse</th>\n",
       "      <th>Mégane</th>\n",
       "    </tr>\n",
       "    <tr>\n",
       "      <th>Noix</th>\n",
       "      <th>Stéphane</th>\n",
       "    </tr>\n",
       "    <tr>\n",
       "      <th>Gature</th>\n",
       "      <th>Emilie</th>\n",
       "    </tr>\n",
       "    <tr>\n",
       "      <th>De MontéCarlo</th>\n",
       "      <th>Coralie</th>\n",
       "    </tr>\n",
       "    <tr>\n",
       "      <th>Hénéré</th>\n",
       "      <th>Nadège</th>\n",
       "    </tr>\n",
       "    <tr>\n",
       "      <th>Solo</th>\n",
       "      <th>Yohan</th>\n",
       "    </tr>\n",
       "    <tr>\n",
       "      <th>Jet</th>\n",
       "      <th>Claire</th>\n",
       "    </tr>\n",
       "    <tr>\n",
       "      <th>Braltar</th>\n",
       "      <th>Giles</th>\n",
       "    </tr>\n",
       "    <tr>\n",
       "      <th>Douche</th>\n",
       "      <th>Raël</th>\n",
       "    </tr>\n",
       "    <tr>\n",
       "      <th>Sarbaque</th>\n",
       "      <th>Anne</th>\n",
       "    </tr>\n",
       "    <tr>\n",
       "      <th>Lile</th>\n",
       "      <th>Maurice</th>\n",
       "    </tr>\n",
       "    <tr>\n",
       "      <th>Doeuf</th>\n",
       "      <th>John</th>\n",
       "    </tr>\n",
       "    <tr>\n",
       "      <th>Niomme</th>\n",
       "      <th>Gérard</th>\n",
       "    </tr>\n",
       "  </tbody>\n",
       "</table>\n",
       "</div>"
      ],
      "text/plain": [
       "Empty DataFrame\n",
       "Columns: []\n",
       "Index: [(Bonbeur, Jean), (Hèresse, Mégane), (Noix, Stéphane), (Gature, Emilie), (De MontéCarlo, Coralie), (Hénéré, Nadège), (Solo, Yohan), (Jet, Claire), (Braltar, Giles), (Douche, Raël), (Sarbaque, Anne), (Lile, Maurice), (Doeuf, John), (Niomme, Gérard)]"
      ]
     },
     "execution_count": 12,
     "metadata": {},
     "output_type": "execute_result"
    }
   ],
   "source": [
    "# Affichage des lignes communes\n",
    "resultat=tab1_commun.join(tab2_commun)\n",
    "resultat"
   ]
  }
 ],
 "metadata": {
  "kernelspec": {
   "display_name": "Python 3",
   "language": "python",
   "name": "python3"
  },
  "language_info": {
   "codemirror_mode": {
    "name": "ipython",
    "version": 3
   },
   "file_extension": ".py",
   "mimetype": "text/x-python",
   "name": "python",
   "nbconvert_exporter": "python",
   "pygments_lexer": "ipython3",
   "version": "3.12.5"
  }
 },
 "nbformat": 4,
 "nbformat_minor": 5
}
