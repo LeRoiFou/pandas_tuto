{
 "cells": [
  {
   "cell_type": "markdown",
   "id": "12357935",
   "metadata": {},
   "source": [
    "[Extraire les données en fonction d'une position trouvée](https://www.youtube.com/watch?v=TSwcf-FSe-U&list=PLpQBnWleLAauKmgcdndmEr81iIIoW9_Wi&index=35)\n",
    "\n",
    "Date : 03/07/2025"
   ]
  },
  {
   "cell_type": "code",
   "execution_count": 1,
   "id": "72195bad",
   "metadata": {},
   "outputs": [],
   "source": [
    "import pandas as pd"
   ]
  },
  {
   "cell_type": "code",
   "execution_count": 3,
   "id": "f99ee481",
   "metadata": {},
   "outputs": [
    {
     "data": {
      "application/vnd.microsoft.datawrangler.viewer.v0+json": {
       "columns": [
        {
         "name": "index",
         "rawType": "object",
         "type": "string"
        },
        {
         "name": "0",
         "rawType": "object",
         "type": "unknown"
        },
        {
         "name": "1",
         "rawType": "object",
         "type": "unknown"
        },
        {
         "name": "2",
         "rawType": "object",
         "type": "unknown"
        },
        {
         "name": "3",
         "rawType": "object",
         "type": "unknown"
        },
        {
         "name": "4",
         "rawType": "object",
         "type": "unknown"
        }
       ],
       "ref": "d97e3783-b634-49a4-85c0-76789327fca1",
       "rows": [
        [
         "Client_id",
         "C1",
         "C2",
         "C3",
         "C4",
         "C5"
        ],
        [
         "Client_civilite",
         "Monsieur",
         "Madame",
         "Madame",
         "Madame",
         "Monsieur"
        ],
        [
         "Client_nom",
         "Hochon",
         "Audine",
         "Rouana",
         "Hamalibou",
         "Céhef"
        ],
        [
         "Client_prenom",
         "Paul",
         "Anne",
         "Marie",
         "Arlette",
         "Hassan"
        ],
        [
         "Client_dep",
         "84000",
         "83630",
         "13129",
         "83210",
         "4120"
        ],
        [
         "Client_ville",
         "AVIGON",
         "AIGUINES",
         "ARLES",
         "BELGENTIER",
         "CASTELLANE"
        ],
        [
         "Client_mail",
         "Hochon.Paul@orange.fr",
         "Audine.Anne@orange.fr",
         "Rouana.Marie@orange.fr",
         "Hamalibou.Arlette@orange.fr",
         "Céhef.Hassan@orange.fr"
        ]
       ],
       "shape": {
        "columns": 5,
        "rows": 7
       }
      },
      "text/html": [
       "<div>\n",
       "<style scoped>\n",
       "    .dataframe tbody tr th:only-of-type {\n",
       "        vertical-align: middle;\n",
       "    }\n",
       "\n",
       "    .dataframe tbody tr th {\n",
       "        vertical-align: top;\n",
       "    }\n",
       "\n",
       "    .dataframe thead th {\n",
       "        text-align: right;\n",
       "    }\n",
       "</style>\n",
       "<table border=\"1\" class=\"dataframe\">\n",
       "  <thead>\n",
       "    <tr style=\"text-align: right;\">\n",
       "      <th></th>\n",
       "      <th>0</th>\n",
       "      <th>1</th>\n",
       "      <th>2</th>\n",
       "      <th>3</th>\n",
       "      <th>4</th>\n",
       "    </tr>\n",
       "  </thead>\n",
       "  <tbody>\n",
       "    <tr>\n",
       "      <th>Client_id</th>\n",
       "      <td>C1</td>\n",
       "      <td>C2</td>\n",
       "      <td>C3</td>\n",
       "      <td>C4</td>\n",
       "      <td>C5</td>\n",
       "    </tr>\n",
       "    <tr>\n",
       "      <th>Client_civilite</th>\n",
       "      <td>Monsieur</td>\n",
       "      <td>Madame</td>\n",
       "      <td>Madame</td>\n",
       "      <td>Madame</td>\n",
       "      <td>Monsieur</td>\n",
       "    </tr>\n",
       "    <tr>\n",
       "      <th>Client_nom</th>\n",
       "      <td>Hochon</td>\n",
       "      <td>Audine</td>\n",
       "      <td>Rouana</td>\n",
       "      <td>Hamalibou</td>\n",
       "      <td>Céhef</td>\n",
       "    </tr>\n",
       "    <tr>\n",
       "      <th>Client_prenom</th>\n",
       "      <td>Paul</td>\n",
       "      <td>Anne</td>\n",
       "      <td>Marie</td>\n",
       "      <td>Arlette</td>\n",
       "      <td>Hassan</td>\n",
       "    </tr>\n",
       "    <tr>\n",
       "      <th>Client_dep</th>\n",
       "      <td>84000</td>\n",
       "      <td>83630</td>\n",
       "      <td>13129</td>\n",
       "      <td>83210</td>\n",
       "      <td>4120</td>\n",
       "    </tr>\n",
       "    <tr>\n",
       "      <th>Client_ville</th>\n",
       "      <td>AVIGON</td>\n",
       "      <td>AIGUINES</td>\n",
       "      <td>ARLES</td>\n",
       "      <td>BELGENTIER</td>\n",
       "      <td>CASTELLANE</td>\n",
       "    </tr>\n",
       "    <tr>\n",
       "      <th>Client_mail</th>\n",
       "      <td>Hochon.Paul@orange.fr</td>\n",
       "      <td>Audine.Anne@orange.fr</td>\n",
       "      <td>Rouana.Marie@orange.fr</td>\n",
       "      <td>Hamalibou.Arlette@orange.fr</td>\n",
       "      <td>Céhef.Hassan@orange.fr</td>\n",
       "    </tr>\n",
       "  </tbody>\n",
       "</table>\n",
       "</div>"
      ],
      "text/plain": [
       "                                     0                      1  \\\n",
       "Client_id                           C1                     C2   \n",
       "Client_civilite               Monsieur                 Madame   \n",
       "Client_nom                      Hochon                 Audine   \n",
       "Client_prenom                     Paul                   Anne   \n",
       "Client_dep                       84000                  83630   \n",
       "Client_ville                    AVIGON               AIGUINES   \n",
       "Client_mail      Hochon.Paul@orange.fr  Audine.Anne@orange.fr   \n",
       "\n",
       "                                      2                            3  \\\n",
       "Client_id                            C3                           C4   \n",
       "Client_civilite                  Madame                       Madame   \n",
       "Client_nom                       Rouana                    Hamalibou   \n",
       "Client_prenom                     Marie                      Arlette   \n",
       "Client_dep                        13129                        83210   \n",
       "Client_ville                      ARLES                   BELGENTIER   \n",
       "Client_mail      Rouana.Marie@orange.fr  Hamalibou.Arlette@orange.fr   \n",
       "\n",
       "                                      4  \n",
       "Client_id                            C5  \n",
       "Client_civilite                Monsieur  \n",
       "Client_nom                        Céhef  \n",
       "Client_prenom                    Hassan  \n",
       "Client_dep                         4120  \n",
       "Client_ville                 CASTELLANE  \n",
       "Client_mail      Céhef.Hassan@orange.fr  "
      ]
     },
     "execution_count": 3,
     "metadata": {},
     "output_type": "execute_result"
    }
   ],
   "source": [
    "tab = pd.read_excel('data/Take2.xlsx', sheet_name='Feuil1')\n",
    "tab.head().transpose()"
   ]
  },
  {
   "cell_type": "markdown",
   "id": "c750ea81",
   "metadata": {},
   "source": [
    "Critère recherché dans le champ Client_nom"
   ]
  },
  {
   "cell_type": "code",
   "execution_count": 14,
   "id": "57444a87",
   "metadata": {},
   "outputs": [
    {
     "data": {
      "text/plain": [
       "['Hochon',\n",
       " 'Audine',\n",
       " 'Rouana',\n",
       " 'Hamalibou',\n",
       " 'Céhef',\n",
       " 'Galls',\n",
       " 'Houda',\n",
       " 'Tatouille',\n",
       " 'Sille',\n",
       " 'Bernard',\n",
       " 'Maurice',\n",
       " 'Bonbeur',\n",
       " 'Hèresse',\n",
       " 'Noix',\n",
       " 'Gature',\n",
       " 'De MontéCarlo',\n",
       " 'Hénéré',\n",
       " 'Sansasse',\n",
       " 'Thine',\n",
       " 'Solo',\n",
       " 'Jet',\n",
       " 'Braltar',\n",
       " 'Douche',\n",
       " 'Sarbaque',\n",
       " 'Lile',\n",
       " 'Doeuf',\n",
       " 'Niomme',\n",
       " 'Honnête',\n",
       " 'Tomette',\n",
       " 'Dagin',\n",
       " 'Aubin',\n",
       " 'Adame',\n",
       " 'Fonfec',\n",
       " 'Aijaune',\n",
       " 'Wilda',\n",
       " 'Ecart',\n",
       " 'Voyant']"
      ]
     },
     "execution_count": 14,
     "metadata": {},
     "output_type": "execute_result"
    }
   ],
   "source": [
    "cr = tab['Client_nom'].to_list()\n",
    "cr"
   ]
  },
  {
   "cell_type": "code",
   "execution_count": 15,
   "id": "f90097a4",
   "metadata": {},
   "outputs": [
    {
     "data": {
      "text/plain": [
       "'Rouana'"
      ]
     },
     "execution_count": 15,
     "metadata": {},
     "output_type": "execute_result"
    }
   ],
   "source": [
    "cr = cr[2]\n",
    "cr"
   ]
  },
  {
   "cell_type": "markdown",
   "id": "a3a75260",
   "metadata": {},
   "source": [
    "Position du critère recherché"
   ]
  },
  {
   "cell_type": "code",
   "execution_count": 16,
   "id": "fe31d46e",
   "metadata": {},
   "outputs": [
    {
     "data": {
      "text/plain": [
       "2"
      ]
     },
     "execution_count": 16,
     "metadata": {},
     "output_type": "execute_result"
    }
   ],
   "source": [
    "position = tab.index[tab['Client_nom'] == cr].tolist()[0]\n",
    "position"
   ]
  },
  {
   "cell_type": "markdown",
   "id": "7643cb8d",
   "metadata": {},
   "source": [
    "Extraction des données de la position trouvée"
   ]
  },
  {
   "cell_type": "code",
   "execution_count": 18,
   "id": "aab5ef24",
   "metadata": {},
   "outputs": [
    {
     "data": {
      "application/vnd.microsoft.datawrangler.viewer.v0+json": {
       "columns": [
        {
         "name": "index",
         "rawType": "object",
         "type": "string"
        },
        {
         "name": "2",
         "rawType": "object",
         "type": "unknown"
        }
       ],
       "ref": "d5cd515a-840a-495d-b41c-3406aea07b7f",
       "rows": [
        [
         "Client_id",
         "C3"
        ],
        [
         "Client_civilite",
         "Madame"
        ],
        [
         "Client_nom",
         "Rouana"
        ],
        [
         "Client_prenom",
         "Marie"
        ],
        [
         "Client_dep",
         "13129"
        ],
        [
         "Client_ville",
         "ARLES"
        ],
        [
         "Client_mail",
         "Rouana.Marie@orange.fr"
        ]
       ],
       "shape": {
        "columns": 1,
        "rows": 7
       }
      },
      "text/html": [
       "<div>\n",
       "<style scoped>\n",
       "    .dataframe tbody tr th:only-of-type {\n",
       "        vertical-align: middle;\n",
       "    }\n",
       "\n",
       "    .dataframe tbody tr th {\n",
       "        vertical-align: top;\n",
       "    }\n",
       "\n",
       "    .dataframe thead th {\n",
       "        text-align: right;\n",
       "    }\n",
       "</style>\n",
       "<table border=\"1\" class=\"dataframe\">\n",
       "  <thead>\n",
       "    <tr style=\"text-align: right;\">\n",
       "      <th></th>\n",
       "      <th>2</th>\n",
       "    </tr>\n",
       "  </thead>\n",
       "  <tbody>\n",
       "    <tr>\n",
       "      <th>Client_id</th>\n",
       "      <td>C3</td>\n",
       "    </tr>\n",
       "    <tr>\n",
       "      <th>Client_civilite</th>\n",
       "      <td>Madame</td>\n",
       "    </tr>\n",
       "    <tr>\n",
       "      <th>Client_nom</th>\n",
       "      <td>Rouana</td>\n",
       "    </tr>\n",
       "    <tr>\n",
       "      <th>Client_prenom</th>\n",
       "      <td>Marie</td>\n",
       "    </tr>\n",
       "    <tr>\n",
       "      <th>Client_dep</th>\n",
       "      <td>13129</td>\n",
       "    </tr>\n",
       "    <tr>\n",
       "      <th>Client_ville</th>\n",
       "      <td>ARLES</td>\n",
       "    </tr>\n",
       "    <tr>\n",
       "      <th>Client_mail</th>\n",
       "      <td>Rouana.Marie@orange.fr</td>\n",
       "    </tr>\n",
       "  </tbody>\n",
       "</table>\n",
       "</div>"
      ],
      "text/plain": [
       "                                      2\n",
       "Client_id                            C3\n",
       "Client_civilite                  Madame\n",
       "Client_nom                       Rouana\n",
       "Client_prenom                     Marie\n",
       "Client_dep                        13129\n",
       "Client_ville                      ARLES\n",
       "Client_mail      Rouana.Marie@orange.fr"
      ]
     },
     "execution_count": 18,
     "metadata": {},
     "output_type": "execute_result"
    }
   ],
   "source": [
    "tab.take([position]).transpose()"
   ]
  }
 ],
 "metadata": {
  "kernelspec": {
   "display_name": "Python 3",
   "language": "python",
   "name": "python3"
  },
  "language_info": {
   "codemirror_mode": {
    "name": "ipython",
    "version": 3
   },
   "file_extension": ".py",
   "mimetype": "text/x-python",
   "name": "python",
   "nbconvert_exporter": "python",
   "pygments_lexer": "ipython3",
   "version": "3.12.5"
  }
 },
 "nbformat": 4,
 "nbformat_minor": 5
}
