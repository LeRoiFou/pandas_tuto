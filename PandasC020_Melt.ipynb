{
 "cells": [
  {
   "cell_type": "markdown",
   "id": "b5617099",
   "metadata": {},
   "source": [
    "[Dégrouper les données d'un tableau Excel par formule Python](https://www.youtube.com/watch?v=nGj91Kmrdio&list=PLpQBnWleLAauKmgcdndmEr81iIIoW9_Wi&index=25)\n",
    "\n",
    "Date : 11/06/2025"
   ]
  },
  {
   "cell_type": "code",
   "execution_count": 1,
   "id": "b21a29e2",
   "metadata": {},
   "outputs": [],
   "source": [
    "import pandas as pd"
   ]
  },
  {
   "cell_type": "code",
   "execution_count": 10,
   "id": "d9c0fd3d",
   "metadata": {},
   "outputs": [
    {
     "data": {
      "application/vnd.microsoft.datawrangler.viewer.v0+json": {
       "columns": [
        {
         "name": "index",
         "rawType": "object",
         "type": "string"
        },
        {
         "name": "0",
         "rawType": "object",
         "type": "unknown"
        },
        {
         "name": "1",
         "rawType": "object",
         "type": "unknown"
        },
        {
         "name": "2",
         "rawType": "object",
         "type": "unknown"
        },
        {
         "name": "3",
         "rawType": "object",
         "type": "unknown"
        },
        {
         "name": "4",
         "rawType": "object",
         "type": "unknown"
        }
       ],
       "ref": "4a61d260-eb82-4edd-92de-06a7f1849f03",
       "rows": [
        [
         "ID",
         "1",
         "2",
         "3",
         "4",
         "5"
        ],
        [
         "Nom",
         "Alice",
         "Bob",
         "Antoinne",
         "Etienne",
         "Médhi"
        ],
        [
         "Maths",
         "85",
         "90",
         "69",
         "95",
         "85"
        ],
        [
         "Science",
         "88",
         "92",
         "50",
         "76",
         "75"
        ],
        [
         "Programmation",
         "72",
         "85",
         "90",
         "57",
         "95"
        ]
       ],
       "shape": {
        "columns": 5,
        "rows": 5
       }
      },
      "text/html": [
       "<div>\n",
       "<style scoped>\n",
       "    .dataframe tbody tr th:only-of-type {\n",
       "        vertical-align: middle;\n",
       "    }\n",
       "\n",
       "    .dataframe tbody tr th {\n",
       "        vertical-align: top;\n",
       "    }\n",
       "\n",
       "    .dataframe thead th {\n",
       "        text-align: right;\n",
       "    }\n",
       "</style>\n",
       "<table border=\"1\" class=\"dataframe\">\n",
       "  <thead>\n",
       "    <tr style=\"text-align: right;\">\n",
       "      <th></th>\n",
       "      <th>0</th>\n",
       "      <th>1</th>\n",
       "      <th>2</th>\n",
       "      <th>3</th>\n",
       "      <th>4</th>\n",
       "    </tr>\n",
       "  </thead>\n",
       "  <tbody>\n",
       "    <tr>\n",
       "      <th>ID</th>\n",
       "      <td>1</td>\n",
       "      <td>2</td>\n",
       "      <td>3</td>\n",
       "      <td>4</td>\n",
       "      <td>5</td>\n",
       "    </tr>\n",
       "    <tr>\n",
       "      <th>Nom</th>\n",
       "      <td>Alice</td>\n",
       "      <td>Bob</td>\n",
       "      <td>Antoinne</td>\n",
       "      <td>Etienne</td>\n",
       "      <td>Médhi</td>\n",
       "    </tr>\n",
       "    <tr>\n",
       "      <th>Maths</th>\n",
       "      <td>85</td>\n",
       "      <td>90</td>\n",
       "      <td>69</td>\n",
       "      <td>95</td>\n",
       "      <td>85</td>\n",
       "    </tr>\n",
       "    <tr>\n",
       "      <th>Science</th>\n",
       "      <td>88</td>\n",
       "      <td>92</td>\n",
       "      <td>50</td>\n",
       "      <td>76</td>\n",
       "      <td>75</td>\n",
       "    </tr>\n",
       "    <tr>\n",
       "      <th>Programmation</th>\n",
       "      <td>72</td>\n",
       "      <td>85</td>\n",
       "      <td>90</td>\n",
       "      <td>57</td>\n",
       "      <td>95</td>\n",
       "    </tr>\n",
       "  </tbody>\n",
       "</table>\n",
       "</div>"
      ],
      "text/plain": [
       "                   0    1         2        3      4\n",
       "ID                 1    2         3        4      5\n",
       "Nom            Alice  Bob  Antoinne  Etienne  Médhi\n",
       "Maths             85   90        69       95     85\n",
       "Science           88   92        50       76     75\n",
       "Programmation     72   85        90       57     95"
      ]
     },
     "execution_count": 10,
     "metadata": {},
     "output_type": "execute_result"
    }
   ],
   "source": [
    "tab = pd.read_excel('data/Melt.xlsx', sheet_name='Feuil1')\n",
    "tab.head().transpose()"
   ]
  },
  {
   "cell_type": "markdown",
   "id": "81f1e5cb",
   "metadata": {},
   "source": [
    "Dégroupage des données"
   ]
  },
  {
   "cell_type": "code",
   "execution_count": 8,
   "id": "96ca671f",
   "metadata": {},
   "outputs": [
    {
     "data": {
      "application/vnd.microsoft.datawrangler.viewer.v0+json": {
       "columns": [
        {
         "name": "index",
         "rawType": "object",
         "type": "string"
        },
        {
         "name": "0",
         "rawType": "object",
         "type": "unknown"
        },
        {
         "name": "1",
         "rawType": "object",
         "type": "unknown"
        },
        {
         "name": "2",
         "rawType": "object",
         "type": "unknown"
        },
        {
         "name": "3",
         "rawType": "object",
         "type": "unknown"
        },
        {
         "name": "4",
         "rawType": "object",
         "type": "unknown"
        },
        {
         "name": "5",
         "rawType": "object",
         "type": "unknown"
        },
        {
         "name": "6",
         "rawType": "object",
         "type": "unknown"
        },
        {
         "name": "7",
         "rawType": "object",
         "type": "unknown"
        },
        {
         "name": "8",
         "rawType": "object",
         "type": "unknown"
        },
        {
         "name": "9",
         "rawType": "object",
         "type": "unknown"
        },
        {
         "name": "10",
         "rawType": "object",
         "type": "unknown"
        },
        {
         "name": "11",
         "rawType": "object",
         "type": "unknown"
        },
        {
         "name": "12",
         "rawType": "object",
         "type": "unknown"
        },
        {
         "name": "13",
         "rawType": "object",
         "type": "unknown"
        },
        {
         "name": "14",
         "rawType": "object",
         "type": "unknown"
        },
        {
         "name": "15",
         "rawType": "object",
         "type": "unknown"
        },
        {
         "name": "16",
         "rawType": "object",
         "type": "unknown"
        },
        {
         "name": "17",
         "rawType": "object",
         "type": "unknown"
        },
        {
         "name": "18",
         "rawType": "object",
         "type": "unknown"
        },
        {
         "name": "19",
         "rawType": "object",
         "type": "unknown"
        },
        {
         "name": "20",
         "rawType": "object",
         "type": "unknown"
        },
        {
         "name": "21",
         "rawType": "object",
         "type": "unknown"
        },
        {
         "name": "22",
         "rawType": "object",
         "type": "unknown"
        },
        {
         "name": "23",
         "rawType": "object",
         "type": "unknown"
        },
        {
         "name": "24",
         "rawType": "object",
         "type": "unknown"
        },
        {
         "name": "25",
         "rawType": "object",
         "type": "unknown"
        },
        {
         "name": "26",
         "rawType": "object",
         "type": "unknown"
        },
        {
         "name": "27",
         "rawType": "object",
         "type": "unknown"
        },
        {
         "name": "28",
         "rawType": "object",
         "type": "unknown"
        },
        {
         "name": "29",
         "rawType": "object",
         "type": "unknown"
        }
       ],
       "ref": "da528cf0-fb5a-4bbd-a35f-74090528ae29",
       "rows": [
        [
         "ID",
         "1",
         "3",
         "2",
         "6",
         "10",
         "4",
         "9",
         "8",
         "7",
         "5",
         "1",
         "3",
         "2",
         "6",
         "10",
         "4",
         "9",
         "8",
         "7",
         "5",
         "1",
         "3",
         "2",
         "6",
         "10",
         "4",
         "9",
         "8",
         "7",
         "5"
        ],
        [
         "Nom",
         "Alice",
         "Antoinne",
         "Bob",
         "Carinne",
         "Charline",
         "Etienne",
         "John",
         "Khaled",
         "Maëlis",
         "Médhi",
         "Alice",
         "Antoinne",
         "Bob",
         "Carinne",
         "Charline",
         "Etienne",
         "John",
         "Khaled",
         "Maëlis",
         "Médhi",
         "Alice",
         "Antoinne",
         "Bob",
         "Carinne",
         "Charline",
         "Etienne",
         "John",
         "Khaled",
         "Maëlis",
         "Médhi"
        ],
        [
         "Sujet",
         "Maths",
         "Maths",
         "Maths",
         "Maths",
         "Maths",
         "Maths",
         "Maths",
         "Maths",
         "Maths",
         "Maths",
         "Programmation",
         "Programmation",
         "Programmation",
         "Programmation",
         "Programmation",
         "Programmation",
         "Programmation",
         "Programmation",
         "Programmation",
         "Programmation",
         "Science",
         "Science",
         "Science",
         "Science",
         "Science",
         "Science",
         "Science",
         "Science",
         "Science",
         "Science"
        ],
        [
         "Score",
         "85",
         "69",
         "90",
         "53",
         "69",
         "95",
         "87",
         "74",
         "86",
         "85",
         "72",
         "90",
         "85",
         "52",
         "90",
         "57",
         "84",
         "88",
         "62",
         "95",
         "88",
         "50",
         "92",
         "57",
         "86",
         "76",
         "51",
         "59",
         "64",
         "75"
        ]
       ],
       "shape": {
        "columns": 30,
        "rows": 4
       }
      },
      "text/html": [
       "<div>\n",
       "<style scoped>\n",
       "    .dataframe tbody tr th:only-of-type {\n",
       "        vertical-align: middle;\n",
       "    }\n",
       "\n",
       "    .dataframe tbody tr th {\n",
       "        vertical-align: top;\n",
       "    }\n",
       "\n",
       "    .dataframe thead th {\n",
       "        text-align: right;\n",
       "    }\n",
       "</style>\n",
       "<table border=\"1\" class=\"dataframe\">\n",
       "  <thead>\n",
       "    <tr style=\"text-align: right;\">\n",
       "      <th></th>\n",
       "      <th>0</th>\n",
       "      <th>1</th>\n",
       "      <th>2</th>\n",
       "      <th>3</th>\n",
       "      <th>4</th>\n",
       "      <th>5</th>\n",
       "      <th>6</th>\n",
       "      <th>7</th>\n",
       "      <th>8</th>\n",
       "      <th>9</th>\n",
       "      <th>...</th>\n",
       "      <th>20</th>\n",
       "      <th>21</th>\n",
       "      <th>22</th>\n",
       "      <th>23</th>\n",
       "      <th>24</th>\n",
       "      <th>25</th>\n",
       "      <th>26</th>\n",
       "      <th>27</th>\n",
       "      <th>28</th>\n",
       "      <th>29</th>\n",
       "    </tr>\n",
       "  </thead>\n",
       "  <tbody>\n",
       "    <tr>\n",
       "      <th>ID</th>\n",
       "      <td>1</td>\n",
       "      <td>3</td>\n",
       "      <td>2</td>\n",
       "      <td>6</td>\n",
       "      <td>10</td>\n",
       "      <td>4</td>\n",
       "      <td>9</td>\n",
       "      <td>8</td>\n",
       "      <td>7</td>\n",
       "      <td>5</td>\n",
       "      <td>...</td>\n",
       "      <td>1</td>\n",
       "      <td>3</td>\n",
       "      <td>2</td>\n",
       "      <td>6</td>\n",
       "      <td>10</td>\n",
       "      <td>4</td>\n",
       "      <td>9</td>\n",
       "      <td>8</td>\n",
       "      <td>7</td>\n",
       "      <td>5</td>\n",
       "    </tr>\n",
       "    <tr>\n",
       "      <th>Nom</th>\n",
       "      <td>Alice</td>\n",
       "      <td>Antoinne</td>\n",
       "      <td>Bob</td>\n",
       "      <td>Carinne</td>\n",
       "      <td>Charline</td>\n",
       "      <td>Etienne</td>\n",
       "      <td>John</td>\n",
       "      <td>Khaled</td>\n",
       "      <td>Maëlis</td>\n",
       "      <td>Médhi</td>\n",
       "      <td>...</td>\n",
       "      <td>Alice</td>\n",
       "      <td>Antoinne</td>\n",
       "      <td>Bob</td>\n",
       "      <td>Carinne</td>\n",
       "      <td>Charline</td>\n",
       "      <td>Etienne</td>\n",
       "      <td>John</td>\n",
       "      <td>Khaled</td>\n",
       "      <td>Maëlis</td>\n",
       "      <td>Médhi</td>\n",
       "    </tr>\n",
       "    <tr>\n",
       "      <th>Sujet</th>\n",
       "      <td>Maths</td>\n",
       "      <td>Maths</td>\n",
       "      <td>Maths</td>\n",
       "      <td>Maths</td>\n",
       "      <td>Maths</td>\n",
       "      <td>Maths</td>\n",
       "      <td>Maths</td>\n",
       "      <td>Maths</td>\n",
       "      <td>Maths</td>\n",
       "      <td>Maths</td>\n",
       "      <td>...</td>\n",
       "      <td>Science</td>\n",
       "      <td>Science</td>\n",
       "      <td>Science</td>\n",
       "      <td>Science</td>\n",
       "      <td>Science</td>\n",
       "      <td>Science</td>\n",
       "      <td>Science</td>\n",
       "      <td>Science</td>\n",
       "      <td>Science</td>\n",
       "      <td>Science</td>\n",
       "    </tr>\n",
       "    <tr>\n",
       "      <th>Score</th>\n",
       "      <td>85</td>\n",
       "      <td>69</td>\n",
       "      <td>90</td>\n",
       "      <td>53</td>\n",
       "      <td>69</td>\n",
       "      <td>95</td>\n",
       "      <td>87</td>\n",
       "      <td>74</td>\n",
       "      <td>86</td>\n",
       "      <td>85</td>\n",
       "      <td>...</td>\n",
       "      <td>88</td>\n",
       "      <td>50</td>\n",
       "      <td>92</td>\n",
       "      <td>57</td>\n",
       "      <td>86</td>\n",
       "      <td>76</td>\n",
       "      <td>51</td>\n",
       "      <td>59</td>\n",
       "      <td>64</td>\n",
       "      <td>75</td>\n",
       "    </tr>\n",
       "  </tbody>\n",
       "</table>\n",
       "<p>4 rows × 30 columns</p>\n",
       "</div>"
      ],
      "text/plain": [
       "          0         1      2        3         4        5      6       7   \\\n",
       "ID         1         3      2        6        10        4      9       8   \n",
       "Nom    Alice  Antoinne    Bob  Carinne  Charline  Etienne   John  Khaled   \n",
       "Sujet  Maths     Maths  Maths    Maths     Maths    Maths  Maths   Maths   \n",
       "Score     85        69     90       53        69       95     87      74   \n",
       "\n",
       "           8      9   ...       20        21       22       23        24  \\\n",
       "ID          7      5  ...        1         3        2        6        10   \n",
       "Nom    Maëlis  Médhi  ...    Alice  Antoinne      Bob  Carinne  Charline   \n",
       "Sujet   Maths  Maths  ...  Science   Science  Science  Science   Science   \n",
       "Score      86     85  ...       88        50       92       57        86   \n",
       "\n",
       "            25       26       27       28       29  \n",
       "ID           4        9        8        7        5  \n",
       "Nom    Etienne     John   Khaled   Maëlis    Médhi  \n",
       "Sujet  Science  Science  Science  Science  Science  \n",
       "Score       76       51       59       64       75  \n",
       "\n",
       "[4 rows x 30 columns]"
      ]
     },
     "execution_count": 8,
     "metadata": {},
     "output_type": "execute_result"
    }
   ],
   "source": [
    "tab.melt(['ID', 'Nom'], \n",
    "         ['Maths', 'Science', 'Programmation'],\n",
    "         'Sujet',\n",
    "         'Score').sort_values(by=['Sujet', 'Nom'], ascending=True\n",
    "                              ).reset_index(drop=True).transpose()"
   ]
  }
 ],
 "metadata": {
  "kernelspec": {
   "display_name": "Python 3",
   "language": "python",
   "name": "python3"
  },
  "language_info": {
   "codemirror_mode": {
    "name": "ipython",
    "version": 3
   },
   "file_extension": ".py",
   "mimetype": "text/x-python",
   "name": "python",
   "nbconvert_exporter": "python",
   "pygments_lexer": "ipython3",
   "version": "3.12.5"
  }
 },
 "nbformat": 4,
 "nbformat_minor": 5
}
