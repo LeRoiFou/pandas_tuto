{
 "cells": [
  {
   "cell_type": "markdown",
   "id": "607a7bf0",
   "metadata": {},
   "source": [
    "[Réunir plusieurs tableaux Excel par formule Python](https://www.youtube.com/watch?v=fuPStPpofJU&list=PLpQBnWleLAauKmgcdndmEr81iIIoW9_Wi&index=20)\n",
    "\n",
    "Date : 27/05/2025"
   ]
  },
  {
   "cell_type": "code",
   "execution_count": 1,
   "id": "70fc214a",
   "metadata": {},
   "outputs": [],
   "source": [
    "import pandas as pd"
   ]
  },
  {
   "cell_type": "code",
   "execution_count": 4,
   "id": "8f34b271",
   "metadata": {},
   "outputs": [
    {
     "data": {
      "application/vnd.microsoft.datawrangler.viewer.v0+json": {
       "columns": [
        {
         "name": "index",
         "rawType": "int64",
         "type": "integer"
        },
        {
         "name": "Immat.",
         "rawType": "object",
         "type": "string"
        },
        {
         "name": "Marque",
         "rawType": "object",
         "type": "string"
        },
        {
         "name": "Modèle",
         "rawType": "object",
         "type": "string"
        }
       ],
       "ref": "eed51904-10e6-4fb4-8f5c-c3203f50d6dd",
       "rows": [
        [
         "0",
         "2677XT74",
         "CITROEN",
         "C3"
        ],
        [
         "1",
         "AC454BD",
         "CITROEN",
         "C4"
        ],
        [
         "2",
         "AJ007PV",
         "CITROEN",
         "C4"
        ],
        [
         "3",
         "BB978MC",
         "CITROEN",
         "C5"
        ],
        [
         "4",
         "BQ561JM",
         "CITROEN",
         "NEMO"
        ]
       ],
       "shape": {
        "columns": 3,
        "rows": 5
       }
      },
      "text/html": [
       "<div>\n",
       "<style scoped>\n",
       "    .dataframe tbody tr th:only-of-type {\n",
       "        vertical-align: middle;\n",
       "    }\n",
       "\n",
       "    .dataframe tbody tr th {\n",
       "        vertical-align: top;\n",
       "    }\n",
       "\n",
       "    .dataframe thead th {\n",
       "        text-align: right;\n",
       "    }\n",
       "</style>\n",
       "<table border=\"1\" class=\"dataframe\">\n",
       "  <thead>\n",
       "    <tr style=\"text-align: right;\">\n",
       "      <th></th>\n",
       "      <th>Immat.</th>\n",
       "      <th>Marque</th>\n",
       "      <th>Modèle</th>\n",
       "    </tr>\n",
       "  </thead>\n",
       "  <tbody>\n",
       "    <tr>\n",
       "      <th>0</th>\n",
       "      <td>2677XT74</td>\n",
       "      <td>CITROEN</td>\n",
       "      <td>C3</td>\n",
       "    </tr>\n",
       "    <tr>\n",
       "      <th>1</th>\n",
       "      <td>AC454BD</td>\n",
       "      <td>CITROEN</td>\n",
       "      <td>C4</td>\n",
       "    </tr>\n",
       "    <tr>\n",
       "      <th>2</th>\n",
       "      <td>AJ007PV</td>\n",
       "      <td>CITROEN</td>\n",
       "      <td>C4</td>\n",
       "    </tr>\n",
       "    <tr>\n",
       "      <th>3</th>\n",
       "      <td>BB978MC</td>\n",
       "      <td>CITROEN</td>\n",
       "      <td>C5</td>\n",
       "    </tr>\n",
       "    <tr>\n",
       "      <th>4</th>\n",
       "      <td>BQ561JM</td>\n",
       "      <td>CITROEN</td>\n",
       "      <td>NEMO</td>\n",
       "    </tr>\n",
       "  </tbody>\n",
       "</table>\n",
       "</div>"
      ],
      "text/plain": [
       "     Immat.   Marque Modèle\n",
       "0  2677XT74  CITROEN     C3\n",
       "1   AC454BD  CITROEN     C4\n",
       "2   AJ007PV  CITROEN     C4\n",
       "3   BB978MC  CITROEN     C5\n",
       "4   BQ561JM  CITROEN   NEMO"
      ]
     },
     "execution_count": 4,
     "metadata": {},
     "output_type": "execute_result"
    }
   ],
   "source": [
    "tab1 = pd.read_excel('data/Concat.xlsx', sheet_name='Citroen')\n",
    "tab1.head()"
   ]
  },
  {
   "cell_type": "code",
   "execution_count": 5,
   "id": "6801ee42",
   "metadata": {},
   "outputs": [
    {
     "data": {
      "application/vnd.microsoft.datawrangler.viewer.v0+json": {
       "columns": [
        {
         "name": "index",
         "rawType": "int64",
         "type": "integer"
        },
        {
         "name": "Immat.",
         "rawType": "object",
         "type": "string"
        },
        {
         "name": "Marque",
         "rawType": "object",
         "type": "string"
        },
        {
         "name": "Modèle",
         "rawType": "int64",
         "type": "integer"
        }
       ],
       "ref": "d5f1790e-e1d3-4467-be73-371919f3c722",
       "rows": [
        [
         "0",
         "2020JNY",
         "PEUGEOT",
         "208"
        ],
        [
         "1",
         "2043JNY",
         "PEUGEOT",
         "308"
        ],
        [
         "2",
         "2069JNY",
         "PEUGEOT",
         "308"
        ],
        [
         "3",
         "5495ZQ74",
         "PEUGEOT",
         "206"
        ],
        [
         "4",
         "8033JPB",
         "PEUGEOT",
         "308"
        ]
       ],
       "shape": {
        "columns": 3,
        "rows": 5
       }
      },
      "text/html": [
       "<div>\n",
       "<style scoped>\n",
       "    .dataframe tbody tr th:only-of-type {\n",
       "        vertical-align: middle;\n",
       "    }\n",
       "\n",
       "    .dataframe tbody tr th {\n",
       "        vertical-align: top;\n",
       "    }\n",
       "\n",
       "    .dataframe thead th {\n",
       "        text-align: right;\n",
       "    }\n",
       "</style>\n",
       "<table border=\"1\" class=\"dataframe\">\n",
       "  <thead>\n",
       "    <tr style=\"text-align: right;\">\n",
       "      <th></th>\n",
       "      <th>Immat.</th>\n",
       "      <th>Marque</th>\n",
       "      <th>Modèle</th>\n",
       "    </tr>\n",
       "  </thead>\n",
       "  <tbody>\n",
       "    <tr>\n",
       "      <th>0</th>\n",
       "      <td>2020JNY</td>\n",
       "      <td>PEUGEOT</td>\n",
       "      <td>208</td>\n",
       "    </tr>\n",
       "    <tr>\n",
       "      <th>1</th>\n",
       "      <td>2043JNY</td>\n",
       "      <td>PEUGEOT</td>\n",
       "      <td>308</td>\n",
       "    </tr>\n",
       "    <tr>\n",
       "      <th>2</th>\n",
       "      <td>2069JNY</td>\n",
       "      <td>PEUGEOT</td>\n",
       "      <td>308</td>\n",
       "    </tr>\n",
       "    <tr>\n",
       "      <th>3</th>\n",
       "      <td>5495ZQ74</td>\n",
       "      <td>PEUGEOT</td>\n",
       "      <td>206</td>\n",
       "    </tr>\n",
       "    <tr>\n",
       "      <th>4</th>\n",
       "      <td>8033JPB</td>\n",
       "      <td>PEUGEOT</td>\n",
       "      <td>308</td>\n",
       "    </tr>\n",
       "  </tbody>\n",
       "</table>\n",
       "</div>"
      ],
      "text/plain": [
       "     Immat.   Marque  Modèle\n",
       "0   2020JNY  PEUGEOT     208\n",
       "1   2043JNY  PEUGEOT     308\n",
       "2   2069JNY  PEUGEOT     308\n",
       "3  5495ZQ74  PEUGEOT     206\n",
       "4   8033JPB  PEUGEOT     308"
      ]
     },
     "execution_count": 5,
     "metadata": {},
     "output_type": "execute_result"
    }
   ],
   "source": [
    "tab2 = pd.read_excel('data/Concat.xlsx', sheet_name='Peugeot')\n",
    "tab2.head()"
   ]
  },
  {
   "cell_type": "code",
   "execution_count": 6,
   "id": "612196da",
   "metadata": {},
   "outputs": [
    {
     "data": {
      "application/vnd.microsoft.datawrangler.viewer.v0+json": {
       "columns": [
        {
         "name": "index",
         "rawType": "int64",
         "type": "integer"
        },
        {
         "name": "Immat.",
         "rawType": "object",
         "type": "string"
        },
        {
         "name": "Marque",
         "rawType": "object",
         "type": "string"
        },
        {
         "name": "Modèle",
         "rawType": "object",
         "type": "string"
        }
       ],
       "ref": "add8bcf2-0cf6-46cf-958f-1155e6af2c47",
       "rows": [
        [
         "0",
         "112CSB59",
         "RENAULT",
         "MODUS"
        ],
        [
         "1",
         "1702WK74",
         "RENAULT",
         "TWINGO"
        ],
        [
         "2",
         "92BLK57",
         "RENAULT",
         "TWINGO"
        ],
        [
         "3",
         "AB479LG",
         "RENAULT",
         "ESPACE"
        ],
        [
         "4",
         "AJ969LZ",
         "RENAULT",
         "CLIO"
        ]
       ],
       "shape": {
        "columns": 3,
        "rows": 5
       }
      },
      "text/html": [
       "<div>\n",
       "<style scoped>\n",
       "    .dataframe tbody tr th:only-of-type {\n",
       "        vertical-align: middle;\n",
       "    }\n",
       "\n",
       "    .dataframe tbody tr th {\n",
       "        vertical-align: top;\n",
       "    }\n",
       "\n",
       "    .dataframe thead th {\n",
       "        text-align: right;\n",
       "    }\n",
       "</style>\n",
       "<table border=\"1\" class=\"dataframe\">\n",
       "  <thead>\n",
       "    <tr style=\"text-align: right;\">\n",
       "      <th></th>\n",
       "      <th>Immat.</th>\n",
       "      <th>Marque</th>\n",
       "      <th>Modèle</th>\n",
       "    </tr>\n",
       "  </thead>\n",
       "  <tbody>\n",
       "    <tr>\n",
       "      <th>0</th>\n",
       "      <td>112CSB59</td>\n",
       "      <td>RENAULT</td>\n",
       "      <td>MODUS</td>\n",
       "    </tr>\n",
       "    <tr>\n",
       "      <th>1</th>\n",
       "      <td>1702WK74</td>\n",
       "      <td>RENAULT</td>\n",
       "      <td>TWINGO</td>\n",
       "    </tr>\n",
       "    <tr>\n",
       "      <th>2</th>\n",
       "      <td>92BLK57</td>\n",
       "      <td>RENAULT</td>\n",
       "      <td>TWINGO</td>\n",
       "    </tr>\n",
       "    <tr>\n",
       "      <th>3</th>\n",
       "      <td>AB479LG</td>\n",
       "      <td>RENAULT</td>\n",
       "      <td>ESPACE</td>\n",
       "    </tr>\n",
       "    <tr>\n",
       "      <th>4</th>\n",
       "      <td>AJ969LZ</td>\n",
       "      <td>RENAULT</td>\n",
       "      <td>CLIO</td>\n",
       "    </tr>\n",
       "  </tbody>\n",
       "</table>\n",
       "</div>"
      ],
      "text/plain": [
       "     Immat.   Marque  Modèle\n",
       "0  112CSB59  RENAULT   MODUS\n",
       "1  1702WK74  RENAULT  TWINGO\n",
       "2   92BLK57  RENAULT  TWINGO\n",
       "3   AB479LG  RENAULT  ESPACE\n",
       "4   AJ969LZ  RENAULT    CLIO"
      ]
     },
     "execution_count": 6,
     "metadata": {},
     "output_type": "execute_result"
    }
   ],
   "source": [
    "tab3 = pd.read_excel('data/Concat.xlsx', sheet_name='Renault')\n",
    "tab3.head()"
   ]
  },
  {
   "cell_type": "markdown",
   "id": "3b0c6ef6",
   "metadata": {},
   "source": [
    "Concaténation des tables ci-avant"
   ]
  },
  {
   "cell_type": "code",
   "execution_count": 9,
   "id": "72cf4cc0",
   "metadata": {},
   "outputs": [
    {
     "data": {
      "application/vnd.microsoft.datawrangler.viewer.v0+json": {
       "columns": [
        {
         "name": "index",
         "rawType": "int64",
         "type": "integer"
        },
        {
         "name": "Immat.",
         "rawType": "object",
         "type": "string"
        },
        {
         "name": "Marque",
         "rawType": "object",
         "type": "string"
        },
        {
         "name": "Modèle",
         "rawType": "object",
         "type": "string"
        }
       ],
       "ref": "39b2f972-52f4-4708-b516-6cb5c0b26dbb",
       "rows": [
        [
         "0",
         "2677XT74",
         "CITROEN",
         "C3"
        ],
        [
         "1",
         "AC454BD",
         "CITROEN",
         "C4"
        ],
        [
         "2",
         "AJ007PV",
         "CITROEN",
         "C4"
        ],
        [
         "3",
         "BB978MC",
         "CITROEN",
         "C5"
        ],
        [
         "4",
         "BQ561JM",
         "CITROEN",
         "NEMO"
        ]
       ],
       "shape": {
        "columns": 3,
        "rows": 5
       }
      },
      "text/html": [
       "<div>\n",
       "<style scoped>\n",
       "    .dataframe tbody tr th:only-of-type {\n",
       "        vertical-align: middle;\n",
       "    }\n",
       "\n",
       "    .dataframe tbody tr th {\n",
       "        vertical-align: top;\n",
       "    }\n",
       "\n",
       "    .dataframe thead th {\n",
       "        text-align: right;\n",
       "    }\n",
       "</style>\n",
       "<table border=\"1\" class=\"dataframe\">\n",
       "  <thead>\n",
       "    <tr style=\"text-align: right;\">\n",
       "      <th></th>\n",
       "      <th>Immat.</th>\n",
       "      <th>Marque</th>\n",
       "      <th>Modèle</th>\n",
       "    </tr>\n",
       "  </thead>\n",
       "  <tbody>\n",
       "    <tr>\n",
       "      <th>0</th>\n",
       "      <td>2677XT74</td>\n",
       "      <td>CITROEN</td>\n",
       "      <td>C3</td>\n",
       "    </tr>\n",
       "    <tr>\n",
       "      <th>1</th>\n",
       "      <td>AC454BD</td>\n",
       "      <td>CITROEN</td>\n",
       "      <td>C4</td>\n",
       "    </tr>\n",
       "    <tr>\n",
       "      <th>2</th>\n",
       "      <td>AJ007PV</td>\n",
       "      <td>CITROEN</td>\n",
       "      <td>C4</td>\n",
       "    </tr>\n",
       "    <tr>\n",
       "      <th>3</th>\n",
       "      <td>BB978MC</td>\n",
       "      <td>CITROEN</td>\n",
       "      <td>C5</td>\n",
       "    </tr>\n",
       "    <tr>\n",
       "      <th>4</th>\n",
       "      <td>BQ561JM</td>\n",
       "      <td>CITROEN</td>\n",
       "      <td>NEMO</td>\n",
       "    </tr>\n",
       "  </tbody>\n",
       "</table>\n",
       "</div>"
      ],
      "text/plain": [
       "     Immat.   Marque Modèle\n",
       "0  2677XT74  CITROEN     C3\n",
       "1   AC454BD  CITROEN     C4\n",
       "2   AJ007PV  CITROEN     C4\n",
       "3   BB978MC  CITROEN     C5\n",
       "4   BQ561JM  CITROEN   NEMO"
      ]
     },
     "execution_count": 9,
     "metadata": {},
     "output_type": "execute_result"
    }
   ],
   "source": [
    "assemb=pd.concat([tab1, tab2, tab3]).reset_index(drop=True)\n",
    "assemb.head()"
   ]
  }
 ],
 "metadata": {
  "kernelspec": {
   "display_name": "Python 3",
   "language": "python",
   "name": "python3"
  },
  "language_info": {
   "codemirror_mode": {
    "name": "ipython",
    "version": 3
   },
   "file_extension": ".py",
   "mimetype": "text/x-python",
   "name": "python",
   "nbconvert_exporter": "python",
   "pygments_lexer": "ipython3",
   "version": "3.12.5"
  }
 },
 "nbformat": 4,
 "nbformat_minor": 5
}
