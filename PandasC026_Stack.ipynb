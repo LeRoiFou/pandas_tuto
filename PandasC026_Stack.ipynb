{
 "cells": [
  {
   "cell_type": "markdown",
   "id": "ce8b6309",
   "metadata": {},
   "source": [
    "[Transformer un tableau Excel de colonnes en lignes](https://www.youtube.com/watch?v=oSuNTgweIIQ&list=PLpQBnWleLAauKmgcdndmEr81iIIoW9_Wi&index=31)\n",
    "\n",
    "Date : 25/06/25"
   ]
  },
  {
   "cell_type": "code",
   "execution_count": 1,
   "id": "2c63b84b",
   "metadata": {},
   "outputs": [],
   "source": [
    "import pandas as pd"
   ]
  },
  {
   "cell_type": "code",
   "execution_count": null,
   "id": "a98aef92",
   "metadata": {},
   "outputs": [
    {
     "data": {
      "application/vnd.microsoft.datawrangler.viewer.v0+json": {
       "columns": [
        {
         "name": "index",
         "rawType": "int64",
         "type": "integer"
        },
        {
         "name": "Ville",
         "rawType": "object",
         "type": "string"
        },
        {
         "name": "Juin",
         "rawType": "int64",
         "type": "integer"
        },
        {
         "name": "Juillet",
         "rawType": "int64",
         "type": "integer"
        },
        {
         "name": "Août",
         "rawType": "int64",
         "type": "integer"
        },
        {
         "name": "Septembre",
         "rawType": "int64",
         "type": "integer"
        },
        {
         "name": "Octobre",
         "rawType": "int64",
         "type": "integer"
        },
        {
         "name": "Novembre",
         "rawType": "int64",
         "type": "integer"
        },
        {
         "name": "Décembre",
         "rawType": "int64",
         "type": "integer"
        }
       ],
       "ref": "fb69d735-69e3-4f69-befd-e644bede6b4c",
       "rows": [
        [
         "0",
         "Paris",
         "66150",
         "127575",
         "46550",
         "25780",
         "23380",
         "25956",
         "27996"
        ],
        [
         "1",
         "Londres",
         "21250",
         "41280",
         "56760",
         "27340",
         "16262",
         "18053",
         "29548"
        ],
        [
         "2",
         "Berlin",
         "20400",
         "5400",
         "30090",
         "20731",
         "19892",
         "16913",
         "28761"
        ],
        [
         "3",
         "Madrid",
         "5705",
         "20375",
         "73255",
         "26445",
         "23284",
         "22062",
         "16355"
        ]
       ],
       "shape": {
        "columns": 8,
        "rows": 4
       }
      },
      "text/html": [
       "<div>\n",
       "<style scoped>\n",
       "    .dataframe tbody tr th:only-of-type {\n",
       "        vertical-align: middle;\n",
       "    }\n",
       "\n",
       "    .dataframe tbody tr th {\n",
       "        vertical-align: top;\n",
       "    }\n",
       "\n",
       "    .dataframe thead th {\n",
       "        text-align: right;\n",
       "    }\n",
       "</style>\n",
       "<table border=\"1\" class=\"dataframe\">\n",
       "  <thead>\n",
       "    <tr style=\"text-align: right;\">\n",
       "      <th></th>\n",
       "      <th>Ville</th>\n",
       "      <th>Juin</th>\n",
       "      <th>Juillet</th>\n",
       "      <th>Août</th>\n",
       "      <th>Septembre</th>\n",
       "      <th>Octobre</th>\n",
       "      <th>Novembre</th>\n",
       "      <th>Décembre</th>\n",
       "    </tr>\n",
       "  </thead>\n",
       "  <tbody>\n",
       "    <tr>\n",
       "      <th>0</th>\n",
       "      <td>Paris</td>\n",
       "      <td>66150</td>\n",
       "      <td>127575</td>\n",
       "      <td>46550</td>\n",
       "      <td>25780</td>\n",
       "      <td>23380</td>\n",
       "      <td>25956</td>\n",
       "      <td>27996</td>\n",
       "    </tr>\n",
       "    <tr>\n",
       "      <th>1</th>\n",
       "      <td>Londres</td>\n",
       "      <td>21250</td>\n",
       "      <td>41280</td>\n",
       "      <td>56760</td>\n",
       "      <td>27340</td>\n",
       "      <td>16262</td>\n",
       "      <td>18053</td>\n",
       "      <td>29548</td>\n",
       "    </tr>\n",
       "    <tr>\n",
       "      <th>2</th>\n",
       "      <td>Berlin</td>\n",
       "      <td>20400</td>\n",
       "      <td>5400</td>\n",
       "      <td>30090</td>\n",
       "      <td>20731</td>\n",
       "      <td>19892</td>\n",
       "      <td>16913</td>\n",
       "      <td>28761</td>\n",
       "    </tr>\n",
       "    <tr>\n",
       "      <th>3</th>\n",
       "      <td>Madrid</td>\n",
       "      <td>5705</td>\n",
       "      <td>20375</td>\n",
       "      <td>73255</td>\n",
       "      <td>26445</td>\n",
       "      <td>23284</td>\n",
       "      <td>22062</td>\n",
       "      <td>16355</td>\n",
       "    </tr>\n",
       "  </tbody>\n",
       "</table>\n",
       "</div>"
      ],
      "text/plain": [
       "     Ville   Juin  Juillet   Août  Septembre  Octobre  Novembre  Décembre\n",
       "0    Paris  66150   127575  46550      25780    23380     25956     27996\n",
       "1  Londres  21250    41280  56760      27340    16262     18053     29548\n",
       "2   Berlin  20400     5400  30090      20731    19892     16913     28761\n",
       "3   Madrid   5705    20375  73255      26445    23284     22062     16355"
      ]
     },
     "execution_count": 2,
     "metadata": {},
     "output_type": "execute_result"
    }
   ],
   "source": [
    "tab=pd.read_excel('data/Stack.xlsx', sheet_name='Feuil1')\n",
    "tab.head()"
   ]
  },
  {
   "cell_type": "markdown",
   "id": "fad26e84",
   "metadata": {},
   "source": [
    "Transformation des colonnes en lignes"
   ]
  },
  {
   "cell_type": "code",
   "execution_count": 6,
   "id": "968802ed",
   "metadata": {},
   "outputs": [
    {
     "data": {
      "application/vnd.microsoft.datawrangler.viewer.v0+json": {
       "columns": [
        {
         "name": "index",
         "rawType": "int64",
         "type": "integer"
        },
        {
         "name": "Ville",
         "rawType": "object",
         "type": "string"
        },
        {
         "name": "level_1",
         "rawType": "object",
         "type": "string"
        },
        {
         "name": "0",
         "rawType": "int64",
         "type": "integer"
        }
       ],
       "ref": "5df74859-a21b-4d87-b7db-8cb81d3bca77",
       "rows": [
        [
         "0",
         "Paris",
         "Juin",
         "66150"
        ],
        [
         "1",
         "Paris",
         "Juillet",
         "127575"
        ],
        [
         "2",
         "Paris",
         "Août",
         "46550"
        ],
        [
         "3",
         "Paris",
         "Septembre",
         "25780"
        ],
        [
         "4",
         "Paris",
         "Octobre",
         "23380"
        ],
        [
         "5",
         "Paris",
         "Novembre",
         "25956"
        ],
        [
         "6",
         "Paris",
         "Décembre",
         "27996"
        ],
        [
         "7",
         "Londres",
         "Juin",
         "21250"
        ],
        [
         "8",
         "Londres",
         "Juillet",
         "41280"
        ],
        [
         "9",
         "Londres",
         "Août",
         "56760"
        ],
        [
         "10",
         "Londres",
         "Septembre",
         "27340"
        ],
        [
         "11",
         "Londres",
         "Octobre",
         "16262"
        ],
        [
         "12",
         "Londres",
         "Novembre",
         "18053"
        ],
        [
         "13",
         "Londres",
         "Décembre",
         "29548"
        ],
        [
         "14",
         "Berlin",
         "Juin",
         "20400"
        ],
        [
         "15",
         "Berlin",
         "Juillet",
         "5400"
        ],
        [
         "16",
         "Berlin",
         "Août",
         "30090"
        ],
        [
         "17",
         "Berlin",
         "Septembre",
         "20731"
        ],
        [
         "18",
         "Berlin",
         "Octobre",
         "19892"
        ],
        [
         "19",
         "Berlin",
         "Novembre",
         "16913"
        ],
        [
         "20",
         "Berlin",
         "Décembre",
         "28761"
        ],
        [
         "21",
         "Madrid",
         "Juin",
         "5705"
        ],
        [
         "22",
         "Madrid",
         "Juillet",
         "20375"
        ],
        [
         "23",
         "Madrid",
         "Août",
         "73255"
        ],
        [
         "24",
         "Madrid",
         "Septembre",
         "26445"
        ],
        [
         "25",
         "Madrid",
         "Octobre",
         "23284"
        ],
        [
         "26",
         "Madrid",
         "Novembre",
         "22062"
        ],
        [
         "27",
         "Madrid",
         "Décembre",
         "16355"
        ]
       ],
       "shape": {
        "columns": 3,
        "rows": 28
       }
      },
      "text/html": [
       "<div>\n",
       "<style scoped>\n",
       "    .dataframe tbody tr th:only-of-type {\n",
       "        vertical-align: middle;\n",
       "    }\n",
       "\n",
       "    .dataframe tbody tr th {\n",
       "        vertical-align: top;\n",
       "    }\n",
       "\n",
       "    .dataframe thead th {\n",
       "        text-align: right;\n",
       "    }\n",
       "</style>\n",
       "<table border=\"1\" class=\"dataframe\">\n",
       "  <thead>\n",
       "    <tr style=\"text-align: right;\">\n",
       "      <th></th>\n",
       "      <th>Ville</th>\n",
       "      <th>level_1</th>\n",
       "      <th>0</th>\n",
       "    </tr>\n",
       "  </thead>\n",
       "  <tbody>\n",
       "    <tr>\n",
       "      <th>0</th>\n",
       "      <td>Paris</td>\n",
       "      <td>Juin</td>\n",
       "      <td>66150</td>\n",
       "    </tr>\n",
       "    <tr>\n",
       "      <th>1</th>\n",
       "      <td>Paris</td>\n",
       "      <td>Juillet</td>\n",
       "      <td>127575</td>\n",
       "    </tr>\n",
       "    <tr>\n",
       "      <th>2</th>\n",
       "      <td>Paris</td>\n",
       "      <td>Août</td>\n",
       "      <td>46550</td>\n",
       "    </tr>\n",
       "    <tr>\n",
       "      <th>3</th>\n",
       "      <td>Paris</td>\n",
       "      <td>Septembre</td>\n",
       "      <td>25780</td>\n",
       "    </tr>\n",
       "    <tr>\n",
       "      <th>4</th>\n",
       "      <td>Paris</td>\n",
       "      <td>Octobre</td>\n",
       "      <td>23380</td>\n",
       "    </tr>\n",
       "    <tr>\n",
       "      <th>5</th>\n",
       "      <td>Paris</td>\n",
       "      <td>Novembre</td>\n",
       "      <td>25956</td>\n",
       "    </tr>\n",
       "    <tr>\n",
       "      <th>6</th>\n",
       "      <td>Paris</td>\n",
       "      <td>Décembre</td>\n",
       "      <td>27996</td>\n",
       "    </tr>\n",
       "    <tr>\n",
       "      <th>7</th>\n",
       "      <td>Londres</td>\n",
       "      <td>Juin</td>\n",
       "      <td>21250</td>\n",
       "    </tr>\n",
       "    <tr>\n",
       "      <th>8</th>\n",
       "      <td>Londres</td>\n",
       "      <td>Juillet</td>\n",
       "      <td>41280</td>\n",
       "    </tr>\n",
       "    <tr>\n",
       "      <th>9</th>\n",
       "      <td>Londres</td>\n",
       "      <td>Août</td>\n",
       "      <td>56760</td>\n",
       "    </tr>\n",
       "    <tr>\n",
       "      <th>10</th>\n",
       "      <td>Londres</td>\n",
       "      <td>Septembre</td>\n",
       "      <td>27340</td>\n",
       "    </tr>\n",
       "    <tr>\n",
       "      <th>11</th>\n",
       "      <td>Londres</td>\n",
       "      <td>Octobre</td>\n",
       "      <td>16262</td>\n",
       "    </tr>\n",
       "    <tr>\n",
       "      <th>12</th>\n",
       "      <td>Londres</td>\n",
       "      <td>Novembre</td>\n",
       "      <td>18053</td>\n",
       "    </tr>\n",
       "    <tr>\n",
       "      <th>13</th>\n",
       "      <td>Londres</td>\n",
       "      <td>Décembre</td>\n",
       "      <td>29548</td>\n",
       "    </tr>\n",
       "    <tr>\n",
       "      <th>14</th>\n",
       "      <td>Berlin</td>\n",
       "      <td>Juin</td>\n",
       "      <td>20400</td>\n",
       "    </tr>\n",
       "    <tr>\n",
       "      <th>15</th>\n",
       "      <td>Berlin</td>\n",
       "      <td>Juillet</td>\n",
       "      <td>5400</td>\n",
       "    </tr>\n",
       "    <tr>\n",
       "      <th>16</th>\n",
       "      <td>Berlin</td>\n",
       "      <td>Août</td>\n",
       "      <td>30090</td>\n",
       "    </tr>\n",
       "    <tr>\n",
       "      <th>17</th>\n",
       "      <td>Berlin</td>\n",
       "      <td>Septembre</td>\n",
       "      <td>20731</td>\n",
       "    </tr>\n",
       "    <tr>\n",
       "      <th>18</th>\n",
       "      <td>Berlin</td>\n",
       "      <td>Octobre</td>\n",
       "      <td>19892</td>\n",
       "    </tr>\n",
       "    <tr>\n",
       "      <th>19</th>\n",
       "      <td>Berlin</td>\n",
       "      <td>Novembre</td>\n",
       "      <td>16913</td>\n",
       "    </tr>\n",
       "    <tr>\n",
       "      <th>20</th>\n",
       "      <td>Berlin</td>\n",
       "      <td>Décembre</td>\n",
       "      <td>28761</td>\n",
       "    </tr>\n",
       "    <tr>\n",
       "      <th>21</th>\n",
       "      <td>Madrid</td>\n",
       "      <td>Juin</td>\n",
       "      <td>5705</td>\n",
       "    </tr>\n",
       "    <tr>\n",
       "      <th>22</th>\n",
       "      <td>Madrid</td>\n",
       "      <td>Juillet</td>\n",
       "      <td>20375</td>\n",
       "    </tr>\n",
       "    <tr>\n",
       "      <th>23</th>\n",
       "      <td>Madrid</td>\n",
       "      <td>Août</td>\n",
       "      <td>73255</td>\n",
       "    </tr>\n",
       "    <tr>\n",
       "      <th>24</th>\n",
       "      <td>Madrid</td>\n",
       "      <td>Septembre</td>\n",
       "      <td>26445</td>\n",
       "    </tr>\n",
       "    <tr>\n",
       "      <th>25</th>\n",
       "      <td>Madrid</td>\n",
       "      <td>Octobre</td>\n",
       "      <td>23284</td>\n",
       "    </tr>\n",
       "    <tr>\n",
       "      <th>26</th>\n",
       "      <td>Madrid</td>\n",
       "      <td>Novembre</td>\n",
       "      <td>22062</td>\n",
       "    </tr>\n",
       "    <tr>\n",
       "      <th>27</th>\n",
       "      <td>Madrid</td>\n",
       "      <td>Décembre</td>\n",
       "      <td>16355</td>\n",
       "    </tr>\n",
       "  </tbody>\n",
       "</table>\n",
       "</div>"
      ],
      "text/plain": [
       "      Ville    level_1       0\n",
       "0     Paris       Juin   66150\n",
       "1     Paris    Juillet  127575\n",
       "2     Paris       Août   46550\n",
       "3     Paris  Septembre   25780\n",
       "4     Paris    Octobre   23380\n",
       "5     Paris   Novembre   25956\n",
       "6     Paris   Décembre   27996\n",
       "7   Londres       Juin   21250\n",
       "8   Londres    Juillet   41280\n",
       "9   Londres       Août   56760\n",
       "10  Londres  Septembre   27340\n",
       "11  Londres    Octobre   16262\n",
       "12  Londres   Novembre   18053\n",
       "13  Londres   Décembre   29548\n",
       "14   Berlin       Juin   20400\n",
       "15   Berlin    Juillet    5400\n",
       "16   Berlin       Août   30090\n",
       "17   Berlin  Septembre   20731\n",
       "18   Berlin    Octobre   19892\n",
       "19   Berlin   Novembre   16913\n",
       "20   Berlin   Décembre   28761\n",
       "21   Madrid       Juin    5705\n",
       "22   Madrid    Juillet   20375\n",
       "23   Madrid       Août   73255\n",
       "24   Madrid  Septembre   26445\n",
       "25   Madrid    Octobre   23284\n",
       "26   Madrid   Novembre   22062\n",
       "27   Madrid   Décembre   16355"
      ]
     },
     "execution_count": 6,
     "metadata": {},
     "output_type": "execute_result"
    }
   ],
   "source": [
    "lines = tab.set_index('Ville').stack().reset_index()\n",
    "lines"
   ]
  },
  {
   "cell_type": "markdown",
   "id": "6529f314",
   "metadata": {},
   "source": [
    "Modification des en-têtes des champs"
   ]
  },
  {
   "cell_type": "code",
   "execution_count": 7,
   "id": "7eaaf7e5",
   "metadata": {},
   "outputs": [
    {
     "data": {
      "application/vnd.microsoft.datawrangler.viewer.v0+json": {
       "columns": [
        {
         "name": "index",
         "rawType": "int64",
         "type": "integer"
        },
        {
         "name": "Ville",
         "rawType": "object",
         "type": "string"
        },
        {
         "name": "Mois",
         "rawType": "object",
         "type": "string"
        },
        {
         "name": "Valeur",
         "rawType": "int64",
         "type": "integer"
        }
       ],
       "ref": "00033088-1993-4f89-8c1a-f0192888d3ac",
       "rows": [
        [
         "0",
         "Paris",
         "Juin",
         "66150"
        ],
        [
         "1",
         "Paris",
         "Juillet",
         "127575"
        ],
        [
         "2",
         "Paris",
         "Août",
         "46550"
        ],
        [
         "3",
         "Paris",
         "Septembre",
         "25780"
        ],
        [
         "4",
         "Paris",
         "Octobre",
         "23380"
        ],
        [
         "5",
         "Paris",
         "Novembre",
         "25956"
        ],
        [
         "6",
         "Paris",
         "Décembre",
         "27996"
        ],
        [
         "7",
         "Londres",
         "Juin",
         "21250"
        ],
        [
         "8",
         "Londres",
         "Juillet",
         "41280"
        ],
        [
         "9",
         "Londres",
         "Août",
         "56760"
        ],
        [
         "10",
         "Londres",
         "Septembre",
         "27340"
        ],
        [
         "11",
         "Londres",
         "Octobre",
         "16262"
        ],
        [
         "12",
         "Londres",
         "Novembre",
         "18053"
        ],
        [
         "13",
         "Londres",
         "Décembre",
         "29548"
        ],
        [
         "14",
         "Berlin",
         "Juin",
         "20400"
        ],
        [
         "15",
         "Berlin",
         "Juillet",
         "5400"
        ],
        [
         "16",
         "Berlin",
         "Août",
         "30090"
        ],
        [
         "17",
         "Berlin",
         "Septembre",
         "20731"
        ],
        [
         "18",
         "Berlin",
         "Octobre",
         "19892"
        ],
        [
         "19",
         "Berlin",
         "Novembre",
         "16913"
        ],
        [
         "20",
         "Berlin",
         "Décembre",
         "28761"
        ],
        [
         "21",
         "Madrid",
         "Juin",
         "5705"
        ],
        [
         "22",
         "Madrid",
         "Juillet",
         "20375"
        ],
        [
         "23",
         "Madrid",
         "Août",
         "73255"
        ],
        [
         "24",
         "Madrid",
         "Septembre",
         "26445"
        ],
        [
         "25",
         "Madrid",
         "Octobre",
         "23284"
        ],
        [
         "26",
         "Madrid",
         "Novembre",
         "22062"
        ],
        [
         "27",
         "Madrid",
         "Décembre",
         "16355"
        ]
       ],
       "shape": {
        "columns": 3,
        "rows": 28
       }
      },
      "text/html": [
       "<div>\n",
       "<style scoped>\n",
       "    .dataframe tbody tr th:only-of-type {\n",
       "        vertical-align: middle;\n",
       "    }\n",
       "\n",
       "    .dataframe tbody tr th {\n",
       "        vertical-align: top;\n",
       "    }\n",
       "\n",
       "    .dataframe thead th {\n",
       "        text-align: right;\n",
       "    }\n",
       "</style>\n",
       "<table border=\"1\" class=\"dataframe\">\n",
       "  <thead>\n",
       "    <tr style=\"text-align: right;\">\n",
       "      <th></th>\n",
       "      <th>Ville</th>\n",
       "      <th>Mois</th>\n",
       "      <th>Valeur</th>\n",
       "    </tr>\n",
       "  </thead>\n",
       "  <tbody>\n",
       "    <tr>\n",
       "      <th>0</th>\n",
       "      <td>Paris</td>\n",
       "      <td>Juin</td>\n",
       "      <td>66150</td>\n",
       "    </tr>\n",
       "    <tr>\n",
       "      <th>1</th>\n",
       "      <td>Paris</td>\n",
       "      <td>Juillet</td>\n",
       "      <td>127575</td>\n",
       "    </tr>\n",
       "    <tr>\n",
       "      <th>2</th>\n",
       "      <td>Paris</td>\n",
       "      <td>Août</td>\n",
       "      <td>46550</td>\n",
       "    </tr>\n",
       "    <tr>\n",
       "      <th>3</th>\n",
       "      <td>Paris</td>\n",
       "      <td>Septembre</td>\n",
       "      <td>25780</td>\n",
       "    </tr>\n",
       "    <tr>\n",
       "      <th>4</th>\n",
       "      <td>Paris</td>\n",
       "      <td>Octobre</td>\n",
       "      <td>23380</td>\n",
       "    </tr>\n",
       "    <tr>\n",
       "      <th>5</th>\n",
       "      <td>Paris</td>\n",
       "      <td>Novembre</td>\n",
       "      <td>25956</td>\n",
       "    </tr>\n",
       "    <tr>\n",
       "      <th>6</th>\n",
       "      <td>Paris</td>\n",
       "      <td>Décembre</td>\n",
       "      <td>27996</td>\n",
       "    </tr>\n",
       "    <tr>\n",
       "      <th>7</th>\n",
       "      <td>Londres</td>\n",
       "      <td>Juin</td>\n",
       "      <td>21250</td>\n",
       "    </tr>\n",
       "    <tr>\n",
       "      <th>8</th>\n",
       "      <td>Londres</td>\n",
       "      <td>Juillet</td>\n",
       "      <td>41280</td>\n",
       "    </tr>\n",
       "    <tr>\n",
       "      <th>9</th>\n",
       "      <td>Londres</td>\n",
       "      <td>Août</td>\n",
       "      <td>56760</td>\n",
       "    </tr>\n",
       "    <tr>\n",
       "      <th>10</th>\n",
       "      <td>Londres</td>\n",
       "      <td>Septembre</td>\n",
       "      <td>27340</td>\n",
       "    </tr>\n",
       "    <tr>\n",
       "      <th>11</th>\n",
       "      <td>Londres</td>\n",
       "      <td>Octobre</td>\n",
       "      <td>16262</td>\n",
       "    </tr>\n",
       "    <tr>\n",
       "      <th>12</th>\n",
       "      <td>Londres</td>\n",
       "      <td>Novembre</td>\n",
       "      <td>18053</td>\n",
       "    </tr>\n",
       "    <tr>\n",
       "      <th>13</th>\n",
       "      <td>Londres</td>\n",
       "      <td>Décembre</td>\n",
       "      <td>29548</td>\n",
       "    </tr>\n",
       "    <tr>\n",
       "      <th>14</th>\n",
       "      <td>Berlin</td>\n",
       "      <td>Juin</td>\n",
       "      <td>20400</td>\n",
       "    </tr>\n",
       "    <tr>\n",
       "      <th>15</th>\n",
       "      <td>Berlin</td>\n",
       "      <td>Juillet</td>\n",
       "      <td>5400</td>\n",
       "    </tr>\n",
       "    <tr>\n",
       "      <th>16</th>\n",
       "      <td>Berlin</td>\n",
       "      <td>Août</td>\n",
       "      <td>30090</td>\n",
       "    </tr>\n",
       "    <tr>\n",
       "      <th>17</th>\n",
       "      <td>Berlin</td>\n",
       "      <td>Septembre</td>\n",
       "      <td>20731</td>\n",
       "    </tr>\n",
       "    <tr>\n",
       "      <th>18</th>\n",
       "      <td>Berlin</td>\n",
       "      <td>Octobre</td>\n",
       "      <td>19892</td>\n",
       "    </tr>\n",
       "    <tr>\n",
       "      <th>19</th>\n",
       "      <td>Berlin</td>\n",
       "      <td>Novembre</td>\n",
       "      <td>16913</td>\n",
       "    </tr>\n",
       "    <tr>\n",
       "      <th>20</th>\n",
       "      <td>Berlin</td>\n",
       "      <td>Décembre</td>\n",
       "      <td>28761</td>\n",
       "    </tr>\n",
       "    <tr>\n",
       "      <th>21</th>\n",
       "      <td>Madrid</td>\n",
       "      <td>Juin</td>\n",
       "      <td>5705</td>\n",
       "    </tr>\n",
       "    <tr>\n",
       "      <th>22</th>\n",
       "      <td>Madrid</td>\n",
       "      <td>Juillet</td>\n",
       "      <td>20375</td>\n",
       "    </tr>\n",
       "    <tr>\n",
       "      <th>23</th>\n",
       "      <td>Madrid</td>\n",
       "      <td>Août</td>\n",
       "      <td>73255</td>\n",
       "    </tr>\n",
       "    <tr>\n",
       "      <th>24</th>\n",
       "      <td>Madrid</td>\n",
       "      <td>Septembre</td>\n",
       "      <td>26445</td>\n",
       "    </tr>\n",
       "    <tr>\n",
       "      <th>25</th>\n",
       "      <td>Madrid</td>\n",
       "      <td>Octobre</td>\n",
       "      <td>23284</td>\n",
       "    </tr>\n",
       "    <tr>\n",
       "      <th>26</th>\n",
       "      <td>Madrid</td>\n",
       "      <td>Novembre</td>\n",
       "      <td>22062</td>\n",
       "    </tr>\n",
       "    <tr>\n",
       "      <th>27</th>\n",
       "      <td>Madrid</td>\n",
       "      <td>Décembre</td>\n",
       "      <td>16355</td>\n",
       "    </tr>\n",
       "  </tbody>\n",
       "</table>\n",
       "</div>"
      ],
      "text/plain": [
       "      Ville       Mois  Valeur\n",
       "0     Paris       Juin   66150\n",
       "1     Paris    Juillet  127575\n",
       "2     Paris       Août   46550\n",
       "3     Paris  Septembre   25780\n",
       "4     Paris    Octobre   23380\n",
       "5     Paris   Novembre   25956\n",
       "6     Paris   Décembre   27996\n",
       "7   Londres       Juin   21250\n",
       "8   Londres    Juillet   41280\n",
       "9   Londres       Août   56760\n",
       "10  Londres  Septembre   27340\n",
       "11  Londres    Octobre   16262\n",
       "12  Londres   Novembre   18053\n",
       "13  Londres   Décembre   29548\n",
       "14   Berlin       Juin   20400\n",
       "15   Berlin    Juillet    5400\n",
       "16   Berlin       Août   30090\n",
       "17   Berlin  Septembre   20731\n",
       "18   Berlin    Octobre   19892\n",
       "19   Berlin   Novembre   16913\n",
       "20   Berlin   Décembre   28761\n",
       "21   Madrid       Juin    5705\n",
       "22   Madrid    Juillet   20375\n",
       "23   Madrid       Août   73255\n",
       "24   Madrid  Septembre   26445\n",
       "25   Madrid    Octobre   23284\n",
       "26   Madrid   Novembre   22062\n",
       "27   Madrid   Décembre   16355"
      ]
     },
     "execution_count": 7,
     "metadata": {},
     "output_type": "execute_result"
    }
   ],
   "source": [
    "lines.columns = ['Ville', 'Mois', 'Valeur']\n",
    "lines"
   ]
  }
 ],
 "metadata": {
  "kernelspec": {
   "display_name": "Python 3",
   "language": "python",
   "name": "python3"
  },
  "language_info": {
   "codemirror_mode": {
    "name": "ipython",
    "version": 3
   },
   "file_extension": ".py",
   "mimetype": "text/x-python",
   "name": "python",
   "nbconvert_exporter": "python",
   "pygments_lexer": "ipython3",
   "version": "3.12.5"
  }
 },
 "nbformat": 4,
 "nbformat_minor": 5
}
