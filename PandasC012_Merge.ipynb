{
 "cells": [
  {
   "cell_type": "markdown",
   "id": "6aaf82e7",
   "metadata": {},
   "source": [
    "[Exclure les lignes différentes par formule Python](https://www.youtube.com/watch?v=u31xzznINxg&list=PLpQBnWleLAauKmgcdndmEr81iIIoW9_Wi&index=16)\n",
    "\n",
    "Date : 21/05/2025"
   ]
  },
  {
   "cell_type": "code",
   "execution_count": 1,
   "id": "de46d99a",
   "metadata": {},
   "outputs": [],
   "source": [
    "import pandas as pd"
   ]
  },
  {
   "cell_type": "code",
   "execution_count": 2,
   "id": "f6aca5fe",
   "metadata": {},
   "outputs": [],
   "source": [
    "tab1 = pd.read_excel('data/Merge.xlsx', sheet_name='Feuil1')"
   ]
  },
  {
   "cell_type": "code",
   "execution_count": 3,
   "id": "960d7647",
   "metadata": {},
   "outputs": [
    {
     "data": {
      "application/vnd.microsoft.datawrangler.viewer.v0+json": {
       "columns": [
        {
         "name": "index",
         "rawType": "int64",
         "type": "integer"
        },
        {
         "name": "Nom",
         "rawType": "object",
         "type": "string"
        },
        {
         "name": "Prénom",
         "rawType": "object",
         "type": "string"
        }
       ],
       "ref": "62db3434-f581-402f-a273-cfddc3932499",
       "rows": [
        [
         "0",
         "Bonbeur",
         "Jean"
        ],
        [
         "1",
         "Hèresse",
         "Mégane"
        ],
        [
         "2",
         "Noix",
         "Stéphane"
        ],
        [
         "3",
         "Gature",
         "Emilie"
        ],
        [
         "4",
         "De MontéCarlo",
         "Coralie"
        ]
       ],
       "shape": {
        "columns": 2,
        "rows": 5
       }
      },
      "text/html": [
       "<div>\n",
       "<style scoped>\n",
       "    .dataframe tbody tr th:only-of-type {\n",
       "        vertical-align: middle;\n",
       "    }\n",
       "\n",
       "    .dataframe tbody tr th {\n",
       "        vertical-align: top;\n",
       "    }\n",
       "\n",
       "    .dataframe thead th {\n",
       "        text-align: right;\n",
       "    }\n",
       "</style>\n",
       "<table border=\"1\" class=\"dataframe\">\n",
       "  <thead>\n",
       "    <tr style=\"text-align: right;\">\n",
       "      <th></th>\n",
       "      <th>Nom</th>\n",
       "      <th>Prénom</th>\n",
       "    </tr>\n",
       "  </thead>\n",
       "  <tbody>\n",
       "    <tr>\n",
       "      <th>0</th>\n",
       "      <td>Bonbeur</td>\n",
       "      <td>Jean</td>\n",
       "    </tr>\n",
       "    <tr>\n",
       "      <th>1</th>\n",
       "      <td>Hèresse</td>\n",
       "      <td>Mégane</td>\n",
       "    </tr>\n",
       "    <tr>\n",
       "      <th>2</th>\n",
       "      <td>Noix</td>\n",
       "      <td>Stéphane</td>\n",
       "    </tr>\n",
       "    <tr>\n",
       "      <th>3</th>\n",
       "      <td>Gature</td>\n",
       "      <td>Emilie</td>\n",
       "    </tr>\n",
       "    <tr>\n",
       "      <th>4</th>\n",
       "      <td>De MontéCarlo</td>\n",
       "      <td>Coralie</td>\n",
       "    </tr>\n",
       "  </tbody>\n",
       "</table>\n",
       "</div>"
      ],
      "text/plain": [
       "             Nom    Prénom\n",
       "0        Bonbeur      Jean\n",
       "1        Hèresse    Mégane\n",
       "2           Noix  Stéphane\n",
       "3         Gature    Emilie\n",
       "4  De MontéCarlo   Coralie"
      ]
     },
     "execution_count": 3,
     "metadata": {},
     "output_type": "execute_result"
    }
   ],
   "source": [
    "tab1.head()"
   ]
  },
  {
   "cell_type": "code",
   "execution_count": 4,
   "id": "e1bd873b",
   "metadata": {},
   "outputs": [],
   "source": [
    "tab2 = pd.read_excel('data/Merge.xlsx', sheet_name='Feuil2')"
   ]
  },
  {
   "cell_type": "code",
   "execution_count": 5,
   "id": "710ecede",
   "metadata": {},
   "outputs": [
    {
     "data": {
      "application/vnd.microsoft.datawrangler.viewer.v0+json": {
       "columns": [
        {
         "name": "index",
         "rawType": "int64",
         "type": "integer"
        },
        {
         "name": "Nom",
         "rawType": "object",
         "type": "string"
        },
        {
         "name": "Prénom",
         "rawType": "object",
         "type": "string"
        }
       ],
       "ref": "d4d09b5e-37db-4ac8-81c3-e5e243571544",
       "rows": [
        [
         "0",
         "Bonbeur",
         "Jean"
        ],
        [
         "1",
         "Hèresse",
         "Mégane"
        ],
        [
         "2",
         "Noix",
         "Stéphane"
        ],
        [
         "3",
         "Gature",
         "Emilie"
        ],
        [
         "4",
         "De MontéCarlo",
         "Coralie"
        ]
       ],
       "shape": {
        "columns": 2,
        "rows": 5
       }
      },
      "text/html": [
       "<div>\n",
       "<style scoped>\n",
       "    .dataframe tbody tr th:only-of-type {\n",
       "        vertical-align: middle;\n",
       "    }\n",
       "\n",
       "    .dataframe tbody tr th {\n",
       "        vertical-align: top;\n",
       "    }\n",
       "\n",
       "    .dataframe thead th {\n",
       "        text-align: right;\n",
       "    }\n",
       "</style>\n",
       "<table border=\"1\" class=\"dataframe\">\n",
       "  <thead>\n",
       "    <tr style=\"text-align: right;\">\n",
       "      <th></th>\n",
       "      <th>Nom</th>\n",
       "      <th>Prénom</th>\n",
       "    </tr>\n",
       "  </thead>\n",
       "  <tbody>\n",
       "    <tr>\n",
       "      <th>0</th>\n",
       "      <td>Bonbeur</td>\n",
       "      <td>Jean</td>\n",
       "    </tr>\n",
       "    <tr>\n",
       "      <th>1</th>\n",
       "      <td>Hèresse</td>\n",
       "      <td>Mégane</td>\n",
       "    </tr>\n",
       "    <tr>\n",
       "      <th>2</th>\n",
       "      <td>Noix</td>\n",
       "      <td>Stéphane</td>\n",
       "    </tr>\n",
       "    <tr>\n",
       "      <th>3</th>\n",
       "      <td>Gature</td>\n",
       "      <td>Emilie</td>\n",
       "    </tr>\n",
       "    <tr>\n",
       "      <th>4</th>\n",
       "      <td>De MontéCarlo</td>\n",
       "      <td>Coralie</td>\n",
       "    </tr>\n",
       "  </tbody>\n",
       "</table>\n",
       "</div>"
      ],
      "text/plain": [
       "             Nom    Prénom\n",
       "0        Bonbeur      Jean\n",
       "1        Hèresse    Mégane\n",
       "2           Noix  Stéphane\n",
       "3         Gature    Emilie\n",
       "4  De MontéCarlo   Coralie"
      ]
     },
     "execution_count": 5,
     "metadata": {},
     "output_type": "execute_result"
    }
   ],
   "source": [
    "tab2.head()"
   ]
  },
  {
   "cell_type": "code",
   "execution_count": 14,
   "id": "c8ac651d",
   "metadata": {},
   "outputs": [
    {
     "data": {
      "application/vnd.microsoft.datawrangler.viewer.v0+json": {
       "columns": [
        {
         "name": "index",
         "rawType": "int64",
         "type": "integer"
        },
        {
         "name": "Nom",
         "rawType": "object",
         "type": "string"
        },
        {
         "name": "Prénom",
         "rawType": "object",
         "type": "string"
        },
        {
         "name": "_merge",
         "rawType": "category",
         "type": "unknown"
        }
       ],
       "ref": "30d3ed7e-634b-4dfb-af4b-69e6969ee81e",
       "rows": [
        [
         "0",
         "Bonbeur",
         "Jean",
         "both"
        ],
        [
         "1",
         "Braltar",
         "Giles",
         "both"
        ],
        [
         "2",
         "De MontéCarlo",
         "Coralie",
         "both"
        ],
        [
         "3",
         "Doeuf",
         "John",
         "both"
        ],
        [
         "4",
         "Douche",
         "Raël",
         "both"
        ],
        [
         "5",
         "Feuille",
         "Emille",
         "right_only"
        ],
        [
         "6",
         "Fortune",
         "Alain",
         "right_only"
        ],
        [
         "7",
         "Gature",
         "Emilie",
         "both"
        ],
        [
         "8",
         "Honnête",
         "Camille",
         "left_only"
        ],
        [
         "9",
         "Hèresse",
         "Mégane",
         "both"
        ],
        [
         "10",
         "Hénéré",
         "Nadège",
         "both"
        ],
        [
         "11",
         "Jet",
         "Claire",
         "both"
        ],
        [
         "12",
         "Lile",
         "Maurice",
         "both"
        ],
        [
         "13",
         "Louya",
         "Ali",
         "right_only"
        ],
        [
         "14",
         "Niomme",
         "Gérard",
         "both"
        ],
        [
         "15",
         "Noix",
         "Stéphane",
         "both"
        ],
        [
         "16",
         "Ocerosse",
         "Séverine",
         "right_only"
        ],
        [
         "17",
         "Sansasse",
         "Lionel",
         "left_only"
        ],
        [
         "18",
         "Sarbaque",
         "Anne",
         "both"
        ],
        [
         "19",
         "Solo",
         "Yohan",
         "both"
        ],
        [
         "20",
         "Thine",
         "Nikos",
         "left_only"
        ],
        [
         "21",
         "Tomette",
         "Jerry",
         "left_only"
        ]
       ],
       "shape": {
        "columns": 3,
        "rows": 22
       }
      },
      "text/html": [
       "<div>\n",
       "<style scoped>\n",
       "    .dataframe tbody tr th:only-of-type {\n",
       "        vertical-align: middle;\n",
       "    }\n",
       "\n",
       "    .dataframe tbody tr th {\n",
       "        vertical-align: top;\n",
       "    }\n",
       "\n",
       "    .dataframe thead th {\n",
       "        text-align: right;\n",
       "    }\n",
       "</style>\n",
       "<table border=\"1\" class=\"dataframe\">\n",
       "  <thead>\n",
       "    <tr style=\"text-align: right;\">\n",
       "      <th></th>\n",
       "      <th>Nom</th>\n",
       "      <th>Prénom</th>\n",
       "      <th>_merge</th>\n",
       "    </tr>\n",
       "  </thead>\n",
       "  <tbody>\n",
       "    <tr>\n",
       "      <th>0</th>\n",
       "      <td>Bonbeur</td>\n",
       "      <td>Jean</td>\n",
       "      <td>both</td>\n",
       "    </tr>\n",
       "    <tr>\n",
       "      <th>1</th>\n",
       "      <td>Braltar</td>\n",
       "      <td>Giles</td>\n",
       "      <td>both</td>\n",
       "    </tr>\n",
       "    <tr>\n",
       "      <th>2</th>\n",
       "      <td>De MontéCarlo</td>\n",
       "      <td>Coralie</td>\n",
       "      <td>both</td>\n",
       "    </tr>\n",
       "    <tr>\n",
       "      <th>3</th>\n",
       "      <td>Doeuf</td>\n",
       "      <td>John</td>\n",
       "      <td>both</td>\n",
       "    </tr>\n",
       "    <tr>\n",
       "      <th>4</th>\n",
       "      <td>Douche</td>\n",
       "      <td>Raël</td>\n",
       "      <td>both</td>\n",
       "    </tr>\n",
       "    <tr>\n",
       "      <th>5</th>\n",
       "      <td>Feuille</td>\n",
       "      <td>Emille</td>\n",
       "      <td>right_only</td>\n",
       "    </tr>\n",
       "    <tr>\n",
       "      <th>6</th>\n",
       "      <td>Fortune</td>\n",
       "      <td>Alain</td>\n",
       "      <td>right_only</td>\n",
       "    </tr>\n",
       "    <tr>\n",
       "      <th>7</th>\n",
       "      <td>Gature</td>\n",
       "      <td>Emilie</td>\n",
       "      <td>both</td>\n",
       "    </tr>\n",
       "    <tr>\n",
       "      <th>8</th>\n",
       "      <td>Honnête</td>\n",
       "      <td>Camille</td>\n",
       "      <td>left_only</td>\n",
       "    </tr>\n",
       "    <tr>\n",
       "      <th>9</th>\n",
       "      <td>Hèresse</td>\n",
       "      <td>Mégane</td>\n",
       "      <td>both</td>\n",
       "    </tr>\n",
       "    <tr>\n",
       "      <th>10</th>\n",
       "      <td>Hénéré</td>\n",
       "      <td>Nadège</td>\n",
       "      <td>both</td>\n",
       "    </tr>\n",
       "    <tr>\n",
       "      <th>11</th>\n",
       "      <td>Jet</td>\n",
       "      <td>Claire</td>\n",
       "      <td>both</td>\n",
       "    </tr>\n",
       "    <tr>\n",
       "      <th>12</th>\n",
       "      <td>Lile</td>\n",
       "      <td>Maurice</td>\n",
       "      <td>both</td>\n",
       "    </tr>\n",
       "    <tr>\n",
       "      <th>13</th>\n",
       "      <td>Louya</td>\n",
       "      <td>Ali</td>\n",
       "      <td>right_only</td>\n",
       "    </tr>\n",
       "    <tr>\n",
       "      <th>14</th>\n",
       "      <td>Niomme</td>\n",
       "      <td>Gérard</td>\n",
       "      <td>both</td>\n",
       "    </tr>\n",
       "    <tr>\n",
       "      <th>15</th>\n",
       "      <td>Noix</td>\n",
       "      <td>Stéphane</td>\n",
       "      <td>both</td>\n",
       "    </tr>\n",
       "    <tr>\n",
       "      <th>16</th>\n",
       "      <td>Ocerosse</td>\n",
       "      <td>Séverine</td>\n",
       "      <td>right_only</td>\n",
       "    </tr>\n",
       "    <tr>\n",
       "      <th>17</th>\n",
       "      <td>Sansasse</td>\n",
       "      <td>Lionel</td>\n",
       "      <td>left_only</td>\n",
       "    </tr>\n",
       "    <tr>\n",
       "      <th>18</th>\n",
       "      <td>Sarbaque</td>\n",
       "      <td>Anne</td>\n",
       "      <td>both</td>\n",
       "    </tr>\n",
       "    <tr>\n",
       "      <th>19</th>\n",
       "      <td>Solo</td>\n",
       "      <td>Yohan</td>\n",
       "      <td>both</td>\n",
       "    </tr>\n",
       "    <tr>\n",
       "      <th>20</th>\n",
       "      <td>Thine</td>\n",
       "      <td>Nikos</td>\n",
       "      <td>left_only</td>\n",
       "    </tr>\n",
       "    <tr>\n",
       "      <th>21</th>\n",
       "      <td>Tomette</td>\n",
       "      <td>Jerry</td>\n",
       "      <td>left_only</td>\n",
       "    </tr>\n",
       "  </tbody>\n",
       "</table>\n",
       "</div>"
      ],
      "text/plain": [
       "              Nom    Prénom      _merge\n",
       "0         Bonbeur      Jean        both\n",
       "1         Braltar     Giles        both\n",
       "2   De MontéCarlo   Coralie        both\n",
       "3           Doeuf      John        both\n",
       "4          Douche      Raël        both\n",
       "5         Feuille    Emille  right_only\n",
       "6         Fortune     Alain  right_only\n",
       "7          Gature    Emilie        both\n",
       "8         Honnête   Camille   left_only\n",
       "9         Hèresse    Mégane        both\n",
       "10         Hénéré    Nadège        both\n",
       "11            Jet    Claire        both\n",
       "12           Lile   Maurice        both\n",
       "13          Louya       Ali  right_only\n",
       "14         Niomme    Gérard        both\n",
       "15           Noix  Stéphane        both\n",
       "16       Ocerosse  Séverine  right_only\n",
       "17       Sansasse    Lionel   left_only\n",
       "18       Sarbaque      Anne        both\n",
       "19           Solo     Yohan        both\n",
       "20          Thine     Nikos   left_only\n",
       "21        Tomette     Jerry   left_only"
      ]
     },
     "execution_count": 14,
     "metadata": {},
     "output_type": "execute_result"
    }
   ],
   "source": [
    "# Récupération des lignes avec indication si présent dans les deux tables...\n",
    "fusion = tab1.merge(tab2, on=['Nom', 'Prénom'], how='outer', indicator=True)\n",
    "fusion"
   ]
  },
  {
   "cell_type": "code",
   "execution_count": 16,
   "id": "aaad0004",
   "metadata": {},
   "outputs": [
    {
     "data": {
      "application/vnd.microsoft.datawrangler.viewer.v0+json": {
       "columns": [
        {
         "name": "index",
         "rawType": "int64",
         "type": "integer"
        },
        {
         "name": "Nom",
         "rawType": "object",
         "type": "string"
        },
        {
         "name": "Prénom",
         "rawType": "object",
         "type": "string"
        }
       ],
       "ref": "9a3f619f-2b32-437b-8f83-9d7151c19599",
       "rows": [
        [
         "0",
         "Feuille",
         "Emille"
        ],
        [
         "1",
         "Fortune",
         "Alain"
        ],
        [
         "2",
         "Honnête",
         "Camille"
        ],
        [
         "3",
         "Louya",
         "Ali"
        ],
        [
         "4",
         "Ocerosse",
         "Séverine"
        ],
        [
         "5",
         "Sansasse",
         "Lionel"
        ],
        [
         "6",
         "Thine",
         "Nikos"
        ],
        [
         "7",
         "Tomette",
         "Jerry"
        ]
       ],
       "shape": {
        "columns": 2,
        "rows": 8
       }
      },
      "text/html": [
       "<div>\n",
       "<style scoped>\n",
       "    .dataframe tbody tr th:only-of-type {\n",
       "        vertical-align: middle;\n",
       "    }\n",
       "\n",
       "    .dataframe tbody tr th {\n",
       "        vertical-align: top;\n",
       "    }\n",
       "\n",
       "    .dataframe thead th {\n",
       "        text-align: right;\n",
       "    }\n",
       "</style>\n",
       "<table border=\"1\" class=\"dataframe\">\n",
       "  <thead>\n",
       "    <tr style=\"text-align: right;\">\n",
       "      <th></th>\n",
       "      <th>Nom</th>\n",
       "      <th>Prénom</th>\n",
       "    </tr>\n",
       "  </thead>\n",
       "  <tbody>\n",
       "    <tr>\n",
       "      <th>0</th>\n",
       "      <td>Feuille</td>\n",
       "      <td>Emille</td>\n",
       "    </tr>\n",
       "    <tr>\n",
       "      <th>1</th>\n",
       "      <td>Fortune</td>\n",
       "      <td>Alain</td>\n",
       "    </tr>\n",
       "    <tr>\n",
       "      <th>2</th>\n",
       "      <td>Honnête</td>\n",
       "      <td>Camille</td>\n",
       "    </tr>\n",
       "    <tr>\n",
       "      <th>3</th>\n",
       "      <td>Louya</td>\n",
       "      <td>Ali</td>\n",
       "    </tr>\n",
       "    <tr>\n",
       "      <th>4</th>\n",
       "      <td>Ocerosse</td>\n",
       "      <td>Séverine</td>\n",
       "    </tr>\n",
       "    <tr>\n",
       "      <th>5</th>\n",
       "      <td>Sansasse</td>\n",
       "      <td>Lionel</td>\n",
       "    </tr>\n",
       "    <tr>\n",
       "      <th>6</th>\n",
       "      <td>Thine</td>\n",
       "      <td>Nikos</td>\n",
       "    </tr>\n",
       "    <tr>\n",
       "      <th>7</th>\n",
       "      <td>Tomette</td>\n",
       "      <td>Jerry</td>\n",
       "    </tr>\n",
       "  </tbody>\n",
       "</table>\n",
       "</div>"
      ],
      "text/plain": [
       "        Nom    Prénom\n",
       "0   Feuille    Emille\n",
       "1   Fortune     Alain\n",
       "2   Honnête   Camille\n",
       "3     Louya       Ali\n",
       "4  Ocerosse  Séverine\n",
       "5  Sansasse    Lionel\n",
       "6     Thine     Nikos\n",
       "7   Tomette     Jerry"
      ]
     },
     "execution_count": 16,
     "metadata": {},
     "output_type": "execute_result"
    }
   ],
   "source": [
    "# Affichage des lignes qui ne sont pas présentes dans les deux tables\n",
    "diff = fusion[fusion['_merge'].isin(['left_only', 'right_only'])].drop(\n",
    "    columns=['_merge']).reset_index(drop=True)\n",
    "diff"
   ]
  }
 ],
 "metadata": {
  "kernelspec": {
   "display_name": "Python 3",
   "language": "python",
   "name": "python3"
  },
  "language_info": {
   "codemirror_mode": {
    "name": "ipython",
    "version": 3
   },
   "file_extension": ".py",
   "mimetype": "text/x-python",
   "name": "python",
   "nbconvert_exporter": "python",
   "pygments_lexer": "ipython3",
   "version": "3.12.5"
  }
 },
 "nbformat": 4,
 "nbformat_minor": 5
}
