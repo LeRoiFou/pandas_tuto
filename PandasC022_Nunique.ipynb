{
 "cells": [
  {
   "cell_type": "markdown",
   "id": "a4a2ee99",
   "metadata": {},
   "source": [
    "[Compter les valeurs distinctes par formule Python dans Excel](https://www.youtube.com/watch?v=vYq2H_J03Qs&list=PLpQBnWleLAauKmgcdndmEr81iIIoW9_Wi&index=27)\n",
    "\n",
    "Date : 17/06/2025"
   ]
  },
  {
   "cell_type": "code",
   "execution_count": 1,
   "id": "24203621",
   "metadata": {},
   "outputs": [],
   "source": [
    "import pandas as pd"
   ]
  },
  {
   "cell_type": "code",
   "execution_count": 3,
   "id": "58f6d1f9",
   "metadata": {},
   "outputs": [
    {
     "data": {
      "application/vnd.microsoft.datawrangler.viewer.v0+json": {
       "columns": [
        {
         "name": "index",
         "rawType": "object",
         "type": "string"
        },
        {
         "name": "0",
         "rawType": "int64",
         "type": "integer"
        },
        {
         "name": "1",
         "rawType": "int64",
         "type": "integer"
        },
        {
         "name": "2",
         "rawType": "int64",
         "type": "integer"
        },
        {
         "name": "3",
         "rawType": "int64",
         "type": "integer"
        },
        {
         "name": "4",
         "rawType": "int64",
         "type": "integer"
        }
       ],
       "ref": "32d04ad8-6c30-4025-a63c-ac5c2c192e34",
       "rows": [
        [
         "A",
         "1",
         "4",
         "3",
         "3",
         "3"
        ],
        [
         "B",
         "1",
         "4",
         "1",
         "4",
         "2"
        ],
        [
         "C",
         "2",
         "2",
         "2",
         "4",
         "2"
        ],
        [
         "D",
         "1",
         "2",
         "4",
         "3",
         "4"
        ],
        [
         "E",
         "2",
         "1",
         "2",
         "2",
         "3"
        ]
       ],
       "shape": {
        "columns": 5,
        "rows": 5
       }
      },
      "text/html": [
       "<div>\n",
       "<style scoped>\n",
       "    .dataframe tbody tr th:only-of-type {\n",
       "        vertical-align: middle;\n",
       "    }\n",
       "\n",
       "    .dataframe tbody tr th {\n",
       "        vertical-align: top;\n",
       "    }\n",
       "\n",
       "    .dataframe thead th {\n",
       "        text-align: right;\n",
       "    }\n",
       "</style>\n",
       "<table border=\"1\" class=\"dataframe\">\n",
       "  <thead>\n",
       "    <tr style=\"text-align: right;\">\n",
       "      <th></th>\n",
       "      <th>0</th>\n",
       "      <th>1</th>\n",
       "      <th>2</th>\n",
       "      <th>3</th>\n",
       "      <th>4</th>\n",
       "    </tr>\n",
       "  </thead>\n",
       "  <tbody>\n",
       "    <tr>\n",
       "      <th>A</th>\n",
       "      <td>1</td>\n",
       "      <td>4</td>\n",
       "      <td>3</td>\n",
       "      <td>3</td>\n",
       "      <td>3</td>\n",
       "    </tr>\n",
       "    <tr>\n",
       "      <th>B</th>\n",
       "      <td>1</td>\n",
       "      <td>4</td>\n",
       "      <td>1</td>\n",
       "      <td>4</td>\n",
       "      <td>2</td>\n",
       "    </tr>\n",
       "    <tr>\n",
       "      <th>C</th>\n",
       "      <td>2</td>\n",
       "      <td>2</td>\n",
       "      <td>2</td>\n",
       "      <td>4</td>\n",
       "      <td>2</td>\n",
       "    </tr>\n",
       "    <tr>\n",
       "      <th>D</th>\n",
       "      <td>1</td>\n",
       "      <td>2</td>\n",
       "      <td>4</td>\n",
       "      <td>3</td>\n",
       "      <td>4</td>\n",
       "    </tr>\n",
       "    <tr>\n",
       "      <th>E</th>\n",
       "      <td>2</td>\n",
       "      <td>1</td>\n",
       "      <td>2</td>\n",
       "      <td>2</td>\n",
       "      <td>3</td>\n",
       "    </tr>\n",
       "  </tbody>\n",
       "</table>\n",
       "</div>"
      ],
      "text/plain": [
       "   0  1  2  3  4\n",
       "A  1  4  3  3  3\n",
       "B  1  4  1  4  2\n",
       "C  2  2  2  4  2\n",
       "D  1  2  4  3  4\n",
       "E  2  1  2  2  3"
      ]
     },
     "execution_count": 3,
     "metadata": {},
     "output_type": "execute_result"
    }
   ],
   "source": [
    "df = pd.read_excel('data/Nunique.xlsx', sheet_name='Feuil1')\n",
    "df.head().transpose()"
   ]
  },
  {
   "cell_type": "markdown",
   "id": "8fb32330",
   "metadata": {},
   "source": [
    "Valeurs distinctes par ligne"
   ]
  },
  {
   "cell_type": "code",
   "execution_count": 4,
   "id": "ea96a65a",
   "metadata": {},
   "outputs": [
    {
     "data": {
      "application/vnd.microsoft.datawrangler.viewer.v0+json": {
       "columns": [
        {
         "name": "index",
         "rawType": "object",
         "type": "string"
        },
        {
         "name": "0",
         "rawType": "int64",
         "type": "integer"
        }
       ],
       "ref": "de24ded6-750b-4deb-b6d3-5bdb5d6961e8",
       "rows": [
        [
         "A",
         "4"
        ],
        [
         "B",
         "4"
        ],
        [
         "C",
         "3"
        ],
        [
         "D",
         "4"
        ],
        [
         "E",
         "4"
        ]
       ],
       "shape": {
        "columns": 1,
        "rows": 5
       }
      },
      "text/plain": [
       "A    4\n",
       "B    4\n",
       "C    3\n",
       "D    4\n",
       "E    4\n",
       "dtype: int64"
      ]
     },
     "execution_count": 4,
     "metadata": {},
     "output_type": "execute_result"
    }
   ],
   "source": [
    "df.nunique()"
   ]
  },
  {
   "cell_type": "markdown",
   "id": "7f9e9d33",
   "metadata": {},
   "source": [
    "Valeurs distinctes par colonne"
   ]
  },
  {
   "cell_type": "code",
   "execution_count": 5,
   "id": "c7df19a9",
   "metadata": {},
   "outputs": [
    {
     "data": {
      "application/vnd.microsoft.datawrangler.viewer.v0+json": {
       "columns": [
        {
         "name": "index",
         "rawType": "int64",
         "type": "integer"
        },
        {
         "name": "0",
         "rawType": "int64",
         "type": "integer"
        }
       ],
       "ref": "0871cab0-bcc2-4853-a71f-b992bca4719e",
       "rows": [
        [
         "0",
         "2"
        ],
        [
         "1",
         "3"
        ],
        [
         "2",
         "4"
        ],
        [
         "3",
         "3"
        ],
        [
         "4",
         "3"
        ],
        [
         "5",
         "3"
        ],
        [
         "6",
         "3"
        ],
        [
         "7",
         "4"
        ],
        [
         "8",
         "3"
        ],
        [
         "9",
         "3"
        ],
        [
         "10",
         "3"
        ]
       ],
       "shape": {
        "columns": 1,
        "rows": 11
       }
      },
      "text/plain": [
       "0     2\n",
       "1     3\n",
       "2     4\n",
       "3     3\n",
       "4     3\n",
       "5     3\n",
       "6     3\n",
       "7     4\n",
       "8     3\n",
       "9     3\n",
       "10    3\n",
       "dtype: int64"
      ]
     },
     "execution_count": 5,
     "metadata": {},
     "output_type": "execute_result"
    }
   ],
   "source": [
    "df.nunique(axis=1)"
   ]
  }
 ],
 "metadata": {
  "kernelspec": {
   "display_name": "Python 3",
   "language": "python",
   "name": "python3"
  },
  "language_info": {
   "codemirror_mode": {
    "name": "ipython",
    "version": 3
   },
   "file_extension": ".py",
   "mimetype": "text/x-python",
   "name": "python",
   "nbconvert_exporter": "python",
   "pygments_lexer": "ipython3",
   "version": "3.12.5"
  }
 },
 "nbformat": 4,
 "nbformat_minor": 5
}
