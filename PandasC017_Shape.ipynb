{
 "cells": [
  {
   "cell_type": "markdown",
   "id": "c5ad820f",
   "metadata": {},
   "source": [
    "[Compter les lignes et les colonnes en Python pour Excel](https://www.youtube.com/watch?v=py83sQmbFYs&list=PLpQBnWleLAauKmgcdndmEr81iIIoW9_Wi&index=23)\n",
    "\n",
    "Date : 04/06/2025"
   ]
  },
  {
   "cell_type": "code",
   "execution_count": 1,
   "id": "642ca109",
   "metadata": {},
   "outputs": [],
   "source": [
    "import pandas as pd"
   ]
  },
  {
   "cell_type": "markdown",
   "id": "f30ef160",
   "metadata": {},
   "source": [
    "Chargement de la table"
   ]
  },
  {
   "cell_type": "code",
   "execution_count": 2,
   "id": "1511f7fd",
   "metadata": {},
   "outputs": [
    {
     "data": {
      "application/vnd.microsoft.datawrangler.viewer.v0+json": {
       "columns": [
        {
         "name": "index",
         "rawType": "int64",
         "type": "integer"
        },
        {
         "name": "Immat.",
         "rawType": "object",
         "type": "string"
        },
        {
         "name": "Marque",
         "rawType": "object",
         "type": "string"
        },
        {
         "name": "Modèle",
         "rawType": "object",
         "type": "string"
        }
       ],
       "ref": "a252152d-b3a2-4005-a28e-42022166e4b3",
       "rows": [
        [
         "0",
         "2677XT74",
         "CITROEN",
         "C3"
        ],
        [
         "1",
         "AC454BD",
         "CITROEN",
         "C4"
        ],
        [
         "2",
         "AJ007PV",
         "CITROEN",
         "C4"
        ],
        [
         "3",
         "BB978MC",
         "CITROEN",
         "C5"
        ],
        [
         "4",
         "BQ561JM",
         "CITROEN",
         "NEMO"
        ]
       ],
       "shape": {
        "columns": 3,
        "rows": 5
       }
      },
      "text/html": [
       "<div>\n",
       "<style scoped>\n",
       "    .dataframe tbody tr th:only-of-type {\n",
       "        vertical-align: middle;\n",
       "    }\n",
       "\n",
       "    .dataframe tbody tr th {\n",
       "        vertical-align: top;\n",
       "    }\n",
       "\n",
       "    .dataframe thead th {\n",
       "        text-align: right;\n",
       "    }\n",
       "</style>\n",
       "<table border=\"1\" class=\"dataframe\">\n",
       "  <thead>\n",
       "    <tr style=\"text-align: right;\">\n",
       "      <th></th>\n",
       "      <th>Immat.</th>\n",
       "      <th>Marque</th>\n",
       "      <th>Modèle</th>\n",
       "    </tr>\n",
       "  </thead>\n",
       "  <tbody>\n",
       "    <tr>\n",
       "      <th>0</th>\n",
       "      <td>2677XT74</td>\n",
       "      <td>CITROEN</td>\n",
       "      <td>C3</td>\n",
       "    </tr>\n",
       "    <tr>\n",
       "      <th>1</th>\n",
       "      <td>AC454BD</td>\n",
       "      <td>CITROEN</td>\n",
       "      <td>C4</td>\n",
       "    </tr>\n",
       "    <tr>\n",
       "      <th>2</th>\n",
       "      <td>AJ007PV</td>\n",
       "      <td>CITROEN</td>\n",
       "      <td>C4</td>\n",
       "    </tr>\n",
       "    <tr>\n",
       "      <th>3</th>\n",
       "      <td>BB978MC</td>\n",
       "      <td>CITROEN</td>\n",
       "      <td>C5</td>\n",
       "    </tr>\n",
       "    <tr>\n",
       "      <th>4</th>\n",
       "      <td>BQ561JM</td>\n",
       "      <td>CITROEN</td>\n",
       "      <td>NEMO</td>\n",
       "    </tr>\n",
       "  </tbody>\n",
       "</table>\n",
       "</div>"
      ],
      "text/plain": [
       "     Immat.   Marque Modèle\n",
       "0  2677XT74  CITROEN     C3\n",
       "1   AC454BD  CITROEN     C4\n",
       "2   AJ007PV  CITROEN     C4\n",
       "3   BB978MC  CITROEN     C5\n",
       "4   BQ561JM  CITROEN   NEMO"
      ]
     },
     "execution_count": 2,
     "metadata": {},
     "output_type": "execute_result"
    }
   ],
   "source": [
    "tab = pd.read_excel('data/Shape.xlsx', sheet_name='Feuil1')\n",
    "tab.head()"
   ]
  },
  {
   "cell_type": "markdown",
   "id": "39fa7627",
   "metadata": {},
   "source": [
    "Nombre de lignes"
   ]
  },
  {
   "cell_type": "code",
   "execution_count": 4,
   "id": "f6325a54",
   "metadata": {},
   "outputs": [
    {
     "name": "stdout",
     "output_type": "stream",
     "text": [
      "Nombre de lignes : 24\n"
     ]
    }
   ],
   "source": [
    "print(f\"Nombre de lignes : {tab.shape[0]}\")"
   ]
  },
  {
   "cell_type": "markdown",
   "id": "bfa0621a",
   "metadata": {},
   "source": [
    "Nombre de colonnes"
   ]
  },
  {
   "cell_type": "code",
   "execution_count": 5,
   "id": "b42bf00c",
   "metadata": {},
   "outputs": [
    {
     "name": "stdout",
     "output_type": "stream",
     "text": [
      "Nombre de colonnes : 3\n"
     ]
    }
   ],
   "source": [
    "print(f\"Nombre de colonnes : {tab.shape[1]}\")"
   ]
  },
  {
   "cell_type": "markdown",
   "id": "61436961",
   "metadata": {},
   "source": [
    "Données générées aléatoirement"
   ]
  },
  {
   "cell_type": "code",
   "execution_count": 7,
   "id": "4efadd76",
   "metadata": {},
   "outputs": [
    {
     "data": {
      "application/vnd.microsoft.datawrangler.viewer.v0+json": {
       "columns": [
        {
         "name": "index",
         "rawType": "int64",
         "type": "integer"
        },
        {
         "name": "Immat.",
         "rawType": "object",
         "type": "string"
        },
        {
         "name": "Marque",
         "rawType": "object",
         "type": "string"
        },
        {
         "name": "Modèle",
         "rawType": "object",
         "type": "unknown"
        }
       ],
       "ref": "00d32281-9b6b-4167-8d5d-05348ee8056f",
       "rows": [
        [
         "0",
         "BQ561JM",
         "CITROEN",
         "NEMO"
        ],
        [
         "1",
         "92BLK57",
         "RENAULT",
         "TWINGO"
        ],
        [
         "2",
         "2043JNY",
         "PEUGEOT",
         "308"
        ],
        [
         "3",
         "CS727JH",
         "CITROEN",
         "C1"
        ],
        [
         "4",
         "AC454BD",
         "CITROEN",
         "C4"
        ],
        [
         "5",
         "5495ZQ74",
         "PEUGEOT",
         "206"
        ],
        [
         "6",
         "BD170HZ",
         "RENAULT",
         "CLIO"
        ],
        [
         "7",
         "CE216DS",
         "CITROEN",
         "DS4"
        ],
        [
         "8",
         "AJ969LZ",
         "RENAULT",
         "CLIO"
        ],
        [
         "9",
         "AB479LG",
         "RENAULT",
         "ESPACE"
        ],
        [
         "10",
         "8048JPB",
         "PEUGEOT",
         "208"
        ],
        [
         "11",
         "112CSB59",
         "RENAULT",
         "MODUS"
        ],
        [
         "12",
         "CS878MP",
         "CITROEN",
         "C4"
        ],
        [
         "13",
         "AJ007PV",
         "CITROEN",
         "C4"
        ],
        [
         "14",
         "BB978MC",
         "CITROEN",
         "C5"
        ],
        [
         "15",
         "8145JPB",
         "PEUGEOT",
         "308"
        ],
        [
         "16",
         "1702WK74",
         "RENAULT",
         "TWINGO"
        ],
        [
         "17",
         "2677XT74",
         "CITROEN",
         "C3"
        ],
        [
         "18",
         "8121JPB",
         "PEUGEOT",
         "308"
        ],
        [
         "19",
         "BD008YC",
         "RENAULT",
         "CLIO"
        ],
        [
         "20",
         "2069JNY",
         "PEUGEOT",
         "308"
        ],
        [
         "21",
         "BB524RN",
         "RENAULT",
         "KOLEOS"
        ],
        [
         "22",
         "8033JPB",
         "PEUGEOT",
         "308"
        ],
        [
         "23",
         "2020JNY",
         "PEUGEOT",
         "208"
        ]
       ],
       "shape": {
        "columns": 3,
        "rows": 24
       }
      },
      "text/html": [
       "<div>\n",
       "<style scoped>\n",
       "    .dataframe tbody tr th:only-of-type {\n",
       "        vertical-align: middle;\n",
       "    }\n",
       "\n",
       "    .dataframe tbody tr th {\n",
       "        vertical-align: top;\n",
       "    }\n",
       "\n",
       "    .dataframe thead th {\n",
       "        text-align: right;\n",
       "    }\n",
       "</style>\n",
       "<table border=\"1\" class=\"dataframe\">\n",
       "  <thead>\n",
       "    <tr style=\"text-align: right;\">\n",
       "      <th></th>\n",
       "      <th>Immat.</th>\n",
       "      <th>Marque</th>\n",
       "      <th>Modèle</th>\n",
       "    </tr>\n",
       "  </thead>\n",
       "  <tbody>\n",
       "    <tr>\n",
       "      <th>0</th>\n",
       "      <td>BQ561JM</td>\n",
       "      <td>CITROEN</td>\n",
       "      <td>NEMO</td>\n",
       "    </tr>\n",
       "    <tr>\n",
       "      <th>1</th>\n",
       "      <td>92BLK57</td>\n",
       "      <td>RENAULT</td>\n",
       "      <td>TWINGO</td>\n",
       "    </tr>\n",
       "    <tr>\n",
       "      <th>2</th>\n",
       "      <td>2043JNY</td>\n",
       "      <td>PEUGEOT</td>\n",
       "      <td>308</td>\n",
       "    </tr>\n",
       "    <tr>\n",
       "      <th>3</th>\n",
       "      <td>CS727JH</td>\n",
       "      <td>CITROEN</td>\n",
       "      <td>C1</td>\n",
       "    </tr>\n",
       "    <tr>\n",
       "      <th>4</th>\n",
       "      <td>AC454BD</td>\n",
       "      <td>CITROEN</td>\n",
       "      <td>C4</td>\n",
       "    </tr>\n",
       "    <tr>\n",
       "      <th>5</th>\n",
       "      <td>5495ZQ74</td>\n",
       "      <td>PEUGEOT</td>\n",
       "      <td>206</td>\n",
       "    </tr>\n",
       "    <tr>\n",
       "      <th>6</th>\n",
       "      <td>BD170HZ</td>\n",
       "      <td>RENAULT</td>\n",
       "      <td>CLIO</td>\n",
       "    </tr>\n",
       "    <tr>\n",
       "      <th>7</th>\n",
       "      <td>CE216DS</td>\n",
       "      <td>CITROEN</td>\n",
       "      <td>DS4</td>\n",
       "    </tr>\n",
       "    <tr>\n",
       "      <th>8</th>\n",
       "      <td>AJ969LZ</td>\n",
       "      <td>RENAULT</td>\n",
       "      <td>CLIO</td>\n",
       "    </tr>\n",
       "    <tr>\n",
       "      <th>9</th>\n",
       "      <td>AB479LG</td>\n",
       "      <td>RENAULT</td>\n",
       "      <td>ESPACE</td>\n",
       "    </tr>\n",
       "    <tr>\n",
       "      <th>10</th>\n",
       "      <td>8048JPB</td>\n",
       "      <td>PEUGEOT</td>\n",
       "      <td>208</td>\n",
       "    </tr>\n",
       "    <tr>\n",
       "      <th>11</th>\n",
       "      <td>112CSB59</td>\n",
       "      <td>RENAULT</td>\n",
       "      <td>MODUS</td>\n",
       "    </tr>\n",
       "    <tr>\n",
       "      <th>12</th>\n",
       "      <td>CS878MP</td>\n",
       "      <td>CITROEN</td>\n",
       "      <td>C4</td>\n",
       "    </tr>\n",
       "    <tr>\n",
       "      <th>13</th>\n",
       "      <td>AJ007PV</td>\n",
       "      <td>CITROEN</td>\n",
       "      <td>C4</td>\n",
       "    </tr>\n",
       "    <tr>\n",
       "      <th>14</th>\n",
       "      <td>BB978MC</td>\n",
       "      <td>CITROEN</td>\n",
       "      <td>C5</td>\n",
       "    </tr>\n",
       "    <tr>\n",
       "      <th>15</th>\n",
       "      <td>8145JPB</td>\n",
       "      <td>PEUGEOT</td>\n",
       "      <td>308</td>\n",
       "    </tr>\n",
       "    <tr>\n",
       "      <th>16</th>\n",
       "      <td>1702WK74</td>\n",
       "      <td>RENAULT</td>\n",
       "      <td>TWINGO</td>\n",
       "    </tr>\n",
       "    <tr>\n",
       "      <th>17</th>\n",
       "      <td>2677XT74</td>\n",
       "      <td>CITROEN</td>\n",
       "      <td>C3</td>\n",
       "    </tr>\n",
       "    <tr>\n",
       "      <th>18</th>\n",
       "      <td>8121JPB</td>\n",
       "      <td>PEUGEOT</td>\n",
       "      <td>308</td>\n",
       "    </tr>\n",
       "    <tr>\n",
       "      <th>19</th>\n",
       "      <td>BD008YC</td>\n",
       "      <td>RENAULT</td>\n",
       "      <td>CLIO</td>\n",
       "    </tr>\n",
       "    <tr>\n",
       "      <th>20</th>\n",
       "      <td>2069JNY</td>\n",
       "      <td>PEUGEOT</td>\n",
       "      <td>308</td>\n",
       "    </tr>\n",
       "    <tr>\n",
       "      <th>21</th>\n",
       "      <td>BB524RN</td>\n",
       "      <td>RENAULT</td>\n",
       "      <td>KOLEOS</td>\n",
       "    </tr>\n",
       "    <tr>\n",
       "      <th>22</th>\n",
       "      <td>8033JPB</td>\n",
       "      <td>PEUGEOT</td>\n",
       "      <td>308</td>\n",
       "    </tr>\n",
       "    <tr>\n",
       "      <th>23</th>\n",
       "      <td>2020JNY</td>\n",
       "      <td>PEUGEOT</td>\n",
       "      <td>208</td>\n",
       "    </tr>\n",
       "  </tbody>\n",
       "</table>\n",
       "</div>"
      ],
      "text/plain": [
       "      Immat.   Marque  Modèle\n",
       "0    BQ561JM  CITROEN    NEMO\n",
       "1    92BLK57  RENAULT  TWINGO\n",
       "2    2043JNY  PEUGEOT     308\n",
       "3    CS727JH  CITROEN      C1\n",
       "4    AC454BD  CITROEN      C4\n",
       "5   5495ZQ74  PEUGEOT     206\n",
       "6    BD170HZ  RENAULT    CLIO\n",
       "7    CE216DS  CITROEN     DS4\n",
       "8    AJ969LZ  RENAULT    CLIO\n",
       "9    AB479LG  RENAULT  ESPACE\n",
       "10   8048JPB  PEUGEOT     208\n",
       "11  112CSB59  RENAULT   MODUS\n",
       "12   CS878MP  CITROEN      C4\n",
       "13   AJ007PV  CITROEN      C4\n",
       "14   BB978MC  CITROEN      C5\n",
       "15   8145JPB  PEUGEOT     308\n",
       "16  1702WK74  RENAULT  TWINGO\n",
       "17  2677XT74  CITROEN      C3\n",
       "18   8121JPB  PEUGEOT     308\n",
       "19   BD008YC  RENAULT    CLIO\n",
       "20   2069JNY  PEUGEOT     308\n",
       "21   BB524RN  RENAULT  KOLEOS\n",
       "22   8033JPB  PEUGEOT     308\n",
       "23   2020JNY  PEUGEOT     208"
      ]
     },
     "execution_count": 7,
     "metadata": {},
     "output_type": "execute_result"
    }
   ],
   "source": [
    "tab.sample(tab.shape[0]).reset_index(drop=True)"
   ]
  }
 ],
 "metadata": {
  "kernelspec": {
   "display_name": "Python 3",
   "language": "python",
   "name": "python3"
  },
  "language_info": {
   "codemirror_mode": {
    "name": "ipython",
    "version": 3
   },
   "file_extension": ".py",
   "mimetype": "text/x-python",
   "name": "python",
   "nbconvert_exporter": "python",
   "pygments_lexer": "ipython3",
   "version": "3.12.5"
  }
 },
 "nbformat": 4,
 "nbformat_minor": 5
}
