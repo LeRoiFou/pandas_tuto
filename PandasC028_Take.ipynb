{
 "cells": [
  {
   "cell_type": "markdown",
   "id": "85904dc6",
   "metadata": {},
   "source": [
    "[Prélever des lignes d'un tableau Excel par formule Python](https://www.youtube.com/watch?v=F346x2Llf8I&list=PLpQBnWleLAauKmgcdndmEr81iIIoW9_Wi&index=33)\n",
    "\n",
    "Date : 01/07/2025"
   ]
  },
  {
   "cell_type": "code",
   "execution_count": 1,
   "id": "d3b73d61",
   "metadata": {},
   "outputs": [],
   "source": [
    "import pandas as pd"
   ]
  },
  {
   "cell_type": "code",
   "execution_count": 3,
   "id": "c2f265df",
   "metadata": {},
   "outputs": [
    {
     "data": {
      "application/vnd.microsoft.datawrangler.viewer.v0+json": {
       "columns": [
        {
         "name": "index",
         "rawType": "object",
         "type": "string"
        },
        {
         "name": "0",
         "rawType": "object",
         "type": "unknown"
        },
        {
         "name": "1",
         "rawType": "object",
         "type": "unknown"
        },
        {
         "name": "2",
         "rawType": "object",
         "type": "unknown"
        },
        {
         "name": "3",
         "rawType": "object",
         "type": "unknown"
        },
        {
         "name": "4",
         "rawType": "object",
         "type": "unknown"
        }
       ],
       "ref": "2a7d5633-2d10-477d-88f7-7da154b0858f",
       "rows": [
        [
         "Civilité",
         "Monsieur",
         "Madame",
         "Madame",
         "Madame",
         "Monsieur"
        ],
        [
         "Nom",
         "Hochon",
         "Audine",
         "Rouana",
         "Hamalibou",
         "Céhef"
        ],
        [
         "Prénom",
         "Paul",
         "Anne",
         "Marie",
         "Arlette",
         "Hassan"
        ],
        [
         "CP",
         "84000",
         "83630",
         "13129",
         "83210",
         "4120"
        ],
        [
         "Ville",
         "avigon",
         "AIGUINES",
         "ARLES",
         "BELGENTIER",
         "CASTELLANE"
        ]
       ],
       "shape": {
        "columns": 5,
        "rows": 5
       }
      },
      "text/html": [
       "<div>\n",
       "<style scoped>\n",
       "    .dataframe tbody tr th:only-of-type {\n",
       "        vertical-align: middle;\n",
       "    }\n",
       "\n",
       "    .dataframe tbody tr th {\n",
       "        vertical-align: top;\n",
       "    }\n",
       "\n",
       "    .dataframe thead th {\n",
       "        text-align: right;\n",
       "    }\n",
       "</style>\n",
       "<table border=\"1\" class=\"dataframe\">\n",
       "  <thead>\n",
       "    <tr style=\"text-align: right;\">\n",
       "      <th></th>\n",
       "      <th>0</th>\n",
       "      <th>1</th>\n",
       "      <th>2</th>\n",
       "      <th>3</th>\n",
       "      <th>4</th>\n",
       "    </tr>\n",
       "  </thead>\n",
       "  <tbody>\n",
       "    <tr>\n",
       "      <th>Civilité</th>\n",
       "      <td>Monsieur</td>\n",
       "      <td>Madame</td>\n",
       "      <td>Madame</td>\n",
       "      <td>Madame</td>\n",
       "      <td>Monsieur</td>\n",
       "    </tr>\n",
       "    <tr>\n",
       "      <th>Nom</th>\n",
       "      <td>Hochon</td>\n",
       "      <td>Audine</td>\n",
       "      <td>Rouana</td>\n",
       "      <td>Hamalibou</td>\n",
       "      <td>Céhef</td>\n",
       "    </tr>\n",
       "    <tr>\n",
       "      <th>Prénom</th>\n",
       "      <td>Paul</td>\n",
       "      <td>Anne</td>\n",
       "      <td>Marie</td>\n",
       "      <td>Arlette</td>\n",
       "      <td>Hassan</td>\n",
       "    </tr>\n",
       "    <tr>\n",
       "      <th>CP</th>\n",
       "      <td>84000</td>\n",
       "      <td>83630</td>\n",
       "      <td>13129</td>\n",
       "      <td>83210</td>\n",
       "      <td>4120</td>\n",
       "    </tr>\n",
       "    <tr>\n",
       "      <th>Ville</th>\n",
       "      <td>avigon</td>\n",
       "      <td>AIGUINES</td>\n",
       "      <td>ARLES</td>\n",
       "      <td>BELGENTIER</td>\n",
       "      <td>CASTELLANE</td>\n",
       "    </tr>\n",
       "  </tbody>\n",
       "</table>\n",
       "</div>"
      ],
      "text/plain": [
       "                 0         1       2           3           4\n",
       "Civilité  Monsieur    Madame  Madame      Madame    Monsieur\n",
       "Nom         Hochon    Audine  Rouana   Hamalibou       Céhef\n",
       "Prénom        Paul      Anne   Marie     Arlette      Hassan\n",
       "CP           84000     83630   13129       83210        4120\n",
       "Ville       avigon  AIGUINES   ARLES  BELGENTIER  CASTELLANE"
      ]
     },
     "execution_count": 3,
     "metadata": {},
     "output_type": "execute_result"
    }
   ],
   "source": [
    "tab = pd.read_excel('data/Take.xlsx', sheet_name='Feuil1')\n",
    "tab.head().transpose()"
   ]
  },
  {
   "cell_type": "markdown",
   "id": "7a0ec5fe",
   "metadata": {},
   "source": [
    "Assignation de critères des références de lignes"
   ]
  },
  {
   "cell_type": "code",
   "execution_count": 4,
   "id": "49077182",
   "metadata": {},
   "outputs": [],
   "source": [
    "crit1 = 6\n",
    "crit2 = 8\n",
    "crit3 = 15"
   ]
  },
  {
   "cell_type": "markdown",
   "id": "bcc6b6d1",
   "metadata": {},
   "source": [
    "Récupération des lignes n° 6, 8 et 15"
   ]
  },
  {
   "cell_type": "code",
   "execution_count": 6,
   "id": "780c26cb",
   "metadata": {},
   "outputs": [
    {
     "data": {
      "application/vnd.microsoft.datawrangler.viewer.v0+json": {
       "columns": [
        {
         "name": "index",
         "rawType": "object",
         "type": "string"
        },
        {
         "name": "6",
         "rawType": "object",
         "type": "unknown"
        },
        {
         "name": "8",
         "rawType": "object",
         "type": "unknown"
        },
        {
         "name": "15",
         "rawType": "object",
         "type": "unknown"
        }
       ],
       "ref": "1c19130a-5fde-45c7-9b8f-e4a8563bd6f8",
       "rows": [
        [
         "Civilité",
         "Monsieur",
         "Madame",
         "Monsieur"
        ],
        [
         "Nom",
         "Bonbeur",
         "Tatouille",
         "Noix"
        ],
        [
         "Prénom",
         "Martin",
         "Laura",
         "Stéphane"
        ],
        [
         "CP",
         "13830",
         "6910",
         "6700"
        ],
        [
         "Ville",
         "ROQUEFORT LA BEDOULE",
         "LE MAS",
         "ST LAURENT DU VAR"
        ]
       ],
       "shape": {
        "columns": 3,
        "rows": 5
       }
      },
      "text/html": [
       "<div>\n",
       "<style scoped>\n",
       "    .dataframe tbody tr th:only-of-type {\n",
       "        vertical-align: middle;\n",
       "    }\n",
       "\n",
       "    .dataframe tbody tr th {\n",
       "        vertical-align: top;\n",
       "    }\n",
       "\n",
       "    .dataframe thead th {\n",
       "        text-align: right;\n",
       "    }\n",
       "</style>\n",
       "<table border=\"1\" class=\"dataframe\">\n",
       "  <thead>\n",
       "    <tr style=\"text-align: right;\">\n",
       "      <th></th>\n",
       "      <th>6</th>\n",
       "      <th>8</th>\n",
       "      <th>15</th>\n",
       "    </tr>\n",
       "  </thead>\n",
       "  <tbody>\n",
       "    <tr>\n",
       "      <th>Civilité</th>\n",
       "      <td>Monsieur</td>\n",
       "      <td>Madame</td>\n",
       "      <td>Monsieur</td>\n",
       "    </tr>\n",
       "    <tr>\n",
       "      <th>Nom</th>\n",
       "      <td>Bonbeur</td>\n",
       "      <td>Tatouille</td>\n",
       "      <td>Noix</td>\n",
       "    </tr>\n",
       "    <tr>\n",
       "      <th>Prénom</th>\n",
       "      <td>Martin</td>\n",
       "      <td>Laura</td>\n",
       "      <td>Stéphane</td>\n",
       "    </tr>\n",
       "    <tr>\n",
       "      <th>CP</th>\n",
       "      <td>13830</td>\n",
       "      <td>6910</td>\n",
       "      <td>6700</td>\n",
       "    </tr>\n",
       "    <tr>\n",
       "      <th>Ville</th>\n",
       "      <td>ROQUEFORT LA BEDOULE</td>\n",
       "      <td>LE MAS</td>\n",
       "      <td>ST LAURENT DU VAR</td>\n",
       "    </tr>\n",
       "  </tbody>\n",
       "</table>\n",
       "</div>"
      ],
      "text/plain": [
       "                            6          8                  15\n",
       "Civilité              Monsieur     Madame           Monsieur\n",
       "Nom                    Bonbeur  Tatouille               Noix\n",
       "Prénom                  Martin      Laura           Stéphane\n",
       "CP                       13830       6910               6700\n",
       "Ville     ROQUEFORT LA BEDOULE     LE MAS  ST LAURENT DU VAR"
      ]
     },
     "execution_count": 6,
     "metadata": {},
     "output_type": "execute_result"
    }
   ],
   "source": [
    "tab.take([crit1, crit2, crit3]).transpose()"
   ]
  },
  {
   "cell_type": "markdown",
   "id": "7a2014d6",
   "metadata": {},
   "source": [
    "Récupération de la ligne n° 6 à la ligne n° 15"
   ]
  },
  {
   "cell_type": "code",
   "execution_count": 8,
   "id": "345c1c85",
   "metadata": {},
   "outputs": [
    {
     "data": {
      "application/vnd.microsoft.datawrangler.viewer.v0+json": {
       "columns": [
        {
         "name": "index",
         "rawType": "object",
         "type": "string"
        },
        {
         "name": "6",
         "rawType": "object",
         "type": "unknown"
        },
        {
         "name": "7",
         "rawType": "object",
         "type": "unknown"
        },
        {
         "name": "8",
         "rawType": "object",
         "type": "unknown"
        },
        {
         "name": "9",
         "rawType": "object",
         "type": "unknown"
        },
        {
         "name": "10",
         "rawType": "object",
         "type": "unknown"
        },
        {
         "name": "11",
         "rawType": "object",
         "type": "unknown"
        },
        {
         "name": "12",
         "rawType": "object",
         "type": "unknown"
        },
        {
         "name": "13",
         "rawType": "object",
         "type": "unknown"
        },
        {
         "name": "14",
         "rawType": "object",
         "type": "unknown"
        },
        {
         "name": "15",
         "rawType": "object",
         "type": "unknown"
        }
       ],
       "ref": "01814f5d-ffad-4ddd-8b3b-045086f6ff56",
       "rows": [
        [
         "Civilité",
         "Monsieur",
         "Monsieur",
         "Madame",
         "Madame",
         "Madame",
         "Madame",
         "Monsieur",
         "Monsieur",
         "Madame",
         "Monsieur"
        ],
        [
         "Nom",
         "Bonbeur",
         "Houda",
         "Tatouille",
         "Sille",
         "Hamalibou",
         "Bernard",
         "Maurice",
         "Bonbeur",
         "Hèresse",
         "Noix"
        ],
        [
         "Prénom",
         "Martin",
         "Barrack",
         "Laura",
         "Lucie",
         "Gisèle",
         "Sarah",
         "Philippe",
         "Jean",
         "Mégane",
         "Stéphane"
        ],
        [
         "CP",
         "13830",
         "83130",
         "6910",
         "5150",
         "13350",
         "83670",
         "13830",
         "83440",
         "4120",
         "6700"
        ],
        [
         "Ville",
         "ROQUEFORT LA BEDOULE",
         "LA GARDE",
         "LE MAS",
         "MOYDANS",
         "CHARLEVAL",
         "PONTEVES",
         "ROQUEFORT LA BEDOULE",
         "SEILLANS",
         "SOLEILHAS",
         "ST LAURENT DU VAR"
        ]
       ],
       "shape": {
        "columns": 10,
        "rows": 5
       }
      },
      "text/html": [
       "<div>\n",
       "<style scoped>\n",
       "    .dataframe tbody tr th:only-of-type {\n",
       "        vertical-align: middle;\n",
       "    }\n",
       "\n",
       "    .dataframe tbody tr th {\n",
       "        vertical-align: top;\n",
       "    }\n",
       "\n",
       "    .dataframe thead th {\n",
       "        text-align: right;\n",
       "    }\n",
       "</style>\n",
       "<table border=\"1\" class=\"dataframe\">\n",
       "  <thead>\n",
       "    <tr style=\"text-align: right;\">\n",
       "      <th></th>\n",
       "      <th>6</th>\n",
       "      <th>7</th>\n",
       "      <th>8</th>\n",
       "      <th>9</th>\n",
       "      <th>10</th>\n",
       "      <th>11</th>\n",
       "      <th>12</th>\n",
       "      <th>13</th>\n",
       "      <th>14</th>\n",
       "      <th>15</th>\n",
       "    </tr>\n",
       "  </thead>\n",
       "  <tbody>\n",
       "    <tr>\n",
       "      <th>Civilité</th>\n",
       "      <td>Monsieur</td>\n",
       "      <td>Monsieur</td>\n",
       "      <td>Madame</td>\n",
       "      <td>Madame</td>\n",
       "      <td>Madame</td>\n",
       "      <td>Madame</td>\n",
       "      <td>Monsieur</td>\n",
       "      <td>Monsieur</td>\n",
       "      <td>Madame</td>\n",
       "      <td>Monsieur</td>\n",
       "    </tr>\n",
       "    <tr>\n",
       "      <th>Nom</th>\n",
       "      <td>Bonbeur</td>\n",
       "      <td>Houda</td>\n",
       "      <td>Tatouille</td>\n",
       "      <td>Sille</td>\n",
       "      <td>Hamalibou</td>\n",
       "      <td>Bernard</td>\n",
       "      <td>Maurice</td>\n",
       "      <td>Bonbeur</td>\n",
       "      <td>Hèresse</td>\n",
       "      <td>Noix</td>\n",
       "    </tr>\n",
       "    <tr>\n",
       "      <th>Prénom</th>\n",
       "      <td>Martin</td>\n",
       "      <td>Barrack</td>\n",
       "      <td>Laura</td>\n",
       "      <td>Lucie</td>\n",
       "      <td>Gisèle</td>\n",
       "      <td>Sarah</td>\n",
       "      <td>Philippe</td>\n",
       "      <td>Jean</td>\n",
       "      <td>Mégane</td>\n",
       "      <td>Stéphane</td>\n",
       "    </tr>\n",
       "    <tr>\n",
       "      <th>CP</th>\n",
       "      <td>13830</td>\n",
       "      <td>83130</td>\n",
       "      <td>6910</td>\n",
       "      <td>5150</td>\n",
       "      <td>13350</td>\n",
       "      <td>83670</td>\n",
       "      <td>13830</td>\n",
       "      <td>83440</td>\n",
       "      <td>4120</td>\n",
       "      <td>6700</td>\n",
       "    </tr>\n",
       "    <tr>\n",
       "      <th>Ville</th>\n",
       "      <td>ROQUEFORT LA BEDOULE</td>\n",
       "      <td>LA GARDE</td>\n",
       "      <td>LE MAS</td>\n",
       "      <td>MOYDANS</td>\n",
       "      <td>CHARLEVAL</td>\n",
       "      <td>PONTEVES</td>\n",
       "      <td>ROQUEFORT LA BEDOULE</td>\n",
       "      <td>SEILLANS</td>\n",
       "      <td>SOLEILHAS</td>\n",
       "      <td>ST LAURENT DU VAR</td>\n",
       "    </tr>\n",
       "  </tbody>\n",
       "</table>\n",
       "</div>"
      ],
      "text/plain": [
       "                            6         7          8        9          10  \\\n",
       "Civilité              Monsieur  Monsieur     Madame   Madame     Madame   \n",
       "Nom                    Bonbeur     Houda  Tatouille    Sille  Hamalibou   \n",
       "Prénom                  Martin   Barrack      Laura    Lucie     Gisèle   \n",
       "CP                       13830     83130       6910     5150      13350   \n",
       "Ville     ROQUEFORT LA BEDOULE  LA GARDE     LE MAS  MOYDANS  CHARLEVAL   \n",
       "\n",
       "                11                    12        13         14  \\\n",
       "Civilité    Madame              Monsieur  Monsieur     Madame   \n",
       "Nom        Bernard               Maurice   Bonbeur    Hèresse   \n",
       "Prénom       Sarah              Philippe      Jean     Mégane   \n",
       "CP           83670                 13830     83440       4120   \n",
       "Ville     PONTEVES  ROQUEFORT LA BEDOULE  SEILLANS  SOLEILHAS   \n",
       "\n",
       "                         15  \n",
       "Civilité           Monsieur  \n",
       "Nom                    Noix  \n",
       "Prénom             Stéphane  \n",
       "CP                     6700  \n",
       "Ville     ST LAURENT DU VAR  "
      ]
     },
     "execution_count": 8,
     "metadata": {},
     "output_type": "execute_result"
    }
   ],
   "source": [
    "tab.iloc[crit1:crit3+1].transpose()"
   ]
  }
 ],
 "metadata": {
  "kernelspec": {
   "display_name": "Python 3",
   "language": "python",
   "name": "python3"
  },
  "language_info": {
   "codemirror_mode": {
    "name": "ipython",
    "version": 3
   },
   "file_extension": ".py",
   "mimetype": "text/x-python",
   "name": "python",
   "nbconvert_exporter": "python",
   "pygments_lexer": "ipython3",
   "version": "3.12.5"
  }
 },
 "nbformat": 4,
 "nbformat_minor": 5
}
