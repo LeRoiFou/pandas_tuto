{
 "cells": [
  {
   "cell_type": "markdown",
   "id": "4401760e",
   "metadata": {},
   "source": [
    "[Chercher et extraire par formule Python dans Excel](https://www.youtube.com/watch?v=9pk2C0RWerk&t=1s)\n",
    "\n",
    "Date : 28/05/2025"
   ]
  },
  {
   "cell_type": "code",
   "execution_count": 1,
   "id": "2bc8554e",
   "metadata": {},
   "outputs": [],
   "source": [
    "import pandas as pd"
   ]
  },
  {
   "cell_type": "code",
   "execution_count": 2,
   "id": "2db088df",
   "metadata": {},
   "outputs": [
    {
     "data": {
      "application/vnd.microsoft.datawrangler.viewer.v0+json": {
       "columns": [
        {
         "name": "index",
         "rawType": "int64",
         "type": "integer"
        },
        {
         "name": "Immat.",
         "rawType": "object",
         "type": "string"
        },
        {
         "name": "Marque",
         "rawType": "object",
         "type": "string"
        },
        {
         "name": "Modèle",
         "rawType": "object",
         "type": "unknown"
        }
       ],
       "ref": "08099548-15e8-4bd9-9ba7-f05dd2bc3ec4",
       "rows": [
        [
         "0",
         "BD008YC",
         "RENAULT",
         "CLIO"
        ],
        [
         "1",
         "BQ561JM",
         "CITROEN",
         "NEMO"
        ],
        [
         "2",
         "BB978MC",
         "CITROEN",
         "C5"
        ],
        [
         "3",
         "BB524RN",
         "RENAULT",
         "KOLEOS"
        ],
        [
         "4",
         "8145JPB",
         "PEUGEOT",
         "308"
        ]
       ],
       "shape": {
        "columns": 3,
        "rows": 5
       }
      },
      "text/html": [
       "<div>\n",
       "<style scoped>\n",
       "    .dataframe tbody tr th:only-of-type {\n",
       "        vertical-align: middle;\n",
       "    }\n",
       "\n",
       "    .dataframe tbody tr th {\n",
       "        vertical-align: top;\n",
       "    }\n",
       "\n",
       "    .dataframe thead th {\n",
       "        text-align: right;\n",
       "    }\n",
       "</style>\n",
       "<table border=\"1\" class=\"dataframe\">\n",
       "  <thead>\n",
       "    <tr style=\"text-align: right;\">\n",
       "      <th></th>\n",
       "      <th>Immat.</th>\n",
       "      <th>Marque</th>\n",
       "      <th>Modèle</th>\n",
       "    </tr>\n",
       "  </thead>\n",
       "  <tbody>\n",
       "    <tr>\n",
       "      <th>0</th>\n",
       "      <td>BD008YC</td>\n",
       "      <td>RENAULT</td>\n",
       "      <td>CLIO</td>\n",
       "    </tr>\n",
       "    <tr>\n",
       "      <th>1</th>\n",
       "      <td>BQ561JM</td>\n",
       "      <td>CITROEN</td>\n",
       "      <td>NEMO</td>\n",
       "    </tr>\n",
       "    <tr>\n",
       "      <th>2</th>\n",
       "      <td>BB978MC</td>\n",
       "      <td>CITROEN</td>\n",
       "      <td>C5</td>\n",
       "    </tr>\n",
       "    <tr>\n",
       "      <th>3</th>\n",
       "      <td>BB524RN</td>\n",
       "      <td>RENAULT</td>\n",
       "      <td>KOLEOS</td>\n",
       "    </tr>\n",
       "    <tr>\n",
       "      <th>4</th>\n",
       "      <td>8145JPB</td>\n",
       "      <td>PEUGEOT</td>\n",
       "      <td>308</td>\n",
       "    </tr>\n",
       "  </tbody>\n",
       "</table>\n",
       "</div>"
      ],
      "text/plain": [
       "    Immat.   Marque  Modèle\n",
       "0  BD008YC  RENAULT    CLIO\n",
       "1  BQ561JM  CITROEN    NEMO\n",
       "2  BB978MC  CITROEN      C5\n",
       "3  BB524RN  RENAULT  KOLEOS\n",
       "4  8145JPB  PEUGEOT     308"
      ]
     },
     "execution_count": 2,
     "metadata": {},
     "output_type": "execute_result"
    }
   ],
   "source": [
    "tab=pd.read_excel('data/Loc.xlsx', sheet_name='Feuil1')\n",
    "tab.head()"
   ]
  },
  {
   "cell_type": "code",
   "execution_count": 3,
   "id": "56f658ef",
   "metadata": {},
   "outputs": [],
   "source": [
    "crit=['PEUGEOT', 'CITROEN', 'RENAULT']"
   ]
  },
  {
   "cell_type": "code",
   "execution_count": 6,
   "id": "e0c60e2b",
   "metadata": {},
   "outputs": [
    {
     "data": {
      "application/vnd.microsoft.datawrangler.viewer.v0+json": {
       "columns": [
        {
         "name": "index",
         "rawType": "int64",
         "type": "integer"
        },
        {
         "name": "Immat.",
         "rawType": "object",
         "type": "string"
        },
        {
         "name": "Marque",
         "rawType": "object",
         "type": "string"
        },
        {
         "name": "Modèle",
         "rawType": "object",
         "type": "unknown"
        }
       ],
       "ref": "322c4632-33f9-4fbb-96f9-8480a3658efa",
       "rows": [
        [
         "0",
         "2020JNY",
         "PEUGEOT",
         "208"
        ],
        [
         "1",
         "2043JNY",
         "PEUGEOT",
         "308"
        ],
        [
         "2",
         "2069JNY",
         "PEUGEOT",
         "308"
        ],
        [
         "3",
         "5495ZQ74",
         "PEUGEOT",
         "206"
        ],
        [
         "4",
         "8033JPB",
         "PEUGEOT",
         "308"
        ],
        [
         "5",
         "8048JPB",
         "PEUGEOT",
         "208"
        ],
        [
         "6",
         "8121JPB",
         "PEUGEOT",
         "308"
        ],
        [
         "7",
         "8145JPB",
         "PEUGEOT",
         "308"
        ]
       ],
       "shape": {
        "columns": 3,
        "rows": 8
       }
      },
      "text/html": [
       "<div>\n",
       "<style scoped>\n",
       "    .dataframe tbody tr th:only-of-type {\n",
       "        vertical-align: middle;\n",
       "    }\n",
       "\n",
       "    .dataframe tbody tr th {\n",
       "        vertical-align: top;\n",
       "    }\n",
       "\n",
       "    .dataframe thead th {\n",
       "        text-align: right;\n",
       "    }\n",
       "</style>\n",
       "<table border=\"1\" class=\"dataframe\">\n",
       "  <thead>\n",
       "    <tr style=\"text-align: right;\">\n",
       "      <th></th>\n",
       "      <th>Immat.</th>\n",
       "      <th>Marque</th>\n",
       "      <th>Modèle</th>\n",
       "    </tr>\n",
       "  </thead>\n",
       "  <tbody>\n",
       "    <tr>\n",
       "      <th>0</th>\n",
       "      <td>2020JNY</td>\n",
       "      <td>PEUGEOT</td>\n",
       "      <td>208</td>\n",
       "    </tr>\n",
       "    <tr>\n",
       "      <th>1</th>\n",
       "      <td>2043JNY</td>\n",
       "      <td>PEUGEOT</td>\n",
       "      <td>308</td>\n",
       "    </tr>\n",
       "    <tr>\n",
       "      <th>2</th>\n",
       "      <td>2069JNY</td>\n",
       "      <td>PEUGEOT</td>\n",
       "      <td>308</td>\n",
       "    </tr>\n",
       "    <tr>\n",
       "      <th>3</th>\n",
       "      <td>5495ZQ74</td>\n",
       "      <td>PEUGEOT</td>\n",
       "      <td>206</td>\n",
       "    </tr>\n",
       "    <tr>\n",
       "      <th>4</th>\n",
       "      <td>8033JPB</td>\n",
       "      <td>PEUGEOT</td>\n",
       "      <td>308</td>\n",
       "    </tr>\n",
       "    <tr>\n",
       "      <th>5</th>\n",
       "      <td>8048JPB</td>\n",
       "      <td>PEUGEOT</td>\n",
       "      <td>208</td>\n",
       "    </tr>\n",
       "    <tr>\n",
       "      <th>6</th>\n",
       "      <td>8121JPB</td>\n",
       "      <td>PEUGEOT</td>\n",
       "      <td>308</td>\n",
       "    </tr>\n",
       "    <tr>\n",
       "      <th>7</th>\n",
       "      <td>8145JPB</td>\n",
       "      <td>PEUGEOT</td>\n",
       "      <td>308</td>\n",
       "    </tr>\n",
       "  </tbody>\n",
       "</table>\n",
       "</div>"
      ],
      "text/plain": [
       "     Immat.   Marque Modèle\n",
       "0   2020JNY  PEUGEOT    208\n",
       "1   2043JNY  PEUGEOT    308\n",
       "2   2069JNY  PEUGEOT    308\n",
       "3  5495ZQ74  PEUGEOT    206\n",
       "4   8033JPB  PEUGEOT    308\n",
       "5   8048JPB  PEUGEOT    208\n",
       "6   8121JPB  PEUGEOT    308\n",
       "7   8145JPB  PEUGEOT    308"
      ]
     },
     "execution_count": 6,
     "metadata": {},
     "output_type": "execute_result"
    }
   ],
   "source": [
    "tab.loc[tab['Marque']==crit[0]].sort_values(\n",
    "    by='Immat.', ascending=True).reset_index(drop=True)"
   ]
  }
 ],
 "metadata": {
  "kernelspec": {
   "display_name": "Python 3",
   "language": "python",
   "name": "python3"
  },
  "language_info": {
   "codemirror_mode": {
    "name": "ipython",
    "version": 3
   },
   "file_extension": ".py",
   "mimetype": "text/x-python",
   "name": "python",
   "nbconvert_exporter": "python",
   "pygments_lexer": "ipython3",
   "version": "3.12.5"
  }
 },
 "nbformat": 4,
 "nbformat_minor": 5
}
