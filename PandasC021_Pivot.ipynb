{
 "cells": [
  {
   "cell_type": "markdown",
   "id": "b97c8953",
   "metadata": {},
   "source": [
    "[Regrouper les données d'un tableau Excel par formule Python](https://www.youtube.com/watch?v=t1Zu1TS7_5M&list=PLpQBnWleLAauKmgcdndmEr81iIIoW9_Wi&index=26)\n",
    "\n",
    "Date : 12/06/2025 <br>\n",
    "Editeur : Laurent REYNAUD"
   ]
  },
  {
   "cell_type": "code",
   "execution_count": 1,
   "id": "9b4abe19",
   "metadata": {},
   "outputs": [],
   "source": [
    "import pandas as pd"
   ]
  },
  {
   "cell_type": "code",
   "execution_count": 3,
   "id": "b1ae8b06",
   "metadata": {},
   "outputs": [
    {
     "data": {
      "application/vnd.microsoft.datawrangler.viewer.v0+json": {
       "columns": [
        {
         "name": "index",
         "rawType": "object",
         "type": "string"
        },
        {
         "name": "0",
         "rawType": "object",
         "type": "unknown"
        },
        {
         "name": "1",
         "rawType": "object",
         "type": "unknown"
        },
        {
         "name": "2",
         "rawType": "object",
         "type": "unknown"
        },
        {
         "name": "3",
         "rawType": "object",
         "type": "unknown"
        },
        {
         "name": "4",
         "rawType": "object",
         "type": "unknown"
        }
       ],
       "ref": "05526f7e-32e4-43aa-8742-8d471fd14639",
       "rows": [
        [
         "ID",
         "1",
         "2",
         "3",
         "4",
         "5"
        ],
        [
         "Nom",
         "Alice",
         "Bob",
         "Antoinne",
         "Etienne",
         "Médhi"
        ],
        [
         "Sujet",
         "Maths",
         "Maths",
         "Maths",
         "Maths",
         "Maths"
        ],
        [
         "Score",
         "85",
         "90",
         "69",
         "95",
         "85"
        ]
       ],
       "shape": {
        "columns": 5,
        "rows": 4
       }
      },
      "text/html": [
       "<div>\n",
       "<style scoped>\n",
       "    .dataframe tbody tr th:only-of-type {\n",
       "        vertical-align: middle;\n",
       "    }\n",
       "\n",
       "    .dataframe tbody tr th {\n",
       "        vertical-align: top;\n",
       "    }\n",
       "\n",
       "    .dataframe thead th {\n",
       "        text-align: right;\n",
       "    }\n",
       "</style>\n",
       "<table border=\"1\" class=\"dataframe\">\n",
       "  <thead>\n",
       "    <tr style=\"text-align: right;\">\n",
       "      <th></th>\n",
       "      <th>0</th>\n",
       "      <th>1</th>\n",
       "      <th>2</th>\n",
       "      <th>3</th>\n",
       "      <th>4</th>\n",
       "    </tr>\n",
       "  </thead>\n",
       "  <tbody>\n",
       "    <tr>\n",
       "      <th>ID</th>\n",
       "      <td>1</td>\n",
       "      <td>2</td>\n",
       "      <td>3</td>\n",
       "      <td>4</td>\n",
       "      <td>5</td>\n",
       "    </tr>\n",
       "    <tr>\n",
       "      <th>Nom</th>\n",
       "      <td>Alice</td>\n",
       "      <td>Bob</td>\n",
       "      <td>Antoinne</td>\n",
       "      <td>Etienne</td>\n",
       "      <td>Médhi</td>\n",
       "    </tr>\n",
       "    <tr>\n",
       "      <th>Sujet</th>\n",
       "      <td>Maths</td>\n",
       "      <td>Maths</td>\n",
       "      <td>Maths</td>\n",
       "      <td>Maths</td>\n",
       "      <td>Maths</td>\n",
       "    </tr>\n",
       "    <tr>\n",
       "      <th>Score</th>\n",
       "      <td>85</td>\n",
       "      <td>90</td>\n",
       "      <td>69</td>\n",
       "      <td>95</td>\n",
       "      <td>85</td>\n",
       "    </tr>\n",
       "  </tbody>\n",
       "</table>\n",
       "</div>"
      ],
      "text/plain": [
       "           0      1         2        3      4\n",
       "ID         1      2         3        4      5\n",
       "Nom    Alice    Bob  Antoinne  Etienne  Médhi\n",
       "Sujet  Maths  Maths     Maths    Maths  Maths\n",
       "Score     85     90        69       95     85"
      ]
     },
     "execution_count": 3,
     "metadata": {},
     "output_type": "execute_result"
    }
   ],
   "source": [
    "tb = pd.read_excel('data/Pivot.xlsx', sheet_name='Feuil1')\n",
    "tb.head().transpose()"
   ]
  },
  {
   "cell_type": "markdown",
   "id": "cdd4d0c5",
   "metadata": {},
   "source": [
    "Regroupage des données"
   ]
  },
  {
   "cell_type": "code",
   "execution_count": 5,
   "id": "07ab3d7f",
   "metadata": {},
   "outputs": [
    {
     "data": {
      "application/vnd.microsoft.datawrangler.viewer.v0+json": {
       "columns": [
        {
         "name": "index",
         "rawType": "int64",
         "type": "integer"
        },
        {
         "name": "ID",
         "rawType": "int64",
         "type": "integer"
        },
        {
         "name": "Nom",
         "rawType": "object",
         "type": "string"
        },
        {
         "name": "Maths",
         "rawType": "int64",
         "type": "integer"
        },
        {
         "name": "Programmation",
         "rawType": "int64",
         "type": "integer"
        },
        {
         "name": "Science",
         "rawType": "int64",
         "type": "integer"
        }
       ],
       "ref": "0391939c-69ed-4c31-a12f-b4c442c14357",
       "rows": [
        [
         "0",
         "1",
         "Alice",
         "85",
         "72",
         "88"
        ],
        [
         "1",
         "2",
         "Bob",
         "90",
         "85",
         "92"
        ],
        [
         "2",
         "3",
         "Antoinne",
         "69",
         "90",
         "50"
        ],
        [
         "3",
         "4",
         "Etienne",
         "95",
         "57",
         "76"
        ],
        [
         "4",
         "5",
         "Médhi",
         "85",
         "95",
         "75"
        ],
        [
         "5",
         "6",
         "Carinne",
         "53",
         "52",
         "57"
        ],
        [
         "6",
         "7",
         "Maëlis",
         "86",
         "62",
         "64"
        ],
        [
         "7",
         "8",
         "Khaled",
         "74",
         "88",
         "59"
        ],
        [
         "8",
         "9",
         "John",
         "87",
         "84",
         "51"
        ],
        [
         "9",
         "10",
         "Charline",
         "69",
         "90",
         "86"
        ]
       ],
       "shape": {
        "columns": 5,
        "rows": 10
       }
      },
      "text/html": [
       "<div>\n",
       "<style scoped>\n",
       "    .dataframe tbody tr th:only-of-type {\n",
       "        vertical-align: middle;\n",
       "    }\n",
       "\n",
       "    .dataframe tbody tr th {\n",
       "        vertical-align: top;\n",
       "    }\n",
       "\n",
       "    .dataframe thead th {\n",
       "        text-align: right;\n",
       "    }\n",
       "</style>\n",
       "<table border=\"1\" class=\"dataframe\">\n",
       "  <thead>\n",
       "    <tr style=\"text-align: right;\">\n",
       "      <th>Sujet</th>\n",
       "      <th>ID</th>\n",
       "      <th>Nom</th>\n",
       "      <th>Maths</th>\n",
       "      <th>Programmation</th>\n",
       "      <th>Science</th>\n",
       "    </tr>\n",
       "  </thead>\n",
       "  <tbody>\n",
       "    <tr>\n",
       "      <th>0</th>\n",
       "      <td>1</td>\n",
       "      <td>Alice</td>\n",
       "      <td>85</td>\n",
       "      <td>72</td>\n",
       "      <td>88</td>\n",
       "    </tr>\n",
       "    <tr>\n",
       "      <th>1</th>\n",
       "      <td>2</td>\n",
       "      <td>Bob</td>\n",
       "      <td>90</td>\n",
       "      <td>85</td>\n",
       "      <td>92</td>\n",
       "    </tr>\n",
       "    <tr>\n",
       "      <th>2</th>\n",
       "      <td>3</td>\n",
       "      <td>Antoinne</td>\n",
       "      <td>69</td>\n",
       "      <td>90</td>\n",
       "      <td>50</td>\n",
       "    </tr>\n",
       "    <tr>\n",
       "      <th>3</th>\n",
       "      <td>4</td>\n",
       "      <td>Etienne</td>\n",
       "      <td>95</td>\n",
       "      <td>57</td>\n",
       "      <td>76</td>\n",
       "    </tr>\n",
       "    <tr>\n",
       "      <th>4</th>\n",
       "      <td>5</td>\n",
       "      <td>Médhi</td>\n",
       "      <td>85</td>\n",
       "      <td>95</td>\n",
       "      <td>75</td>\n",
       "    </tr>\n",
       "    <tr>\n",
       "      <th>5</th>\n",
       "      <td>6</td>\n",
       "      <td>Carinne</td>\n",
       "      <td>53</td>\n",
       "      <td>52</td>\n",
       "      <td>57</td>\n",
       "    </tr>\n",
       "    <tr>\n",
       "      <th>6</th>\n",
       "      <td>7</td>\n",
       "      <td>Maëlis</td>\n",
       "      <td>86</td>\n",
       "      <td>62</td>\n",
       "      <td>64</td>\n",
       "    </tr>\n",
       "    <tr>\n",
       "      <th>7</th>\n",
       "      <td>8</td>\n",
       "      <td>Khaled</td>\n",
       "      <td>74</td>\n",
       "      <td>88</td>\n",
       "      <td>59</td>\n",
       "    </tr>\n",
       "    <tr>\n",
       "      <th>8</th>\n",
       "      <td>9</td>\n",
       "      <td>John</td>\n",
       "      <td>87</td>\n",
       "      <td>84</td>\n",
       "      <td>51</td>\n",
       "    </tr>\n",
       "    <tr>\n",
       "      <th>9</th>\n",
       "      <td>10</td>\n",
       "      <td>Charline</td>\n",
       "      <td>69</td>\n",
       "      <td>90</td>\n",
       "      <td>86</td>\n",
       "    </tr>\n",
       "  </tbody>\n",
       "</table>\n",
       "</div>"
      ],
      "text/plain": [
       "Sujet  ID       Nom  Maths  Programmation  Science\n",
       "0       1     Alice     85             72       88\n",
       "1       2       Bob     90             85       92\n",
       "2       3  Antoinne     69             90       50\n",
       "3       4   Etienne     95             57       76\n",
       "4       5     Médhi     85             95       75\n",
       "5       6   Carinne     53             52       57\n",
       "6       7    Maëlis     86             62       64\n",
       "7       8    Khaled     74             88       59\n",
       "8       9      John     87             84       51\n",
       "9      10  Charline     69             90       86"
      ]
     },
     "execution_count": 5,
     "metadata": {},
     "output_type": "execute_result"
    }
   ],
   "source": [
    "tb.pivot(index=['ID', 'Nom'], columns='Sujet', values='Score').reset_index()"
   ]
  }
 ],
 "metadata": {
  "kernelspec": {
   "display_name": "Python 3",
   "language": "python",
   "name": "python3"
  },
  "language_info": {
   "codemirror_mode": {
    "name": "ipython",
    "version": 3
   },
   "file_extension": ".py",
   "mimetype": "text/x-python",
   "name": "python",
   "nbconvert_exporter": "python",
   "pygments_lexer": "ipython3",
   "version": "3.12.5"
  }
 },
 "nbformat": 4,
 "nbformat_minor": 5
}
