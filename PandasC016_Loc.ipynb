{
 "cells": [
  {
   "cell_type": "markdown",
   "id": "cdcad292",
   "metadata": {},
   "source": [
    "[Extraire sur plusieurs sources Excel par formule Python](https://www.youtube.com/watch?v=EB6WiQq-5KE&list=PLpQBnWleLAauKmgcdndmEr81iIIoW9_Wi&index=21)\n",
    "\n",
    "Date : 29/05/2025"
   ]
  },
  {
   "cell_type": "code",
   "execution_count": 2,
   "id": "3b4fa3d4",
   "metadata": {},
   "outputs": [],
   "source": [
    "import pandas as pd"
   ]
  },
  {
   "cell_type": "markdown",
   "id": "ae7e22bd",
   "metadata": {},
   "source": [
    "Chargement des tables"
   ]
  },
  {
   "cell_type": "code",
   "execution_count": 3,
   "id": "f16cfc08",
   "metadata": {},
   "outputs": [
    {
     "data": {
      "application/vnd.microsoft.datawrangler.viewer.v0+json": {
       "columns": [
        {
         "name": "index",
         "rawType": "int64",
         "type": "integer"
        },
        {
         "name": "Immat.",
         "rawType": "object",
         "type": "string"
        },
        {
         "name": "Marque",
         "rawType": "object",
         "type": "string"
        },
        {
         "name": "Modèle",
         "rawType": "object",
         "type": "string"
        }
       ],
       "ref": "5813db23-f394-4f9d-b08b-4884566d2218",
       "rows": [
        [
         "0",
         "2677XT74",
         "CITROEN",
         "C3"
        ],
        [
         "1",
         "AC454BD",
         "CITROEN",
         "C4"
        ],
        [
         "2",
         "AJ007PV",
         "CITROEN",
         "C4"
        ],
        [
         "3",
         "BB978MC",
         "CITROEN",
         "C5"
        ],
        [
         "4",
         "BQ561JM",
         "CITROEN",
         "NEMO"
        ]
       ],
       "shape": {
        "columns": 3,
        "rows": 5
       }
      },
      "text/html": [
       "<div>\n",
       "<style scoped>\n",
       "    .dataframe tbody tr th:only-of-type {\n",
       "        vertical-align: middle;\n",
       "    }\n",
       "\n",
       "    .dataframe tbody tr th {\n",
       "        vertical-align: top;\n",
       "    }\n",
       "\n",
       "    .dataframe thead th {\n",
       "        text-align: right;\n",
       "    }\n",
       "</style>\n",
       "<table border=\"1\" class=\"dataframe\">\n",
       "  <thead>\n",
       "    <tr style=\"text-align: right;\">\n",
       "      <th></th>\n",
       "      <th>Immat.</th>\n",
       "      <th>Marque</th>\n",
       "      <th>Modèle</th>\n",
       "    </tr>\n",
       "  </thead>\n",
       "  <tbody>\n",
       "    <tr>\n",
       "      <th>0</th>\n",
       "      <td>2677XT74</td>\n",
       "      <td>CITROEN</td>\n",
       "      <td>C3</td>\n",
       "    </tr>\n",
       "    <tr>\n",
       "      <th>1</th>\n",
       "      <td>AC454BD</td>\n",
       "      <td>CITROEN</td>\n",
       "      <td>C4</td>\n",
       "    </tr>\n",
       "    <tr>\n",
       "      <th>2</th>\n",
       "      <td>AJ007PV</td>\n",
       "      <td>CITROEN</td>\n",
       "      <td>C4</td>\n",
       "    </tr>\n",
       "    <tr>\n",
       "      <th>3</th>\n",
       "      <td>BB978MC</td>\n",
       "      <td>CITROEN</td>\n",
       "      <td>C5</td>\n",
       "    </tr>\n",
       "    <tr>\n",
       "      <th>4</th>\n",
       "      <td>BQ561JM</td>\n",
       "      <td>CITROEN</td>\n",
       "      <td>NEMO</td>\n",
       "    </tr>\n",
       "  </tbody>\n",
       "</table>\n",
       "</div>"
      ],
      "text/plain": [
       "     Immat.   Marque Modèle\n",
       "0  2677XT74  CITROEN     C3\n",
       "1   AC454BD  CITROEN     C4\n",
       "2   AJ007PV  CITROEN     C4\n",
       "3   BB978MC  CITROEN     C5\n",
       "4   BQ561JM  CITROEN   NEMO"
      ]
     },
     "execution_count": 3,
     "metadata": {},
     "output_type": "execute_result"
    }
   ],
   "source": [
    "tb1 = pd.read_excel('data/Loc2.xlsx', sheet_name='Citroen')\n",
    "tb1.head()"
   ]
  },
  {
   "cell_type": "code",
   "execution_count": 4,
   "id": "354c4182",
   "metadata": {},
   "outputs": [
    {
     "data": {
      "application/vnd.microsoft.datawrangler.viewer.v0+json": {
       "columns": [
        {
         "name": "index",
         "rawType": "int64",
         "type": "integer"
        },
        {
         "name": "Immat.",
         "rawType": "object",
         "type": "string"
        },
        {
         "name": "Marque",
         "rawType": "object",
         "type": "string"
        },
        {
         "name": "Modèle",
         "rawType": "int64",
         "type": "integer"
        }
       ],
       "ref": "c04c802d-1b0a-40bb-9479-7678c5a36f53",
       "rows": [
        [
         "0",
         "2020JNY",
         "PEUGEOT",
         "208"
        ],
        [
         "1",
         "2043JNY",
         "PEUGEOT",
         "308"
        ],
        [
         "2",
         "2069JNY",
         "PEUGEOT",
         "308"
        ],
        [
         "3",
         "5495ZQ74",
         "PEUGEOT",
         "206"
        ],
        [
         "4",
         "8033JPB",
         "PEUGEOT",
         "308"
        ]
       ],
       "shape": {
        "columns": 3,
        "rows": 5
       }
      },
      "text/html": [
       "<div>\n",
       "<style scoped>\n",
       "    .dataframe tbody tr th:only-of-type {\n",
       "        vertical-align: middle;\n",
       "    }\n",
       "\n",
       "    .dataframe tbody tr th {\n",
       "        vertical-align: top;\n",
       "    }\n",
       "\n",
       "    .dataframe thead th {\n",
       "        text-align: right;\n",
       "    }\n",
       "</style>\n",
       "<table border=\"1\" class=\"dataframe\">\n",
       "  <thead>\n",
       "    <tr style=\"text-align: right;\">\n",
       "      <th></th>\n",
       "      <th>Immat.</th>\n",
       "      <th>Marque</th>\n",
       "      <th>Modèle</th>\n",
       "    </tr>\n",
       "  </thead>\n",
       "  <tbody>\n",
       "    <tr>\n",
       "      <th>0</th>\n",
       "      <td>2020JNY</td>\n",
       "      <td>PEUGEOT</td>\n",
       "      <td>208</td>\n",
       "    </tr>\n",
       "    <tr>\n",
       "      <th>1</th>\n",
       "      <td>2043JNY</td>\n",
       "      <td>PEUGEOT</td>\n",
       "      <td>308</td>\n",
       "    </tr>\n",
       "    <tr>\n",
       "      <th>2</th>\n",
       "      <td>2069JNY</td>\n",
       "      <td>PEUGEOT</td>\n",
       "      <td>308</td>\n",
       "    </tr>\n",
       "    <tr>\n",
       "      <th>3</th>\n",
       "      <td>5495ZQ74</td>\n",
       "      <td>PEUGEOT</td>\n",
       "      <td>206</td>\n",
       "    </tr>\n",
       "    <tr>\n",
       "      <th>4</th>\n",
       "      <td>8033JPB</td>\n",
       "      <td>PEUGEOT</td>\n",
       "      <td>308</td>\n",
       "    </tr>\n",
       "  </tbody>\n",
       "</table>\n",
       "</div>"
      ],
      "text/plain": [
       "     Immat.   Marque  Modèle\n",
       "0   2020JNY  PEUGEOT     208\n",
       "1   2043JNY  PEUGEOT     308\n",
       "2   2069JNY  PEUGEOT     308\n",
       "3  5495ZQ74  PEUGEOT     206\n",
       "4   8033JPB  PEUGEOT     308"
      ]
     },
     "execution_count": 4,
     "metadata": {},
     "output_type": "execute_result"
    }
   ],
   "source": [
    "tb2 = pd.read_excel('data/Loc2.xlsx', sheet_name='Peugeot')\n",
    "tb2.head()"
   ]
  },
  {
   "cell_type": "code",
   "execution_count": 5,
   "id": "cdf63b4a",
   "metadata": {},
   "outputs": [
    {
     "data": {
      "application/vnd.microsoft.datawrangler.viewer.v0+json": {
       "columns": [
        {
         "name": "index",
         "rawType": "int64",
         "type": "integer"
        },
        {
         "name": "Immat.",
         "rawType": "object",
         "type": "string"
        },
        {
         "name": "Marque",
         "rawType": "object",
         "type": "string"
        },
        {
         "name": "Modèle",
         "rawType": "object",
         "type": "string"
        }
       ],
       "ref": "ee696448-25ee-46e5-b6c7-811a27b63865",
       "rows": [
        [
         "0",
         "112CSB59",
         "RENAULT",
         "MODUS"
        ],
        [
         "1",
         "1702WK74",
         "RENAULT",
         "TWINGO"
        ],
        [
         "2",
         "92BLK57",
         "RENAULT",
         "TWINGO"
        ],
        [
         "3",
         "AB479LG",
         "RENAULT",
         "ESPACE"
        ],
        [
         "4",
         "AJ969LZ",
         "RENAULT",
         "CLIO"
        ]
       ],
       "shape": {
        "columns": 3,
        "rows": 5
       }
      },
      "text/html": [
       "<div>\n",
       "<style scoped>\n",
       "    .dataframe tbody tr th:only-of-type {\n",
       "        vertical-align: middle;\n",
       "    }\n",
       "\n",
       "    .dataframe tbody tr th {\n",
       "        vertical-align: top;\n",
       "    }\n",
       "\n",
       "    .dataframe thead th {\n",
       "        text-align: right;\n",
       "    }\n",
       "</style>\n",
       "<table border=\"1\" class=\"dataframe\">\n",
       "  <thead>\n",
       "    <tr style=\"text-align: right;\">\n",
       "      <th></th>\n",
       "      <th>Immat.</th>\n",
       "      <th>Marque</th>\n",
       "      <th>Modèle</th>\n",
       "    </tr>\n",
       "  </thead>\n",
       "  <tbody>\n",
       "    <tr>\n",
       "      <th>0</th>\n",
       "      <td>112CSB59</td>\n",
       "      <td>RENAULT</td>\n",
       "      <td>MODUS</td>\n",
       "    </tr>\n",
       "    <tr>\n",
       "      <th>1</th>\n",
       "      <td>1702WK74</td>\n",
       "      <td>RENAULT</td>\n",
       "      <td>TWINGO</td>\n",
       "    </tr>\n",
       "    <tr>\n",
       "      <th>2</th>\n",
       "      <td>92BLK57</td>\n",
       "      <td>RENAULT</td>\n",
       "      <td>TWINGO</td>\n",
       "    </tr>\n",
       "    <tr>\n",
       "      <th>3</th>\n",
       "      <td>AB479LG</td>\n",
       "      <td>RENAULT</td>\n",
       "      <td>ESPACE</td>\n",
       "    </tr>\n",
       "    <tr>\n",
       "      <th>4</th>\n",
       "      <td>AJ969LZ</td>\n",
       "      <td>RENAULT</td>\n",
       "      <td>CLIO</td>\n",
       "    </tr>\n",
       "  </tbody>\n",
       "</table>\n",
       "</div>"
      ],
      "text/plain": [
       "     Immat.   Marque  Modèle\n",
       "0  112CSB59  RENAULT   MODUS\n",
       "1  1702WK74  RENAULT  TWINGO\n",
       "2   92BLK57  RENAULT  TWINGO\n",
       "3   AB479LG  RENAULT  ESPACE\n",
       "4   AJ969LZ  RENAULT    CLIO"
      ]
     },
     "execution_count": 5,
     "metadata": {},
     "output_type": "execute_result"
    }
   ],
   "source": [
    "tb3 = pd.read_excel('data/Loc2.xlsx', sheet_name='Renault')\n",
    "tb3.head()"
   ]
  },
  {
   "cell_type": "markdown",
   "id": "176c07d5",
   "metadata": {},
   "source": [
    "Assemblage des tables ci-avant"
   ]
  },
  {
   "cell_type": "code",
   "execution_count": 6,
   "id": "6a3d0bd6",
   "metadata": {},
   "outputs": [
    {
     "data": {
      "application/vnd.microsoft.datawrangler.viewer.v0+json": {
       "columns": [
        {
         "name": "index",
         "rawType": "int64",
         "type": "integer"
        },
        {
         "name": "Immat.",
         "rawType": "object",
         "type": "string"
        },
        {
         "name": "Marque",
         "rawType": "object",
         "type": "string"
        },
        {
         "name": "Modèle",
         "rawType": "object",
         "type": "string"
        }
       ],
       "ref": "9f3d4ce8-5449-4e63-998f-15c4a39b07fb",
       "rows": [
        [
         "0",
         "2677XT74",
         "CITROEN",
         "C3"
        ],
        [
         "1",
         "AC454BD",
         "CITROEN",
         "C4"
        ],
        [
         "2",
         "AJ007PV",
         "CITROEN",
         "C4"
        ],
        [
         "3",
         "BB978MC",
         "CITROEN",
         "C5"
        ],
        [
         "4",
         "BQ561JM",
         "CITROEN",
         "NEMO"
        ]
       ],
       "shape": {
        "columns": 3,
        "rows": 5
       }
      },
      "text/html": [
       "<div>\n",
       "<style scoped>\n",
       "    .dataframe tbody tr th:only-of-type {\n",
       "        vertical-align: middle;\n",
       "    }\n",
       "\n",
       "    .dataframe tbody tr th {\n",
       "        vertical-align: top;\n",
       "    }\n",
       "\n",
       "    .dataframe thead th {\n",
       "        text-align: right;\n",
       "    }\n",
       "</style>\n",
       "<table border=\"1\" class=\"dataframe\">\n",
       "  <thead>\n",
       "    <tr style=\"text-align: right;\">\n",
       "      <th></th>\n",
       "      <th>Immat.</th>\n",
       "      <th>Marque</th>\n",
       "      <th>Modèle</th>\n",
       "    </tr>\n",
       "  </thead>\n",
       "  <tbody>\n",
       "    <tr>\n",
       "      <th>0</th>\n",
       "      <td>2677XT74</td>\n",
       "      <td>CITROEN</td>\n",
       "      <td>C3</td>\n",
       "    </tr>\n",
       "    <tr>\n",
       "      <th>1</th>\n",
       "      <td>AC454BD</td>\n",
       "      <td>CITROEN</td>\n",
       "      <td>C4</td>\n",
       "    </tr>\n",
       "    <tr>\n",
       "      <th>2</th>\n",
       "      <td>AJ007PV</td>\n",
       "      <td>CITROEN</td>\n",
       "      <td>C4</td>\n",
       "    </tr>\n",
       "    <tr>\n",
       "      <th>3</th>\n",
       "      <td>BB978MC</td>\n",
       "      <td>CITROEN</td>\n",
       "      <td>C5</td>\n",
       "    </tr>\n",
       "    <tr>\n",
       "      <th>4</th>\n",
       "      <td>BQ561JM</td>\n",
       "      <td>CITROEN</td>\n",
       "      <td>NEMO</td>\n",
       "    </tr>\n",
       "  </tbody>\n",
       "</table>\n",
       "</div>"
      ],
      "text/plain": [
       "     Immat.   Marque Modèle\n",
       "0  2677XT74  CITROEN     C3\n",
       "1   AC454BD  CITROEN     C4\n",
       "2   AJ007PV  CITROEN     C4\n",
       "3   BB978MC  CITROEN     C5\n",
       "4   BQ561JM  CITROEN   NEMO"
      ]
     },
     "execution_count": 6,
     "metadata": {},
     "output_type": "execute_result"
    }
   ],
   "source": [
    "tbc = pd.concat([tb1, tb2, tb2]).reset_index(drop=True)\n",
    "tbc.head()"
   ]
  },
  {
   "cell_type": "markdown",
   "id": "fd6df882",
   "metadata": {},
   "source": [
    "Liste des plaques d'immatriculation"
   ]
  },
  {
   "cell_type": "code",
   "execution_count": 8,
   "id": "3da352f8",
   "metadata": {},
   "outputs": [],
   "source": [
    "my_list = ['2677XT74', 'AC454BD', 'AJ007PV', 'BB978MC', 'BQ561JM', 'CE216DS',\n",
    "           'CS727JH', 'CS878MP', '2020JNY', '2043JNY', '2069JNY', '5495ZQ74']"
   ]
  },
  {
   "cell_type": "markdown",
   "id": "3b6eb60a",
   "metadata": {},
   "source": [
    "Conversion de la liste ci-avant en DF pandas"
   ]
  },
  {
   "cell_type": "code",
   "execution_count": 11,
   "id": "71fbf95c",
   "metadata": {},
   "outputs": [
    {
     "data": {
      "application/vnd.microsoft.datawrangler.viewer.v0+json": {
       "columns": [
        {
         "name": "index",
         "rawType": "int64",
         "type": "integer"
        },
        {
         "name": "0",
         "rawType": "object",
         "type": "string"
        }
       ],
       "ref": "a85365e5-33b9-4ded-8727-2b6efee07008",
       "rows": [
        [
         "0",
         "2677XT74"
        ],
        [
         "1",
         "AC454BD"
        ],
        [
         "2",
         "AJ007PV"
        ],
        [
         "3",
         "BB978MC"
        ],
        [
         "4",
         "BQ561JM"
        ]
       ],
       "shape": {
        "columns": 1,
        "rows": 5
       }
      },
      "text/html": [
       "<div>\n",
       "<style scoped>\n",
       "    .dataframe tbody tr th:only-of-type {\n",
       "        vertical-align: middle;\n",
       "    }\n",
       "\n",
       "    .dataframe tbody tr th {\n",
       "        vertical-align: top;\n",
       "    }\n",
       "\n",
       "    .dataframe thead th {\n",
       "        text-align: right;\n",
       "    }\n",
       "</style>\n",
       "<table border=\"1\" class=\"dataframe\">\n",
       "  <thead>\n",
       "    <tr style=\"text-align: right;\">\n",
       "      <th></th>\n",
       "      <th>0</th>\n",
       "    </tr>\n",
       "  </thead>\n",
       "  <tbody>\n",
       "    <tr>\n",
       "      <th>0</th>\n",
       "      <td>2677XT74</td>\n",
       "    </tr>\n",
       "    <tr>\n",
       "      <th>1</th>\n",
       "      <td>AC454BD</td>\n",
       "    </tr>\n",
       "    <tr>\n",
       "      <th>2</th>\n",
       "      <td>AJ007PV</td>\n",
       "    </tr>\n",
       "    <tr>\n",
       "      <th>3</th>\n",
       "      <td>BB978MC</td>\n",
       "    </tr>\n",
       "    <tr>\n",
       "      <th>4</th>\n",
       "      <td>BQ561JM</td>\n",
       "    </tr>\n",
       "  </tbody>\n",
       "</table>\n",
       "</div>"
      ],
      "text/plain": [
       "          0\n",
       "0  2677XT74\n",
       "1   AC454BD\n",
       "2   AJ007PV\n",
       "3   BB978MC\n",
       "4   BQ561JM"
      ]
     },
     "execution_count": 11,
     "metadata": {},
     "output_type": "execute_result"
    }
   ],
   "source": [
    "cr = pd.DataFrame(my_list).reset_index(drop=True)\n",
    "cr.head()"
   ]
  },
  {
   "cell_type": "markdown",
   "id": "f9933ea5",
   "metadata": {},
   "source": [
    "Recoupement des données des véhicules avec une plaque d'immatriculation sélectionnée"
   ]
  },
  {
   "cell_type": "code",
   "execution_count": 17,
   "id": "e29c2761",
   "metadata": {},
   "outputs": [
    {
     "data": {
      "application/vnd.microsoft.datawrangler.viewer.v0+json": {
       "columns": [
        {
         "name": "index",
         "rawType": "int64",
         "type": "integer"
        },
        {
         "name": "Immat.",
         "rawType": "object",
         "type": "string"
        },
        {
         "name": "Marque",
         "rawType": "object",
         "type": "string"
        },
        {
         "name": "Modèle",
         "rawType": "object",
         "type": "string"
        }
       ],
       "ref": "78381eec-441f-48cb-b263-d4e319de14cd",
       "rows": [
        [
         "0",
         "2677XT74",
         "CITROEN",
         "C3"
        ]
       ],
       "shape": {
        "columns": 3,
        "rows": 1
       }
      },
      "text/html": [
       "<div>\n",
       "<style scoped>\n",
       "    .dataframe tbody tr th:only-of-type {\n",
       "        vertical-align: middle;\n",
       "    }\n",
       "\n",
       "    .dataframe tbody tr th {\n",
       "        vertical-align: top;\n",
       "    }\n",
       "\n",
       "    .dataframe thead th {\n",
       "        text-align: right;\n",
       "    }\n",
       "</style>\n",
       "<table border=\"1\" class=\"dataframe\">\n",
       "  <thead>\n",
       "    <tr style=\"text-align: right;\">\n",
       "      <th></th>\n",
       "      <th>Immat.</th>\n",
       "      <th>Marque</th>\n",
       "      <th>Modèle</th>\n",
       "    </tr>\n",
       "  </thead>\n",
       "  <tbody>\n",
       "    <tr>\n",
       "      <th>0</th>\n",
       "      <td>2677XT74</td>\n",
       "      <td>CITROEN</td>\n",
       "      <td>C3</td>\n",
       "    </tr>\n",
       "  </tbody>\n",
       "</table>\n",
       "</div>"
      ],
      "text/plain": [
       "     Immat.   Marque Modèle\n",
       "0  2677XT74  CITROEN     C3"
      ]
     },
     "execution_count": 17,
     "metadata": {},
     "output_type": "execute_result"
    }
   ],
   "source": [
    "tbc.loc[tbc['Immat.']=='2677XT74'].reset_index(drop=True)"
   ]
  }
 ],
 "metadata": {
  "kernelspec": {
   "display_name": "Python 3",
   "language": "python",
   "name": "python3"
  },
  "language_info": {
   "codemirror_mode": {
    "name": "ipython",
    "version": 3
   },
   "file_extension": ".py",
   "mimetype": "text/x-python",
   "name": "python",
   "nbconvert_exporter": "python",
   "pygments_lexer": "ipython3",
   "version": "3.12.5"
  }
 },
 "nbformat": 4,
 "nbformat_minor": 5
}
